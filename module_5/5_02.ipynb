{
 "cells": [
  {
   "cell_type": "markdown",
   "id": "2b33617a-8bad-45e3-b803-e65165b3b37d",
   "metadata": {},
   "source": [
    "# Endpoint en Tiempo Real con Lambda."
   ]
  },
  {
   "cell_type": "markdown",
   "id": "5deacc28-e6a6-4704-b38c-c7f01c3641be",
   "metadata": {},
   "source": [
    "- Para probar los endpoits podemos usar boto3 o AWS CLI.\n",
    "\n",
    "```bash\n",
    "aws sagemaker-runtime invoke-endpoint \\\n",
    "    --endpoint-name endpoint_name \\\n",
    "    --body fileb://$file_name \\\n",
    "    output_file.txt\n",
    "```\n",
    "- También desde la interfaz de sagemaker studio.\n",
    "- Doc: https://docs.aws.amazon.com/es_es/sagemaker/latest/dg/realtime-endpoints-test-endpoints.html"
   ]
  },
  {
   "cell_type": "markdown",
   "id": "2c46e0bc-d6d3-45d1-a005-b91f4295f98c",
   "metadata": {
    "tags": []
   },
   "source": [
    "#### Datos de prueba"
   ]
  },
  {
   "cell_type": "code",
   "execution_count": 28,
   "id": "10e08ce4-1098-43a4-8243-9659ca1c798e",
   "metadata": {
    "tags": []
   },
   "outputs": [],
   "source": [
    "import pandas as pd\n",
    "df_test = pd.read_csv('test.csv', header=None)"
   ]
  },
  {
   "cell_type": "code",
   "execution_count": 33,
   "id": "52d19312-43e1-4b24-bde6-6659c0ec06f3",
   "metadata": {
    "tags": []
   },
   "outputs": [
    {
     "data": {
      "text/html": [
       "<div>\n",
       "<style scoped>\n",
       "    .dataframe tbody tr th:only-of-type {\n",
       "        vertical-align: middle;\n",
       "    }\n",
       "\n",
       "    .dataframe tbody tr th {\n",
       "        vertical-align: top;\n",
       "    }\n",
       "\n",
       "    .dataframe thead th {\n",
       "        text-align: right;\n",
       "    }\n",
       "</style>\n",
       "<table border=\"1\" class=\"dataframe\">\n",
       "  <thead>\n",
       "    <tr style=\"text-align: right;\">\n",
       "      <th></th>\n",
       "      <th>0</th>\n",
       "      <th>1</th>\n",
       "      <th>2</th>\n",
       "      <th>3</th>\n",
       "      <th>4</th>\n",
       "      <th>5</th>\n",
       "      <th>6</th>\n",
       "      <th>7</th>\n",
       "      <th>8</th>\n",
       "      <th>9</th>\n",
       "      <th>10</th>\n",
       "      <th>11</th>\n",
       "      <th>12</th>\n",
       "      <th>13</th>\n",
       "      <th>14</th>\n",
       "      <th>15</th>\n",
       "      <th>16</th>\n",
       "      <th>17</th>\n",
       "    </tr>\n",
       "  </thead>\n",
       "  <tbody>\n",
       "    <tr>\n",
       "      <th>1</th>\n",
       "      <td>0</td>\n",
       "      <td>126</td>\n",
       "      <td>0</td>\n",
       "      <td>0</td>\n",
       "      <td>0</td>\n",
       "      <td>3.816301</td>\n",
       "      <td>2</td>\n",
       "      <td>7.070955</td>\n",
       "      <td>5.420410</td>\n",
       "      <td>9</td>\n",
       "      <td>3.101070</td>\n",
       "      <td>8.989511</td>\n",
       "      <td>250</td>\n",
       "      <td>0.424210</td>\n",
       "      <td>4.142589</td>\n",
       "      <td>5</td>\n",
       "      <td>10.617313</td>\n",
       "      <td>1</td>\n",
       "    </tr>\n",
       "    <tr>\n",
       "      <th>2</th>\n",
       "      <td>0</td>\n",
       "      <td>52</td>\n",
       "      <td>1</td>\n",
       "      <td>0</td>\n",
       "      <td>0</td>\n",
       "      <td>4.761451</td>\n",
       "      <td>2</td>\n",
       "      <td>6.575281</td>\n",
       "      <td>3.535719</td>\n",
       "      <td>6</td>\n",
       "      <td>3.770251</td>\n",
       "      <td>5.043752</td>\n",
       "      <td>200</td>\n",
       "      <td>4.594888</td>\n",
       "      <td>6.052541</td>\n",
       "      <td>5</td>\n",
       "      <td>3.918532</td>\n",
       "      <td>4</td>\n",
       "    </tr>\n",
       "    <tr>\n",
       "      <th>497</th>\n",
       "      <td>1</td>\n",
       "      <td>170</td>\n",
       "      <td>1</td>\n",
       "      <td>1</td>\n",
       "      <td>100</td>\n",
       "      <td>11.835835</td>\n",
       "      <td>3</td>\n",
       "      <td>9.530642</td>\n",
       "      <td>6.967019</td>\n",
       "      <td>4</td>\n",
       "      <td>7.016593</td>\n",
       "      <td>3.317470</td>\n",
       "      <td>200</td>\n",
       "      <td>7.574951</td>\n",
       "      <td>5.070610</td>\n",
       "      <td>7</td>\n",
       "      <td>3.012213</td>\n",
       "      <td>5</td>\n",
       "    </tr>\n",
       "    <tr>\n",
       "      <th>499</th>\n",
       "      <td>1</td>\n",
       "      <td>65</td>\n",
       "      <td>0</td>\n",
       "      <td>1</td>\n",
       "      <td>200</td>\n",
       "      <td>6.171609</td>\n",
       "      <td>2</td>\n",
       "      <td>8.821492</td>\n",
       "      <td>6.816145</td>\n",
       "      <td>6</td>\n",
       "      <td>4.641622</td>\n",
       "      <td>4.568890</td>\n",
       "      <td>250</td>\n",
       "      <td>3.982190</td>\n",
       "      <td>4.586354</td>\n",
       "      <td>3</td>\n",
       "      <td>6.766862</td>\n",
       "      <td>5</td>\n",
       "    </tr>\n",
       "  </tbody>\n",
       "</table>\n",
       "</div>"
      ],
      "text/plain": [
       "     0    1   2   3    4          5   6         7         8   9         10  \\\n",
       "1     0  126   0   0    0   3.816301   2  7.070955  5.420410   9  3.101070   \n",
       "2     0   52   1   0    0   4.761451   2  6.575281  3.535719   6  3.770251   \n",
       "497   1  170   1   1  100  11.835835   3  9.530642  6.967019   4  7.016593   \n",
       "499   1   65   0   1  200   6.171609   2  8.821492  6.816145   6  4.641622   \n",
       "\n",
       "           11   12        13        14  15         16  17  \n",
       "1    8.989511  250  0.424210  4.142589   5  10.617313   1  \n",
       "2    5.043752  200  4.594888  6.052541   5   3.918532   4  \n",
       "497  3.317470  200  7.574951  5.070610   7   3.012213   5  \n",
       "499  4.568890  250  3.982190  4.586354   3   6.766862   5  "
      ]
     },
     "execution_count": 33,
     "metadata": {},
     "output_type": "execute_result"
    }
   ],
   "source": [
    "to_try = df_test.iloc[[1,2, 497, 499], :]\n",
    "to_try"
   ]
  },
  {
   "cell_type": "markdown",
   "id": "f3771a38-d589-46e8-9a64-3d11c83fb39d",
   "metadata": {
    "tags": []
   },
   "source": [
    "#### Llamada al endpooint en tiempo real"
   ]
  },
  {
   "cell_type": "code",
   "execution_count": 37,
   "id": "e53b6af2-33e0-43da-b1ce-e3b6603182b5",
   "metadata": {
    "tags": []
   },
   "outputs": [
    {
     "data": {
      "text/plain": [
       "'126,0,0,0,3.816301464693282,2,7.0709549060195,5.420409753405697,9,3.1010696967511544,8.989510760940297,250,0.4242104752880697,4.142588527377276,5,10.617313362277589,1\\n52,1,0,0,4.761451007673512,2,6.5752810298200295,3.5357186950716923,6,3.7702507576575233,5.043751831924423,200,4.594888172955266,6.052541264501843,5,3.918532222373023,4\\n170,1,1,100,11.83583513990359,3,9.530641950015236,6.967019023053207,4,7.016592819269271,3.31747015427766,200,7.574950710886639,5.0706097607076615,7,3.012212995399225,5\\n65,0,1,200,6.171608597774607,2,8.821491509134809,6.816145096011792,6,4.641622257072825,4.568889905414934,250,3.982190140834256,4.586353731276165,3,6.7668617408900165,5\\n'"
      ]
     },
     "execution_count": 37,
     "metadata": {},
     "output_type": "execute_result"
    }
   ],
   "source": [
    "csv_string = to_try.iloc[:, 1:].to_csv(index=False, header=False)\n",
    "csv_string"
   ]
  },
  {
   "cell_type": "code",
   "execution_count": 38,
   "id": "7c6d153e-4d41-4931-9ad5-473b0816d5f2",
   "metadata": {
    "tags": []
   },
   "outputs": [
    {
     "name": "stdout",
     "output_type": "stream",
     "text": [
      "0.1629495471715927\n",
      "0.3985714912414551\n",
      "0.9913638830184937\n",
      "0.3341834247112274\n",
      "\n"
     ]
    }
   ],
   "source": [
    "import boto3\n",
    "\n",
    "# Create a low-level client representing Amazon SageMaker Runtime\n",
    "sagemaker_runtime = boto3.client(\"sagemaker-runtime\")\n",
    "\n",
    "# The name of the endpoint. The name must be unique within an AWS Region in your AWS account. \n",
    "endpoint_name='chun-xgboost-severless'\n",
    "\n",
    "# After you deploy a model into production using SageMaker hosting \n",
    "# services, your client applications use this API to get inferences \n",
    "# from the model hosted at the specified endpoint.\n",
    "response = sagemaker_runtime.invoke_endpoint(\n",
    "    EndpointName=endpoint_name,\n",
    "    ContentType='text/csv',\n",
    "    Body=csv_string,\n",
    ")\n",
    "\n",
    "# Optional - Print the response body and decode it so it is human read-able.\n",
    "print(response['Body'].read().decode('utf-8'))"
   ]
  },
  {
   "cell_type": "markdown",
   "id": "bc44ea67-4f89-48bc-9dad-0ac426c4b860",
   "metadata": {},
   "source": [
    "### Invocación desde una función lambda\n",
    "- https://aws.amazon.com/blogs/machine-learning/call-an-amazon-sagemaker-model-endpoint-using-amazon-api-gateway-and-aws-lambda/"
   ]
  },
  {
   "cell_type": "code",
   "execution_count": null,
   "id": "35887c03-2ce3-4139-aa51-feef90f324b2",
   "metadata": {},
   "outputs": [],
   "source": [
    "import os\n",
    "import io\n",
    "import boto3\n",
    "import json\n",
    "import csv\n",
    "\n",
    "# grab environment variables\n",
    "ENDPOINT_NAME = 'chun-xgboost-severless'\n",
    "runtime= boto3.client('runtime.sagemaker')\n",
    "\n",
    "def lambda_handler(event, context):\n",
    "    print(\"Received event: \" + json.dumps(event, indent=2))\n",
    "    \n",
    "    data = json.loads(json.dumps(event))\n",
    "    payload = data['data']\n",
    "    print(payload)\n",
    "    \n",
    "    response = runtime.invoke_endpoint(EndpointName=ENDPOINT_NAME,\n",
    "                                       ContentType='text/csv',\n",
    "                                       Body=payload)\n",
    "    print(response)\n",
    "    result = json.loads(response['Body'].read().decode())\n",
    "    print(result)\n",
    "    pred = int(result['predictions'][0]['score'])\n",
    "    predicted_label = 'M' if pred == 1 else 'B'\n",
    "    \n",
    "    return predicted_label"
   ]
  }
 ],
 "metadata": {
  "instance_type": "ml.t3.medium",
  "kernelspec": {
   "display_name": "Python 3 (Data Science)",
   "language": "python",
   "name": "python3__SAGEMAKER_INTERNAL__arn:aws:sagemaker:eu-west-1:470317259841:image/datascience-1.0"
  },
  "language_info": {
   "codemirror_mode": {
    "name": "ipython",
    "version": 3
   },
   "file_extension": ".py",
   "mimetype": "text/x-python",
   "name": "python",
   "nbconvert_exporter": "python",
   "pygments_lexer": "ipython3",
   "version": "3.7.10"
  }
 },
 "nbformat": 4,
 "nbformat_minor": 5
}
