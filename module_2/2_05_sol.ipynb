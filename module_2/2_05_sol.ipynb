{
 "cells": [
  {
   "cell_type": "markdown",
   "id": "1e612d34-f0c8-4854-b77c-1d3d9575ccdf",
   "metadata": {},
   "source": [
    "# Ejercicio: Clasificación de Quiebras."
   ]
  },
  {
   "cell_type": "code",
   "execution_count": null,
   "id": "4daa99a3",
   "metadata": {},
   "outputs": [],
   "source": [
    "pip install imbalanced-learn"
   ]
  },
  {
   "cell_type": "code",
   "execution_count": null,
   "id": "5c7f656d-dc0a-4125-aa40-0f4cc09a7bd8",
   "metadata": {
    "tags": []
   },
   "outputs": [],
   "source": [
    "import pandas as pd"
   ]
  },
  {
   "cell_type": "markdown",
   "id": "0c267d43-24c8-4cec-97e9-58c2da531591",
   "metadata": {},
   "source": [
    "- Para este ejercicio usaremos la siguiente base de datos: https://www.kaggle.com/datasets/fedesoriano/company-bankruptcy-prediction?resource=download"
   ]
  },
  {
   "cell_type": "code",
   "execution_count": null,
   "id": "dbf0ed87-13bc-4371-a887-4e505ae0f963",
   "metadata": {
    "tags": []
   },
   "outputs": [],
   "source": [
    "df = pd.read_csv('data/data.csv')\n",
    "df"
   ]
  },
  {
   "cell_type": "markdown",
   "id": "21f364c5-1164-46e6-8fbb-1d7fe613158a",
   "metadata": {},
   "source": [
    "Realiza los siguientes apartados:\n",
    "- Explora la base de datos: ¿Está balanceada?, ¿las features están correladas?, etc.\n",
    "- Divide la base de datos en test y train utilizando la función train_test_split de sklearn, dejando un 20% de las muestras para test. Esta division tiene que ser la misma para los siguientes ejercicios que realizaremos durante la clase.\n",
    "- Normaliza los datos usando StandardScaler\n",
    "- Entrena un modelo GradientBoostingClassifier de sklearn: https://scikit-learn.org/stable/modules/generated/sklearn.ensemble.GradientBoostingClassifier.html\n",
    "- Valida el resultado en el conjunto de test en términos de acc, matriz de confusión, ROC, etc. ¿qué observas?\n",
    "- Rebalancea las muestras de entrenamiento usando la técnica SMOTE. Para ello usa el siguiente código y repite las partes anteriores. Necesitas instalar con ```pip install imblearn```y reiniciar el kernel. Puedes encontrar más información del método en: https://imbalanced-learn.org/stable/over_sampling.html#smote-adasyn\n",
    "```python\n",
    "from imblearn.over_sampling import SMOTE\n",
    "\n",
    "oversample = SMOTE()\n",
    "x_train, y_train = oversample.fit_resample(x_train, y_train)\n",
    "```\n"
   ]
  },
  {
   "cell_type": "code",
   "execution_count": null,
   "id": "84289981-83c0-4d3a-9943-aaeab5a1ca4e",
   "metadata": {
    "tags": []
   },
   "outputs": [],
   "source": [
    "df.info()"
   ]
  },
  {
   "cell_type": "code",
   "execution_count": null,
   "id": "4ae1b662-0fb5-44b8-a90b-0ced0883223d",
   "metadata": {
    "tags": []
   },
   "outputs": [],
   "source": [
    "y = df.iloc[:, 0]"
   ]
  },
  {
   "cell_type": "code",
   "execution_count": null,
   "id": "abc7dba2-9e8c-4c51-87a7-338a10d90087",
   "metadata": {
    "tags": []
   },
   "outputs": [],
   "source": [
    "x = df.iloc[:, 1:]"
   ]
  },
  {
   "cell_type": "code",
   "execution_count": null,
   "id": "00fce20b-219c-425a-b482-03555b855cde",
   "metadata": {
    "tags": []
   },
   "outputs": [],
   "source": [
    "import seaborn as sns\n",
    "import matplotlib.pyplot as plt"
   ]
  },
  {
   "cell_type": "code",
   "execution_count": null,
   "id": "5383df1c-b65d-4026-bde5-1eb537838d7a",
   "metadata": {
    "tags": []
   },
   "outputs": [],
   "source": [
    "y.value_counts()"
   ]
  },
  {
   "cell_type": "code",
   "execution_count": null,
   "id": "a09992f9-1779-4624-b41b-d936e114dc25",
   "metadata": {
    "tags": []
   },
   "outputs": [],
   "source": [
    "sns.countplot(y)\n",
    "plt.title('Target feature - Bankrupt?')"
   ]
  },
  {
   "cell_type": "code",
   "execution_count": null,
   "id": "c04499e1-db99-4cfd-adcd-07498599501f",
   "metadata": {},
   "outputs": [],
   "source": []
  },
  {
   "cell_type": "code",
   "execution_count": null,
   "id": "5d7c944a-2dce-4f76-9c6a-eabde5c3aa4d",
   "metadata": {
    "tags": []
   },
   "outputs": [],
   "source": [
    "from sklearn.model_selection import train_test_split"
   ]
  },
  {
   "cell_type": "code",
   "execution_count": null,
   "id": "1651e482-0c09-4d6e-a34d-6ee4863aecbe",
   "metadata": {
    "tags": []
   },
   "outputs": [],
   "source": [
    "x_train, x_test, y_train, y_test = train_test_split(x, y, test_size=0.2, random_state=1)"
   ]
  },
  {
   "cell_type": "code",
   "execution_count": null,
   "id": "24744888-9fd1-4c15-a8cc-8635ec8d23a0",
   "metadata": {
    "tags": []
   },
   "outputs": [],
   "source": [
    "print(x_train.shape, y_train.shape, x_test.shape, y_test.shape)"
   ]
  },
  {
   "cell_type": "code",
   "execution_count": null,
   "id": "c9395dad-f708-4b71-9349-efcdd57cfaca",
   "metadata": {
    "tags": []
   },
   "outputs": [],
   "source": [
    "from sklearn.preprocessing import StandardScaler\n",
    "\n",
    "scaler = StandardScaler()\n",
    "x_train = scaler.fit_transform(x_train)\n",
    "x_test = scaler.transform(x_test)"
   ]
  },
  {
   "cell_type": "code",
   "execution_count": null,
   "id": "31b4b56f-814e-42f9-b930-976ad25cae9d",
   "metadata": {
    "tags": []
   },
   "outputs": [],
   "source": [
    "from sklearn.ensemble import GradientBoostingClassifier"
   ]
  },
  {
   "cell_type": "code",
   "execution_count": null,
   "id": "3c10b59e-ad99-4528-9594-69d272c5c5ad",
   "metadata": {
    "tags": []
   },
   "outputs": [],
   "source": [
    "clf = GradientBoostingClassifier(\n",
    "    n_estimators=100, learning_rate=1.0, \n",
    "    max_depth=1, random_state=0).fit(x_train, y_train)"
   ]
  },
  {
   "cell_type": "code",
   "execution_count": null,
   "id": "e2ee23fb-3c26-41dc-b85d-044a4d815c0b",
   "metadata": {
    "tags": []
   },
   "outputs": [],
   "source": [
    "clf.score(x_test, y_test)"
   ]
  },
  {
   "cell_type": "code",
   "execution_count": null,
   "id": "092b8a44-20b1-4ac5-a8d4-6e44860b8626",
   "metadata": {
    "tags": []
   },
   "outputs": [],
   "source": [
    "y_pred = clf.predict(x_test)"
   ]
  },
  {
   "cell_type": "code",
   "execution_count": null,
   "id": "b13be3f1-7244-4988-93e4-c65e3530a63c",
   "metadata": {
    "tags": []
   },
   "outputs": [],
   "source": [
    "y_pred"
   ]
  },
  {
   "cell_type": "code",
   "execution_count": null,
   "id": "24c0e770-5917-481b-86f1-874bad8525d5",
   "metadata": {
    "tags": []
   },
   "outputs": [],
   "source": [
    "from sklearn.metrics import classification_report, confusion_matrix, accuracy_score\n",
    "from sklearn.metrics import roc_curve, auc"
   ]
  },
  {
   "cell_type": "code",
   "execution_count": null,
   "id": "f3b85e3a-954a-44c6-8360-09e693c6b283",
   "metadata": {
    "tags": []
   },
   "outputs": [],
   "source": [
    "cm = confusion_matrix(y_test,y_pred)"
   ]
  },
  {
   "cell_type": "code",
   "execution_count": null,
   "id": "f223ddcf-c92a-4872-ac10-0e94b35b44d9",
   "metadata": {
    "tags": []
   },
   "outputs": [],
   "source": [
    "cm = (cm.T / cm.sum(axis=1)).T"
   ]
  },
  {
   "cell_type": "code",
   "execution_count": null,
   "id": "a565afd2-637a-466f-8b1c-8c9964909f33",
   "metadata": {
    "tags": []
   },
   "outputs": [],
   "source": [
    "sns.heatmap(cm, annot=True)"
   ]
  },
  {
   "cell_type": "code",
   "execution_count": null,
   "id": "eaf89f41-ce46-4a0a-8584-4652360924a7",
   "metadata": {
    "tags": []
   },
   "outputs": [],
   "source": [
    "print(classification_report(y_test,y_pred))"
   ]
  },
  {
   "cell_type": "code",
   "execution_count": null,
   "id": "48491d5a-aec8-4340-bdce-c2461e76ce88",
   "metadata": {
    "tags": []
   },
   "outputs": [],
   "source": [
    "y_pred_prob = clf.predict_proba(x_test)\n",
    "test_fpr, test_tpr, te_thresholds = roc_curve(y_test, y_pred_prob[:, 1])\n",
    "auc_value = auc(test_fpr, test_tpr)\n",
    "\n",
    "plt.grid()\n",
    "plt.plot(test_fpr, test_tpr, label=f\" AUC TEST = {auc_value}\")\n",
    "plt.plot([0,1],[0,1],'g--')\n",
    "plt.legend()\n",
    "plt.xlabel(\"False Positive Rate\")\n",
    "plt.ylabel(\"True Positive Rate\")\n",
    "plt.title(\"AUC(ROC curve)\")\n",
    "plt.grid(color='black', linestyle='-', linewidth=0.5)\n",
    "plt.show()\n"
   ]
  },
  {
   "cell_type": "code",
   "execution_count": null,
   "id": "78ec15a8-1c20-4dad-9d08-1dcc41f6712a",
   "metadata": {
    "scrolled": true
   },
   "outputs": [],
   "source": [
    "from imblearn.over_sampling import SMOTE"
   ]
  },
  {
   "cell_type": "code",
   "execution_count": null,
   "id": "ffe87453-8e0e-4123-883c-51b245c977d8",
   "metadata": {
    "tags": []
   },
   "outputs": [],
   "source": [
    "oversample = SMOTE()\n",
    "x_train, y_train = oversample.fit_resample(x_train, y_train)"
   ]
  },
  {
   "cell_type": "code",
   "execution_count": null,
   "id": "a5402dfb-8d98-4d8a-8468-253df21b374f",
   "metadata": {
    "tags": []
   },
   "outputs": [],
   "source": [
    "sns.countplot(y_train)\n",
    "plt.title('Target feature - Bankrupt?')"
   ]
  },
  {
   "cell_type": "code",
   "execution_count": null,
   "id": "a0902195-f9f7-4cc6-8f24-94e52dab0520",
   "metadata": {
    "tags": []
   },
   "outputs": [],
   "source": [
    "clf = GradientBoostingClassifier(\n",
    "    n_estimators=100, learning_rate=1.0, \n",
    "    max_depth=1, random_state=0).fit(x_train, y_train)"
   ]
  },
  {
   "cell_type": "code",
   "execution_count": null,
   "id": "e433612a-35b2-40de-8b82-e49b9fc2eafd",
   "metadata": {
    "tags": []
   },
   "outputs": [],
   "source": [
    "clf.score(x_test, y_test)"
   ]
  },
  {
   "cell_type": "code",
   "execution_count": null,
   "id": "9a6a5829-8179-475b-bdd1-65ba4dee5611",
   "metadata": {
    "tags": []
   },
   "outputs": [],
   "source": [
    "y_pred = clf.predict(x_test)"
   ]
  },
  {
   "cell_type": "code",
   "execution_count": null,
   "id": "758208ed-bb67-4f4a-98a5-28b5f1418a9a",
   "metadata": {
    "tags": []
   },
   "outputs": [],
   "source": [
    "y_pred"
   ]
  },
  {
   "cell_type": "code",
   "execution_count": null,
   "id": "028a002b-0d63-47c2-88f9-14d8130ee7cf",
   "metadata": {
    "tags": []
   },
   "outputs": [],
   "source": [
    "from sklearn.metrics import classification_report, confusion_matrix, accuracy_score"
   ]
  },
  {
   "cell_type": "code",
   "execution_count": null,
   "id": "0fc94402-3e2f-4705-a8f6-e651a9b933ca",
   "metadata": {
    "tags": []
   },
   "outputs": [],
   "source": [
    "print(classification_report(y_test,y_pred))"
   ]
  },
  {
   "cell_type": "code",
   "execution_count": null,
   "id": "f6c6cf37-f2a3-4142-a790-d61c9f0482f6",
   "metadata": {
    "tags": []
   },
   "outputs": [],
   "source": [
    "cm = confusion_matrix(y_test,y_pred)"
   ]
  },
  {
   "cell_type": "code",
   "execution_count": null,
   "id": "31a2f897-bbdc-4f7a-b32e-ca2f5dcb4124",
   "metadata": {
    "tags": []
   },
   "outputs": [],
   "source": [
    "cm.sum(axis=1)"
   ]
  },
  {
   "cell_type": "code",
   "execution_count": null,
   "id": "ab51f6bd-74d3-4ecf-ae67-22d85d5e82ea",
   "metadata": {
    "tags": []
   },
   "outputs": [],
   "source": [
    "cm = (cm.T / cm.sum(axis=1)).T"
   ]
  },
  {
   "cell_type": "code",
   "execution_count": null,
   "id": "894f41d8-d69a-49f0-a816-52f4db19f2d7",
   "metadata": {
    "tags": []
   },
   "outputs": [],
   "source": [
    "sns.heatmap(cm, annot=True)"
   ]
  },
  {
   "cell_type": "code",
   "execution_count": null,
   "id": "c4977771-022e-4fe6-8cb2-f55b4708ac41",
   "metadata": {
    "tags": []
   },
   "outputs": [],
   "source": [
    "y_pred_prob"
   ]
  },
  {
   "cell_type": "code",
   "execution_count": null,
   "id": "b003b5fe-1649-4309-a27b-b4da765f978e",
   "metadata": {
    "tags": []
   },
   "outputs": [],
   "source": [
    "y_pred_prob = clf.predict_proba(x_test)\n",
    "test_fpr, test_tpr, te_thresholds = roc_curve(y_test, y_pred_prob[:, 1])\n",
    "auc_value = auc(test_fpr, test_tpr)\n",
    "\n",
    "plt.grid()\n",
    "plt.plot(test_fpr, test_tpr, label=f\" AUC TEST = {auc_value}\")\n",
    "plt.plot([0,1],[0,1],'g--')\n",
    "plt.legend()\n",
    "plt.xlabel(\"False Positive Rate\")\n",
    "plt.ylabel(\"True Positive Rate\")\n",
    "plt.title(\"AUC(ROC curve)\")\n",
    "plt.grid(color='black', linestyle='-', linewidth=0.5)\n",
    "plt.show()"
   ]
  }
 ],
 "metadata": {
  "instance_type": "ml.t3.medium",
  "kernelspec": {
   "display_name": "Python 3 (ipykernel)",
   "language": "python",
   "name": "python3"
  },
  "language_info": {
   "codemirror_mode": {
    "name": "ipython",
    "version": 3
   },
   "file_extension": ".py",
   "mimetype": "text/x-python",
   "name": "python",
   "nbconvert_exporter": "python",
   "pygments_lexer": "ipython3",
   "version": "3.10.14"
  }
 },
 "nbformat": 4,
 "nbformat_minor": 5
}
