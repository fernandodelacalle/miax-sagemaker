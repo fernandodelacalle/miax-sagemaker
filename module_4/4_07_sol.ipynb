{
 "cells": [
  {
   "cell_type": "markdown",
   "id": "00820832-36f1-4d33-9422-c3f6ca5f9af2",
   "metadata": {
    "tags": []
   },
   "source": [
    "# Ejercicio: Optimización de parámetros.\n",
    "- Utilizando el modelo y los datos de validación de ejercicio [Ejercicio: Clasificación con XGBoost](../module_4/4_03.ipynb), optimiza el parámetro max_depth cd xgboost. Utiliza para ello HyperparameterTuner.\n",
    "- Para el parámetro max_depth usa sagemaker.parameter.CategoricalParameter([2, 3, 4, 5, 6, 7, 8]) por ejmplo.\n",
    "- Usa \"validation:auc\" como métrica del HyperparameterTuner.\n",
    "- Visualiza el resultado.\n"
   ]
  },
  {
   "cell_type": "code",
   "execution_count": null,
   "id": "a9df1adb-6a4a-4f90-834e-4cd1a4dd3299",
   "metadata": {
    "tags": []
   },
   "outputs": [],
   "source": [
    "import sagemaker\n",
    "\n",
    "role = sagemaker.get_execution_role()\n",
    "sess = sagemaker.Session()\n",
    "region = sess.boto_region_name\n",
    "\n",
    "bucket = sess.default_bucket()\n",
    "prefix = 'module_4/part_3'\n",
    "\n",
    "print(role)\n",
    "print(sess)\n",
    "print(region)\n",
    "print(bucket)\n",
    "print(prefix)"
   ]
  },
  {
   "cell_type": "code",
   "execution_count": null,
   "id": "42edb74d-bfe5-45cf-aa62-43bda2910a91",
   "metadata": {
    "tags": []
   },
   "outputs": [],
   "source": [
    "image = sagemaker.image_uris.retrieve(\"xgboost\", region, \"1.5-1\")\n",
    "print(image)"
   ]
  },
  {
   "cell_type": "code",
   "execution_count": null,
   "id": "430aff5b-b5df-4ec3-8540-f78e8f2d11ce",
   "metadata": {
    "tags": []
   },
   "outputs": [],
   "source": [
    "s3_train_data = f's3://{bucket}/{prefix}/data/train.csv'\n",
    "s3_validation_data = f's3://{bucket}/{prefix}/data/validation.csv'\n",
    "\n",
    "print(s3_train_data)\n",
    "print(s3_validation_data)\n"
   ]
  },
  {
   "cell_type": "code",
   "execution_count": null,
   "id": "e0798a38-af78-4dca-96de-e7793fdb2929",
   "metadata": {
    "tags": []
   },
   "outputs": [],
   "source": [
    "train_input = sagemaker.TrainingInput(\n",
    "    s3_train_data, \n",
    "    content_type=\"text/csv\",\n",
    ")\n",
    "validation_input = sagemaker.TrainingInput(\n",
    "    s3_validation_data,\n",
    "    content_type=\"text/csv\",\n",
    ")\n",
    "\n",
    "data_channels = {\n",
    "    'train': train_input, \n",
    "    'validation': validation_input\n",
    "}\n"
   ]
  },
  {
   "cell_type": "code",
   "execution_count": null,
   "id": "4f78e97a-b9b1-47ef-96fc-68e9379eea90",
   "metadata": {
    "tags": []
   },
   "outputs": [],
   "source": [
    "s3_output_location = f's3://{bucket}/{prefix}/output'\n",
    "\n",
    "hyperparameters = {\n",
    "    \"max_depth\": \"5\",\n",
    "    \"eta\": \"0.2\",\n",
    "    \"gamma\": \"4\",\n",
    "    \"min_child_weight\": \"6\",\n",
    "    \"subsample\": \"0.7\",\n",
    "    \"objective\": \"binary:logistic\",\n",
    "    \"num_round\": \"50\",\n",
    "    \"eval_metric\": \"auc\",\n",
    "}\n",
    "\n",
    "\n",
    "estimator = sagemaker.estimator.Estimator(\n",
    "    image_uri=image,\n",
    "    role=role,\n",
    "    instance_count=1,\n",
    "    hyperparameters=hyperparameters,\n",
    "    instance_type=\"ml.c4.xlarge\",\n",
    "    output_path=s3_output_location,\n",
    "    sagemaker_session=sess,\n",
    ")\n"
   ]
  },
  {
   "cell_type": "code",
   "execution_count": null,
   "id": "dbd914e4-01cc-4649-9d27-5851708ed618",
   "metadata": {
    "tags": []
   },
   "outputs": [],
   "source": [
    "# https://sagemaker.readthedocs.io/en/stable/api/training/parameter.html#sagemaker.parameter.ParameterRange\n",
    "# https://sagemaker-examples.readthedocs.io/en/latest/hyperparameter_tuning/xgboost_random_log/hpo_xgboost_random_log.html\n",
    "hyperparameter_ranges = {\n",
    "    \"max_depth\": sagemaker.parameter.IntegerParameter(max_value=10, min_value=2),\n",
    "    \"alpha\": sagemaker.parameter.ContinuousParameter(0.01, 10, scaling_type=\"Logarithmic\"),\n",
    "    \"lambda\": sagemaker.parameter.ContinuousParameter(0.01, 10, scaling_type=\"Logarithmic\"),\n",
    "}"
   ]
  },
  {
   "cell_type": "code",
   "execution_count": null,
   "id": "42ea60cd-5ac5-40a9-b55c-9b425d0ab250",
   "metadata": {
    "tags": []
   },
   "outputs": [],
   "source": [
    "# https://sagemaker.readthedocs.io/en/stable/api/training/tuner.html\n",
    "tuner = sagemaker.tuner.HyperparameterTuner(\n",
    "    estimator,\n",
    "    \"validation:auc\",\n",
    "    hyperparameter_ranges,\n",
    "    objective_type='Maximize',\n",
    "    max_jobs=20,\n",
    "    max_parallel_jobs=10,\n",
    "    strategy=\"Random\",\n",
    ")"
   ]
  },
  {
   "cell_type": "code",
   "execution_count": null,
   "id": "544085df-64fb-4934-a42d-807b23ab3612",
   "metadata": {
    "tags": []
   },
   "outputs": [],
   "source": [
    "jobname = f'xgboost-quiebras-opt-5'\n",
    "tuner.fit(\n",
    "    inputs=data_channels,\n",
    "    job_name=jobname,\n",
    ")"
   ]
  },
  {
   "cell_type": "markdown",
   "id": "eeb1c687-8997-458a-9ea3-6dd484b5ecbc",
   "metadata": {
    "tags": []
   },
   "source": [
    "- Podemos ver los resultados con HyperparameterTuningJobAnalytics.\n",
    "- También podemos verlo en la pantalla de experimentos."
   ]
  },
  {
   "cell_type": "code",
   "execution_count": null,
   "id": "bcbc258a-f44b-4efc-b83a-2d2372c8c0d2",
   "metadata": {
    "tags": []
   },
   "outputs": [],
   "source": [
    "df= sagemaker.HyperparameterTuningJobAnalytics(\n",
    "    tuner.latest_tuning_job.job_name\n",
    ").dataframe()\n",
    "df"
   ]
  },
  {
   "cell_type": "code",
   "execution_count": null,
   "id": "336dfac8-33cf-436b-a7a4-11c12011160a",
   "metadata": {
    "tags": []
   },
   "outputs": [],
   "source": [
    "df.sort_values(by='FinalObjectiveValue', ascending=False)"
   ]
  }
 ],
 "metadata": {
  "forced_instance_type": "ml.t3.medium",
  "forced_lcc_arn": "",
  "instance_type": "ml.t3.medium",
  "kernelspec": {
   "display_name": "Python 3 (ipykernel)",
   "language": "python",
   "name": "python3"
  },
  "language_info": {
   "codemirror_mode": {
    "name": "ipython",
    "version": 3
   },
   "file_extension": ".py",
   "mimetype": "text/x-python",
   "name": "python",
   "nbconvert_exporter": "python",
   "pygments_lexer": "ipython3",
   "version": "3.10.14"
  }
 },
 "nbformat": 4,
 "nbformat_minor": 5
}
