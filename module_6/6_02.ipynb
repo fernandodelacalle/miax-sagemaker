{
 "cells": [
  {
   "cell_type": "markdown",
   "id": "4ba5c10d-08f6-4978-8046-179593e84f24",
   "metadata": {
    "tags": []
   },
   "source": [
    "# Ejercicio: Clasificación con Sagemaker Autopilot."
   ]
  },
  {
   "cell_type": "markdown",
   "id": "3bf9b843-b673-4da6-b747-65b03f273194",
   "metadata": {},
   "source": [
    "- Utiliza la base de datos de clasificación de quiebras para entrenar un modelo con Sagemaker Autopilot.\n",
    "- Usa los datos sin balancear."
   ]
  },
  {
   "cell_type": "code",
   "execution_count": null,
   "id": "0a13cf16-d9c5-44b9-91b9-25f13c6c4b11",
   "metadata": {},
   "outputs": [],
   "source": []
  }
 ],
 "metadata": {
  "instance_type": "ml.t3.medium",
  "kernelspec": {
   "display_name": "Python 3 (Data Science)",
   "language": "python",
   "name": "python3__SAGEMAKER_INTERNAL__arn:aws:sagemaker:eu-west-1:470317259841:image/datascience-1.0"
  },
  "language_info": {
   "codemirror_mode": {
    "name": "ipython",
    "version": 3
   },
   "file_extension": ".py",
   "mimetype": "text/x-python",
   "name": "python",
   "nbconvert_exporter": "python",
   "pygments_lexer": "ipython3",
   "version": "3.7.10"
  }
 },
 "nbformat": 4,
 "nbformat_minor": 5
}
