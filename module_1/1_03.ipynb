{
 "cells": [
  {
   "cell_type": "markdown",
   "id": "b158d6ff-aa30-4181-b01e-bf24edb28b4b",
   "metadata": {},
   "source": [
    "# Sagemaker Python SDK."
   ]
  },
  {
   "cell_type": "code",
   "execution_count": null,
   "id": "7c5e88e9-b673-4ffb-a640-3a81c51cda3f",
   "metadata": {
    "tags": []
   },
   "outputs": [],
   "source": [
    "import sagemaker\n",
    "\n",
    "role = sagemaker.get_execution_role()\n",
    "sess = sagemaker.Session()\n",
    "region = sess.boto_region_name\n",
    "\n",
    "bucket = sess.default_bucket()\n",
    "prefix = 'module_1'\n",
    "\n",
    "print(role)\n",
    "print(sess)\n",
    "print(region)\n",
    "print(bucket)\n",
    "print(prefix)"
   ]
  },
  {
   "cell_type": "markdown",
   "id": "2f2e9374-a8ba-404e-99bb-b4d69156f6e2",
   "metadata": {},
   "source": [
    "### Interacción con s3\n",
    "\n",
    "- Podemos usar boto3 o el API de Sagemaker"
   ]
  },
  {
   "cell_type": "code",
   "execution_count": null,
   "id": "f869ea56-67ec-4617-899c-e80f78fb4ee0",
   "metadata": {
    "tags": []
   },
   "outputs": [],
   "source": [
    "import boto3\n",
    "s3_resource = boto3.resource('s3')"
   ]
  },
  {
   "cell_type": "code",
   "execution_count": null,
   "id": "0e6bda00-1b19-4d67-ad1d-5f8f2feb05d0",
   "metadata": {
    "tags": []
   },
   "outputs": [],
   "source": [
    "for b in s3_resource.buckets.all():\n",
    "    print(b)"
   ]
  },
  {
   "cell_type": "code",
   "execution_count": null,
   "id": "ea2b07e5-ca75-4b06-a0b5-12e006e155d1",
   "metadata": {
    "tags": []
   },
   "outputs": [],
   "source": [
    "for file in s3_resource.Bucket(bucket).objects.all():\n",
    "    print(file.key)"
   ]
  },
  {
   "cell_type": "markdown",
   "id": "24d74320-a1e4-4c42-9482-7ed5f9dd30c0",
   "metadata": {},
   "source": [
    "### Upload a CSV file"
   ]
  },
  {
   "cell_type": "code",
   "execution_count": null,
   "id": "cf61917e-3bc0-4593-8537-13e32ff1e59f",
   "metadata": {},
   "outputs": [],
   "source": [
    "import boto3"
   ]
  },
  {
   "cell_type": "code",
   "execution_count": null,
   "id": "8dfc6c64-0afd-463c-9578-f938aec22bea",
   "metadata": {
    "tags": []
   },
   "outputs": [],
   "source": [
    "s3_client = boto3.client('s3')"
   ]
  },
  {
   "cell_type": "code",
   "execution_count": null,
   "id": "f2e9017a-1aca-4e05-b520-3af28304e775",
   "metadata": {
    "tags": []
   },
   "outputs": [],
   "source": [
    "s3_client.upload_file('data.csv', bucket, 'module_1/data_2.csv')"
   ]
  },
  {
   "cell_type": "code",
   "execution_count": null,
   "id": "e82a3bef-de10-49cc-b8ba-ac66543c77f1",
   "metadata": {
    "tags": []
   },
   "outputs": [],
   "source": [
    "# Download a CSV file\n",
    "obj = s3_client.get_object(Bucket=bucket,Key='module_1/data_2.csv')"
   ]
  },
  {
   "cell_type": "code",
   "execution_count": null,
   "id": "e2aef7fd-2af9-41e0-bd3b-8752da7586ef",
   "metadata": {
    "tags": []
   },
   "outputs": [],
   "source": [
    "import pandas as pd\n",
    "df = pd.read_csv(obj['Body'], header=None)\n",
    "df"
   ]
  },
  {
   "cell_type": "markdown",
   "id": "d01f5007-b7dc-4561-8b0a-35dd5263ba1c",
   "metadata": {
    "tags": []
   },
   "source": [
    "### Sagemaker API"
   ]
  },
  {
   "cell_type": "code",
   "execution_count": null,
   "id": "38387d94-14da-4ceb-ad9d-2a7c40a49e51",
   "metadata": {
    "tags": []
   },
   "outputs": [],
   "source": [
    "# Upload\n",
    "sess.upload_data(path='data.csv', bucket=bucket, key_prefix=prefix)"
   ]
  },
  {
   "cell_type": "code",
   "execution_count": null,
   "id": "f110800d-d0fc-493d-ae6d-00e0059fb610",
   "metadata": {
    "tags": []
   },
   "outputs": [],
   "source": [
    "# Download\n",
    "sess.download_data(path='./download', bucket=bucket, key_prefix='module_1/data.csv')"
   ]
  },
  {
   "cell_type": "code",
   "execution_count": null,
   "id": "87243c99-4821-48ab-a788-a29d85a462ae",
   "metadata": {
    "tags": []
   },
   "outputs": [],
   "source": [
    "data_str = sess.read_s3_file(bucket=bucket, key_prefix='module_1/data.csv')\n",
    "data_str"
   ]
  },
  {
   "cell_type": "code",
   "execution_count": null,
   "id": "58de8a3a-a4f5-4930-b616-a328f85eb044",
   "metadata": {
    "tags": []
   },
   "outputs": [],
   "source": [
    "import io\n",
    "pd.read_csv(io.StringIO(data_str))"
   ]
  }
 ],
 "metadata": {
  "forced_instance_type": "ml.t3.medium",
  "forced_lcc_arn": "",
  "instance_type": "ml.t3.medium",
  "kernelspec": {
   "display_name": "Python 3 (Data Science)",
   "language": "python",
   "name": "python3__SAGEMAKER_INTERNAL__arn:aws:sagemaker:eu-west-1:470317259841:image/datascience-1.0"
  },
  "language_info": {
   "codemirror_mode": {
    "name": "ipython",
    "version": 3
   },
   "file_extension": ".py",
   "mimetype": "text/x-python",
   "name": "python",
   "nbconvert_exporter": "python",
   "pygments_lexer": "ipython3",
   "version": "3.7.10"
  }
 },
 "nbformat": 4,
 "nbformat_minor": 5
}
