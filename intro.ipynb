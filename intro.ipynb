{
 "cells": [
  {
   "cell_type": "markdown",
   "id": "3cbdc664-35bb-431d-a850-50c0c2353071",
   "metadata": {},
   "source": [
    "# Machine Learning en AWS Sagemaker.\n",
    "\n",
    "<center>\n",
    "<img src=\"./module_1/imgs/SageMaker.jpg\"  alt=\"drawing\" width=\"800\"/>\n",
    "</center>\n",
    "\n",
    "- Fernando de la Calle Silos\n",
    "- fcalle@grupobme.es\n",
    "___\n"
   ]
  },
  {
   "cell_type": "markdown",
   "id": "bf9fa9cc-8e96-419a-8d2f-7285f90d7324",
   "metadata": {
    "tags": []
   },
   "source": [
    "## Syllabus\n",
    "\n",
    "\n",
    "### Modúlo 1: Introducción a Sagemaker.\n",
    "* [1.1.](module_1/1_01.pdf) Intro y Configuración Inicial de SageMaker Studio.\n",
    "* [1.2.](module_1/1_02.ipynb) Nuestro primer notebook en Sagemaker Studio.\n",
    "* [1.3.](module_1/1_03.ipynb) Sagemaker Python SDK.\n",
    "\n",
    "\n",
    "### Módulo 2: Repaso Machine Learning y Introducción Tensorflow.\n",
    "* [2.1.](module_2/2_01.ipynb) Regresión con sklearn.\n",
    "* [2.2.](module_2/2_02.ipynb) Clasificación con sklearn.\n",
    "* [2.3.](module_2/2_03.ipynb) Regresión con Tensorflow y Keras.\n",
    "* [2.4.](module_2/2_04.ipynb) Clasificación con Tensorflow y Keras.\n",
    "* [2.5.](module_2/2_05.ipynb) Ejercicio: Clasificación de Quiebras.\n",
    "\n",
    "\n",
    "### Módulo 3: Preprocesado y Construcción de Features con Amazon SageMaker.\n",
    "* [3.1.](module_3/3_00.ipynb) Etiquetado con AWS SageMaker Ground Truth.\n",
    "* [3.2.](module_3/3_01.ipynb) Procesado de datos con AWS Wrangler.\n",
    "* [3.3.](module_3/3_02.ipynb) Repositorio de Features con SageMaker Feature Store.\n",
    "\n",
    "\n",
    "### Módulo 4: Entrenamiento de Modelos con Amazon Sagemaker.\n",
    "* [4.1.](module_4/4_01.ipynb) Regresión Lineal\n",
    "* [4.2.](module_4/4_02.ipynb) Creación de Experimentos y Trials.\n",
    "* [4.3.](module_4/4_03.ipynb) Ejercicio: Clasificación con XGBoost\n",
    "* [4.4.](module_4/4_04.ipynb) Modelo NLP: Preparación de datos.\n",
    "* [4.5.](module_4/4_05.ipynb) Modelo NLP: Entrenamiento.\n",
    "* [4.6.](module_4/4_06.ipynb) Modelo NLP: Entrenamiento con Hyperparameter Tuner.\n",
    "* [4.7.](module_4/4_07.ipynb) Ejercicio: Optimización de parámetros.\n",
    "* [4.8.](module_4/4_08.ipynb) Sagemaker con Tensorflow: Fashion MNIST.\n",
    "* [4.9.](module_4/4_09.ipynb) Sagemaker con Tensorflow: IMDB.\n",
    "* [4.10.](module_4/4_10.ipynb) ML Bias y Explicabilidad de Modelos con SageMaker Clarify.\n",
    "\n",
    "\n",
    "### Módulo 5: Despliege de Modelos con Amazon Sagemaker.\n",
    "* [5.1.](module_5/5_01.ipynb) Despliege de modelos.\n",
    "* [5.2.](module_5/5_02.ipynb) Endpoint en Tiempo Real.\n",
    "* [5.3.](module_5/5_03.ipynb) Modelo NLP: Endpoint en Tiempo Real.\n",
    "* [5.4.](module_5/5_04.ipynb) Ejercicio: Batch Transform.\n",
    "\n",
    "\n",
    "### Módulo 6: AutoML con Amazon Sagemaker Autopilot.\n",
    "* [6.1.](module_6/6_01.ipynb) Preparación de datos para Sagemaker Autopilot.\n",
    "* [6.2.](module_6/6_02.ipynb) Ejercicio: Clasificación con Sagemaker Autopilot.\n",
    "\n",
    "\n",
    "### Soluciones.\n",
    "* [2.5.Sol](module_2/2_05_sol.ipynb) Ejercicio: Clasificación de Quiebras.\n",
    "* [4.3.Sol](module_4/4_03_sol.ipynb) Ejercicio: Clasificación con XGBoost.\n",
    "* [4.7.Sol](module_4/4_07_sol.ipynb) Ejercicio: Optimización de parámetros.\n",
    "* [5.4.Sol](module_5/5_04_sol.ipynb) Ejercicio: Batch Transform."
   ]
  },
  {
   "cell_type": "markdown",
   "id": "289e8808-cea1-431d-b4d5-4012f20a8598",
   "metadata": {},
   "source": [
    "## Recursos\n",
    "\n",
    "- *Getting Started with Amazon SageMaker Studio* by Michael Hsieh.\n",
    "<center>\n",
    "<img src=\"./module_1/imgs/book.jpg\"  alt=\"drawing\" width=\"300\"/>\n",
    "</center>\n",
    "- Sagemaker Developer Guide: https://docs.aws.amazon.com/sagemaker/latest/dg/whatis.html\n",
    "- Amazon SageMaker Python SDK: https://sagemaker.readthedocs.io/en/stable/index.html\n",
    "- Sagemaker Examples: https://sagemaker-examples.readthedocs.io/en/latest/index.html\n",
    "\n",
    "\n"
   ]
  }
 ],
 "metadata": {
  "instance_type": "ml.t3.medium",
  "kernelspec": {
   "display_name": "Python 3 (Data Science)",
   "language": "python",
   "name": "python3__SAGEMAKER_INTERNAL__arn:aws:sagemaker:eu-west-1:470317259841:image/datascience-1.0"
  },
  "language_info": {
   "codemirror_mode": {
    "name": "ipython",
    "version": 3
   },
   "file_extension": ".py",
   "mimetype": "text/x-python",
   "name": "python",
   "nbconvert_exporter": "python",
   "pygments_lexer": "ipython3",
   "version": "3.7.10"
  }
 },
 "nbformat": 4,
 "nbformat_minor": 5
}
