{
 "cells": [
  {
   "cell_type": "markdown",
   "id": "78453ba3-c9ba-47a9-9135-fa713f3d5702",
   "metadata": {},
   "source": [
    "# Despliege de modelos."
   ]
  },
  {
   "cell_type": "code",
   "execution_count": 43,
   "id": "27473611-483b-44fe-b0f1-b9d19d3758d1",
   "metadata": {
    "tags": []
   },
   "outputs": [],
   "source": [
    "import numpy as np\n",
    "import pandas as pd\n",
    "\n",
    "import sagemaker\n",
    "\n",
    "role = sagemaker.get_execution_role()\n",
    "sess = sagemaker.Session()\n",
    "region = sess.boto_region_name\n",
    "bucket = sess.default_bucket()\n",
    "prefix = 'module_5/part_1'"
   ]
  },
  {
   "cell_type": "markdown",
   "id": "744bda97-f5a3-436b-80b2-87487cbabcbc",
   "metadata": {
    "tags": []
   },
   "source": [
    "### Preparación de los datos\n",
    "\n",
    "- Usaremos la base de datos de bajas de clientes usada anteriormente."
   ]
  },
  {
   "cell_type": "code",
   "execution_count": 8,
   "id": "30916e92-04e5-4734-a053-cc9844fc634b",
   "metadata": {
    "tags": []
   },
   "outputs": [],
   "source": [
    "source_file = 's3://sagemaker-sample-files/datasets/tabular/synthetic/churn.txt'\n",
    "local_prefix = 'data/churn_data'\n",
    "os.makedirs(local_prefix, exist_ok=True)\n",
    "sagemaker.s3.S3Downloader.download(source_file, local_prefix)"
   ]
  },
  {
   "cell_type": "code",
   "execution_count": 44,
   "id": "34d0405c-4c8f-4b21-8f75-3265b2a9049f",
   "metadata": {
    "tags": []
   },
   "outputs": [
    {
     "data": {
      "text/html": [
       "<div>\n",
       "<style scoped>\n",
       "    .dataframe tbody tr th:only-of-type {\n",
       "        vertical-align: middle;\n",
       "    }\n",
       "\n",
       "    .dataframe tbody tr th {\n",
       "        vertical-align: top;\n",
       "    }\n",
       "\n",
       "    .dataframe thead th {\n",
       "        text-align: right;\n",
       "    }\n",
       "</style>\n",
       "<table border=\"1\" class=\"dataframe\">\n",
       "  <thead>\n",
       "    <tr style=\"text-align: right;\">\n",
       "      <th></th>\n",
       "      <th>State</th>\n",
       "      <th>Account Length</th>\n",
       "      <th>Area Code</th>\n",
       "      <th>Phone</th>\n",
       "      <th>Int'l Plan</th>\n",
       "      <th>VMail Plan</th>\n",
       "      <th>VMail Message</th>\n",
       "      <th>Day Mins</th>\n",
       "      <th>Day Calls</th>\n",
       "      <th>Day Charge</th>\n",
       "      <th>...</th>\n",
       "      <th>Eve Charge</th>\n",
       "      <th>Night Mins</th>\n",
       "      <th>Night Calls</th>\n",
       "      <th>Night Charge</th>\n",
       "      <th>Intl Mins</th>\n",
       "      <th>Intl Calls</th>\n",
       "      <th>Intl Charge</th>\n",
       "      <th>CustServ Calls</th>\n",
       "      <th>Churn?</th>\n",
       "      <th>CustomerID</th>\n",
       "    </tr>\n",
       "  </thead>\n",
       "  <tbody>\n",
       "    <tr>\n",
       "      <th>0</th>\n",
       "      <td>PA</td>\n",
       "      <td>163</td>\n",
       "      <td>806</td>\n",
       "      <td>403-2562</td>\n",
       "      <td>no</td>\n",
       "      <td>yes</td>\n",
       "      <td>300</td>\n",
       "      <td>8.162204</td>\n",
       "      <td>3</td>\n",
       "      <td>7.579174</td>\n",
       "      <td>...</td>\n",
       "      <td>6.508639</td>\n",
       "      <td>4.065759</td>\n",
       "      <td>100</td>\n",
       "      <td>5.111624</td>\n",
       "      <td>4.928160</td>\n",
       "      <td>6</td>\n",
       "      <td>5.673203</td>\n",
       "      <td>3</td>\n",
       "      <td>True.</td>\n",
       "      <td>0</td>\n",
       "    </tr>\n",
       "    <tr>\n",
       "      <th>1</th>\n",
       "      <td>SC</td>\n",
       "      <td>15</td>\n",
       "      <td>836</td>\n",
       "      <td>158-8416</td>\n",
       "      <td>yes</td>\n",
       "      <td>no</td>\n",
       "      <td>0</td>\n",
       "      <td>10.018993</td>\n",
       "      <td>4</td>\n",
       "      <td>4.226289</td>\n",
       "      <td>...</td>\n",
       "      <td>9.972592</td>\n",
       "      <td>7.141040</td>\n",
       "      <td>200</td>\n",
       "      <td>6.436188</td>\n",
       "      <td>3.221748</td>\n",
       "      <td>6</td>\n",
       "      <td>2.559749</td>\n",
       "      <td>8</td>\n",
       "      <td>False.</td>\n",
       "      <td>1</td>\n",
       "    </tr>\n",
       "    <tr>\n",
       "      <th>2</th>\n",
       "      <td>MO</td>\n",
       "      <td>131</td>\n",
       "      <td>777</td>\n",
       "      <td>896-6253</td>\n",
       "      <td>no</td>\n",
       "      <td>yes</td>\n",
       "      <td>300</td>\n",
       "      <td>4.708490</td>\n",
       "      <td>3</td>\n",
       "      <td>4.768160</td>\n",
       "      <td>...</td>\n",
       "      <td>4.566715</td>\n",
       "      <td>5.363235</td>\n",
       "      <td>100</td>\n",
       "      <td>5.142451</td>\n",
       "      <td>7.139023</td>\n",
       "      <td>2</td>\n",
       "      <td>6.254157</td>\n",
       "      <td>4</td>\n",
       "      <td>False.</td>\n",
       "      <td>2</td>\n",
       "    </tr>\n",
       "    <tr>\n",
       "      <th>3</th>\n",
       "      <td>WY</td>\n",
       "      <td>75</td>\n",
       "      <td>878</td>\n",
       "      <td>817-5729</td>\n",
       "      <td>yes</td>\n",
       "      <td>yes</td>\n",
       "      <td>700</td>\n",
       "      <td>1.268734</td>\n",
       "      <td>3</td>\n",
       "      <td>2.567642</td>\n",
       "      <td>...</td>\n",
       "      <td>2.333624</td>\n",
       "      <td>3.773586</td>\n",
       "      <td>450</td>\n",
       "      <td>3.814413</td>\n",
       "      <td>2.245779</td>\n",
       "      <td>6</td>\n",
       "      <td>1.080692</td>\n",
       "      <td>6</td>\n",
       "      <td>False.</td>\n",
       "      <td>3</td>\n",
       "    </tr>\n",
       "    <tr>\n",
       "      <th>4</th>\n",
       "      <td>WY</td>\n",
       "      <td>146</td>\n",
       "      <td>878</td>\n",
       "      <td>450-4942</td>\n",
       "      <td>yes</td>\n",
       "      <td>no</td>\n",
       "      <td>0</td>\n",
       "      <td>2.696177</td>\n",
       "      <td>3</td>\n",
       "      <td>5.908916</td>\n",
       "      <td>...</td>\n",
       "      <td>3.670408</td>\n",
       "      <td>3.751673</td>\n",
       "      <td>250</td>\n",
       "      <td>2.796812</td>\n",
       "      <td>6.905545</td>\n",
       "      <td>4</td>\n",
       "      <td>7.134343</td>\n",
       "      <td>6</td>\n",
       "      <td>True.</td>\n",
       "      <td>4</td>\n",
       "    </tr>\n",
       "    <tr>\n",
       "      <th>...</th>\n",
       "      <td>...</td>\n",
       "      <td>...</td>\n",
       "      <td>...</td>\n",
       "      <td>...</td>\n",
       "      <td>...</td>\n",
       "      <td>...</td>\n",
       "      <td>...</td>\n",
       "      <td>...</td>\n",
       "      <td>...</td>\n",
       "      <td>...</td>\n",
       "      <td>...</td>\n",
       "      <td>...</td>\n",
       "      <td>...</td>\n",
       "      <td>...</td>\n",
       "      <td>...</td>\n",
       "      <td>...</td>\n",
       "      <td>...</td>\n",
       "      <td>...</td>\n",
       "      <td>...</td>\n",
       "      <td>...</td>\n",
       "      <td>...</td>\n",
       "    </tr>\n",
       "    <tr>\n",
       "      <th>4995</th>\n",
       "      <td>NH</td>\n",
       "      <td>4</td>\n",
       "      <td>787</td>\n",
       "      <td>151-3162</td>\n",
       "      <td>yes</td>\n",
       "      <td>yes</td>\n",
       "      <td>800</td>\n",
       "      <td>10.862632</td>\n",
       "      <td>5</td>\n",
       "      <td>7.250969</td>\n",
       "      <td>...</td>\n",
       "      <td>8.026482</td>\n",
       "      <td>4.921314</td>\n",
       "      <td>350</td>\n",
       "      <td>6.748489</td>\n",
       "      <td>4.872570</td>\n",
       "      <td>8</td>\n",
       "      <td>2.122530</td>\n",
       "      <td>9</td>\n",
       "      <td>False.</td>\n",
       "      <td>4995</td>\n",
       "    </tr>\n",
       "    <tr>\n",
       "      <th>4996</th>\n",
       "      <td>SD</td>\n",
       "      <td>140</td>\n",
       "      <td>836</td>\n",
       "      <td>351-5993</td>\n",
       "      <td>no</td>\n",
       "      <td>no</td>\n",
       "      <td>0</td>\n",
       "      <td>1.581127</td>\n",
       "      <td>8</td>\n",
       "      <td>3.758307</td>\n",
       "      <td>...</td>\n",
       "      <td>1.328827</td>\n",
       "      <td>0.939932</td>\n",
       "      <td>300</td>\n",
       "      <td>4.522661</td>\n",
       "      <td>6.938571</td>\n",
       "      <td>2</td>\n",
       "      <td>4.600473</td>\n",
       "      <td>4</td>\n",
       "      <td>False.</td>\n",
       "      <td>4996</td>\n",
       "    </tr>\n",
       "    <tr>\n",
       "      <th>4997</th>\n",
       "      <td>SC</td>\n",
       "      <td>32</td>\n",
       "      <td>836</td>\n",
       "      <td>370-3127</td>\n",
       "      <td>no</td>\n",
       "      <td>yes</td>\n",
       "      <td>700</td>\n",
       "      <td>0.163836</td>\n",
       "      <td>5</td>\n",
       "      <td>4.243980</td>\n",
       "      <td>...</td>\n",
       "      <td>2.340554</td>\n",
       "      <td>0.939469</td>\n",
       "      <td>450</td>\n",
       "      <td>5.157898</td>\n",
       "      <td>4.388328</td>\n",
       "      <td>7</td>\n",
       "      <td>1.060340</td>\n",
       "      <td>6</td>\n",
       "      <td>False.</td>\n",
       "      <td>4997</td>\n",
       "    </tr>\n",
       "    <tr>\n",
       "      <th>4998</th>\n",
       "      <td>MA</td>\n",
       "      <td>142</td>\n",
       "      <td>776</td>\n",
       "      <td>604-2108</td>\n",
       "      <td>yes</td>\n",
       "      <td>yes</td>\n",
       "      <td>600</td>\n",
       "      <td>2.034454</td>\n",
       "      <td>5</td>\n",
       "      <td>3.014859</td>\n",
       "      <td>...</td>\n",
       "      <td>3.470372</td>\n",
       "      <td>6.076043</td>\n",
       "      <td>150</td>\n",
       "      <td>4.362780</td>\n",
       "      <td>7.173376</td>\n",
       "      <td>3</td>\n",
       "      <td>4.871900</td>\n",
       "      <td>7</td>\n",
       "      <td>True.</td>\n",
       "      <td>4998</td>\n",
       "    </tr>\n",
       "    <tr>\n",
       "      <th>4999</th>\n",
       "      <td>AL</td>\n",
       "      <td>141</td>\n",
       "      <td>657</td>\n",
       "      <td>294-2849</td>\n",
       "      <td>yes</td>\n",
       "      <td>yes</td>\n",
       "      <td>500</td>\n",
       "      <td>1.803907</td>\n",
       "      <td>0</td>\n",
       "      <td>5.125716</td>\n",
       "      <td>...</td>\n",
       "      <td>2.109823</td>\n",
       "      <td>2.624299</td>\n",
       "      <td>400</td>\n",
       "      <td>3.713631</td>\n",
       "      <td>5.798783</td>\n",
       "      <td>6</td>\n",
       "      <td>5.485345</td>\n",
       "      <td>7</td>\n",
       "      <td>False.</td>\n",
       "      <td>4999</td>\n",
       "    </tr>\n",
       "  </tbody>\n",
       "</table>\n",
       "<p>5000 rows × 22 columns</p>\n",
       "</div>"
      ],
      "text/plain": [
       "     State  Account Length  Area Code     Phone Int'l Plan VMail Plan  \\\n",
       "0       PA             163        806  403-2562         no        yes   \n",
       "1       SC              15        836  158-8416        yes         no   \n",
       "2       MO             131        777  896-6253         no        yes   \n",
       "3       WY              75        878  817-5729        yes        yes   \n",
       "4       WY             146        878  450-4942        yes         no   \n",
       "...    ...             ...        ...       ...        ...        ...   \n",
       "4995    NH               4        787  151-3162        yes        yes   \n",
       "4996    SD             140        836  351-5993         no         no   \n",
       "4997    SC              32        836  370-3127         no        yes   \n",
       "4998    MA             142        776  604-2108        yes        yes   \n",
       "4999    AL             141        657  294-2849        yes        yes   \n",
       "\n",
       "      VMail Message   Day Mins  Day Calls  Day Charge  ...  Eve Charge  \\\n",
       "0               300   8.162204          3    7.579174  ...    6.508639   \n",
       "1                 0  10.018993          4    4.226289  ...    9.972592   \n",
       "2               300   4.708490          3    4.768160  ...    4.566715   \n",
       "3               700   1.268734          3    2.567642  ...    2.333624   \n",
       "4                 0   2.696177          3    5.908916  ...    3.670408   \n",
       "...             ...        ...        ...         ...  ...         ...   \n",
       "4995            800  10.862632          5    7.250969  ...    8.026482   \n",
       "4996              0   1.581127          8    3.758307  ...    1.328827   \n",
       "4997            700   0.163836          5    4.243980  ...    2.340554   \n",
       "4998            600   2.034454          5    3.014859  ...    3.470372   \n",
       "4999            500   1.803907          0    5.125716  ...    2.109823   \n",
       "\n",
       "      Night Mins  Night Calls  Night Charge  Intl Mins  Intl Calls  \\\n",
       "0       4.065759          100      5.111624   4.928160           6   \n",
       "1       7.141040          200      6.436188   3.221748           6   \n",
       "2       5.363235          100      5.142451   7.139023           2   \n",
       "3       3.773586          450      3.814413   2.245779           6   \n",
       "4       3.751673          250      2.796812   6.905545           4   \n",
       "...          ...          ...           ...        ...         ...   \n",
       "4995    4.921314          350      6.748489   4.872570           8   \n",
       "4996    0.939932          300      4.522661   6.938571           2   \n",
       "4997    0.939469          450      5.157898   4.388328           7   \n",
       "4998    6.076043          150      4.362780   7.173376           3   \n",
       "4999    2.624299          400      3.713631   5.798783           6   \n",
       "\n",
       "      Intl Charge  CustServ Calls  Churn?  CustomerID  \n",
       "0        5.673203               3   True.           0  \n",
       "1        2.559749               8  False.           1  \n",
       "2        6.254157               4  False.           2  \n",
       "3        1.080692               6  False.           3  \n",
       "4        7.134343               6   True.           4  \n",
       "...           ...             ...     ...         ...  \n",
       "4995     2.122530               9  False.        4995  \n",
       "4996     4.600473               4  False.        4996  \n",
       "4997     1.060340               6  False.        4997  \n",
       "4998     4.871900               7   True.        4998  \n",
       "4999     5.485345               7  False.        4999  \n",
       "\n",
       "[5000 rows x 22 columns]"
      ]
     },
     "execution_count": 44,
     "metadata": {},
     "output_type": "execute_result"
    }
   ],
   "source": [
    "df = pd.read_csv(f'./{local_prefix}/churn.txt')\n",
    "df['CustomerID'] = df.index\n",
    "df"
   ]
  },
  {
   "cell_type": "code",
   "execution_count": 10,
   "id": "ffa8ff0e-9849-4fee-bde3-8212b34f5131",
   "metadata": {
    "tags": []
   },
   "outputs": [
    {
     "data": {
      "text/plain": [
       "Index(['State', 'Account Length', 'Area Code', 'Phone', 'Int'l Plan',\n",
       "       'VMail Plan', 'VMail Message', 'Day Mins', 'Day Calls', 'Day Charge',\n",
       "       'Eve Mins', 'Eve Calls', 'Eve Charge', 'Night Mins', 'Night Calls',\n",
       "       'Night Charge', 'Intl Mins', 'Intl Calls', 'Intl Charge',\n",
       "       'CustServ Calls', 'Churn?', 'CustomerID'],\n",
       "      dtype='object')"
      ]
     },
     "execution_count": 10,
     "metadata": {},
     "output_type": "execute_result"
    }
   ],
   "source": [
    "df.columns"
   ]
  },
  {
   "cell_type": "code",
   "execution_count": 11,
   "id": "e25f36ba-b5d5-46a5-8323-9e17a31899e8",
   "metadata": {
    "tags": []
   },
   "outputs": [],
   "source": [
    "df[[\"Int'l Plan\", \"VMail Plan\"]] = df[[\"Int'l Plan\", \"VMail Plan\"]].replace(to_replace=['yes', 'no'], value=[1, 0])"
   ]
  },
  {
   "cell_type": "code",
   "execution_count": 12,
   "id": "cbdb9e41-9f4f-4e0a-8716-1a5b43fee790",
   "metadata": {
    "tags": []
   },
   "outputs": [],
   "source": [
    "df['Churn?'] = df['Churn?'].replace(to_replace=['True.', 'False.'], value=[1, 0])"
   ]
  },
  {
   "cell_type": "code",
   "execution_count": 15,
   "id": "db4e8409-9609-4ac4-931c-13fabad34185",
   "metadata": {
    "tags": []
   },
   "outputs": [],
   "source": [
    "columns=[\n",
    "    'Churn?', 'Account Length', \"Int'l Plan\",\n",
    "    'VMail Plan', 'VMail Message', 'Day Mins', 'Day Calls', 'Day Charge',\n",
    "    'Eve Mins', 'Eve Calls', 'Eve Charge', 'Night Mins', 'Night Calls',\n",
    "    'Night Charge', 'Intl Mins', 'Intl Calls', 'Intl Charge',\n",
    "    'CustServ Calls'\n",
    "]\n",
    "df.index = df['CustomerID']\n",
    "df_processed = df[columns]"
   ]
  },
  {
   "cell_type": "code",
   "execution_count": 16,
   "id": "8dee085a-e3c6-432d-9631-1c2dd273e23e",
   "metadata": {
    "tags": []
   },
   "outputs": [
    {
     "data": {
      "text/html": [
       "<div>\n",
       "<style scoped>\n",
       "    .dataframe tbody tr th:only-of-type {\n",
       "        vertical-align: middle;\n",
       "    }\n",
       "\n",
       "    .dataframe tbody tr th {\n",
       "        vertical-align: top;\n",
       "    }\n",
       "\n",
       "    .dataframe thead th {\n",
       "        text-align: right;\n",
       "    }\n",
       "</style>\n",
       "<table border=\"1\" class=\"dataframe\">\n",
       "  <thead>\n",
       "    <tr style=\"text-align: right;\">\n",
       "      <th></th>\n",
       "      <th>Churn?</th>\n",
       "      <th>Account Length</th>\n",
       "      <th>Int'l Plan</th>\n",
       "      <th>VMail Plan</th>\n",
       "      <th>VMail Message</th>\n",
       "      <th>Day Mins</th>\n",
       "      <th>Day Calls</th>\n",
       "      <th>Day Charge</th>\n",
       "      <th>Eve Mins</th>\n",
       "      <th>Eve Calls</th>\n",
       "      <th>Eve Charge</th>\n",
       "      <th>Night Mins</th>\n",
       "      <th>Night Calls</th>\n",
       "      <th>Night Charge</th>\n",
       "      <th>Intl Mins</th>\n",
       "      <th>Intl Calls</th>\n",
       "      <th>Intl Charge</th>\n",
       "      <th>CustServ Calls</th>\n",
       "    </tr>\n",
       "    <tr>\n",
       "      <th>CustomerID</th>\n",
       "      <th></th>\n",
       "      <th></th>\n",
       "      <th></th>\n",
       "      <th></th>\n",
       "      <th></th>\n",
       "      <th></th>\n",
       "      <th></th>\n",
       "      <th></th>\n",
       "      <th></th>\n",
       "      <th></th>\n",
       "      <th></th>\n",
       "      <th></th>\n",
       "      <th></th>\n",
       "      <th></th>\n",
       "      <th></th>\n",
       "      <th></th>\n",
       "      <th></th>\n",
       "      <th></th>\n",
       "    </tr>\n",
       "  </thead>\n",
       "  <tbody>\n",
       "    <tr>\n",
       "      <th>0</th>\n",
       "      <td>1</td>\n",
       "      <td>163</td>\n",
       "      <td>0</td>\n",
       "      <td>1</td>\n",
       "      <td>300</td>\n",
       "      <td>8.162204</td>\n",
       "      <td>3</td>\n",
       "      <td>7.579174</td>\n",
       "      <td>3.933035</td>\n",
       "      <td>4</td>\n",
       "      <td>6.508639</td>\n",
       "      <td>4.065759</td>\n",
       "      <td>100</td>\n",
       "      <td>5.111624</td>\n",
       "      <td>4.928160</td>\n",
       "      <td>6</td>\n",
       "      <td>5.673203</td>\n",
       "      <td>3</td>\n",
       "    </tr>\n",
       "    <tr>\n",
       "      <th>1</th>\n",
       "      <td>0</td>\n",
       "      <td>15</td>\n",
       "      <td>1</td>\n",
       "      <td>0</td>\n",
       "      <td>0</td>\n",
       "      <td>10.018993</td>\n",
       "      <td>4</td>\n",
       "      <td>4.226289</td>\n",
       "      <td>2.325005</td>\n",
       "      <td>0</td>\n",
       "      <td>9.972592</td>\n",
       "      <td>7.141040</td>\n",
       "      <td>200</td>\n",
       "      <td>6.436188</td>\n",
       "      <td>3.221748</td>\n",
       "      <td>6</td>\n",
       "      <td>2.559749</td>\n",
       "      <td>8</td>\n",
       "    </tr>\n",
       "    <tr>\n",
       "      <th>2</th>\n",
       "      <td>0</td>\n",
       "      <td>131</td>\n",
       "      <td>0</td>\n",
       "      <td>1</td>\n",
       "      <td>300</td>\n",
       "      <td>4.708490</td>\n",
       "      <td>3</td>\n",
       "      <td>4.768160</td>\n",
       "      <td>4.537466</td>\n",
       "      <td>3</td>\n",
       "      <td>4.566715</td>\n",
       "      <td>5.363235</td>\n",
       "      <td>100</td>\n",
       "      <td>5.142451</td>\n",
       "      <td>7.139023</td>\n",
       "      <td>2</td>\n",
       "      <td>6.254157</td>\n",
       "      <td>4</td>\n",
       "    </tr>\n",
       "    <tr>\n",
       "      <th>3</th>\n",
       "      <td>0</td>\n",
       "      <td>75</td>\n",
       "      <td>1</td>\n",
       "      <td>1</td>\n",
       "      <td>700</td>\n",
       "      <td>1.268734</td>\n",
       "      <td>3</td>\n",
       "      <td>2.567642</td>\n",
       "      <td>2.528748</td>\n",
       "      <td>5</td>\n",
       "      <td>2.333624</td>\n",
       "      <td>3.773586</td>\n",
       "      <td>450</td>\n",
       "      <td>3.814413</td>\n",
       "      <td>2.245779</td>\n",
       "      <td>6</td>\n",
       "      <td>1.080692</td>\n",
       "      <td>6</td>\n",
       "    </tr>\n",
       "    <tr>\n",
       "      <th>4</th>\n",
       "      <td>1</td>\n",
       "      <td>146</td>\n",
       "      <td>1</td>\n",
       "      <td>0</td>\n",
       "      <td>0</td>\n",
       "      <td>2.696177</td>\n",
       "      <td>3</td>\n",
       "      <td>5.908916</td>\n",
       "      <td>6.015337</td>\n",
       "      <td>3</td>\n",
       "      <td>3.670408</td>\n",
       "      <td>3.751673</td>\n",
       "      <td>250</td>\n",
       "      <td>2.796812</td>\n",
       "      <td>6.905545</td>\n",
       "      <td>4</td>\n",
       "      <td>7.134343</td>\n",
       "      <td>6</td>\n",
       "    </tr>\n",
       "  </tbody>\n",
       "</table>\n",
       "</div>"
      ],
      "text/plain": [
       "            Churn?  Account Length  Int'l Plan  VMail Plan  VMail Message  \\\n",
       "CustomerID                                                                  \n",
       "0                1             163           0           1            300   \n",
       "1                0              15           1           0              0   \n",
       "2                0             131           0           1            300   \n",
       "3                0              75           1           1            700   \n",
       "4                1             146           1           0              0   \n",
       "\n",
       "             Day Mins  Day Calls  Day Charge  Eve Mins  Eve Calls  Eve Charge  \\\n",
       "CustomerID                                                                      \n",
       "0            8.162204          3    7.579174  3.933035          4    6.508639   \n",
       "1           10.018993          4    4.226289  2.325005          0    9.972592   \n",
       "2            4.708490          3    4.768160  4.537466          3    4.566715   \n",
       "3            1.268734          3    2.567642  2.528748          5    2.333624   \n",
       "4            2.696177          3    5.908916  6.015337          3    3.670408   \n",
       "\n",
       "            Night Mins  Night Calls  Night Charge  Intl Mins  Intl Calls  \\\n",
       "CustomerID                                                                 \n",
       "0             4.065759          100      5.111624   4.928160           6   \n",
       "1             7.141040          200      6.436188   3.221748           6   \n",
       "2             5.363235          100      5.142451   7.139023           2   \n",
       "3             3.773586          450      3.814413   2.245779           6   \n",
       "4             3.751673          250      2.796812   6.905545           4   \n",
       "\n",
       "            Intl Charge  CustServ Calls  \n",
       "CustomerID                               \n",
       "0              5.673203               3  \n",
       "1              2.559749               8  \n",
       "2              6.254157               4  \n",
       "3              1.080692               6  \n",
       "4              7.134343               6  "
      ]
     },
     "execution_count": 16,
     "metadata": {},
     "output_type": "execute_result"
    }
   ],
   "source": [
    "df_processed.head()"
   ]
  },
  {
   "cell_type": "code",
   "execution_count": 17,
   "id": "8fa46c66-0308-4e56-b96b-85cfffd88afd",
   "metadata": {
    "tags": []
   },
   "outputs": [],
   "source": [
    "from sklearn.model_selection import train_test_split"
   ]
  },
  {
   "cell_type": "code",
   "execution_count": 22,
   "id": "053d8bd0-e3ae-4c5f-b5ef-11a699d0a4aa",
   "metadata": {
    "tags": []
   },
   "outputs": [],
   "source": [
    "df_train, df_test = train_test_split(\n",
    "    df_processed, \n",
    "    test_size=0.1,\n",
    "    random_state=42, \n",
    "    shuffle=True,\n",
    ")"
   ]
  },
  {
   "cell_type": "code",
   "execution_count": 23,
   "id": "19d566f8-60f7-45a2-b04e-3097ebafaaae",
   "metadata": {
    "tags": []
   },
   "outputs": [
    {
     "data": {
      "text/html": [
       "<div>\n",
       "<style scoped>\n",
       "    .dataframe tbody tr th:only-of-type {\n",
       "        vertical-align: middle;\n",
       "    }\n",
       "\n",
       "    .dataframe tbody tr th {\n",
       "        vertical-align: top;\n",
       "    }\n",
       "\n",
       "    .dataframe thead th {\n",
       "        text-align: right;\n",
       "    }\n",
       "</style>\n",
       "<table border=\"1\" class=\"dataframe\">\n",
       "  <thead>\n",
       "    <tr style=\"text-align: right;\">\n",
       "      <th></th>\n",
       "      <th>Churn?</th>\n",
       "      <th>Account Length</th>\n",
       "      <th>Int'l Plan</th>\n",
       "      <th>VMail Plan</th>\n",
       "      <th>VMail Message</th>\n",
       "      <th>Day Mins</th>\n",
       "      <th>Day Calls</th>\n",
       "      <th>Day Charge</th>\n",
       "      <th>Eve Mins</th>\n",
       "      <th>Eve Calls</th>\n",
       "      <th>Eve Charge</th>\n",
       "      <th>Night Mins</th>\n",
       "      <th>Night Calls</th>\n",
       "      <th>Night Charge</th>\n",
       "      <th>Intl Mins</th>\n",
       "      <th>Intl Calls</th>\n",
       "      <th>Intl Charge</th>\n",
       "      <th>CustServ Calls</th>\n",
       "    </tr>\n",
       "    <tr>\n",
       "      <th>CustomerID</th>\n",
       "      <th></th>\n",
       "      <th></th>\n",
       "      <th></th>\n",
       "      <th></th>\n",
       "      <th></th>\n",
       "      <th></th>\n",
       "      <th></th>\n",
       "      <th></th>\n",
       "      <th></th>\n",
       "      <th></th>\n",
       "      <th></th>\n",
       "      <th></th>\n",
       "      <th></th>\n",
       "      <th></th>\n",
       "      <th></th>\n",
       "      <th></th>\n",
       "      <th></th>\n",
       "      <th></th>\n",
       "    </tr>\n",
       "  </thead>\n",
       "  <tbody>\n",
       "    <tr>\n",
       "      <th>3716</th>\n",
       "      <td>1</td>\n",
       "      <td>199</td>\n",
       "      <td>0</td>\n",
       "      <td>0</td>\n",
       "      <td>0</td>\n",
       "      <td>1.888657</td>\n",
       "      <td>5</td>\n",
       "      <td>3.292043</td>\n",
       "      <td>2.078057</td>\n",
       "      <td>6</td>\n",
       "      <td>2.012784</td>\n",
       "      <td>6.185571</td>\n",
       "      <td>150</td>\n",
       "      <td>6.232641</td>\n",
       "      <td>3.643885</td>\n",
       "      <td>4</td>\n",
       "      <td>0.250856</td>\n",
       "      <td>7</td>\n",
       "    </tr>\n",
       "    <tr>\n",
       "      <th>3779</th>\n",
       "      <td>1</td>\n",
       "      <td>150</td>\n",
       "      <td>0</td>\n",
       "      <td>1</td>\n",
       "      <td>300</td>\n",
       "      <td>9.116997</td>\n",
       "      <td>5</td>\n",
       "      <td>7.604945</td>\n",
       "      <td>5.869767</td>\n",
       "      <td>5</td>\n",
       "      <td>5.261558</td>\n",
       "      <td>3.979898</td>\n",
       "      <td>150</td>\n",
       "      <td>6.780750</td>\n",
       "      <td>5.865937</td>\n",
       "      <td>8</td>\n",
       "      <td>1.506096</td>\n",
       "      <td>6</td>\n",
       "    </tr>\n",
       "    <tr>\n",
       "      <th>135</th>\n",
       "      <td>1</td>\n",
       "      <td>168</td>\n",
       "      <td>0</td>\n",
       "      <td>1</td>\n",
       "      <td>100</td>\n",
       "      <td>10.986139</td>\n",
       "      <td>3</td>\n",
       "      <td>7.844371</td>\n",
       "      <td>6.033296</td>\n",
       "      <td>3</td>\n",
       "      <td>6.384150</td>\n",
       "      <td>3.019162</td>\n",
       "      <td>200</td>\n",
       "      <td>8.379480</td>\n",
       "      <td>6.477625</td>\n",
       "      <td>8</td>\n",
       "      <td>0.084284</td>\n",
       "      <td>6</td>\n",
       "    </tr>\n",
       "    <tr>\n",
       "      <th>4480</th>\n",
       "      <td>1</td>\n",
       "      <td>53</td>\n",
       "      <td>1</td>\n",
       "      <td>1</td>\n",
       "      <td>700</td>\n",
       "      <td>1.202977</td>\n",
       "      <td>2</td>\n",
       "      <td>1.210471</td>\n",
       "      <td>4.385186</td>\n",
       "      <td>4</td>\n",
       "      <td>3.430470</td>\n",
       "      <td>1.381722</td>\n",
       "      <td>200</td>\n",
       "      <td>6.869588</td>\n",
       "      <td>3.535553</td>\n",
       "      <td>5</td>\n",
       "      <td>1.077305</td>\n",
       "      <td>11</td>\n",
       "    </tr>\n",
       "    <tr>\n",
       "      <th>1437</th>\n",
       "      <td>0</td>\n",
       "      <td>6</td>\n",
       "      <td>1</td>\n",
       "      <td>1</td>\n",
       "      <td>700</td>\n",
       "      <td>3.944982</td>\n",
       "      <td>6</td>\n",
       "      <td>2.879737</td>\n",
       "      <td>2.831342</td>\n",
       "      <td>7</td>\n",
       "      <td>2.000613</td>\n",
       "      <td>1.679486</td>\n",
       "      <td>450</td>\n",
       "      <td>1.281451</td>\n",
       "      <td>4.429052</td>\n",
       "      <td>7</td>\n",
       "      <td>3.025466</td>\n",
       "      <td>4</td>\n",
       "    </tr>\n",
       "    <tr>\n",
       "      <th>...</th>\n",
       "      <td>...</td>\n",
       "      <td>...</td>\n",
       "      <td>...</td>\n",
       "      <td>...</td>\n",
       "      <td>...</td>\n",
       "      <td>...</td>\n",
       "      <td>...</td>\n",
       "      <td>...</td>\n",
       "      <td>...</td>\n",
       "      <td>...</td>\n",
       "      <td>...</td>\n",
       "      <td>...</td>\n",
       "      <td>...</td>\n",
       "      <td>...</td>\n",
       "      <td>...</td>\n",
       "      <td>...</td>\n",
       "      <td>...</td>\n",
       "      <td>...</td>\n",
       "    </tr>\n",
       "    <tr>\n",
       "      <th>4426</th>\n",
       "      <td>0</td>\n",
       "      <td>96</td>\n",
       "      <td>0</td>\n",
       "      <td>0</td>\n",
       "      <td>0</td>\n",
       "      <td>0.068791</td>\n",
       "      <td>1</td>\n",
       "      <td>2.477621</td>\n",
       "      <td>0.019345</td>\n",
       "      <td>6</td>\n",
       "      <td>3.166656</td>\n",
       "      <td>7.200174</td>\n",
       "      <td>300</td>\n",
       "      <td>2.572314</td>\n",
       "      <td>5.936378</td>\n",
       "      <td>5</td>\n",
       "      <td>2.879934</td>\n",
       "      <td>4</td>\n",
       "    </tr>\n",
       "    <tr>\n",
       "      <th>466</th>\n",
       "      <td>0</td>\n",
       "      <td>41</td>\n",
       "      <td>1</td>\n",
       "      <td>0</td>\n",
       "      <td>0</td>\n",
       "      <td>4.606600</td>\n",
       "      <td>3</td>\n",
       "      <td>2.533723</td>\n",
       "      <td>4.277873</td>\n",
       "      <td>3</td>\n",
       "      <td>6.393649</td>\n",
       "      <td>3.326675</td>\n",
       "      <td>300</td>\n",
       "      <td>4.477047</td>\n",
       "      <td>5.783281</td>\n",
       "      <td>9</td>\n",
       "      <td>1.947355</td>\n",
       "      <td>9</td>\n",
       "    </tr>\n",
       "    <tr>\n",
       "      <th>3092</th>\n",
       "      <td>1</td>\n",
       "      <td>42</td>\n",
       "      <td>0</td>\n",
       "      <td>0</td>\n",
       "      <td>0</td>\n",
       "      <td>7.114836</td>\n",
       "      <td>4</td>\n",
       "      <td>6.905721</td>\n",
       "      <td>5.795053</td>\n",
       "      <td>4</td>\n",
       "      <td>5.577240</td>\n",
       "      <td>5.400889</td>\n",
       "      <td>100</td>\n",
       "      <td>3.487983</td>\n",
       "      <td>5.539009</td>\n",
       "      <td>6</td>\n",
       "      <td>7.922374</td>\n",
       "      <td>3</td>\n",
       "    </tr>\n",
       "    <tr>\n",
       "      <th>3772</th>\n",
       "      <td>0</td>\n",
       "      <td>62</td>\n",
       "      <td>0</td>\n",
       "      <td>1</td>\n",
       "      <td>200</td>\n",
       "      <td>3.148166</td>\n",
       "      <td>5</td>\n",
       "      <td>0.874773</td>\n",
       "      <td>2.557682</td>\n",
       "      <td>4</td>\n",
       "      <td>2.471009</td>\n",
       "      <td>2.402629</td>\n",
       "      <td>200</td>\n",
       "      <td>3.160541</td>\n",
       "      <td>3.758257</td>\n",
       "      <td>3</td>\n",
       "      <td>3.960605</td>\n",
       "      <td>4</td>\n",
       "    </tr>\n",
       "    <tr>\n",
       "      <th>860</th>\n",
       "      <td>0</td>\n",
       "      <td>179</td>\n",
       "      <td>0</td>\n",
       "      <td>0</td>\n",
       "      <td>0</td>\n",
       "      <td>2.548047</td>\n",
       "      <td>3</td>\n",
       "      <td>2.519373</td>\n",
       "      <td>1.890007</td>\n",
       "      <td>2</td>\n",
       "      <td>4.962720</td>\n",
       "      <td>1.658954</td>\n",
       "      <td>200</td>\n",
       "      <td>5.493252</td>\n",
       "      <td>5.376036</td>\n",
       "      <td>8</td>\n",
       "      <td>0.739102</td>\n",
       "      <td>10</td>\n",
       "    </tr>\n",
       "  </tbody>\n",
       "</table>\n",
       "<p>4500 rows × 18 columns</p>\n",
       "</div>"
      ],
      "text/plain": [
       "            Churn?  Account Length  Int'l Plan  VMail Plan  VMail Message  \\\n",
       "CustomerID                                                                  \n",
       "3716             1             199           0           0              0   \n",
       "3779             1             150           0           1            300   \n",
       "135              1             168           0           1            100   \n",
       "4480             1              53           1           1            700   \n",
       "1437             0               6           1           1            700   \n",
       "...            ...             ...         ...         ...            ...   \n",
       "4426             0              96           0           0              0   \n",
       "466              0              41           1           0              0   \n",
       "3092             1              42           0           0              0   \n",
       "3772             0              62           0           1            200   \n",
       "860              0             179           0           0              0   \n",
       "\n",
       "             Day Mins  Day Calls  Day Charge  Eve Mins  Eve Calls  Eve Charge  \\\n",
       "CustomerID                                                                      \n",
       "3716         1.888657          5    3.292043  2.078057          6    2.012784   \n",
       "3779         9.116997          5    7.604945  5.869767          5    5.261558   \n",
       "135         10.986139          3    7.844371  6.033296          3    6.384150   \n",
       "4480         1.202977          2    1.210471  4.385186          4    3.430470   \n",
       "1437         3.944982          6    2.879737  2.831342          7    2.000613   \n",
       "...               ...        ...         ...       ...        ...         ...   \n",
       "4426         0.068791          1    2.477621  0.019345          6    3.166656   \n",
       "466          4.606600          3    2.533723  4.277873          3    6.393649   \n",
       "3092         7.114836          4    6.905721  5.795053          4    5.577240   \n",
       "3772         3.148166          5    0.874773  2.557682          4    2.471009   \n",
       "860          2.548047          3    2.519373  1.890007          2    4.962720   \n",
       "\n",
       "            Night Mins  Night Calls  Night Charge  Intl Mins  Intl Calls  \\\n",
       "CustomerID                                                                 \n",
       "3716          6.185571          150      6.232641   3.643885           4   \n",
       "3779          3.979898          150      6.780750   5.865937           8   \n",
       "135           3.019162          200      8.379480   6.477625           8   \n",
       "4480          1.381722          200      6.869588   3.535553           5   \n",
       "1437          1.679486          450      1.281451   4.429052           7   \n",
       "...                ...          ...           ...        ...         ...   \n",
       "4426          7.200174          300      2.572314   5.936378           5   \n",
       "466           3.326675          300      4.477047   5.783281           9   \n",
       "3092          5.400889          100      3.487983   5.539009           6   \n",
       "3772          2.402629          200      3.160541   3.758257           3   \n",
       "860           1.658954          200      5.493252   5.376036           8   \n",
       "\n",
       "            Intl Charge  CustServ Calls  \n",
       "CustomerID                               \n",
       "3716           0.250856               7  \n",
       "3779           1.506096               6  \n",
       "135            0.084284               6  \n",
       "4480           1.077305              11  \n",
       "1437           3.025466               4  \n",
       "...                 ...             ...  \n",
       "4426           2.879934               4  \n",
       "466            1.947355               9  \n",
       "3092           7.922374               3  \n",
       "3772           3.960605               4  \n",
       "860            0.739102              10  \n",
       "\n",
       "[4500 rows x 18 columns]"
      ]
     },
     "execution_count": 23,
     "metadata": {},
     "output_type": "execute_result"
    }
   ],
   "source": [
    "df_train"
   ]
  },
  {
   "cell_type": "code",
   "execution_count": 24,
   "id": "3f21c1ef-f7dc-479c-9d3d-1c2c2cc865ed",
   "metadata": {
    "tags": []
   },
   "outputs": [],
   "source": [
    "df_train.to_csv('train.csv', index=False, header=False)\n",
    "df_test.to_csv('test.csv', index=False, header=False)"
   ]
  },
  {
   "cell_type": "code",
   "execution_count": 25,
   "id": "51e1954d-4313-4742-906e-b3853258f839",
   "metadata": {
    "tags": []
   },
   "outputs": [
    {
     "data": {
      "text/plain": [
       "'s3://sagemaker-eu-west-1-467432373215/module_5/part_1/data/train.csv'"
      ]
     },
     "execution_count": 25,
     "metadata": {},
     "output_type": "execute_result"
    }
   ],
   "source": [
    "sess.upload_data(path='train.csv', bucket=bucket, key_prefix=f'{prefix}/data')"
   ]
  },
  {
   "cell_type": "code",
   "execution_count": 26,
   "id": "b188b9e6-4504-49ba-8749-03d4a69e6027",
   "metadata": {
    "tags": []
   },
   "outputs": [
    {
     "data": {
      "text/plain": [
       "'s3://sagemaker-eu-west-1-467432373215/module_5/part_1/data/test.csv'"
      ]
     },
     "execution_count": 26,
     "metadata": {},
     "output_type": "execute_result"
    }
   ],
   "source": [
    "sess.upload_data(path='test.csv', bucket=bucket, key_prefix=f'{prefix}/data')"
   ]
  },
  {
   "cell_type": "markdown",
   "id": "b9e8850c-62d3-4ef5-863b-0a8fcb182eac",
   "metadata": {},
   "source": [
    "### Entrenamiento del modelo de clasificación"
   ]
  },
  {
   "cell_type": "code",
   "execution_count": 28,
   "id": "1aa6f61f-464c-4a58-90ce-be06cf7bfe14",
   "metadata": {
    "tags": []
   },
   "outputs": [
    {
     "data": {
      "text/plain": [
       "'141502667606.dkr.ecr.eu-west-1.amazonaws.com/sagemaker-xgboost:1.3-1'"
      ]
     },
     "execution_count": 28,
     "metadata": {},
     "output_type": "execute_result"
    }
   ],
   "source": [
    "image = sagemaker.image_uris.retrieve(region=region, framework='xgboost', version='1.3-1')\n",
    "image"
   ]
  },
  {
   "cell_type": "code",
   "execution_count": 30,
   "id": "30d302e6-0c6a-4ae7-8ba2-028e3333f1f3",
   "metadata": {
    "tags": []
   },
   "outputs": [],
   "source": [
    "train_data_s3 = f's3://{bucket}/{prefix}/data/train.csv'\n",
    "val_data_s3 = f's3://{bucket}/{prefix}/data/test.csv'\n",
    "\n",
    "train_input = sagemaker.inputs.TrainingInput(s3_data=train_data_s3, \n",
    "                                             content_type='csv')\n",
    "val_input = sagemaker.inputs.TrainingInput(s3_data=val_data_s3, \n",
    "                                           content_type='csv')\n",
    "\n",
    "data_channels = {\n",
    "    'train': train_input,\n",
    "    'validation': val_input,\n",
    "}\n"
   ]
  },
  {
   "cell_type": "code",
   "execution_count": 31,
   "id": "0b84b400-88c3-4fa5-b949-d53e97b00c44",
   "metadata": {
    "tags": []
   },
   "outputs": [],
   "source": [
    "s3_output = f's3://{bucket}/{prefix}/{local_prefix}/training'"
   ]
  },
  {
   "cell_type": "code",
   "execution_count": 47,
   "id": "84015ef6-9b0a-47f9-aa81-bcfc706f9a80",
   "metadata": {
    "tags": []
   },
   "outputs": [],
   "source": [
    "estimator = sagemaker.estimator.Estimator(\n",
    "    image,\n",
    "    role,\n",
    "    instance_count=1,\n",
    "    instance_type='ml.m5.xlarge',\n",
    "    output_path=s3_output,\n",
    "    enable_sagemaker_metrics=True,\n",
    "    sagemaker_session=sess\n",
    ")\n",
    "\n",
    "estimator.set_hyperparameters(objective='binary:logistic', num_round=20)"
   ]
  },
  {
   "cell_type": "code",
   "execution_count": 49,
   "id": "364c64e5-5acb-4a64-bd60-8e9e8c897a55",
   "metadata": {
    "tags": []
   },
   "outputs": [
    {
     "name": "stdout",
     "output_type": "stream",
     "text": [
      "2022-12-13 20:57:10 Starting - Starting the training job...ProfilerReport-1670965030: InProgress\n",
      "......\n",
      "2022-12-13 20:58:35 Starting - Preparing the instances for training.........\n",
      "2022-12-13 21:00:11 Downloading - Downloading input data\n",
      "2022-12-13 21:00:11 Training - Training image download completed. Training in progress.\n",
      "2022-12-13 21:00:11 Uploading - Uploading generated training model\u001b[34m[2022-12-13 21:00:03.253 ip-10-0-64-43.eu-west-1.compute.internal:8 INFO utils.py:27] RULE_JOB_STOP_SIGNAL_FILENAME: None\u001b[0m\n",
      "\u001b[34m[2022-12-13:21:00:03:INFO] Imported framework sagemaker_xgboost_container.training\u001b[0m\n",
      "\u001b[34m[2022-12-13:21:00:03:INFO] Failed to parse hyperparameter objective value binary:logistic to Json.\u001b[0m\n",
      "\u001b[34mReturning the value itself\u001b[0m\n",
      "\u001b[34m[2022-12-13:21:00:03:INFO] No GPUs detected (normal if no gpus installed)\u001b[0m\n",
      "\u001b[34m[2022-12-13:21:00:03:INFO] Running XGBoost Sagemaker in algorithm mode\u001b[0m\n",
      "\u001b[34m[2022-12-13:21:00:03:INFO] Determined delimiter of CSV input is ','\u001b[0m\n",
      "\u001b[34m[2022-12-13:21:00:03:INFO] Determined delimiter of CSV input is ','\u001b[0m\n",
      "\u001b[34m[2022-12-13:21:00:03:INFO] files path: /opt/ml/input/data/train\u001b[0m\n",
      "\u001b[34m[2022-12-13:21:00:03:INFO] Determined delimiter of CSV input is ','\u001b[0m\n",
      "\u001b[34m[2022-12-13:21:00:03:INFO] files path: /opt/ml/input/data/validation\u001b[0m\n",
      "\u001b[34m[2022-12-13:21:00:03:INFO] Determined delimiter of CSV input is ','\u001b[0m\n",
      "\u001b[34m[2022-12-13:21:00:03:INFO] Single node training.\u001b[0m\n",
      "\u001b[34m[2022-12-13:21:00:03:INFO] Train matrix has 4500 rows and 17 columns\u001b[0m\n",
      "\u001b[34m[2022-12-13:21:00:03:INFO] Validation matrix has 500 rows\u001b[0m\n",
      "\u001b[34m[2022-12-13 21:00:03.354 ip-10-0-64-43.eu-west-1.compute.internal:8 INFO json_config.py:91] Creating hook from json_config at /opt/ml/input/config/debughookconfig.json.\u001b[0m\n",
      "\u001b[34m[21:00:03] WARNING: ../src/learner.cc:1061: Starting in XGBoost 1.3.0, the default evaluation metric used with the objective 'binary:logistic' was changed from 'error' to 'logloss'. Explicitly set eval_metric if you'd like to restore the old behavior.\u001b[0m\n",
      "\u001b[34m[0]#011train-logloss:0.51008#011validation-logloss:0.52402\u001b[0m\n",
      "\u001b[34m[1]#011train-logloss:0.40497#011validation-logloss:0.42806\u001b[0m\n",
      "\u001b[34m[2]#011train-logloss:0.32595#011validation-logloss:0.36033\u001b[0m\n",
      "\u001b[34m[3]#011train-logloss:0.27502#011validation-logloss:0.31577\u001b[0m\n",
      "\u001b[34m[4]#011train-logloss:0.23797#011validation-logloss:0.28433\u001b[0m\n",
      "\u001b[34m[5]#011train-logloss:0.20603#011validation-logloss:0.25584\u001b[0m\n",
      "\u001b[34m[6]#011train-logloss:0.18076#011validation-logloss:0.23635\u001b[0m\n",
      "\u001b[34m[7]#011train-logloss:0.16484#011validation-logloss:0.22128\u001b[0m\n",
      "\u001b[34m[8]#011train-logloss:0.15016#011validation-logloss:0.20823\u001b[0m\n",
      "\u001b[34m[9]#011train-logloss:0.13825#011validation-logloss:0.19649\u001b[0m\n",
      "\u001b[34m[10]#011train-logloss:0.12547#011validation-logloss:0.18749\u001b[0m\n",
      "\u001b[34m[11]#011train-logloss:0.11643#011validation-logloss:0.18285\u001b[0m\n",
      "\u001b[34m[12]#011train-logloss:0.11100#011validation-logloss:0.18071\u001b[0m\n",
      "\u001b[34m[13]#011train-logloss:0.10407#011validation-logloss:0.17494\u001b[0m\n",
      "\u001b[34m[14]#011train-logloss:0.10150#011validation-logloss:0.17282\u001b[0m\n",
      "\u001b[34m[15]#011train-logloss:0.09629#011validation-logloss:0.17009\u001b[0m\n",
      "\u001b[34m[16]#011train-logloss:0.09397#011validation-logloss:0.16925\u001b[0m\n",
      "\u001b[34m[17]#011train-logloss:0.08973#011validation-logloss:0.16718\u001b[0m\n",
      "\u001b[34m[18]#011train-logloss:0.08790#011validation-logloss:0.16755\u001b[0m\n",
      "\u001b[34m[19]#011train-logloss:0.08678#011validation-logloss:0.16588\u001b[0m\n",
      "\n",
      "2022-12-13 21:00:35 Completed - Training job completed\n",
      "Training seconds: 37\n",
      "Billable seconds: 37\n"
     ]
    }
   ],
   "source": [
    "jobname = 'xgboost-model-deploy-2'\n",
    "estimator.fit(\n",
    "    inputs=data_channels,\n",
    "    job_name=jobname, \n",
    ")"
   ]
  },
  {
   "cell_type": "markdown",
   "id": "e61730c6-e627-4292-83ed-6787fb142afb",
   "metadata": {},
   "source": [
    "## Inferencia\n",
    "- Después de crear y entrenar los modelos, se pueden obtener predicciones de una de las dos formas siguientes:\n",
    "    - Obtener predicciones para un conjunto de datos completo, con sagemaker Batch Trasform.\n",
    "    - Configurar un punto de enlace persistente para obtener predicciones de sus modelos, serverless o con máquina asociada."
   ]
  },
  {
   "cell_type": "markdown",
   "id": "f101050b-7020-4302-b638-663a41906805",
   "metadata": {
    "tags": []
   },
   "source": [
    "### Batch Transform\n",
    "\n",
    "\n",
    "<center>\n",
    "<img src=\"./imgs/batch trasform.png\"  alt=\"drawing\" width=\"800\"/>\n",
    "</center>\n",
    "\n",
    "- Necesitamos generar un csv solo con los datos de test sin la etiqueta.\n"
   ]
  },
  {
   "cell_type": "code",
   "execution_count": 55,
   "id": "1789dd72-b040-4b58-8670-5bd09b9b0d49",
   "metadata": {
    "tags": []
   },
   "outputs": [],
   "source": [
    "df_test.iloc[:, 1:].to_csv('test_no_label.csv', index=False, header=False)"
   ]
  },
  {
   "cell_type": "code",
   "execution_count": 58,
   "id": "e17d561e-4e76-4521-ae73-9a405eb4af34",
   "metadata": {
    "tags": []
   },
   "outputs": [
    {
     "data": {
      "text/plain": [
       "'s3://sagemaker-eu-west-1-467432373215/module_5/part_1/data/test_no_label.csv'"
      ]
     },
     "execution_count": 58,
     "metadata": {},
     "output_type": "execute_result"
    }
   ],
   "source": [
    "test_data_s3 = sess.upload_data(path='test_no_label.csv', bucket=bucket, key_prefix=f'{prefix}/data')\n",
    "test_data_s3"
   ]
  },
  {
   "cell_type": "code",
   "execution_count": 59,
   "id": "6842151f-00a6-45f7-870e-fbb6d4f51154",
   "metadata": {
    "collapsed": true,
    "jupyter": {
     "outputs_hidden": true
    },
    "tags": []
   },
   "outputs": [
    {
     "name": "stdout",
     "output_type": "stream",
     "text": [
      "..........................\u001b[34m[2022-12-13:21:09:09:INFO] No GPUs detected (normal if no gpus installed)\u001b[0m\n",
      "\u001b[34m[2022-12-13:21:09:09:INFO] No GPUs detected (normal if no gpus installed)\u001b[0m\n",
      "\u001b[34m[2022-12-13:21:09:09:INFO] nginx config: \u001b[0m\n",
      "\u001b[34mworker_processes auto;\u001b[0m\n",
      "\u001b[34mdaemon off;\u001b[0m\n",
      "\u001b[34mpid /tmp/nginx.pid;\u001b[0m\n",
      "\u001b[34merror_log  /dev/stderr;\u001b[0m\n",
      "\u001b[34mworker_rlimit_nofile 4096;\u001b[0m\n",
      "\u001b[34mevents {\n",
      "  worker_connections 2048;\u001b[0m\n",
      "\u001b[34m}\u001b[0m\n",
      "\u001b[34mhttp {\n",
      "  include /etc/nginx/mime.types;\n",
      "  default_type application/octet-stream;\n",
      "  access_log /dev/stdout combined;\n",
      "  upstream gunicorn {\n",
      "    server unix:/tmp/gunicorn.sock;\n",
      "  }\n",
      "  server {\n",
      "    listen 8080 deferred;\n",
      "    client_max_body_size 0;\n",
      "    keepalive_timeout 3;\n",
      "    location ~ ^/(ping|invocations|execution-parameters) {\n",
      "      proxy_set_header X-Forwarded-For $proxy_add_x_forwarded_for;\n",
      "      proxy_set_header Host $http_host;\n",
      "      proxy_redirect off;\n",
      "      proxy_read_timeout 60s;\n",
      "      proxy_pass http://gunicorn;\n",
      "    }\n",
      "    location / {\n",
      "      return 404 \"{}\";\n",
      "    }\n",
      "  }\u001b[0m\n",
      "\u001b[34m}\u001b[0m\n",
      "\u001b[34m[2022-12-13 21:09:09 +0000] [20] [INFO] Starting gunicorn 19.10.0\u001b[0m\n",
      "\u001b[34m[2022-12-13 21:09:09 +0000] [20] [INFO] Listening at: unix:/tmp/gunicorn.sock (20)\u001b[0m\n",
      "\u001b[34m[2022-12-13 21:09:09 +0000] [20] [INFO] Using worker: gevent\u001b[0m\n",
      "\u001b[34m[2022-12-13 21:09:09 +0000] [27] [INFO] Booting worker with pid: 27\u001b[0m\n",
      "\u001b[34m[2022-12-13 21:09:09 +0000] [28] [INFO] Booting worker with pid: 28\u001b[0m\n",
      "\u001b[34m[2022-12-13 21:09:09 +0000] [29] [INFO] Booting worker with pid: 29\u001b[0m\n",
      "\u001b[34m[2022-12-13 21:09:09 +0000] [30] [INFO] Booting worker with pid: 30\u001b[0m\n",
      "\u001b[34m[2022-12-13:21:09:10:INFO] No GPUs detected (normal if no gpus installed)\u001b[0m\n",
      "\u001b[34m[2022-12-13:21:09:10:INFO] Loading the model from /opt/ml/model/xgboost-model\u001b[0m\n",
      "\u001b[34m[2022-12-13:21:09:10:INFO] Model objective : binary:logistic\u001b[0m\n",
      "\u001b[34m[2022-12-13:21:09:10:INFO] No GPUs detected (normal if no gpus installed)\u001b[0m\n",
      "\u001b[34m[2022-12-13:21:09:10:INFO] Loading the model from /opt/ml/model/xgboost-model\u001b[0m\n",
      "\u001b[34m[2022-12-13:21:09:10:INFO] Model objective : binary:logistic\u001b[0m\n",
      "\u001b[34m[2022-12-13:21:09:11:INFO] No GPUs detected (normal if no gpus installed)\u001b[0m\n",
      "\u001b[34m[2022-12-13:21:09:11:INFO] Loading the model from /opt/ml/model/xgboost-model\u001b[0m\n",
      "\u001b[34m[2022-12-13:21:09:11:INFO] Model objective : binary:logistic\u001b[0m\n",
      "\u001b[34m[2022-12-13:21:09:11:INFO] No GPUs detected (normal if no gpus installed)\u001b[0m\n",
      "\u001b[34m[2022-12-13:21:09:11:INFO] Loading the model from /opt/ml/model/xgboost-model\u001b[0m\n",
      "\u001b[34m[2022-12-13:21:09:11:INFO] Model objective : binary:logistic\u001b[0m\n",
      "\u001b[34m[2022-12-13:21:09:15:INFO] No GPUs detected (normal if no gpus installed)\u001b[0m\n",
      "\u001b[34m169.254.255.130 - - [13/Dec/2022:21:09:15 +0000] \"GET /ping HTTP/1.1\" 200 0 \"-\" \"Go-http-client/1.1\"\u001b[0m\n",
      "\u001b[34m[2022-12-13:21:09:15:INFO] No GPUs detected (normal if no gpus installed)\u001b[0m\n",
      "\u001b[34m169.254.255.130 - - [13/Dec/2022:21:09:15 +0000] \"GET /execution-parameters HTTP/1.1\" 200 84 \"-\" \"Go-http-client/1.1\"\u001b[0m\n",
      "\u001b[34m[2022-12-13:21:09:15:INFO] No GPUs detected (normal if no gpus installed)\u001b[0m\n",
      "\u001b[34m[2022-12-13:21:09:15:INFO] Determined delimiter of CSV input is ','\u001b[0m\n",
      "\u001b[34m169.254.255.130 - - [13/Dec/2022:21:09:15 +0000] \"POST /invocations HTTP/1.1\" 200 9864 \"-\" \"Go-http-client/1.1\"\u001b[0m\n",
      "\n",
      "\u001b[32m2022-12-13T21:09:15.087:[sagemaker logs]: MaxConcurrentTransforms=4, MaxPayloadInMB=2, BatchStrategy=MULTI_RECORD\u001b[0m\n",
      "Waiting for transform job: churn-tf-bt\n"
     ]
    }
   ],
   "source": [
    "jobname = f'churn-tf-bt'\n",
    "\n",
    "s3_output_location = f's3://{bucket}/{prefix}/{jobname}'\n",
    "\n",
    "transformer = estimator.transformer(instance_count=1, \n",
    "                                    instance_type='ml.c5.xlarge',\n",
    "                                    max_payload = 2, # MB\n",
    "                                    accept = 'application/jsonlines',\n",
    "                                    output_path = s3_output_location,\n",
    "                                    assemble_with = 'Line')\n",
    "\n",
    "transformer.transform(test_data_s3, \n",
    "                      content_type='text/csv', \n",
    "                      split_type = 'Line', \n",
    "                      job_name = jobname)\n",
    "\n",
    "print('Waiting for transform job: ' + transformer.latest_transform_job.job_name)"
   ]
  },
  {
   "cell_type": "code",
   "execution_count": 60,
   "id": "148f4007-45c5-4a94-a831-cc97be8804cc",
   "metadata": {
    "tags": []
   },
   "outputs": [],
   "source": [
    "output = transformer.output_path"
   ]
  },
  {
   "cell_type": "code",
   "execution_count": 61,
   "id": "425f1cca-676f-4d6e-bb1d-1fc51f3f44d2",
   "metadata": {
    "tags": []
   },
   "outputs": [
    {
     "data": {
      "text/plain": [
       "'s3://sagemaker-eu-west-1-467432373215/module_5/part_1/churn-tf-bt'"
      ]
     },
     "execution_count": 61,
     "metadata": {},
     "output_type": "execute_result"
    }
   ],
   "source": [
    "output"
   ]
  },
  {
   "cell_type": "code",
   "execution_count": 62,
   "id": "d757e450-fae9-4500-b25b-202288fb42ba",
   "metadata": {
    "tags": []
   },
   "outputs": [
    {
     "name": "stdout",
     "output_type": "stream",
     "text": [
      "download: s3://sagemaker-eu-west-1-467432373215/module_5/part_1/churn-tf-bt/test_no_label.csv.out to data/test_output/test_no_label.csv.out\n",
      "head: cannot open '{output_prefix}/{csv_test_filename}.out' for reading: No such file or directory\n"
     ]
    }
   ],
   "source": [
    "output_prefix = 'data/test_output'\n",
    "!mkdir -p {output_prefix}\n",
    "!aws s3 cp --recursive {output} {output_prefix}"
   ]
  },
  {
   "cell_type": "code",
   "execution_count": 70,
   "id": "fb8280d5-3e7b-4a49-881d-58ea0b0aeab0",
   "metadata": {
    "tags": []
   },
   "outputs": [
    {
     "data": {
      "text/html": [
       "<div>\n",
       "<style scoped>\n",
       "    .dataframe tbody tr th:only-of-type {\n",
       "        vertical-align: middle;\n",
       "    }\n",
       "\n",
       "    .dataframe tbody tr th {\n",
       "        vertical-align: top;\n",
       "    }\n",
       "\n",
       "    .dataframe thead th {\n",
       "        text-align: right;\n",
       "    }\n",
       "</style>\n",
       "<table border=\"1\" class=\"dataframe\">\n",
       "  <thead>\n",
       "    <tr style=\"text-align: right;\">\n",
       "      <th></th>\n",
       "      <th>0</th>\n",
       "    </tr>\n",
       "  </thead>\n",
       "  <tbody>\n",
       "    <tr>\n",
       "      <th>0</th>\n",
       "      <td>0.008796</td>\n",
       "    </tr>\n",
       "    <tr>\n",
       "      <th>1</th>\n",
       "      <td>0.162950</td>\n",
       "    </tr>\n",
       "    <tr>\n",
       "      <th>2</th>\n",
       "      <td>0.398571</td>\n",
       "    </tr>\n",
       "    <tr>\n",
       "      <th>3</th>\n",
       "      <td>0.011076</td>\n",
       "    </tr>\n",
       "    <tr>\n",
       "      <th>4</th>\n",
       "      <td>0.712775</td>\n",
       "    </tr>\n",
       "    <tr>\n",
       "      <th>...</th>\n",
       "      <td>...</td>\n",
       "    </tr>\n",
       "    <tr>\n",
       "      <th>495</th>\n",
       "      <td>0.986856</td>\n",
       "    </tr>\n",
       "    <tr>\n",
       "      <th>496</th>\n",
       "      <td>0.160130</td>\n",
       "    </tr>\n",
       "    <tr>\n",
       "      <th>497</th>\n",
       "      <td>0.991364</td>\n",
       "    </tr>\n",
       "    <tr>\n",
       "      <th>498</th>\n",
       "      <td>0.984184</td>\n",
       "    </tr>\n",
       "    <tr>\n",
       "      <th>499</th>\n",
       "      <td>0.334183</td>\n",
       "    </tr>\n",
       "  </tbody>\n",
       "</table>\n",
       "<p>500 rows × 1 columns</p>\n",
       "</div>"
      ],
      "text/plain": [
       "            0\n",
       "0    0.008796\n",
       "1    0.162950\n",
       "2    0.398571\n",
       "3    0.011076\n",
       "4    0.712775\n",
       "..        ...\n",
       "495  0.986856\n",
       "496  0.160130\n",
       "497  0.991364\n",
       "498  0.984184\n",
       "499  0.334183\n",
       "\n",
       "[500 rows x 1 columns]"
      ]
     },
     "execution_count": 70,
     "metadata": {},
     "output_type": "execute_result"
    }
   ],
   "source": [
    "y_pred_prob = pd.read_csv('data/test_output/test_no_label.csv.out', header=None)\n",
    "y_pred_prob"
   ]
  },
  {
   "cell_type": "markdown",
   "id": "27e58222-8f81-4505-839a-19a2cc0f8d02",
   "metadata": {
    "tags": []
   },
   "source": [
    "- Obtengamos algunas métricas del conjunto de test."
   ]
  },
  {
   "cell_type": "code",
   "execution_count": 74,
   "id": "7a867737-f75a-4e27-8c91-1d019b8d7b37",
   "metadata": {
    "tags": []
   },
   "outputs": [],
   "source": [
    "y_pred_prob = y_pred_prob.iloc[:, 0].to_numpy()"
   ]
  },
  {
   "cell_type": "code",
   "execution_count": 75,
   "id": "d7f6fd8a-5f4a-4e9f-a330-4f2ce9398faa",
   "metadata": {
    "tags": []
   },
   "outputs": [],
   "source": [
    "y_test = df_test.loc[:, 'Churn?'].to_numpy()"
   ]
  },
  {
   "cell_type": "code",
   "execution_count": 82,
   "id": "58bcc216-b8a7-4838-82c7-c732e31aed96",
   "metadata": {
    "tags": []
   },
   "outputs": [],
   "source": [
    "y_pred  = np.where(y_pred_prob > 0.5, 1, 0)"
   ]
  },
  {
   "cell_type": "code",
   "execution_count": 83,
   "id": "59cb1eac-7868-4cab-9fea-7ad00097324c",
   "metadata": {
    "tags": []
   },
   "outputs": [
    {
     "name": "stdout",
     "output_type": "stream",
     "text": [
      "(500,) (500,) (500,)\n"
     ]
    }
   ],
   "source": [
    "print(y_test.shape, y_pred.shape, y_pred_prob.shape)"
   ]
  },
  {
   "cell_type": "code",
   "execution_count": 88,
   "id": "3fc2759d-7e17-4867-8b30-525d54817241",
   "metadata": {
    "tags": []
   },
   "outputs": [],
   "source": [
    "from sklearn.metrics import classification_report, confusion_matrix, accuracy_score\n",
    "from sklearn.metrics import roc_curve, auc\n",
    "import matplotlib.pyplot as plt"
   ]
  },
  {
   "cell_type": "code",
   "execution_count": 85,
   "id": "5e6ee8b7-5fcc-4335-a0e7-f5b2062c6f7f",
   "metadata": {
    "tags": []
   },
   "outputs": [
    {
     "name": "stdout",
     "output_type": "stream",
     "text": [
      "              precision    recall  f1-score   support\n",
      "\n",
      "           0       0.94      0.94      0.94       262\n",
      "           1       0.93      0.93      0.93       238\n",
      "\n",
      "    accuracy                           0.94       500\n",
      "   macro avg       0.94      0.94      0.94       500\n",
      "weighted avg       0.94      0.94      0.94       500\n",
      "\n"
     ]
    }
   ],
   "source": [
    "print(classification_report(y_test,y_pred))"
   ]
  },
  {
   "cell_type": "code",
   "execution_count": 90,
   "id": "1a91a127-79cf-49ef-9f59-61b0f388a8e0",
   "metadata": {
    "tags": []
   },
   "outputs": [
    {
     "data": {
      "image/png": "[encoded data removed]",
      "text/plain": [
       "<Figure size 640x480 with 1 Axes>"
      ]
     },
     "metadata": {},
     "output_type": "display_data"
    }
   ],
   "source": [
    "test_fpr, test_tpr, te_thresholds = roc_curve(y_test, y_pred_prob)\n",
    "auc_value = auc(test_fpr, test_tpr)\n",
    "\n",
    "plt.grid()\n",
    "plt.plot(test_fpr, test_tpr, label=f\" AUC TEST = {auc_value}\")\n",
    "plt.plot([0,1],[0,1],'g--')\n",
    "plt.legend()\n",
    "plt.xlabel(\"False Positive Rate\")\n",
    "plt.ylabel(\"True Positive Rate\")\n",
    "plt.title(\"AUC(ROC curve)\")\n",
    "plt.grid(color='black', linestyle='-', linewidth=0.5)\n",
    "plt.show()\n"
   ]
  },
  {
   "cell_type": "markdown",
   "id": "888deeb3-c978-4956-9c56-9c1c7041b7b4",
   "metadata": {
    "tags": []
   },
   "source": [
    "### Despliege de endpoints en tiempo real\n",
    "\n",
    "<center>\n",
    "<img src=\"./imgs/endpoint_real.png\"  alt=\"drawing\" width=\"800\"/>\n",
    "</center>\n",
    "\n",
    "### Despliege de un endpoint con máquina asociada"
   ]
  },
  {
   "cell_type": "code",
   "execution_count": 111,
   "id": "bce37463-9a48-4425-a63b-90a603cd9658",
   "metadata": {
    "tags": []
   },
   "outputs": [
    {
     "name": "stdout",
     "output_type": "stream",
     "text": [
      "----!"
     ]
    }
   ],
   "source": [
    "predictor = estimator.deploy(\n",
    "    endpoint_name = 'churn-xgboost',              \n",
    "    initial_instance_count=1, \n",
    "    instance_type='ml.c5.xlarge',\n",
    "    serializer=sagemaker.serializers.CSVSerializer()\n",
    ")"
   ]
  },
  {
   "cell_type": "code",
   "execution_count": 112,
   "id": "4dddec05-5797-4ba2-8597-bbae67fd3a56",
   "metadata": {
    "tags": []
   },
   "outputs": [
    {
     "data": {
      "text/plain": [
       "array([[ 61.        ,   0.        ,   0.        ,   0.        ,\n",
       "          8.88055545,   2.        ,   2.86331913,   8.47136902,\n",
       "          3.        ,   8.12622886,   5.81757367, 200.        ,\n",
       "          4.35226104,   3.33799017,   7.        ,   9.64054917,\n",
       "          3.        ],\n",
       "       [ 56.        ,   1.        ,   0.        ,   0.        ,\n",
       "          8.16794993,   1.        ,   9.82144618,   5.75912238,\n",
       "          9.        ,   3.86261278,   7.63103621, 200.        ,\n",
       "          3.81983956,   5.34232159,   4.        ,   8.58216388,\n",
       "          2.        ],\n",
       "       [170.        ,   1.        ,   1.        , 100.        ,\n",
       "         11.83583514,   3.        ,   9.53064195,   6.96701902,\n",
       "          4.        ,   7.01659282,   3.31747015, 200.        ,\n",
       "          7.57495071,   5.07060976,   7.        ,   3.012213  ,\n",
       "          5.        ],\n",
       "       [ 47.        ,   0.        ,   1.        , 300.        ,\n",
       "         10.66066954,   4.        ,   5.79380199,   7.87464526,\n",
       "          3.        ,   6.35007559,   5.14803485, 200.        ,\n",
       "          7.1809379 ,   6.85936318,   9.        ,   3.09508894,\n",
       "          3.        ],\n",
       "       [ 65.        ,   0.        ,   1.        , 200.        ,\n",
       "          6.1716086 ,   2.        ,   8.82149151,   6.8161451 ,\n",
       "          6.        ,   4.64162226,   4.56888991, 250.        ,\n",
       "          3.98219014,   4.58635373,   3.        ,   6.76686174,\n",
       "          5.        ]])"
      ]
     },
     "execution_count": 112,
     "metadata": {},
     "output_type": "execute_result"
    }
   ],
   "source": [
    "data_test = df_test.iloc[-5:, 1:].values\n",
    "data_test"
   ]
  },
  {
   "cell_type": "code",
   "execution_count": 113,
   "id": "b5316213-5dcf-4443-81a4-9bd1cc40c945",
   "metadata": {
    "tags": []
   },
   "outputs": [
    {
     "name": "stdout",
     "output_type": "stream",
     "text": [
      "b'0.986855685710907\\n0.1601303666830063\\n0.9913638830184937\\n0.984183669090271\\n0.3341834247112274\\n'\n"
     ]
    }
   ],
   "source": [
    "prediction = predictor.predict(data_test)\n",
    "print(prediction)"
   ]
  },
  {
   "cell_type": "code",
   "execution_count": 118,
   "id": "fe098b22-b535-470c-aae1-481cebdee62f",
   "metadata": {
    "tags": []
   },
   "outputs": [
    {
     "data": {
      "text/html": [
       "<div>\n",
       "<style scoped>\n",
       "    .dataframe tbody tr th:only-of-type {\n",
       "        vertical-align: middle;\n",
       "    }\n",
       "\n",
       "    .dataframe tbody tr th {\n",
       "        vertical-align: top;\n",
       "    }\n",
       "\n",
       "    .dataframe thead th {\n",
       "        text-align: right;\n",
       "    }\n",
       "</style>\n",
       "<table border=\"1\" class=\"dataframe\">\n",
       "  <thead>\n",
       "    <tr style=\"text-align: right;\">\n",
       "      <th></th>\n",
       "      <th>0</th>\n",
       "    </tr>\n",
       "  </thead>\n",
       "  <tbody>\n",
       "    <tr>\n",
       "      <th>0</th>\n",
       "      <td>0.986856</td>\n",
       "    </tr>\n",
       "    <tr>\n",
       "      <th>1</th>\n",
       "      <td>0.160130</td>\n",
       "    </tr>\n",
       "    <tr>\n",
       "      <th>2</th>\n",
       "      <td>0.991364</td>\n",
       "    </tr>\n",
       "    <tr>\n",
       "      <th>3</th>\n",
       "      <td>0.984184</td>\n",
       "    </tr>\n",
       "    <tr>\n",
       "      <th>4</th>\n",
       "      <td>0.334183</td>\n",
       "    </tr>\n",
       "  </tbody>\n",
       "</table>\n",
       "</div>"
      ],
      "text/plain": [
       "          0\n",
       "0  0.986856\n",
       "1  0.160130\n",
       "2  0.991364\n",
       "3  0.984184\n",
       "4  0.334183"
      ]
     },
     "execution_count": 118,
     "metadata": {},
     "output_type": "execute_result"
    }
   ],
   "source": [
    "from io import StringIO\n",
    "\n",
    "df=pd.read_csv(StringIO(str(prediction,'utf-8')) , header=None)\n",
    "df"
   ]
  },
  {
   "cell_type": "code",
   "execution_count": 120,
   "id": "6917cfe2-6a49-4e1f-960a-58855464c761",
   "metadata": {
    "tags": []
   },
   "outputs": [
    {
     "data": {
      "text/plain": [
       "CustomerID\n",
       "3928    1\n",
       "544     0\n",
       "367     1\n",
       "1612    1\n",
       "3550    1\n",
       "Name: Churn?, dtype: int64"
      ]
     },
     "execution_count": 120,
     "metadata": {},
     "output_type": "execute_result"
    }
   ],
   "source": [
    "df_test.iloc[-5:, 0]"
   ]
  },
  {
   "cell_type": "code",
   "execution_count": 127,
   "id": "d6819139-4297-49f8-8183-f5b8118fbb52",
   "metadata": {
    "collapsed": true,
    "jupyter": {
     "outputs_hidden": true
    },
    "tags": []
   },
   "outputs": [
    {
     "ename": "ClientError",
     "evalue": "An error occurred (ValidationException) when calling the DeleteEndpointConfig operation: Could not find endpoint configuration \"arn:aws:sagemaker:eu-west-1:467432373215:endpoint-config/churn-xgboost\".",
     "output_type": "error",
     "traceback": [
      "\u001b[0;31m---------------------------------------------------------------------------\u001b[0m",
      "\u001b[0;31mClientError\u001b[0m                               Traceback (most recent call last)",
      "\u001b[0;32m<ipython-input-127-9dbbcf45efe1>\u001b[0m in \u001b[0;36m<module>\u001b[0;34m\u001b[0m\n\u001b[0;32m----> 1\u001b[0;31m \u001b[0mpredictor\u001b[0m\u001b[0;34m.\u001b[0m\u001b[0mdelete_endpoint\u001b[0m\u001b[0;34m(\u001b[0m\u001b[0;34m)\u001b[0m\u001b[0;34m\u001b[0m\u001b[0;34m\u001b[0m\u001b[0m\n\u001b[0m",
      "\u001b[0;32m/opt/conda/lib/python3.7/site-packages/sagemaker/predictor.py\u001b[0m in \u001b[0;36mdelete_endpoint\u001b[0;34m(self, delete_endpoint_config)\u001b[0m\n\u001b[1;32m    327\u001b[0m         \"\"\"\n\u001b[1;32m    328\u001b[0m         \u001b[0;32mif\u001b[0m \u001b[0mdelete_endpoint_config\u001b[0m\u001b[0;34m:\u001b[0m\u001b[0;34m\u001b[0m\u001b[0;34m\u001b[0m\u001b[0m\n\u001b[0;32m--> 329\u001b[0;31m             \u001b[0mself\u001b[0m\u001b[0;34m.\u001b[0m\u001b[0m_delete_endpoint_config\u001b[0m\u001b[0;34m(\u001b[0m\u001b[0;34m)\u001b[0m\u001b[0;34m\u001b[0m\u001b[0;34m\u001b[0m\u001b[0m\n\u001b[0m\u001b[1;32m    330\u001b[0m \u001b[0;34m\u001b[0m\u001b[0m\n\u001b[1;32m    331\u001b[0m         \u001b[0mself\u001b[0m\u001b[0;34m.\u001b[0m\u001b[0msagemaker_session\u001b[0m\u001b[0;34m.\u001b[0m\u001b[0mdelete_endpoint\u001b[0m\u001b[0;34m(\u001b[0m\u001b[0mself\u001b[0m\u001b[0;34m.\u001b[0m\u001b[0mendpoint_name\u001b[0m\u001b[0;34m)\u001b[0m\u001b[0;34m\u001b[0m\u001b[0;34m\u001b[0m\u001b[0m\n",
      "\u001b[0;32m/opt/conda/lib/python3.7/site-packages/sagemaker/predictor.py\u001b[0m in \u001b[0;36m_delete_endpoint_config\u001b[0;34m(self)\u001b[0m\n\u001b[1;32m    312\u001b[0m         \u001b[0;34m\"\"\"Delete the Amazon SageMaker endpoint configuration\"\"\"\u001b[0m\u001b[0;34m\u001b[0m\u001b[0;34m\u001b[0m\u001b[0m\n\u001b[1;32m    313\u001b[0m         \u001b[0mcurrent_endpoint_config_name\u001b[0m \u001b[0;34m=\u001b[0m \u001b[0mself\u001b[0m\u001b[0;34m.\u001b[0m\u001b[0m_get_endpoint_config_name\u001b[0m\u001b[0;34m(\u001b[0m\u001b[0;34m)\u001b[0m\u001b[0;34m\u001b[0m\u001b[0;34m\u001b[0m\u001b[0m\n\u001b[0;32m--> 314\u001b[0;31m         \u001b[0mself\u001b[0m\u001b[0;34m.\u001b[0m\u001b[0msagemaker_session\u001b[0m\u001b[0;34m.\u001b[0m\u001b[0mdelete_endpoint_config\u001b[0m\u001b[0;34m(\u001b[0m\u001b[0mcurrent_endpoint_config_name\u001b[0m\u001b[0;34m)\u001b[0m\u001b[0;34m\u001b[0m\u001b[0;34m\u001b[0m\u001b[0m\n\u001b[0m\u001b[1;32m    315\u001b[0m \u001b[0;34m\u001b[0m\u001b[0m\n\u001b[1;32m    316\u001b[0m     \u001b[0;32mdef\u001b[0m \u001b[0mdelete_endpoint\u001b[0m\u001b[0;34m(\u001b[0m\u001b[0mself\u001b[0m\u001b[0;34m,\u001b[0m \u001b[0mdelete_endpoint_config\u001b[0m\u001b[0;34m=\u001b[0m\u001b[0;32mTrue\u001b[0m\u001b[0;34m)\u001b[0m\u001b[0;34m:\u001b[0m\u001b[0;34m\u001b[0m\u001b[0;34m\u001b[0m\u001b[0m\n",
      "\u001b[0;32m/opt/conda/lib/python3.7/site-packages/sagemaker/session.py\u001b[0m in \u001b[0;36mdelete_endpoint_config\u001b[0;34m(self, endpoint_config_name)\u001b[0m\n\u001b[1;32m   3379\u001b[0m         \"\"\"\n\u001b[1;32m   3380\u001b[0m         \u001b[0mLOGGER\u001b[0m\u001b[0;34m.\u001b[0m\u001b[0minfo\u001b[0m\u001b[0;34m(\u001b[0m\u001b[0;34m\"Deleting endpoint configuration with name: %s\"\u001b[0m\u001b[0;34m,\u001b[0m \u001b[0mendpoint_config_name\u001b[0m\u001b[0;34m)\u001b[0m\u001b[0;34m\u001b[0m\u001b[0;34m\u001b[0m\u001b[0m\n\u001b[0;32m-> 3381\u001b[0;31m         \u001b[0mself\u001b[0m\u001b[0;34m.\u001b[0m\u001b[0msagemaker_client\u001b[0m\u001b[0;34m.\u001b[0m\u001b[0mdelete_endpoint_config\u001b[0m\u001b[0;34m(\u001b[0m\u001b[0mEndpointConfigName\u001b[0m\u001b[0;34m=\u001b[0m\u001b[0mendpoint_config_name\u001b[0m\u001b[0;34m)\u001b[0m\u001b[0;34m\u001b[0m\u001b[0;34m\u001b[0m\u001b[0m\n\u001b[0m\u001b[1;32m   3382\u001b[0m \u001b[0;34m\u001b[0m\u001b[0m\n\u001b[1;32m   3383\u001b[0m     \u001b[0;32mdef\u001b[0m \u001b[0mdelete_model\u001b[0m\u001b[0;34m(\u001b[0m\u001b[0mself\u001b[0m\u001b[0;34m,\u001b[0m \u001b[0mmodel_name\u001b[0m\u001b[0;34m)\u001b[0m\u001b[0;34m:\u001b[0m\u001b[0;34m\u001b[0m\u001b[0;34m\u001b[0m\u001b[0m\n",
      "\u001b[0;32m/opt/conda/lib/python3.7/site-packages/botocore/client.py\u001b[0m in \u001b[0;36m_api_call\u001b[0;34m(self, *args, **kwargs)\u001b[0m\n\u001b[1;32m    528\u001b[0m                 )\n\u001b[1;32m    529\u001b[0m             \u001b[0;31m# The \"self\" in this scope is referring to the BaseClient.\u001b[0m\u001b[0;34m\u001b[0m\u001b[0;34m\u001b[0m\u001b[0;34m\u001b[0m\u001b[0m\n\u001b[0;32m--> 530\u001b[0;31m             \u001b[0;32mreturn\u001b[0m \u001b[0mself\u001b[0m\u001b[0;34m.\u001b[0m\u001b[0m_make_api_call\u001b[0m\u001b[0;34m(\u001b[0m\u001b[0moperation_name\u001b[0m\u001b[0;34m,\u001b[0m \u001b[0mkwargs\u001b[0m\u001b[0;34m)\u001b[0m\u001b[0;34m\u001b[0m\u001b[0;34m\u001b[0m\u001b[0m\n\u001b[0m\u001b[1;32m    531\u001b[0m \u001b[0;34m\u001b[0m\u001b[0m\n\u001b[1;32m    532\u001b[0m         \u001b[0m_api_call\u001b[0m\u001b[0;34m.\u001b[0m\u001b[0m__name__\u001b[0m \u001b[0;34m=\u001b[0m \u001b[0mstr\u001b[0m\u001b[0;34m(\u001b[0m\u001b[0mpy_operation_name\u001b[0m\u001b[0;34m)\u001b[0m\u001b[0;34m\u001b[0m\u001b[0;34m\u001b[0m\u001b[0m\n",
      "\u001b[0;32m/opt/conda/lib/python3.7/site-packages/botocore/client.py\u001b[0m in \u001b[0;36m_make_api_call\u001b[0;34m(self, operation_name, api_params)\u001b[0m\n\u001b[1;32m    958\u001b[0m             \u001b[0merror_code\u001b[0m \u001b[0;34m=\u001b[0m \u001b[0mparsed_response\u001b[0m\u001b[0;34m.\u001b[0m\u001b[0mget\u001b[0m\u001b[0;34m(\u001b[0m\u001b[0;34m\"Error\"\u001b[0m\u001b[0;34m,\u001b[0m \u001b[0;34m{\u001b[0m\u001b[0;34m}\u001b[0m\u001b[0;34m)\u001b[0m\u001b[0;34m.\u001b[0m\u001b[0mget\u001b[0m\u001b[0;34m(\u001b[0m\u001b[0;34m\"Code\"\u001b[0m\u001b[0;34m)\u001b[0m\u001b[0;34m\u001b[0m\u001b[0;34m\u001b[0m\u001b[0m\n\u001b[1;32m    959\u001b[0m             \u001b[0merror_class\u001b[0m \u001b[0;34m=\u001b[0m \u001b[0mself\u001b[0m\u001b[0;34m.\u001b[0m\u001b[0mexceptions\u001b[0m\u001b[0;34m.\u001b[0m\u001b[0mfrom_code\u001b[0m\u001b[0;34m(\u001b[0m\u001b[0merror_code\u001b[0m\u001b[0;34m)\u001b[0m\u001b[0;34m\u001b[0m\u001b[0;34m\u001b[0m\u001b[0m\n\u001b[0;32m--> 960\u001b[0;31m             \u001b[0;32mraise\u001b[0m \u001b[0merror_class\u001b[0m\u001b[0;34m(\u001b[0m\u001b[0mparsed_response\u001b[0m\u001b[0;34m,\u001b[0m \u001b[0moperation_name\u001b[0m\u001b[0;34m)\u001b[0m\u001b[0;34m\u001b[0m\u001b[0;34m\u001b[0m\u001b[0m\n\u001b[0m\u001b[1;32m    961\u001b[0m         \u001b[0;32melse\u001b[0m\u001b[0;34m:\u001b[0m\u001b[0;34m\u001b[0m\u001b[0;34m\u001b[0m\u001b[0m\n\u001b[1;32m    962\u001b[0m             \u001b[0;32mreturn\u001b[0m \u001b[0mparsed_response\u001b[0m\u001b[0;34m\u001b[0m\u001b[0;34m\u001b[0m\u001b[0m\n",
      "\u001b[0;31mClientError\u001b[0m: An error occurred (ValidationException) when calling the DeleteEndpointConfig operation: Could not find endpoint configuration \"arn:aws:sagemaker:eu-west-1:467432373215:endpoint-config/churn-xgboost\"."
     ]
    }
   ],
   "source": [
    "predictor.delete_endpoint()"
   ]
  },
  {
   "cell_type": "markdown",
   "id": "8df2cb39-e6ec-4ef4-a320-5ee9879c0526",
   "metadata": {
    "tags": []
   },
   "source": [
    "### Despliege de un endpoint serverless\n",
    "- https://docs.aws.amazon.com/sagemaker/latest/dg/serverless-endpoints-create.html"
   ]
  },
  {
   "cell_type": "code",
   "execution_count": 122,
   "id": "76eaf8c6-6385-422c-bc5f-2b18072f0a19",
   "metadata": {
    "tags": []
   },
   "outputs": [],
   "source": [
    "from sagemaker.serverless import ServerlessInferenceConfig"
   ]
  },
  {
   "cell_type": "code",
   "execution_count": 123,
   "id": "8a55ef3d-e8bb-4901-80ef-53482fb45eaf",
   "metadata": {
    "tags": []
   },
   "outputs": [],
   "source": [
    "serverless_config = ServerlessInferenceConfig(\n",
    "    memory_size_in_mb=4096,\n",
    "    max_concurrency=3,\n",
    ")"
   ]
  },
  {
   "cell_type": "code",
   "execution_count": 124,
   "id": "c48d378f-f112-49d7-b2d6-bb0b73cb4a17",
   "metadata": {
    "tags": []
   },
   "outputs": [
    {
     "name": "stdout",
     "output_type": "stream",
     "text": [
      "------!"
     ]
    }
   ],
   "source": [
    "predictor_serverless = estimator.deploy(\n",
    "    endpoint_name='churn-xgboost-severless',\n",
    "    serverless_inference_config=serverless_config\n",
    ")"
   ]
  },
  {
   "cell_type": "code",
   "execution_count": null,
   "id": "a5d1d417-3559-4505-b97e-769894fb07a0",
   "metadata": {},
   "outputs": [],
   "source": [
    "prediction = predictor.predict(data_test)\n",
    "print(prediction)"
   ]
  },
  {
   "cell_type": "code",
   "execution_count": null,
   "id": "a8558dd9-85fe-47b5-aeee-fe5366ee963d",
   "metadata": {},
   "outputs": [],
   "source": [
    "predictor.delete_endpoint()"
   ]
  }
 ],
 "metadata": {
  "instance_type": "ml.t3.medium",
  "kernelspec": {
   "display_name": "Python 3 (Data Science)",
   "language": "python",
   "name": "python3__SAGEMAKER_INTERNAL__arn:aws:sagemaker:eu-west-1:470317259841:image/datascience-1.0"
  },
  "language_info": {
   "codemirror_mode": {
    "name": "ipython",
    "version": 3
   },
   "file_extension": ".py",
   "mimetype": "text/x-python",
   "name": "python",
   "nbconvert_exporter": "python",
   "pygments_lexer": "ipython3",
   "version": "3.7.10"
  }
 },
 "nbformat": 4,
 "nbformat_minor": 5
}
