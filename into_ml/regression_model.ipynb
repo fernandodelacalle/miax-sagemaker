{
 "cells": [
  {
   "cell_type": "code",
   "execution_count": null,
   "id": "1c6176b1-666c-428b-8ee2-866b3ccf2c8e",
   "metadata": {},
   "outputs": [],
   "source": [
    "import pandas as pd\n",
    "from sklearn import datasets\n",
    "\n",
    "import tensorflow as tf\n",
    "import numpy as np\n",
    "import matplotlib.pyplot as plt\n",
    "import os\n",
    "import datetime"
   ]
  },
  {
   "cell_type": "code",
   "execution_count": null,
   "id": "7bbb6b30-16ad-42a8-b96f-eb4305824b2c",
   "metadata": {
    "tags": []
   },
   "outputs": [],
   "source": [
    "data = datasets.load_boston()\n",
    "raw_dataset = pd.DataFrame(data['data'], columns=data['feature_names'])\n",
    "raw_dataset.loc[:, 'MEDV'] = data['target']\n",
    "dataset = raw_dataset.copy()"
   ]
  },
  {
   "cell_type": "code",
   "execution_count": null,
   "id": "3884a9f2-3305-4a3d-a5a3-6663d35bb334",
   "metadata": {},
   "outputs": [],
   "source": [
    "dataset.tail()"
   ]
  },
  {
   "cell_type": "code",
   "execution_count": null,
   "id": "164ba7a9-c52d-4b78-b2d3-9db391f3dd3f",
   "metadata": {},
   "outputs": [],
   "source": [
    "dataset.shape"
   ]
  },
  {
   "cell_type": "markdown",
   "id": "eea2baac-4bb3-41c5-86b1-a340a3a2f91a",
   "metadata": {},
   "source": [
    "### Dataset description\n",
    "\n",
    "Number of Instances: 506 \n",
    "\n",
    "Number of Attributes: 13 numeric/categorical predictive. Median Value (attribute 14) is usually the target.\n",
    "\n",
    "Attribute Information:\n",
    "\n",
    "|Feature|Description|\n",
    "|---|---| \n",
    "|CRIM |     per capita crime rate by town| \n",
    "|          ZN  |      proportion of residential land zoned for lots over 25,000 sq.ft.| \n",
    "|          INDUS |    proportion of non-retail business acres per town| \n",
    "|          CHAS  |    Charles River dummy variable (= 1 if tract bounds river; 0 otherwise)| \n",
    "|           NOX  |     nitric oxides concentration (parts per 10 million)| \n",
    "|           RM  |      average number of rooms per dwelling| \n",
    "|           AGE  |     proportion of owner-occupied units built prior to 1940| \n",
    "|           DIS  |     weighted distances to five Boston employment centres| \n",
    "|           RAD |      index of accessibility to radial highways| \n",
    "|          TAX  |     full-value property-tax rate per 10000 USD | \n",
    "|          PTRATIO|   pupil-teacher ratio by town| \n",
    "|           B    |     1000(Bk - 0.63)^2 where Bk is the proportion of black people by town| \n",
    "|           LSTAT |    % lower status of the population| \n",
    "|           MEDV  |    Median value of owner-occupied homes in $1000's| \n",
    "\n",
    "\n"
   ]
  },
  {
   "cell_type": "markdown",
   "id": "9c41a71a-d2f0-40f1-b276-ab7c96f9a5d7",
   "metadata": {},
   "source": [
    "## División train y test"
   ]
  },
  {
   "cell_type": "code",
   "execution_count": null,
   "id": "6a84bafa-bffa-43e7-913a-57c5017bf8ef",
   "metadata": {},
   "outputs": [],
   "source": [
    "train_dataset = dataset.sample(frac=0.8, random_state=0)\n",
    "test_dataset = dataset.drop(train_dataset.index)"
   ]
  },
  {
   "cell_type": "code",
   "execution_count": null,
   "id": "5c4a88ae-14a8-4531-aede-a8ef3064011c",
   "metadata": {},
   "outputs": [],
   "source": [
    "train_dataset.shape"
   ]
  },
  {
   "cell_type": "code",
   "execution_count": null,
   "id": "c8d14b88-924a-4fb6-9b67-ca458ffa564f",
   "metadata": {},
   "outputs": [],
   "source": [
    "test_dataset.shape"
   ]
  },
  {
   "cell_type": "markdown",
   "id": "e3a710c0-e138-455d-b18b-3a01b5d825bf",
   "metadata": {},
   "source": [
    "# Data exploration"
   ]
  },
  {
   "cell_type": "code",
   "execution_count": null,
   "id": "3710e02b-2f6f-4f68-a932-e5487ba97e9b",
   "metadata": {},
   "outputs": [],
   "source": [
    "import seaborn as sns"
   ]
  },
  {
   "cell_type": "code",
   "execution_count": null,
   "id": "ca23f09b-5746-427c-aca6-0bf17da0276b",
   "metadata": {
    "tags": []
   },
   "outputs": [],
   "source": [
    "sns.pairplot(train_dataset, diag_kind='kde')"
   ]
  },
  {
   "cell_type": "code",
   "execution_count": null,
   "id": "b5cadae6-2160-4a31-9efb-0e6e84489dd8",
   "metadata": {},
   "outputs": [],
   "source": [
    "train_dataset.describe().transpose()"
   ]
  },
  {
   "cell_type": "code",
   "execution_count": null,
   "id": "5c89c278-ee5a-44e7-9f14-1d570db89fb3",
   "metadata": {},
   "outputs": [],
   "source": [
    "fig, ax = plt.subplots(figsize=(12,10))\n",
    "sns.heatmap(train_dataset.corr(), annot=True, ax=ax) "
   ]
  },
  {
   "cell_type": "markdown",
   "id": "9719e760-f2af-46d0-acdb-9aa401d34d6e",
   "metadata": {},
   "source": [
    "# Data preprocessing"
   ]
  },
  {
   "cell_type": "markdown",
   "id": "659cc3fd-4f8d-4f56-ab69-4b474de057b5",
   "metadata": {},
   "source": [
    "- Separar la etiqueta o valor a predecir de las features."
   ]
  },
  {
   "cell_type": "code",
   "execution_count": null,
   "id": "1a4f3155-93b8-42fa-934b-00f5cc228e33",
   "metadata": {},
   "outputs": [],
   "source": [
    "train_features = train_dataset.copy()\n",
    "test_features = test_dataset.copy()\n",
    "\n",
    "train_labels = train_features.pop('MEDV')\n",
    "test_labels = test_features.pop('MEDV')"
   ]
  },
  {
   "cell_type": "markdown",
   "id": "4fb53002-29c8-484e-b080-999a875b9dd3",
   "metadata": {},
   "source": [
    "Normalization"
   ]
  },
  {
   "cell_type": "code",
   "execution_count": null,
   "id": "001cbdda-2e4a-4b60-9ecd-0bcd53b9d811",
   "metadata": {},
   "outputs": [],
   "source": [
    "train_dataset.describe().transpose()[['mean', 'std']]"
   ]
  },
  {
   "cell_type": "markdown",
   "id": "25e2e13b-46e5-4106-b0b4-76c0bfba83f2",
   "metadata": {},
   "source": [
    "- Es una buena práctica normalizar las features para que esten todas en el mismo rango."
   ]
  },
  {
   "cell_type": "code",
   "execution_count": null,
   "id": "5b39dfe1-7264-44af-983e-5abb0e52c445",
   "metadata": {},
   "outputs": [],
   "source": [
    "train_mean = train_features.mean()\n",
    "train_std = train_features.std()\n",
    "\n",
    "train_features = (train_features - train_mean) / train_std\n",
    "test_features = (test_features - train_mean) / train_std"
   ]
  },
  {
   "cell_type": "code",
   "execution_count": null,
   "id": "d5b7f72b-42cf-4841-ad64-eb51fdaa351d",
   "metadata": {},
   "outputs": [],
   "source": [
    "train_features.describe().transpose()[['mean', 'std']]"
   ]
  },
  {
   "cell_type": "markdown",
   "id": "11662d50-2ffa-42aa-9ee7-fd51d9da0f1f",
   "metadata": {},
   "source": [
    "# Linear regression con una feature"
   ]
  },
  {
   "cell_type": "code",
   "execution_count": null,
   "id": "54a5529c-b0bb-45af-8264-ae328e1a29e1",
   "metadata": {},
   "outputs": [],
   "source": [
    "linear_one_model = tf.keras.Sequential([\n",
    "    tf.keras.layers.Dense(units=1, input_dim=1)\n",
    "])"
   ]
  },
  {
   "cell_type": "code",
   "execution_count": null,
   "id": "f03e0a1a-44c2-4fac-a7f5-8e72f6b75b37",
   "metadata": {},
   "outputs": [],
   "source": [
    "linear_one_model.summary()"
   ]
  },
  {
   "cell_type": "code",
   "execution_count": null,
   "id": "d33b5cbe-d4fc-407a-a4c9-1f4d9d3e1c20",
   "metadata": {},
   "outputs": [],
   "source": [
    "linear_one_model.compile(\n",
    "    optimizer=tf.optimizers.Adam(learning_rate=0.1),\n",
    "    loss='mean_absolute_error')"
   ]
  },
  {
   "cell_type": "code",
   "execution_count": null,
   "id": "87d80713-7a87-4601-8fb2-39cd8f0d7a12",
   "metadata": {
    "tags": []
   },
   "outputs": [],
   "source": [
    "history = linear_one_model.fit(\n",
    "    train_features['LSTAT'], train_labels,\n",
    "    callbacks=[tf.keras.callbacks.TensorBoard(log_dir='tutorial_regresion/linear_one_model', histogram_freq=1)],\n",
    "    epochs=100,\n",
    "    validation_split = 0.2)"
   ]
  },
  {
   "cell_type": "code",
   "execution_count": null,
   "id": "f51376b2-8f68-4219-9928-63c07c8783f0",
   "metadata": {},
   "outputs": [],
   "source": [
    "hist = pd.DataFrame(history.history)\n",
    "hist['epoch'] = history.epoch\n",
    "hist = hist.set_index('epoch')\n",
    "hist.plot(grid=True)"
   ]
  },
  {
   "cell_type": "code",
   "execution_count": null,
   "id": "cca96339-cab6-4665-8719-5de8475f8539",
   "metadata": {},
   "outputs": [],
   "source": [
    "x = tf.linspace(train_features['LSTAT'].min(), train_features['LSTAT'].max(), 100)\n",
    "y = linear_one_model.predict(x)"
   ]
  },
  {
   "cell_type": "code",
   "execution_count": null,
   "id": "f235ce91-e1dc-4919-820c-91300ee2497a",
   "metadata": {},
   "outputs": [],
   "source": [
    "plt.scatter(train_features['LSTAT'], train_labels, label='Data')\n",
    "plt.plot(x, y, color='k', label='Predictions')\n",
    "plt.xlabel('LSTAT')\n",
    "plt.ylabel('MEDV')\n",
    "plt.legend()"
   ]
  },
  {
   "cell_type": "code",
   "execution_count": null,
   "id": "ae428986-33b6-4b1f-abe0-4c3e34e76362",
   "metadata": {},
   "outputs": [],
   "source": [
    "linear_one_model.weights"
   ]
  },
  {
   "cell_type": "code",
   "execution_count": null,
   "id": "f2b3f12f-19cb-4be8-ae1b-61f143be82a7",
   "metadata": {},
   "outputs": [],
   "source": [
    "test_results = pd.DataFrame(columns=['train', 'test'])"
   ]
  },
  {
   "cell_type": "code",
   "execution_count": null,
   "id": "f1944770-d198-40b6-8e00-90575fc83c2c",
   "metadata": {},
   "outputs": [],
   "source": [
    "test_results.loc['linear_one_model','test'] = linear_one_model.evaluate(\n",
    "    test_features['LSTAT'], test_labels, verbose=0\n",
    ")\n",
    "test_results.loc['linear_one_model','train'] = linear_one_model.evaluate(\n",
    "    train_features['LSTAT'], train_labels, verbose=0\n",
    ")"
   ]
  },
  {
   "cell_type": "code",
   "execution_count": null,
   "id": "ced24309-6a38-49c5-8273-7a8ec1cce39f",
   "metadata": {},
   "outputs": [],
   "source": [
    "test_results"
   ]
  },
  {
   "cell_type": "markdown",
   "id": "e7a3d169-d41b-466c-8a9a-0917b1e4f87f",
   "metadata": {},
   "source": [
    "___"
   ]
  },
  {
   "cell_type": "markdown",
   "id": "4265789b-256d-4727-a8ff-2b0e07c45dca",
   "metadata": {},
   "source": [
    "## Lineal model con todas las features"
   ]
  },
  {
   "cell_type": "code",
   "execution_count": null,
   "id": "2cc26db4-cced-4746-900b-1c1196fe5d62",
   "metadata": {},
   "outputs": [],
   "source": [
    "linear_model = tf.keras.Sequential([\n",
    "    tf.keras.layers.Dense(units=1, input_dim=train_features.shape[1])\n",
    "])"
   ]
  },
  {
   "cell_type": "code",
   "execution_count": null,
   "id": "3dfb0428-1a2b-44b4-b756-2026597f9e2f",
   "metadata": {},
   "outputs": [],
   "source": [
    "linear_model.summary()"
   ]
  },
  {
   "cell_type": "code",
   "execution_count": null,
   "id": "3e3825c5-9df4-4442-ae18-376d7d578791",
   "metadata": {},
   "outputs": [],
   "source": [
    "linear_model.compile(\n",
    "    optimizer=tf.optimizers.Adam(learning_rate=0.1),\n",
    "    loss='mean_absolute_error'\n",
    ")"
   ]
  },
  {
   "cell_type": "code",
   "execution_count": null,
   "id": "74c71ce6-538d-46d9-8078-146f37c5728d",
   "metadata": {
    "tags": []
   },
   "outputs": [],
   "source": [
    "history = linear_model.fit(\n",
    "    train_features, train_labels,\n",
    "    epochs=100,\n",
    "    callbacks=[tf.keras.callbacks.TensorBoard(log_dir='tutorial_regresion/linear_model', histogram_freq=1)],\n",
    "    validation_split = 0.2)"
   ]
  },
  {
   "cell_type": "code",
   "execution_count": null,
   "id": "28545b51-55bd-4c28-b0e8-488fcbd41de8",
   "metadata": {},
   "outputs": [],
   "source": [
    "hist = pd.DataFrame(history.history)\n",
    "hist['epoch'] = history.epoch\n",
    "hist = hist.set_index('epoch')\n",
    "hist.plot(grid=True)"
   ]
  },
  {
   "cell_type": "code",
   "execution_count": null,
   "id": "6f58ae93-5b8e-4192-9323-5b1621899789",
   "metadata": {},
   "outputs": [],
   "source": [
    "test_results.loc['linear_model','test'] = linear_model.evaluate(test_features, test_labels, verbose=0)\n",
    "test_results.loc['linear_model','train'] = linear_model.evaluate(train_features, train_labels, verbose=0)"
   ]
  },
  {
   "cell_type": "code",
   "execution_count": null,
   "id": "abbc2bdd-4b82-4245-bf67-45fea5f8a84f",
   "metadata": {},
   "outputs": [],
   "source": [
    "test_results"
   ]
  },
  {
   "cell_type": "code",
   "execution_count": null,
   "id": "bc08bfc9-7cea-4d70-886b-f07817c1e6ef",
   "metadata": {},
   "outputs": [],
   "source": [
    "linear_model.weights[0]"
   ]
  },
  {
   "cell_type": "code",
   "execution_count": null,
   "id": "cf604dd0-0769-4688-862f-81879dbe44e4",
   "metadata": {
    "tags": []
   },
   "outputs": [],
   "source": [
    "fig, ax = plt.subplots(figsize=(15, 10))\n",
    "ax.bar(x=train_features.columns, height=linear_model.weights[0].numpy()[:, 0])"
   ]
  },
  {
   "cell_type": "markdown",
   "id": "395648a4-2391-4434-987d-c98aba460ba2",
   "metadata": {},
   "source": [
    "___"
   ]
  },
  {
   "cell_type": "markdown",
   "id": "867cdb9b-758a-423e-8993-ba430c46c9aa",
   "metadata": {},
   "source": [
    "## Deep model con una feature"
   ]
  },
  {
   "cell_type": "code",
   "execution_count": null,
   "id": "fc3fab9c-f1a6-453d-9e3d-fec5e18e2b6f",
   "metadata": {},
   "outputs": [],
   "source": [
    "deep_one_model = tf.keras.Sequential([\n",
    "      tf.keras.layers.Dense(64, activation='relu', input_dim=1),\n",
    "      tf.keras.layers.Dense(64, activation='relu'),\n",
    "      tf.keras.layers.Dense(1)\n",
    "  ])"
   ]
  },
  {
   "cell_type": "code",
   "execution_count": null,
   "id": "e7d78053-bf3d-478a-aa56-c260aee39e52",
   "metadata": {},
   "outputs": [],
   "source": [
    "deep_one_model.summary()"
   ]
  },
  {
   "cell_type": "code",
   "execution_count": null,
   "id": "53105c45-aa4d-4764-9abe-a1688e131bde",
   "metadata": {},
   "outputs": [],
   "source": [
    "deep_one_model.compile(loss='mean_absolute_error',\n",
    "             optimizer=tf.keras.optimizers.Adam(0.001))"
   ]
  },
  {
   "cell_type": "code",
   "execution_count": null,
   "id": "419e534d-4faa-4c8e-8ab1-c9aeed869463",
   "metadata": {
    "tags": []
   },
   "outputs": [],
   "source": [
    "history = deep_one_model.fit(\n",
    "    train_features['LSTAT'], train_labels,\n",
    "    epochs=100,\n",
    "    callbacks=[tf.keras.callbacks.TensorBoard(log_dir='tutorial_regresion/linear_model', histogram_freq=1)],\n",
    "    validation_split = 0.2)"
   ]
  },
  {
   "cell_type": "code",
   "execution_count": null,
   "id": "37739761-13b8-475d-8fb4-8131aa4449df",
   "metadata": {},
   "outputs": [],
   "source": [
    "hist = pd.DataFrame(history.history)\n",
    "hist['epoch'] = history.epoch\n",
    "hist = hist.set_index('epoch')\n",
    "hist.plot(grid=True)"
   ]
  },
  {
   "cell_type": "code",
   "execution_count": null,
   "id": "f69929aa-42a2-4b69-9150-6a875cc74673",
   "metadata": {},
   "outputs": [],
   "source": [
    "x = tf.linspace(train_features['LSTAT'].min(), train_features['LSTAT'].max(), 1000)\n",
    "y = deep_one_model.predict(x)"
   ]
  },
  {
   "cell_type": "code",
   "execution_count": null,
   "id": "e012758e-7ec0-44c4-9896-0f0c9555d390",
   "metadata": {},
   "outputs": [],
   "source": [
    "plt.scatter(train_features['LSTAT'], train_labels, label='Data')\n",
    "plt.plot(x, y, color='k', label='Predictions')\n",
    "plt.xlabel('LSTAT')\n",
    "plt.ylabel('MEDV')\n",
    "plt.legend()"
   ]
  },
  {
   "cell_type": "code",
   "execution_count": null,
   "id": "82e4728d-26a4-4ff6-a1b3-ea67529cb21e",
   "metadata": {
    "tags": []
   },
   "outputs": [],
   "source": [
    "test_results.loc['deep_one_model','test'] = deep_one_model.evaluate(test_features['LSTAT'], test_labels, verbose=0)\n",
    "test_results.loc['deep_one_model','train'] = deep_one_model.evaluate(train_features['LSTAT'], train_labels, verbose=0)"
   ]
  },
  {
   "cell_type": "code",
   "execution_count": null,
   "id": "d18f659c-7fd2-4515-9f9e-531105159c70",
   "metadata": {},
   "outputs": [],
   "source": [
    "test_results"
   ]
  },
  {
   "cell_type": "markdown",
   "id": "23a34e8c-0e74-4c4c-a96e-b3461dcafa90",
   "metadata": {},
   "source": [
    "## Full model deep model"
   ]
  },
  {
   "cell_type": "code",
   "execution_count": null,
   "id": "cbfaf006-0e22-42d6-818f-566bb40b370b",
   "metadata": {},
   "outputs": [],
   "source": [
    "dnn_model = tf.keras.Sequential([\n",
    "      tf.keras.layers.Dense(64, activation='relu', input_dim=train_features.shape[1]),\n",
    "      tf.keras.layers.Dense(64, activation='relu'),\n",
    "      tf.keras.layers.Dense(1)\n",
    "  ])"
   ]
  },
  {
   "cell_type": "code",
   "execution_count": null,
   "id": "eeb2f129-155f-4a25-9edb-f930bad23e0f",
   "metadata": {},
   "outputs": [],
   "source": [
    "dnn_model.summary()"
   ]
  },
  {
   "cell_type": "code",
   "execution_count": null,
   "id": "edc51b5f-2fe7-4c1e-958d-1071d76a7991",
   "metadata": {},
   "outputs": [],
   "source": [
    "dnn_model.compile(\n",
    "    loss='mean_absolute_error',\n",
    "    optimizer=tf.keras.optimizers.Adam(0.001)\n",
    ")"
   ]
  },
  {
   "cell_type": "code",
   "execution_count": null,
   "id": "7eb18d56-3043-4b1e-bea7-736244983f2a",
   "metadata": {},
   "outputs": [],
   "source": []
  },
  {
   "cell_type": "code",
   "execution_count": null,
   "id": "37f3a660-9741-40b9-8ce3-e9c0a679602c",
   "metadata": {
    "tags": []
   },
   "outputs": [],
   "source": [
    "history = dnn_model.fit(\n",
    "    train_features, train_labels,\n",
    "    epochs=100,\n",
    "    callbacks=[tf.keras.callbacks.TensorBoard(log_dir='tutorial_regresion/linear_model', histogram_freq=1)],\n",
    "    validation_split = 0.2\n",
    ")"
   ]
  },
  {
   "cell_type": "code",
   "execution_count": null,
   "id": "624b5787-5a17-48dd-8aad-b2616f89124f",
   "metadata": {},
   "outputs": [],
   "source": [
    "hist = pd.DataFrame(history.history)\n",
    "hist['epoch'] = history.epoch\n",
    "hist = hist.set_index('epoch')\n",
    "hist.plot(grid=True)"
   ]
  },
  {
   "cell_type": "code",
   "execution_count": null,
   "id": "2d7f8ac3-3adc-48fa-93fd-7095023582dd",
   "metadata": {},
   "outputs": [],
   "source": [
    "test_results.loc['dnn_model','test'] = dnn_model.evaluate(test_features, test_labels, verbose=0)\n",
    "test_results.loc['dnn_model','train'] = dnn_model.evaluate(train_features, train_labels, verbose=0)"
   ]
  },
  {
   "cell_type": "code",
   "execution_count": null,
   "id": "1cfd1943-6c31-4010-a868-16378db76e8c",
   "metadata": {},
   "outputs": [],
   "source": [
    "test_results"
   ]
  },
  {
   "cell_type": "code",
   "execution_count": null,
   "id": "5fcb7aca-5366-49ac-b9e9-9847cd868a36",
   "metadata": {},
   "outputs": [],
   "source": [
    "test_results.T.plot.bar()"
   ]
  },
  {
   "cell_type": "code",
   "execution_count": null,
   "id": "4dc37b45-f53d-4667-924a-7cadc127fef1",
   "metadata": {},
   "outputs": [],
   "source": [
    "test_predictions = dnn_model.predict(test_features).flatten()\n",
    "\n",
    "fig, ax = plt.subplots(figsize=(10,10))\n",
    "ax.scatter(test_labels, test_predictions)\n",
    "ax.set_xlabel('True Values')\n",
    "ax.set_ylabel('Predictions')\n",
    "lims = [0, test_labels.max()]\n",
    "ax.set_xlim(lims)\n",
    "ax.set_ylim(lims)\n",
    "ax.plot(lims, lims)"
   ]
  },
  {
   "cell_type": "code",
   "execution_count": null,
   "id": "45c3d923-1496-44f5-aea9-e23c0e373b77",
   "metadata": {},
   "outputs": [],
   "source": []
  }
 ],
 "metadata": {
  "kernelspec": {
   "display_name": "Python 3 (ipykernel)",
   "language": "python",
   "name": "python3"
  },
  "language_info": {
   "codemirror_mode": {
    "name": "ipython",
    "version": 3
   },
   "file_extension": ".py",
   "mimetype": "text/x-python",
   "name": "python",
   "nbconvert_exporter": "python",
   "pygments_lexer": "ipython3",
   "version": "3.7.3"
  }
 },
 "nbformat": 4,
 "nbformat_minor": 5
}
