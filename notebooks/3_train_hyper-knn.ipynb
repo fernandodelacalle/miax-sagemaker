{
 "cells": [
  {
   "cell_type": "code",
   "execution_count": 2,
   "metadata": {},
   "outputs": [],
   "source": [
    "import sagemaker\n",
    "from sagemaker.debugger import Rule\n",
    "from sagemaker.debugger import rule_configs\n",
    "from sagemaker.session import TrainingInput\n",
    "from sagemaker.tuner import IntegerParameter\n",
    "from sagemaker.tuner import HyperparameterTuner"
   ]
  },
  {
   "cell_type": "markdown",
   "metadata": {},
   "source": [
    "___"
   ]
  },
  {
   "cell_type": "code",
   "execution_count": 3,
   "metadata": {},
   "outputs": [
    {
     "name": "stdout",
     "output_type": "stream",
     "text": [
      "AWS Region: eu-west-3\n",
      "RoleArn: arn:aws:iam::260598086981:role/service-role/AmazonSageMaker-ExecutionRole-20210916T222927\n"
     ]
    }
   ],
   "source": [
    "region = sagemaker.Session().boto_region_name\n",
    "print(f\"AWS Region: {region}\")\n",
    "\n",
    "role = sagemaker.get_execution_role()\n",
    "print(f\"RoleArn: {role}\")\n",
    "\n",
    "sm_sess = sagemaker.session.Session()"
   ]
  },
  {
   "cell_type": "code",
   "execution_count": 4,
   "metadata": {},
   "outputs": [
    {
     "data": {
      "text/plain": [
       "'sagemaker-eu-west-3-260598086981'"
      ]
     },
     "execution_count": 4,
     "metadata": {},
     "output_type": "execute_result"
    }
   ],
   "source": [
    "bucket = sagemaker.Session().default_bucket()\n",
    "bucket"
   ]
  },
  {
   "cell_type": "code",
   "execution_count": 6,
   "metadata": {},
   "outputs": [
    {
     "name": "stdout",
     "output_type": "stream",
     "text": [
      "s3 output location: s3://sagemaker-eu-west-3-260598086981/demo-sagemaker-boston/knn\n"
     ]
    }
   ],
   "source": [
    "prefix = \"demo-sagemaker-boston\"\n",
    "model = 'knn'\n",
    "s3_output_location = f's3://{bucket}/{prefix}/{model}'\n",
    "print(f\"s3 output location: {s3_output_location}\")"
   ]
  },
  {
   "cell_type": "code",
   "execution_count": 9,
   "metadata": {},
   "outputs": [
    {
     "name": "stdout",
     "output_type": "stream",
     "text": [
      "Container URI: 749696950732.dkr.ecr.eu-west-3.amazonaws.com/knn:1\n"
     ]
    }
   ],
   "source": [
    "container=sagemaker.image_uris.retrieve(\"knn\", region)\n",
    "print(f\"Container URI: {container}\")"
   ]
  },
  {
   "cell_type": "code",
   "execution_count": 20,
   "metadata": {},
   "outputs": [],
   "source": [
    "train_input = TrainingInput(\n",
    "    f\"s3://{bucket}/{prefix}/data/train.csv\", content_type=\"text/csv\",\n",
    ")\n",
    "validation_input = TrainingInput(\n",
    "    f\"s3://{bucket}/{prefix}/data/validation.csv\", content_type=\"text/csv\",\n",
    ")"
   ]
  },
  {
   "cell_type": "code",
   "execution_count": 21,
   "metadata": {},
   "outputs": [],
   "source": [
    "knn_model = sagemaker.estimator.Estimator(\n",
    "    image_uri=container,\n",
    "    role=role,\n",
    "    instance_count=1,\n",
    "    instance_type='ml.m5.xlarge',\n",
    "    output_path=s3_output_location,\n",
    "    sagemaker_session=sm_sess,\n",
    ")"
   ]
  },
  {
   "cell_type": "code",
   "execution_count": 22,
   "metadata": {},
   "outputs": [],
   "source": [
    "knn_model.set_hyperparameters(\n",
    "    feature_dim= 13,\n",
    "    sample_size = 303, \n",
    "    predictor_type = 'regressor'\n",
    ")"
   ]
  },
  {
   "cell_type": "markdown",
   "metadata": {},
   "source": [
    "### Hyperparameter tunning\n",
    "- https://docs.aws.amazon.com/es_es/sagemaker/latest/dg/kNN-tuning.html"
   ]
  },
  {
   "cell_type": "code",
   "execution_count": 26,
   "metadata": {},
   "outputs": [],
   "source": [
    "hyperparameter_ranges = {\n",
    "    \"k\": IntegerParameter(1, 15, scaling_type=\"Linear\"),\n",
    "}"
   ]
  },
  {
   "cell_type": "code",
   "execution_count": 27,
   "metadata": {},
   "outputs": [],
   "source": [
    "tuner = HyperparameterTuner(\n",
    "    knn_model,\n",
    "    \"test:mse\",\n",
    "    hyperparameter_ranges,\n",
    "    objective_type='Minimize',\n",
    "    max_jobs=5,\n",
    "    max_parallel_jobs=5,\n",
    "    strategy=\"Random\",\n",
    ")"
   ]
  },
  {
   "cell_type": "code",
   "execution_count": 28,
   "metadata": {},
   "outputs": [
    {
     "name": "stdout",
     "output_type": "stream",
     "text": [
      ".......................................................!\n"
     ]
    }
   ],
   "source": [
    "tuner.fit(\n",
    "    {\"train\": train_input, \"test\": validation_input},\n",
    ")"
   ]
  },
  {
   "cell_type": "code",
   "execution_count": 29,
   "metadata": {},
   "outputs": [],
   "source": [
    "df= sagemaker.HyperparameterTuningJobAnalytics(\n",
    "    tuner.latest_tuning_job.job_name\n",
    ").dataframe()"
   ]
  },
  {
   "cell_type": "code",
   "execution_count": 30,
   "metadata": {},
   "outputs": [
    {
     "data": {
      "text/html": [
       "<div>\n",
       "<style scoped>\n",
       "    .dataframe tbody tr th:only-of-type {\n",
       "        vertical-align: middle;\n",
       "    }\n",
       "\n",
       "    .dataframe tbody tr th {\n",
       "        vertical-align: top;\n",
       "    }\n",
       "\n",
       "    .dataframe thead th {\n",
       "        text-align: right;\n",
       "    }\n",
       "</style>\n",
       "<table border=\"1\" class=\"dataframe\">\n",
       "  <thead>\n",
       "    <tr style=\"text-align: right;\">\n",
       "      <th></th>\n",
       "      <th>k</th>\n",
       "      <th>TrainingJobName</th>\n",
       "      <th>TrainingJobStatus</th>\n",
       "      <th>FinalObjectiveValue</th>\n",
       "      <th>TrainingStartTime</th>\n",
       "      <th>TrainingEndTime</th>\n",
       "      <th>TrainingElapsedTimeSeconds</th>\n",
       "    </tr>\n",
       "  </thead>\n",
       "  <tbody>\n",
       "    <tr>\n",
       "      <th>0</th>\n",
       "      <td>11.0</td>\n",
       "      <td>knn-211021-2115-005-5b70b953</td>\n",
       "      <td>Completed</td>\n",
       "      <td>47.412113</td>\n",
       "      <td>2021-10-21 21:18:05+00:00</td>\n",
       "      <td>2021-10-21 21:20:05+00:00</td>\n",
       "      <td>120.0</td>\n",
       "    </tr>\n",
       "    <tr>\n",
       "      <th>1</th>\n",
       "      <td>4.0</td>\n",
       "      <td>knn-211021-2115-004-9b35855b</td>\n",
       "      <td>Completed</td>\n",
       "      <td>39.526333</td>\n",
       "      <td>2021-10-21 21:18:37+00:00</td>\n",
       "      <td>2021-10-21 21:20:07+00:00</td>\n",
       "      <td>90.0</td>\n",
       "    </tr>\n",
       "    <tr>\n",
       "      <th>2</th>\n",
       "      <td>2.0</td>\n",
       "      <td>knn-211021-2115-003-c928c82b</td>\n",
       "      <td>Completed</td>\n",
       "      <td>35.825966</td>\n",
       "      <td>2021-10-21 21:18:23+00:00</td>\n",
       "      <td>2021-10-21 21:20:12+00:00</td>\n",
       "      <td>109.0</td>\n",
       "    </tr>\n",
       "    <tr>\n",
       "      <th>3</th>\n",
       "      <td>7.0</td>\n",
       "      <td>knn-211021-2115-002-cda8e075</td>\n",
       "      <td>Completed</td>\n",
       "      <td>41.193661</td>\n",
       "      <td>2021-10-21 21:17:57+00:00</td>\n",
       "      <td>2021-10-21 21:20:11+00:00</td>\n",
       "      <td>134.0</td>\n",
       "    </tr>\n",
       "    <tr>\n",
       "      <th>4</th>\n",
       "      <td>12.0</td>\n",
       "      <td>knn-211021-2115-001-238c9671</td>\n",
       "      <td>Completed</td>\n",
       "      <td>51.230217</td>\n",
       "      <td>2021-10-21 21:18:23+00:00</td>\n",
       "      <td>2021-10-21 21:20:03+00:00</td>\n",
       "      <td>100.0</td>\n",
       "    </tr>\n",
       "  </tbody>\n",
       "</table>\n",
       "</div>"
      ],
      "text/plain": [
       "      k               TrainingJobName TrainingJobStatus  FinalObjectiveValue  \\\n",
       "0  11.0  knn-211021-2115-005-5b70b953         Completed            47.412113   \n",
       "1   4.0  knn-211021-2115-004-9b35855b         Completed            39.526333   \n",
       "2   2.0  knn-211021-2115-003-c928c82b         Completed            35.825966   \n",
       "3   7.0  knn-211021-2115-002-cda8e075         Completed            41.193661   \n",
       "4  12.0  knn-211021-2115-001-238c9671         Completed            51.230217   \n",
       "\n",
       "          TrainingStartTime           TrainingEndTime  \\\n",
       "0 2021-10-21 21:18:05+00:00 2021-10-21 21:20:05+00:00   \n",
       "1 2021-10-21 21:18:37+00:00 2021-10-21 21:20:07+00:00   \n",
       "2 2021-10-21 21:18:23+00:00 2021-10-21 21:20:12+00:00   \n",
       "3 2021-10-21 21:17:57+00:00 2021-10-21 21:20:11+00:00   \n",
       "4 2021-10-21 21:18:23+00:00 2021-10-21 21:20:03+00:00   \n",
       "\n",
       "   TrainingElapsedTimeSeconds  \n",
       "0                       120.0  \n",
       "1                        90.0  \n",
       "2                       109.0  \n",
       "3                       134.0  \n",
       "4                       100.0  "
      ]
     },
     "execution_count": 30,
     "metadata": {},
     "output_type": "execute_result"
    }
   ],
   "source": [
    "df"
   ]
  },
  {
   "cell_type": "code",
   "execution_count": 32,
   "metadata": {},
   "outputs": [
    {
     "data": {
      "text/plain": [
       "<matplotlib.axes._subplots.AxesSubplot at 0x7f10c64d6cd0>"
      ]
     },
     "execution_count": 32,
     "metadata": {},
     "output_type": "execute_result"
    },
    {
     "data": {
      "image/png": "[encoded data removed]",
      "text/plain": [
       "<Figure size 432x288 with 1 Axes>"
      ]
     },
     "metadata": {
      "needs_background": "light"
     },
     "output_type": "display_data"
    }
   ],
   "source": [
    "df.loc[\n",
    "    :, ['FinalObjectiveValue', 'k']\n",
    "].set_index('k').sort_index().plot()"
   ]
  }
 ],
 "metadata": {
  "instance_type": "ml.t3.medium",
  "kernelspec": {
   "display_name": "Python 3 (Data Science)",
   "language": "python",
   "name": "python3__SAGEMAKER_INTERNAL__arn:aws:sagemaker:eu-west-3:615547856133:image/datascience-1.0"
  },
  "language_info": {
   "codemirror_mode": {
    "name": "ipython",
    "version": 3
   },
   "file_extension": ".py",
   "mimetype": "text/x-python",
   "name": "python",
   "nbconvert_exporter": "python",
   "pygments_lexer": "ipython3",
   "version": "3.7.10"
  }
 },
 "nbformat": 4,
 "nbformat_minor": 4
}
