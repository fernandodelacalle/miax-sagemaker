{
 "cells": [
  {
   "cell_type": "code",
   "execution_count": null,
   "metadata": {},
   "outputs": [],
   "source": [
    "import sagemaker\n",
    "from sagemaker.session import TrainingInput\n",
    "from sagemaker.debugger import Rule\n",
    "from sagemaker.debugger import rule_configs\n"
   ]
  },
  {
   "cell_type": "code",
   "execution_count": 3,
   "metadata": {},
   "outputs": [
    {
     "name": "stdout",
     "output_type": "stream",
     "text": [
      "AWS Region: eu-west-3\n",
      "RoleArn: arn:aws:iam::260598086981:role/service-role/AmazonSageMaker-ExecutionRole-20210916T222927\n"
     ]
    }
   ],
   "source": [
    "region = sagemaker.Session().boto_region_name\n",
    "print(\"AWS Region: {}\".format(region))\n",
    "\n",
    "role = sagemaker.get_execution_role()\n",
    "print(\"RoleArn: {}\".format(role))\n",
    "\n",
    "sm_sess = sagemaker.session.Session()"
   ]
  },
  {
   "cell_type": "code",
   "execution_count": 5,
   "metadata": {},
   "outputs": [
    {
     "data": {
      "text/plain": [
       "'sagemaker-eu-west-3-260598086981'"
      ]
     },
     "execution_count": 5,
     "metadata": {},
     "output_type": "execute_result"
    }
   ],
   "source": [
    "bucket = sagemaker.Session().default_bucket()\n",
    "bucket"
   ]
  },
  {
   "cell_type": "code",
   "execution_count": 6,
   "metadata": {},
   "outputs": [],
   "source": [
    "prefix = \"demo-sagemaker-xgboost-boston\""
   ]
  },
  {
   "cell_type": "code",
   "execution_count": 7,
   "metadata": {},
   "outputs": [
    {
     "data": {
      "text/plain": [
       "'s3://sagemaker-eu-west-3-260598086981/demo-sagemaker-xgboost-boston/xgboost_model'"
      ]
     },
     "execution_count": 7,
     "metadata": {},
     "output_type": "execute_result"
    }
   ],
   "source": [
    "s3_output_location='s3://{}/{}/{}'.format(bucket, prefix, 'xgboost_model')\n",
    "s3_output_location"
   ]
  },
  {
   "cell_type": "code",
   "execution_count": 8,
   "metadata": {},
   "outputs": [
    {
     "name": "stdout",
     "output_type": "stream",
     "text": [
      "659782779980.dkr.ecr.eu-west-3.amazonaws.com/sagemaker-xgboost:1.2-1\n"
     ]
    }
   ],
   "source": [
    "container=sagemaker.image_uris.retrieve(\"xgboost\", region, \"1.2-1\")\n",
    "print(container)"
   ]
  },
  {
   "cell_type": "code",
   "execution_count": 16,
   "metadata": {},
   "outputs": [],
   "source": [
    "train_input = TrainingInput(\n",
    "    f\"s3://{bucket}/{prefix}/data/train.csv\", content_type=\"csv\"\n",
    ")\n",
    "validation_input = TrainingInput(\n",
    "    f\"s3://{bucket}/{prefix}/data/validation.csv\", content_type=\"csv\"\n",
    ")"
   ]
  },
  {
   "cell_type": "markdown",
   "metadata": {},
   "source": [
    "___"
   ]
  },
  {
   "cell_type": "code",
   "execution_count": 9,
   "metadata": {},
   "outputs": [],
   "source": [
    "xgb_model=sagemaker.estimator.Estimator(\n",
    "    image_uri=container,\n",
    "    role=role,\n",
    "    instance_count=1,\n",
    "    instance_type='ml.m5.xlarge',\n",
    "    output_path=s3_output_location,\n",
    "    sagemaker_session=sm_sess,\n",
    "\n",
    ")"
   ]
  },
  {
   "cell_type": "code",
   "execution_count": null,
   "metadata": {},
   "outputs": [],
   "source": [
    "xgb_model.set_hyperparameters(\n",
    "    eta = 0.2,\n",
    "    gamma = 4,\n",
    "    max_depth = 5,\n",
    "    min_child_weight = 6,\n",
    "    subsample = 0.7,\n",
    "    objective = \"reg:squarederror\",\n",
    "    eval_metric='rmse', \n",
    "    num_round = 1000\n",
    ")"
   ]
  },
  {
   "cell_type": "code",
   "execution_count": null,
   "metadata": {},
   "outputs": [],
   "source": [
    "xgb_model.fit({\"train\": train_input, \"validation\": validation_input}, wait=True)"
   ]
  },
  {
   "cell_type": "code",
   "execution_count": 33,
   "metadata": {},
   "outputs": [
    {
     "data": {
      "text/plain": [
       "'s3://sagemaker-eu-west-3-260598086981/demo-sagemaker-xgboost-boston/xgboost_model'"
      ]
     },
     "execution_count": 33,
     "metadata": {},
     "output_type": "execute_result"
    }
   ],
   "source": [
    "xgb_model.output_path"
   ]
  },
  {
   "cell_type": "code",
   "execution_count": 34,
   "metadata": {},
   "outputs": [
    {
     "data": {
      "text/plain": [
       "'sagemaker-xgboost-2021-09-23-20-35-13-230'"
      ]
     },
     "execution_count": 34,
     "metadata": {},
     "output_type": "execute_result"
    }
   ],
   "source": [
    "xgb_model.latest_training_job.name"
   ]
  },
  {
   "cell_type": "code",
   "execution_count": 35,
   "metadata": {
    "collapsed": true,
    "jupyter": {
     "outputs_hidden": true
    }
   },
   "outputs": [
    {
     "name": "stdout",
     "output_type": "stream",
     "text": [
      "2021-09-23 20:43:14     404370 demo-sagemaker-xgboost-boston/xgboost_model/sagemaker-xgboost-2021-09-23-20-35-13-230/rule-output/CreateXgboostReport/xgboost_report.html\n",
      "2021-09-23 20:43:13     209368 demo-sagemaker-xgboost-boston/xgboost_model/sagemaker-xgboost-2021-09-23-20-35-13-230/rule-output/CreateXgboostReport/xgboost_report.ipynb\n",
      "2021-09-23 20:39:26     322345 demo-sagemaker-xgboost-boston/xgboost_model/sagemaker-xgboost-2021-09-23-20-35-13-230/rule-output/ProfilerReport-1632429313/profiler-output/profiler-report.html\n",
      "2021-09-23 20:39:25     168692 demo-sagemaker-xgboost-boston/xgboost_model/sagemaker-xgboost-2021-09-23-20-35-13-230/rule-output/ProfilerReport-1632429313/profiler-output/profiler-report.ipynb\n",
      "2021-09-23 20:39:21        190 demo-sagemaker-xgboost-boston/xgboost_model/sagemaker-xgboost-2021-09-23-20-35-13-230/rule-output/ProfilerReport-1632429313/profiler-output/profiler-reports/BatchSize.json\n",
      "2021-09-23 20:39:21        198 demo-sagemaker-xgboost-boston/xgboost_model/sagemaker-xgboost-2021-09-23-20-35-13-230/rule-output/ProfilerReport-1632429313/profiler-output/profiler-reports/CPUBottleneck.json\n",
      "2021-09-23 20:39:21        126 demo-sagemaker-xgboost-boston/xgboost_model/sagemaker-xgboost-2021-09-23-20-35-13-230/rule-output/ProfilerReport-1632429313/profiler-output/profiler-reports/Dataloader.json\n",
      "2021-09-23 20:39:21        127 demo-sagemaker-xgboost-boston/xgboost_model/sagemaker-xgboost-2021-09-23-20-35-13-230/rule-output/ProfilerReport-1632429313/profiler-output/profiler-reports/GPUMemoryIncrease.json\n",
      "2021-09-23 20:39:21        197 demo-sagemaker-xgboost-boston/xgboost_model/sagemaker-xgboost-2021-09-23-20-35-13-230/rule-output/ProfilerReport-1632429313/profiler-output/profiler-reports/IOBottleneck.json\n",
      "2021-09-23 20:39:21        119 demo-sagemaker-xgboost-boston/xgboost_model/sagemaker-xgboost-2021-09-23-20-35-13-230/rule-output/ProfilerReport-1632429313/profiler-output/profiler-reports/LoadBalancing.json\n",
      "2021-09-23 20:39:21        151 demo-sagemaker-xgboost-boston/xgboost_model/sagemaker-xgboost-2021-09-23-20-35-13-230/rule-output/ProfilerReport-1632429313/profiler-output/profiler-reports/LowGPUUtilization.json\n",
      "2021-09-23 20:39:21        179 demo-sagemaker-xgboost-boston/xgboost_model/sagemaker-xgboost-2021-09-23-20-35-13-230/rule-output/ProfilerReport-1632429313/profiler-output/profiler-reports/MaxInitializationTime.json\n",
      "2021-09-23 20:39:21        133 demo-sagemaker-xgboost-boston/xgboost_model/sagemaker-xgboost-2021-09-23-20-35-13-230/rule-output/ProfilerReport-1632429313/profiler-output/profiler-reports/OverallFrameworkMetrics.json\n",
      "2021-09-23 20:39:21        465 demo-sagemaker-xgboost-boston/xgboost_model/sagemaker-xgboost-2021-09-23-20-35-13-230/rule-output/ProfilerReport-1632429313/profiler-output/profiler-reports/OverallSystemUsage.json\n",
      "2021-09-23 20:39:21        156 demo-sagemaker-xgboost-boston/xgboost_model/sagemaker-xgboost-2021-09-23-20-35-13-230/rule-output/ProfilerReport-1632429313/profiler-output/profiler-reports/StepOutlier.json\n"
     ]
    }
   ],
   "source": [
    "rule_output_path = xgb_model.output_path + \"/\" + xgb_model.latest_training_job.name + \"/rule-output\"\n",
    "! aws s3 ls {rule_output_path} --recursive"
   ]
  },
  {
   "cell_type": "code",
   "execution_count": 38,
   "metadata": {},
   "outputs": [
    {
     "data": {
      "text/plain": [
       "'s3://sagemaker-eu-west-3-260598086981/demo-sagemaker-xgboost-boston/xgboost_model/sagemaker-xgboost-2021-09-23-20-35-13-230/output/model.tar.gz'"
      ]
     },
     "execution_count": 38,
     "metadata": {},
     "output_type": "execute_result"
    }
   ],
   "source": [
    "xgb_model.model_data"
   ]
  },
  {
   "cell_type": "markdown",
   "metadata": {},
   "source": [
    "___\n",
    "# Deploy"
   ]
  },
  {
   "cell_type": "code",
   "execution_count": 40,
   "metadata": {},
   "outputs": [
    {
     "name": "stdout",
     "output_type": "stream",
     "text": [
      "------------------!"
     ]
    }
   ],
   "source": [
    "from sagemaker.serializers import CSVSerializer\n",
    "\n",
    "xgb_predictor=xgb_model.deploy(\n",
    "    initial_instance_count=1,\n",
    "    instance_type='ml.t2.medium',\n",
    "    serializer=CSVSerializer()\n",
    ")\n"
   ]
  },
  {
   "cell_type": "code",
   "execution_count": null,
   "metadata": {},
   "outputs": [],
   "source": []
  }
 ],
 "metadata": {
  "instance_type": "ml.t3.medium",
  "kernelspec": {
   "display_name": "Python 3 (Data Science)",
   "language": "python",
   "name": "python3__SAGEMAKER_INTERNAL__arn:aws:sagemaker:eu-west-3:615547856133:image/datascience-1.0"
  },
  "language_info": {
   "codemirror_mode": {
    "name": "ipython",
    "version": 3
   },
   "file_extension": ".py",
   "mimetype": "text/x-python",
   "name": "python",
   "nbconvert_exporter": "python",
   "pygments_lexer": "ipython3",
   "version": "3.7.10"
  }
 },
 "nbformat": 4,
 "nbformat_minor": 4
}
