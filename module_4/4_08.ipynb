{
 "cells": [
  {
   "cell_type": "markdown",
   "id": "c7fbcb12-8562-4b01-ae2f-7494c4df67c4",
   "metadata": {},
   "source": [
    "# Sagemaker con Tensorflow: Fashion MNIST."
   ]
  },
  {
   "cell_type": "markdown",
   "id": "29328c07-d487-4947-8993-1ce0d9d5121f",
   "metadata": {
    "tags": []
   },
   "source": [
    "<center>\n",
    "<img src=\"./imgs/tensor.png\"  alt=\"drawing\" width=\"1300\"/>\n",
    "</center>"
   ]
  },
  {
   "cell_type": "code",
   "execution_count": null,
   "id": "ce1787d6-7ff4-47c7-bddb-896fdc734cdf",
   "metadata": {
    "tags": []
   },
   "outputs": [],
   "source": [
    "pip install -q sagemaker-experiments"
   ]
  },
  {
   "cell_type": "code",
   "execution_count": null,
   "id": "4a80d498-83c8-47a9-9344-1bcfcf855c55",
   "metadata": {
    "tags": []
   },
   "outputs": [],
   "source": [
    "import sagemaker\n",
    "\n",
    "role = sagemaker.get_execution_role()\n",
    "sess = sagemaker.Session()\n",
    "region = sess.boto_region_name\n",
    "\n",
    "bucket = sess.default_bucket()\n",
    "prefix = 'module_4/part_7'\n",
    "\n",
    "print(role)\n",
    "print(sess)\n",
    "print(region)\n",
    "print(bucket)\n",
    "print(prefix)"
   ]
  },
  {
   "cell_type": "code",
   "execution_count": null,
   "id": "5be82b90-581b-4ee9-bca2-39fcb73169cc",
   "metadata": {
    "tags": []
   },
   "outputs": [],
   "source": [
    "from sagemaker.tensorflow import TensorFlow"
   ]
  },
  {
   "cell_type": "code",
   "execution_count": null,
   "id": "971455e2-0f16-47ca-9ae8-ff091720e199",
   "metadata": {
    "tags": []
   },
   "outputs": [],
   "source": [
    "from smexperiments.experiment import Experiment\n",
    "from smexperiments.trial import Trial\n",
    "from botocore.exceptions import ClientError\n",
    "from time import gmtime, strftime\n",
    "import time\n",
    "\n",
    "experiment_name = 'fashion-mnist-tensorflow-new'\n",
    "\n",
    "try:\n",
    "    experiment = Experiment.create(\n",
    "        experiment_name=experiment_name, \n",
    "        description='Training a fashion mnist model')\n",
    "except ClientError as e:\n",
    "    print(f'{experiment_name} experiment already exists! Reusing the existing experiment.')\n"
   ]
  },
  {
   "cell_type": "code",
   "execution_count": null,
   "id": "363a59e9-3b66-41a0-a49a-c83a6cfc63ae",
   "metadata": {
    "tags": []
   },
   "outputs": [],
   "source": [
    "hyperparameters = {\n",
    "    \"epochs\": 20, \n",
    "    \"batch-size\": 64\n",
    "}\n",
    "\n",
    "estimator = TensorFlow(\n",
    "    entry_point=\"fashion_mnist_tensoflow.py\",\n",
    "    source_dir=\"tf_code\",\n",
    "    enable_sagemaker_metrics=True,\n",
    "    hyperparameters=hyperparameters,\n",
    "    role=role,\n",
    "    input_mode='File',\n",
    "    framework_version=\"2.1\",\n",
    "    py_version=\"py3\",\n",
    "    instance_count=1,\n",
    "    instance_type=\"ml.m5.xlarge\",\n",
    "    model_dir=False\n",
    ")"
   ]
  },
  {
   "cell_type": "code",
   "execution_count": null,
   "id": "c4823ad4-9904-48ce-81d1-f83d8c73c45c",
   "metadata": {
    "tags": []
   },
   "outputs": [],
   "source": [
    "# Creating a new trial for the experiment\n",
    "exp_datetime = strftime('%Y-%m-%d-%H-%M-%S', gmtime())\n",
    "jobname = f'fashion-tf-{exp_datetime}'\n",
    "\n",
    "exp_trial = Trial.create(experiment_name=experiment_name, \n",
    "                         trial_name=jobname)\n",
    "\n",
    "experiment_config={'ExperimentName': experiment_name,\n",
    "                   'TrialName': exp_trial.trial_name,\n",
    "                   'TrialComponentDisplayName': 'Training'}"
   ]
  },
  {
   "cell_type": "code",
   "execution_count": null,
   "id": "6907f554-23fc-44e6-ac21-72d564cd2360",
   "metadata": {
    "tags": []
   },
   "outputs": [],
   "source": [
    "estimator.fit(job_name=jobname,\n",
    "              experiment_config=experiment_config,\n",
    "              logs=True)"
   ]
  },
  {
   "cell_type": "markdown",
   "id": "c4f07dff-8ce9-4bbb-bbb4-aa13aefa6252",
   "metadata": {},
   "source": [
    "###  Descargando y usando el modelo localmente"
   ]
  },
  {
   "cell_type": "code",
   "execution_count": null,
   "id": "41ad0e3b-5952-45e6-9af1-fc1f752e8fd8",
   "metadata": {},
   "outputs": [],
   "source": [
    "estimator.model_data"
   ]
  },
  {
   "cell_type": "code",
   "execution_count": null,
   "id": "d23c086e-7c54-4f32-bdce-1db8953ec1b6",
   "metadata": {},
   "outputs": [],
   "source": [
    "!mkdir ./fashion_mnist -p\n",
    "!aws s3 cp {estimator.model_data} ./fashion_mnist/model.tar.gz\n",
    "!tar -xzf fashion_mnist/model.tar.gz -C ./fashion_mnist/"
   ]
  },
  {
   "cell_type": "code",
   "execution_count": null,
   "id": "31021a14-1edf-469b-8558-3aac69f427b8",
   "metadata": {
    "tags": []
   },
   "outputs": [],
   "source": [
    "import tensorflow as tf\n",
    "my_model=tf.keras.models.load_model('./fashion_mnist/00000000')"
   ]
  },
  {
   "cell_type": "code",
   "execution_count": null,
   "id": "255a3276-3ac6-40b5-8fd4-3940abfc247d",
   "metadata": {
    "tags": []
   },
   "outputs": [],
   "source": [
    "my_model.summary()"
   ]
  },
  {
   "cell_type": "markdown",
   "id": "b6e0529c-76cf-49ab-8ecf-5e191930c923",
   "metadata": {
    "tags": []
   },
   "source": [
    "## Optimización de parámetros / arquitectura"
   ]
  },
  {
   "cell_type": "markdown",
   "id": "b84525e7-bd24-486e-b2f0-493fa2a4cab0",
   "metadata": {},
   "source": [
    "- Usaremos el  script de entrenamiento fashion_mnist_tensoflow_opt.py\n",
    "- Podemos probarlo con:\n",
    "```bash\n",
    "python fashion_mnist_tensoflow_opt.py --model_dir ./test_tf --output_dir ./test_tf --epochs 10 --layers 5\n",
    "```\n",
    "- Donde tenemos un parámetro layers que nos permite cambiar la aquitectura del modelo."
   ]
  },
  {
   "cell_type": "code",
   "execution_count": null,
   "id": "f0caaa14-1a0b-49f7-b077-7799c1a5a999",
   "metadata": {
    "tags": []
   },
   "outputs": [],
   "source": [
    "jobname = 'fashion-mnist-tensorflow-opt-7'"
   ]
  },
  {
   "cell_type": "code",
   "execution_count": null,
   "id": "253892eb-18fa-4043-8b30-a6cdfa5961a2",
   "metadata": {
    "tags": []
   },
   "outputs": [],
   "source": [
    "hyperparameters = {\n",
    "    \"epochs\": 20, \n",
    "    \"batch-size\": 64\n",
    "}\n",
    "\n",
    "estimator = TensorFlow(\n",
    "    entry_point=\"fashion_mnist_tensoflow_opt.py\",\n",
    "    source_dir=\"tf_code\",\n",
    "    enable_sagemaker_metrics=True,\n",
    "    hyperparameters=hyperparameters,\n",
    "    role=role,\n",
    "    input_mode='File',\n",
    "    framework_version=\"2.1\",\n",
    "    py_version=\"py3\",\n",
    "    instance_count=1,\n",
    "    instance_type=\"ml.m5.xlarge\",\n",
    "    model_dir=False\n",
    ")"
   ]
  },
  {
   "cell_type": "code",
   "execution_count": null,
   "id": "565bc959-40ff-4f63-835c-8e1d3c418bb4",
   "metadata": {
    "tags": []
   },
   "outputs": [],
   "source": [
    "# https://sagemaker.readthedocs.io/en/stable/api/training/parameter.html#sagemaker.parameter.ParameterRange\n",
    "hyperparameter_ranges = {\n",
    "    \"layers\": sagemaker.parameter.CategoricalParameter([1, 2, 3, 4, 5]),\n",
    "    \"hidden\": sagemaker.parameter.CategoricalParameter([128, 512, 1024])\n",
    "}"
   ]
  },
  {
   "cell_type": "code",
   "execution_count": null,
   "id": "63c606a6-2511-451c-8a4a-c2c69d3f816e",
   "metadata": {
    "tags": []
   },
   "outputs": [],
   "source": [
    "# https://sagemaker.readthedocs.io/en/stable/api/training/tuner.html\n",
    "\n",
    "# sample - loss: 0.4801 - accuracy: 0.8300 - val_loss: 0.4152 - val_accuracy: 0.8527\n",
    "metric_definitions = [\n",
    "    {\n",
    "        \"Name\": \"train:loss\",\n",
    "        \"Regex\": \".*loss: ([0-9\\\\.]+) - accuracy: [0-9\\\\.]+.*\"\n",
    "    },\n",
    "    {\n",
    "        \"Name\": \"train:accuracy\",\n",
    "        \"Regex\": \".*loss: [0-9\\\\.]+ - accuracy: ([0-9\\\\.]+).*\"\n",
    "    },\n",
    "    {\n",
    "        \"Name\": \"validation:accuracy\",\n",
    "        \"Regex\": \".*sample - loss: [0-9\\\\.]+ - accuracy: [0-9\\\\.]+ - val_loss: [0-9\\\\.]+ - val_accuracy: ([0-9\\\\.]+).*\",\n",
    "    },\n",
    "    {\n",
    "        \"Name\": \"validation:loss\",\n",
    "        \"Regex\": \".*sample - loss: [0-9\\\\.]+ - accuracy: [0-9\\\\.]+ - val_loss: ([0-9\\\\.]+) - val_accuracy: [0-9\\\\.]+.*\",\n",
    "    },\n",
    "    {\n",
    "        \"Name\": \"sec/sample\",\n",
    "        \"Regex\": \".* - \\d+s (\\d+)[mu]s/sample - loss: [0-9\\\\.]+ - accuracy: [0-9\\\\.]+ - val_loss: [0-9\\\\.]+ - val_accuracy: [0-9\\\\.]+\",\n",
    "    },\n",
    "    \n",
    "    # test loss, test accuracy: [0.3486855386197567, 0.8909]\n",
    "    {\n",
    "        \"Name\": \"test:loss\",\n",
    "        \"Regex\": \".*final test loss: ([0-9\\\\.]+) - test accuracy: [0-9\\\\.]+.*\"     \n",
    "    },\n",
    "    {\n",
    "        \"Name\": \"test:accuracy\",\n",
    "        \"Regex\": \".*final test loss: [0-9\\\\.]+ - test accuracy: ([0-9\\\\.]+).*\"\n",
    "    },\n",
    "]\n",
    "\n",
    "tuner = sagemaker.tuner.HyperparameterTuner(\n",
    "    estimator,\n",
    "    \"test:accuracy\",\n",
    "    hyperparameter_ranges,\n",
    "    metric_definitions=metric_definitions,\n",
    "    objective_type='Maximize',\n",
    "    max_jobs=15,\n",
    "    max_parallel_jobs=10,\n",
    "    strategy=\"Grid\",\n",
    ")"
   ]
  },
  {
   "cell_type": "code",
   "execution_count": null,
   "id": "c3ea6472-8751-4dc6-b177-57f1e20599b0",
   "metadata": {
    "tags": []
   },
   "outputs": [],
   "source": [
    "tuner.fit(    \n",
    "    job_name=jobname,\n",
    ")"
   ]
  },
  {
   "cell_type": "markdown",
   "id": "1a78e4ea-e28b-4add-a608-026a8ae2427c",
   "metadata": {
    "tags": []
   },
   "source": [
    "- Podemos ver los resultados con HyperparameterTuningJobAnalytics.\n",
    "- También podemos verlo en la pantalla de experimentos."
   ]
  },
  {
   "cell_type": "code",
   "execution_count": null,
   "id": "d7a0af18-04f8-46b2-bec4-acc46718f945",
   "metadata": {
    "tags": []
   },
   "outputs": [],
   "source": [
    "df= sagemaker.HyperparameterTuningJobAnalytics(\n",
    "    tuner.latest_tuning_job.job_name\n",
    ").dataframe()\n",
    "df"
   ]
  },
  {
   "cell_type": "code",
   "execution_count": null,
   "id": "3abdfd33-807b-4dd6-9e56-6bd30853774a",
   "metadata": {
    "tags": []
   },
   "outputs": [],
   "source": [
    "df.sort_values(by='FinalObjectiveValue', ascending=False)"
   ]
  },
  {
   "cell_type": "code",
   "execution_count": null,
   "id": "4bbdb215-ef99-4a8d-b72d-7ddc1d7689d3",
   "metadata": {
    "tags": []
   },
   "outputs": [],
   "source": [
    "df.loc[\n",
    "    :, ['FinalObjectiveValue', 'layers']\n",
    "].set_index('layers').sort_index().plot()"
   ]
  },
  {
   "cell_type": "code",
   "execution_count": null,
   "id": "c6c07345-c7c1-4ccf-88ce-c91c8fe8c5c8",
   "metadata": {},
   "outputs": [],
   "source": []
  }
 ],
 "metadata": {
  "forced_instance_type": "ml.t3.medium",
  "forced_lcc_arn": "",
  "instance_type": "ml.t3.medium",
  "kernelspec": {
   "display_name": "Python 3 (ipykernel)",
   "language": "python",
   "name": "python3"
  },
  "language_info": {
   "codemirror_mode": {
    "name": "ipython",
    "version": 3
   },
   "file_extension": ".py",
   "mimetype": "text/x-python",
   "name": "python",
   "nbconvert_exporter": "python",
   "pygments_lexer": "ipython3",
   "version": "3.10.14"
  },
  "vscode": {
   "interpreter": {
    "hash": "b0fa6594d8f4cbf19f97940f81e996739fb7646882a419484c72d19e05852a7e"
   }
  }
 },
 "nbformat": 4,
 "nbformat_minor": 5
}
