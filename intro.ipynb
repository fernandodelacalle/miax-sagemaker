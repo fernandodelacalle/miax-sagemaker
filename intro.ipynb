{
 "cells": [
  {
   "cell_type": "markdown",
   "id": "3cbdc664-35bb-431d-a850-50c0c2353071",
   "metadata": {},
   "source": [
    "# Machine Learning en AWS: AWS Sagemaker.\n",
    "\n",
    "<center>\n",
    "<img src=\"./module_1/imgs/SageMaker.jpg\"  alt=\"drawing\" width=\"800\"/>\n",
    "</center>\n",
    "\n",
    "- Fernando de la Calle Silos\n",
    "- fcalle@grupobme.es\n",
    "___\n"
   ]
  },
  {
   "cell_type": "markdown",
   "id": "bf9fa9cc-8e96-419a-8d2f-7285f90d7324",
   "metadata": {
    "tags": []
   },
   "source": [
    "## Syllabus\n",
    "\n",
    "\n",
    "### Modúlo 1: Introducción a Sagemaker.\n",
    "* [1.0.](module_1/1_00.ipynb) Componentes de Sagemaker.\n",
    "* [1.1.](module_1/1_01.ipynb) Configurando SageMaker Studio.\n",
    "* [1.2.](module_1/1_02.ipynb) Nuestro primer notebook en Sagemaker Studio.\n",
    "* [1.3.](module_1/1_03.ipynb) Sagemaker Python SDK.\n",
    "\n",
    "\n",
    "### Módulo 2: Repaso Machine Learning y Introducción Tensorflow.\n",
    "* [2.0.](module_2/1_00.ipynb) Regresión con sklearn .\n",
    "* [2.1.](module_2/1_01.ipynb) Clasificación con sklearn .\n",
    "* [2.2.](module_2/1_02.ipynb) Regresión con Tensorflow y Keras.\n",
    "* [2.3.](module_2/1_03.ipynb) Clasificación con Tensorflow y Keras.\n",
    "\n",
    "\n",
    "### Módulo 3: Preprocesado y Construcción de Features con Amazon SageMaker.\n",
    "* [2.0.](module_2/1_00.ipynb) Preparación de datos con SageMaker Data Wrangler\n",
    "* [2.0.](module_2/1_00.ipynb) Repositorio de Features con SageMaker Feature Store\n",
    "\n",
    "\n",
    "### Módulo 4: Entrenamiento de Modelos con Amazon Sagemaker.\n",
    "* [2.0.](module_2/1_00.ipynb) Building and Training ML Models with SageMaker Studio IDE\n",
    "* [2.0.](module_2/1_00.ipynb) Detecting ML Bias and Explaining Models with SageMaker Clarify\n",
    "\n",
    "\n",
    "### Módulo 5: Despliege de Modelos con Amazon Sagemaker.\n",
    "* [2.0.](module_2/1_00.ipynb) Hosting ML Models in the Cloud: Best Practices\n",
    "\n",
    "\n",
    "### Módulo 6: AutoML con Amazon Sagemaker Autopilot.\n",
    "* [2.0.](module_2/1_00.ipynb) ML with SageMaker Autopilot\n",
    "\n"
   ]
  },
  {
   "cell_type": "markdown",
   "id": "289e8808-cea1-431d-b4d5-4012f20a8598",
   "metadata": {},
   "source": [
    "## Recursos\n",
    "\n",
    "- \"Getting Started with Amazon SageMaker Studio\" by Michael Hsieh.\n",
    "<center>\n",
    "<img src=\"./module_1/imgs/book.jpg\"  alt=\"drawing\" width=\"300\"/>\n",
    "</center>\n",
    "- Sagemaker Developer Guide: https://docs.aws.amazon.com/sagemaker/latest/dg/whatis.html\n",
    "- Amazon SageMaker Python SDK: https://sagemaker.readthedocs.io/en/stable/index.html\n",
    "- Sagemaker Examples: https://sagemaker-examples.readthedocs.io/en/latest/index.html\n",
    "\n",
    "\n"
   ]
  }
 ],
 "metadata": {
  "kernelspec": {
   "display_name": "",
   "name": ""
  },
  "language_info": {
   "name": ""
  }
 },
 "nbformat": 4,
 "nbformat_minor": 5
}
