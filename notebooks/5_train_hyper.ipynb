{
 "cells": [
  {
   "cell_type": "code",
   "execution_count": 4,
   "metadata": {},
   "outputs": [],
   "source": [
    "import sagemaker\n",
    "from sagemaker.debugger import Rule\n",
    "from sagemaker.debugger import rule_configs\n",
    "from sagemaker.session import TrainingInput\n",
    "from sagemaker.tuner import IntegerParameter\n",
    "from sagemaker.tuner import HyperparameterTuner"
   ]
  },
  {
   "cell_type": "markdown",
   "metadata": {},
   "source": [
    "___"
   ]
  },
  {
   "cell_type": "code",
   "execution_count": 5,
   "metadata": {},
   "outputs": [
    {
     "name": "stdout",
     "output_type": "stream",
     "text": [
      "AWS Region: eu-west-3\n",
      "RoleArn: arn:aws:iam::260598086981:role/service-role/AmazonSageMaker-ExecutionRole-20210916T222927\n"
     ]
    }
   ],
   "source": [
    "region = sagemaker.Session().boto_region_name\n",
    "print(f\"AWS Region: {region}\")\n",
    "\n",
    "role = sagemaker.get_execution_role()\n",
    "print(f\"RoleArn: {role}\")\n",
    "\n",
    "sm_sess = sagemaker.session.Session()"
   ]
  },
  {
   "cell_type": "code",
   "execution_count": 7,
   "metadata": {},
   "outputs": [
    {
     "data": {
      "text/plain": [
       "'sagemaker-eu-west-3-260598086981'"
      ]
     },
     "execution_count": 7,
     "metadata": {},
     "output_type": "execute_result"
    }
   ],
   "source": [
    "bucket = sagemaker.Session().default_bucket()\n",
    "bucket"
   ]
  },
  {
   "cell_type": "code",
   "execution_count": 8,
   "metadata": {},
   "outputs": [
    {
     "data": {
      "text/plain": [
       "'s3://sagemaker-eu-west-3-260598086981/demo-sagemaker-xgboost-boston/xgboost_model'"
      ]
     },
     "execution_count": 8,
     "metadata": {},
     "output_type": "execute_result"
    }
   ],
   "source": [
    "prefix = \"demo-sagemaker-xgboost-boston\"\n",
    "model = 'xgboost_model'\n",
    "s3_output_location = f's3://{bucket}/{prefix}/{model}'\n",
    "print(f\"s3 output location: {s3_output_location}\")"
   ]
  },
  {
   "cell_type": "code",
   "execution_count": 9,
   "metadata": {},
   "outputs": [
    {
     "name": "stdout",
     "output_type": "stream",
     "text": [
      "659782779980.dkr.ecr.eu-west-3.amazonaws.com/sagemaker-xgboost:1.2-1\n"
     ]
    }
   ],
   "source": [
    "container=sagemaker.image_uris.retrieve(\"xgboost\", region, \"1.2-1\")\n",
    "print(f\"Container URI: {container}\")"
   ]
  },
  {
   "cell_type": "code",
   "execution_count": 10,
   "metadata": {},
   "outputs": [],
   "source": [
    "train_input = TrainingInput(\n",
    "    f\"s3://{bucket}/{prefix}/data/train.csv\", content_type=\"csv\"\n",
    ")\n",
    "validation_input = TrainingInput(\n",
    "    f\"s3://{bucket}/{prefix}/data/validation.csv\", content_type=\"csv\"\n",
    ")"
   ]
  },
  {
   "cell_type": "code",
   "execution_count": 11,
   "metadata": {},
   "outputs": [],
   "source": [
    "xgb_model=sagemaker.estimator.Estimator(\n",
    "    image_uri=container,\n",
    "    role=role,\n",
    "    instance_count=1,\n",
    "    instance_type='ml.m5.xlarge',\n",
    "    output_path=s3_output_location,\n",
    "    sagemaker_session=sm_sess,\n",
    ")"
   ]
  },
  {
   "cell_type": "code",
   "execution_count": 12,
   "metadata": {},
   "outputs": [],
   "source": [
    "xgb_model.set_hyperparameters(\n",
    "    eta = 0.2,\n",
    "    gamma = 4,\n",
    "    min_child_weight = 6,\n",
    "    subsample = 0.7,\n",
    "    objective = \"reg:squarederror\",\n",
    "    eval_metric='rmse', \n",
    "    num_round = 1000\n",
    ")"
   ]
  },
  {
   "cell_type": "code",
   "execution_count": 13,
   "metadata": {},
   "outputs": [],
   "source": [
    "hyperparameter_ranges = {\n",
    "    \"max_depth\": IntegerParameter(1, 10, scaling_type=\"Linear\"),\n",
    "}"
   ]
  },
  {
   "cell_type": "code",
   "execution_count": 14,
   "metadata": {},
   "outputs": [],
   "source": [
    "tuner = HyperparameterTuner(\n",
    "    xgb_model,\n",
    "    \"validation:rmse\",\n",
    "    hyperparameter_ranges,\n",
    "    objective_type='Minimize',\n",
    "    max_jobs=5,\n",
    "    max_parallel_jobs=5,\n",
    "    strategy=\"Random\",\n",
    ")"
   ]
  },
  {
   "cell_type": "code",
   "execution_count": 15,
   "metadata": {},
   "outputs": [
    {
     "name": "stdout",
     "output_type": "stream",
     "text": [
      ".........................................................!\n"
     ]
    }
   ],
   "source": [
    "tuner.fit(\n",
    "    {\"train\": train_input, \"validation\": validation_input},\n",
    ")"
   ]
  },
  {
   "cell_type": "code",
   "execution_count": 16,
   "metadata": {},
   "outputs": [],
   "source": [
    "df = sagemaker.HyperparameterTuningJobAnalytics(\n",
    "    tuner.latest_tuning_job.job_name\n",
    ").dataframe()"
   ]
  },
  {
   "cell_type": "code",
   "execution_count": 17,
   "metadata": {},
   "outputs": [
    {
     "data": {
      "text/html": [
       "<div>\n",
       "<style scoped>\n",
       "    .dataframe tbody tr th:only-of-type {\n",
       "        vertical-align: middle;\n",
       "    }\n",
       "\n",
       "    .dataframe tbody tr th {\n",
       "        vertical-align: top;\n",
       "    }\n",
       "\n",
       "    .dataframe thead th {\n",
       "        text-align: right;\n",
       "    }\n",
       "</style>\n",
       "<table border=\"1\" class=\"dataframe\">\n",
       "  <thead>\n",
       "    <tr style=\"text-align: right;\">\n",
       "      <th></th>\n",
       "      <th>max_depth</th>\n",
       "      <th>TrainingJobName</th>\n",
       "      <th>TrainingJobStatus</th>\n",
       "      <th>FinalObjectiveValue</th>\n",
       "      <th>TrainingStartTime</th>\n",
       "      <th>TrainingEndTime</th>\n",
       "      <th>TrainingElapsedTimeSeconds</th>\n",
       "    </tr>\n",
       "  </thead>\n",
       "  <tbody>\n",
       "    <tr>\n",
       "      <th>0</th>\n",
       "      <td>9.0</td>\n",
       "      <td>sagemaker-xgboost-210924-0816-005-c835f44b</td>\n",
       "      <td>Completed</td>\n",
       "      <td>3.48566</td>\n",
       "      <td>2021-09-24 08:19:37+00:00</td>\n",
       "      <td>2021-09-24 08:20:44+00:00</td>\n",
       "      <td>67.0</td>\n",
       "    </tr>\n",
       "    <tr>\n",
       "      <th>1</th>\n",
       "      <td>2.0</td>\n",
       "      <td>sagemaker-xgboost-210924-0816-004-e6f877c2</td>\n",
       "      <td>Completed</td>\n",
       "      <td>3.15543</td>\n",
       "      <td>2021-09-24 08:19:11+00:00</td>\n",
       "      <td>2021-09-24 08:20:22+00:00</td>\n",
       "      <td>71.0</td>\n",
       "    </tr>\n",
       "    <tr>\n",
       "      <th>2</th>\n",
       "      <td>7.0</td>\n",
       "      <td>sagemaker-xgboost-210924-0816-003-5f67ec14</td>\n",
       "      <td>Completed</td>\n",
       "      <td>3.39773</td>\n",
       "      <td>2021-09-24 08:19:17+00:00</td>\n",
       "      <td>2021-09-24 08:20:29+00:00</td>\n",
       "      <td>72.0</td>\n",
       "    </tr>\n",
       "    <tr>\n",
       "      <th>3</th>\n",
       "      <td>3.0</td>\n",
       "      <td>sagemaker-xgboost-210924-0816-002-8c52c36d</td>\n",
       "      <td>Completed</td>\n",
       "      <td>3.24672</td>\n",
       "      <td>2021-09-24 08:19:15+00:00</td>\n",
       "      <td>2021-09-24 08:20:28+00:00</td>\n",
       "      <td>73.0</td>\n",
       "    </tr>\n",
       "    <tr>\n",
       "      <th>4</th>\n",
       "      <td>1.0</td>\n",
       "      <td>sagemaker-xgboost-210924-0816-001-0aa8a790</td>\n",
       "      <td>Completed</td>\n",
       "      <td>3.77103</td>\n",
       "      <td>2021-09-24 08:19:02+00:00</td>\n",
       "      <td>2021-09-24 08:20:11+00:00</td>\n",
       "      <td>69.0</td>\n",
       "    </tr>\n",
       "  </tbody>\n",
       "</table>\n",
       "</div>"
      ],
      "text/plain": [
       "   max_depth                             TrainingJobName TrainingJobStatus  \\\n",
       "0        9.0  sagemaker-xgboost-210924-0816-005-c835f44b         Completed   \n",
       "1        2.0  sagemaker-xgboost-210924-0816-004-e6f877c2         Completed   \n",
       "2        7.0  sagemaker-xgboost-210924-0816-003-5f67ec14         Completed   \n",
       "3        3.0  sagemaker-xgboost-210924-0816-002-8c52c36d         Completed   \n",
       "4        1.0  sagemaker-xgboost-210924-0816-001-0aa8a790         Completed   \n",
       "\n",
       "   FinalObjectiveValue         TrainingStartTime           TrainingEndTime  \\\n",
       "0              3.48566 2021-09-24 08:19:37+00:00 2021-09-24 08:20:44+00:00   \n",
       "1              3.15543 2021-09-24 08:19:11+00:00 2021-09-24 08:20:22+00:00   \n",
       "2              3.39773 2021-09-24 08:19:17+00:00 2021-09-24 08:20:29+00:00   \n",
       "3              3.24672 2021-09-24 08:19:15+00:00 2021-09-24 08:20:28+00:00   \n",
       "4              3.77103 2021-09-24 08:19:02+00:00 2021-09-24 08:20:11+00:00   \n",
       "\n",
       "   TrainingElapsedTimeSeconds  \n",
       "0                        67.0  \n",
       "1                        71.0  \n",
       "2                        72.0  \n",
       "3                        73.0  \n",
       "4                        69.0  "
      ]
     },
     "execution_count": 17,
     "metadata": {},
     "output_type": "execute_result"
    }
   ],
   "source": [
    "df"
   ]
  },
  {
   "cell_type": "code",
   "execution_count": null,
   "metadata": {},
   "outputs": [],
   "source": [
    "df.loc[\n",
    "    :, ['FinalObjectiveValue', 'max_depth']\n",
    "].set_index('max_depth').sort_index().plot()"
   ]
  }
 ],
 "metadata": {
  "instance_type": "ml.t3.medium",
  "kernelspec": {
   "display_name": "Python 3 (Data Science)",
   "language": "python",
   "name": "python3__SAGEMAKER_INTERNAL__arn:aws:sagemaker:eu-west-3:615547856133:image/datascience-1.0"
  },
  "language_info": {
   "codemirror_mode": {
    "name": "ipython",
    "version": 3
   },
   "file_extension": ".py",
   "mimetype": "text/x-python",
   "name": "python",
   "nbconvert_exporter": "python",
   "pygments_lexer": "ipython3",
   "version": "3.7.10"
  }
 },
 "nbformat": 4,
 "nbformat_minor": 4
}
