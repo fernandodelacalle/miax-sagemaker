{
 "cells": [
  {
   "cell_type": "markdown",
   "id": "2b33617a-8bad-45e3-b803-e65165b3b37d",
   "metadata": {},
   "source": [
    "# Endpoint en Tiempo Real."
   ]
  },
  {
   "cell_type": "markdown",
   "id": "5deacc28-e6a6-4704-b38c-c7f01c3641be",
   "metadata": {},
   "source": [
    "- Para probar los endpoits podemos usar boto3 o AWS CLI.\n",
    "\n",
    "```bash\n",
    "aws sagemaker-runtime invoke-endpoint \\\n",
    "    --endpoint-name endpoint_name \\\n",
    "    --body fileb://$file_name \\\n",
    "    output_file.txt\n",
    "```\n",
    "- También desde la interfaz de sagemaker studio.\n",
    "- Doc: https://docs.aws.amazon.com/es_es/sagemaker/latest/dg/realtime-endpoints-test-endpoints.html"
   ]
  },
  {
   "cell_type": "markdown",
   "id": "2c46e0bc-d6d3-45d1-a005-b91f4295f98c",
   "metadata": {
    "tags": []
   },
   "source": [
    "#### Datos de prueba"
   ]
  },
  {
   "cell_type": "code",
   "execution_count": null,
   "id": "10e08ce4-1098-43a4-8243-9659ca1c798e",
   "metadata": {
    "tags": []
   },
   "outputs": [],
   "source": [
    "import pandas as pd\n",
    "df_test = pd.read_csv('test.csv', header=None)"
   ]
  },
  {
   "cell_type": "code",
   "execution_count": null,
   "id": "52d19312-43e1-4b24-bde6-6659c0ec06f3",
   "metadata": {
    "tags": []
   },
   "outputs": [],
   "source": [
    "to_try = df_test.iloc[[1,2, 497, 499], :]\n",
    "to_try"
   ]
  },
  {
   "cell_type": "markdown",
   "id": "f3771a38-d589-46e8-9a64-3d11c83fb39d",
   "metadata": {
    "tags": []
   },
   "source": [
    "#### Llamada al endpooint en tiempo real"
   ]
  },
  {
   "cell_type": "code",
   "execution_count": null,
   "id": "e53b6af2-33e0-43da-b1ce-e3b6603182b5",
   "metadata": {
    "tags": []
   },
   "outputs": [],
   "source": [
    "csv_string = to_try.iloc[:, 1:].to_csv(index=False, header=False)\n",
    "csv_string"
   ]
  },
  {
   "cell_type": "code",
   "execution_count": null,
   "id": "7c6d153e-4d41-4931-9ad5-473b0816d5f2",
   "metadata": {
    "tags": []
   },
   "outputs": [],
   "source": [
    "import boto3\n",
    "\n",
    "# Create a low-level client representing Amazon SageMaker Runtime\n",
    "sagemaker_runtime = boto3.client(\"sagemaker-runtime\")\n",
    "\n",
    "# The name of the endpoint. The name must be unique within an AWS Region in your AWS account. \n",
    "endpoint_name='chun-xgboost-severless'\n",
    "\n",
    "# After you deploy a model into production using SageMaker hosting \n",
    "# services, your client applications use this API to get inferences \n",
    "# from the model hosted at the specified endpoint.\n",
    "response = sagemaker_runtime.invoke_endpoint(\n",
    "    EndpointName=endpoint_name,\n",
    "    ContentType='text/csv',\n",
    "    Body=csv_string,\n",
    ")\n",
    "\n",
    "# Optional - Print the response body and decode it so it is human read-able.\n",
    "print(response['Body'].read().decode('utf-8'))"
   ]
  },
  {
   "cell_type": "markdown",
   "id": "bc44ea67-4f89-48bc-9dad-0ac426c4b860",
   "metadata": {},
   "source": [
    "### Invocación desde una función lambda\n",
    "- https://aws.amazon.com/blogs/machine-learning/call-an-amazon-sagemaker-model-endpoint-using-amazon-api-gateway-and-aws-lambda/"
   ]
  },
  {
   "cell_type": "code",
   "execution_count": null,
   "id": "35887c03-2ce3-4139-aa51-feef90f324b2",
   "metadata": {},
   "outputs": [],
   "source": [
    "import os\n",
    "import io\n",
    "import boto3\n",
    "import json\n",
    "import csv\n",
    "\n",
    "# grab environment variables\n",
    "ENDPOINT_NAME = 'chun-xgboost-severless'\n",
    "runtime= boto3.client('runtime.sagemaker')\n",
    "\n",
    "def lambda_handler(event, context):\n",
    "    print(\"Received event: \" + json.dumps(event, indent=2))\n",
    "    \n",
    "    data = json.loads(json.dumps(event))\n",
    "    payload = data['data']\n",
    "    print(payload)\n",
    "    \n",
    "    response = runtime.invoke_endpoint(EndpointName=ENDPOINT_NAME,\n",
    "                                       ContentType='text/csv',\n",
    "                                       Body=payload)\n",
    "    print(response)\n",
    "    result = json.loads(response['Body'].read().decode())\n",
    "    print(result)\n",
    "    pred = int(result['predictions'][0]['score'])\n",
    "    predicted_label = 'M' if pred == 1 else 'B'\n",
    "    \n",
    "    return predicted_label"
   ]
  }
 ],
 "metadata": {
  "instance_type": "ml.t3.medium",
  "kernelspec": {
   "display_name": "Python 3 (ipykernel)",
   "language": "python",
   "name": "python3"
  },
  "language_info": {
   "codemirror_mode": {
    "name": "ipython",
    "version": 3
   },
   "file_extension": ".py",
   "mimetype": "text/x-python",
   "name": "python",
   "nbconvert_exporter": "python",
   "pygments_lexer": "ipython3",
   "version": "3.10.14"
  }
 },
 "nbformat": 4,
 "nbformat_minor": 5
}
