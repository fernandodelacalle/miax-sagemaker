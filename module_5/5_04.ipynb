{
 "cells": [
  {
   "cell_type": "markdown",
   "id": "d24fa81e-3d2a-41f5-9472-1f7e3aaa71ba",
   "metadata": {},
   "source": [
    "# Ejercicio: Batch Transform.\n",
    "- Usando los datos de test del ejercicio [Ejercicio: Clasificación con XGBoost](../module_4/4_03.ipynb).\n",
    "- Crea una Batch Transform para obtener las predicciones finales.\n",
    "- Para obtener el modelo que entrenamos puedes usar el siguiente código.\n",
    "```python\n",
    "estimator = sagemaker.estimator.Estimator.attach(training_job_name='xgboost-quiebras')\n",
    "```\n",
    "- Calcula la curva ROC y AUC sobre estas predicciones."
   ]
  },
  {
   "cell_type": "code",
   "execution_count": null,
   "id": "ff9b14c4-5f4a-4718-8efc-36a58208f82d",
   "metadata": {},
   "outputs": [],
   "source": []
  }
 ],
 "metadata": {
  "instance_type": "ml.t3.medium",
  "kernelspec": {
   "display_name": "Python 3 (Data Science)",
   "language": "python",
   "name": "python3__SAGEMAKER_INTERNAL__arn:aws:sagemaker:eu-west-1:470317259841:image/datascience-1.0"
  },
  "language_info": {
   "codemirror_mode": {
    "name": "ipython",
    "version": 3
   },
   "file_extension": ".py",
   "mimetype": "text/x-python",
   "name": "python",
   "nbconvert_exporter": "python",
   "pygments_lexer": "ipython3",
   "version": "3.7.10"
  }
 },
 "nbformat": 4,
 "nbformat_minor": 5
}
