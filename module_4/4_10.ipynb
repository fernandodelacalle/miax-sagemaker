{
 "cells": [
  {
   "cell_type": "markdown",
   "metadata": {},
   "source": [
    "# ML Bias y Explicabilidad de Modelos con SageMaker Clarify."
   ]
  },
  {
   "cell_type": "markdown",
   "metadata": {},
   "source": [
    "Amazon SageMaker Clarify proporciona a los desarrolladores de machine learning (ML) herramientas especialmente diseñadas para obtener una mayor comprensión de sus datos y modelos de entrenamiento de ML. Amazon Clarify detecta y mide el sesgo potencial mediante una variedad de métricas para que puedan abordar el sesgo potencial y explicar las predicciones del modelo."
   ]
  },
  {
   "cell_type": "markdown",
   "metadata": {},
   "source": [
    "Tenemos dos Tipos distintos de bias:\n",
    "- Data bias: desbalance de los diferentes grupos o categorías,\n",
    "- Model bias: introducido por el model."
   ]
  },
  {
   "cell_type": "code",
   "execution_count": 2,
   "metadata": {},
   "outputs": [
    {
     "name": "stdout",
     "output_type": "stream",
     "text": [
      "Keyring is skipped due to an exception: 'keyring.backends'\n",
      "\u001b[33mWARNING: Running pip as the 'root' user can result in broken permissions and conflicting behaviour with the system package manager. It is recommended to use a virtual environment instead: https://pip.pypa.io/warnings/venv\u001b[0m\u001b[33m\n",
      "\u001b[0m"
     ]
    }
   ],
   "source": [
    "!pip install -q sagemaker-experiments"
   ]
  },
  {
   "cell_type": "code",
   "execution_count": 3,
   "metadata": {},
   "outputs": [],
   "source": [
    "import sagemaker\n",
    "import boto3\n",
    "\n",
    "role = sagemaker.get_execution_role()\n",
    "sess = sagemaker.Session()\n",
    "region = sess.boto_region_name\n",
    "bucket = sess.default_bucket()\n",
    "prefix = 'module_4/part_10'"
   ]
  },
  {
   "cell_type": "code",
   "execution_count": 15,
   "metadata": {},
   "outputs": [],
   "source": [
    "from datetime import datetime, timedelta, timezone\n",
    "import json, os, re, uuid\n",
    "from time import sleep, gmtime, strftime\n",
    "\n",
    "import pandas as pd\n",
    "import numpy as np\n",
    "import matplotlib.pyplot as plt\n",
    "%matplotlib inline\n",
    "\n",
    "from smexperiments.experiment import Experiment\n",
    "from smexperiments.trial import Trial\n",
    "from botocore.exceptions import ClientError\n",
    "\n",
    "from sagemaker import image_uris\n",
    "from sagemaker.s3 import S3Uploader, S3Downloader\n",
    "from sagemaker.inputs import TrainingInput\n",
    "\n",
    "from sagemaker import clarify"
   ]
  },
  {
   "cell_type": "markdown",
   "metadata": {},
   "source": [
    "### Preparación de los datos\n",
    "- Usaremos la base de distrubución de salarios de University of California Irvine (UCI).\n",
    "- Queremos predecir si una persona gana más de $50,000 ($50K)"
   ]
  },
  {
   "cell_type": "markdown",
   "metadata": {
    "tags": []
   },
   "source": [
    "Features:\n",
    "1. **Age**: continuous.\n",
    "1. **Workclass**: Private, Self-emp-not-inc, Self-emp-inc, Federal-gov, Local-gov, State-gov, Without-pay, Never-worked.\n",
    "1. **Fnlwgt**: continuous (the number of people the census takers believe that observation represents).\n",
    "1. **Education**: Bachelors, Some-college, 11th, HS-grad, Prof-school, Assoc-acdm, Assoc-voc, 9th, 7th-8th, 12th, Masters, 1st-4th, 10th, Doctorate, 5th-6th, Preschool.\n",
    "1. **Education-num**: continuous.\n",
    "1. **Marital-status**: Married-civ-spouse, Divorced, Never-married, Separated, Widowed, Married-spouse-absent, Married-AF-spouse.\n",
    "1. **Occupation**: Tech-support, Craft-repair, Other-service, Sales, Exec-managerial, Prof-specialty, Handlers-cleaners, Machine-op-inspct, Adm-clerical, Farming-fishing, Transport-moving, Priv-house-serv, Protective-serv, Armed-Forces.\n",
    "1. **Relationship**: Wife, Own-child, Husband, Not-in-family, Other-relative, Unmarried.\n",
    "1. **Ethnic group**: White, Asian-Pac-Islander, Amer-Indian-Eskimo, Other, Black.\n",
    "1. **Sex**: Female, Male.\n",
    "    * **Note**: this data is extracted from the 1994 Census and enforces a binary option on Sex\n",
    "1. **Capital-gain**: continuous.\n",
    "1. **Capital-loss**: continuous.\n",
    "1. **Hours-per-week**: continuous.\n",
    "1. **Native-country**: United-States, Cambodia, England, Puerto-Rico, Canada, Germany, Outlying-US(Guam-USVI-etc), India, Japan, Greece, South, China, Cuba, Iran, Honduras, Philippines, Italy, Poland, Jamaica, Vietnam, Mexico, Portugal, Ireland, France, Dominican-Republic, Laos, Ecuador, Taiwan, Haiti, Columbia, Hungary, Guatemala, Nicaragua, Scotland, Thailand, Yugoslavia, El-Salvador, Trinadad&Tobago, Peru, Hong, Holand-Netherlands.\n",
    "\n",
    "Target:  \n",
    "15. **Target**: <=50,000, >$50,000."
   ]
  },
  {
   "cell_type": "code",
   "execution_count": 5,
   "metadata": {},
   "outputs": [],
   "source": [
    "orig_columns=[\n",
    "    'age', 'workclass', 'fnlwgt', 'education', 'education-num', 'marital-status', \n",
    "    'occupation', 'relationship', 'race', 'sex', 'capital-gain', 'capital-loss', \n",
    "    'hours-per-week', 'native-country', 'target'\n",
    "]\n",
    "\n",
    "df = pd.read_csv(\n",
    "    'https://archive.ics.uci.edu/ml/machine-learning-databases/adult/adult.data', \n",
    "    names=orig_columns, sep=r'\\s*,\\s*', na_values='?', engine='python'\n",
    "\n",
    ")\n",
    "\n",
    "df_valtest = pd.read_csv(\n",
    "    'https://archive.ics.uci.edu/ml/machine-learning-databases/adult/adult.test', \n",
    "    names=orig_columns, skiprows=1, sep=r'\\s*,\\s*', na_values='?', engine='python'\n",
    ")\n",
    "\n",
    "df.drop(columns='education', inplace=True)\n",
    "df_valtest.drop(columns='education', inplace=True)\n",
    "df_valtest['target'] = df_valtest['target'].replace(to_replace=['<=50K.', '>50K.'], \n",
    "                                                    value=['<=50K', '>50K'])\n",
    "# move the target column to first for XGBoost\n",
    "new_columns=df.columns.tolist()\n",
    "new_columns=[new_columns[-1]]+new_columns[:-1]\n",
    "df=df[new_columns]\n",
    "df_valtest=df_valtest[new_columns]"
   ]
  },
  {
   "cell_type": "code",
   "execution_count": 6,
   "metadata": {},
   "outputs": [
    {
     "data": {
      "text/html": [
       "<div>\n",
       "<style scoped>\n",
       "    .dataframe tbody tr th:only-of-type {\n",
       "        vertical-align: middle;\n",
       "    }\n",
       "\n",
       "    .dataframe tbody tr th {\n",
       "        vertical-align: top;\n",
       "    }\n",
       "\n",
       "    .dataframe thead th {\n",
       "        text-align: right;\n",
       "    }\n",
       "</style>\n",
       "<table border=\"1\" class=\"dataframe\">\n",
       "  <thead>\n",
       "    <tr style=\"text-align: right;\">\n",
       "      <th></th>\n",
       "      <th>target</th>\n",
       "      <th>age</th>\n",
       "      <th>workclass</th>\n",
       "      <th>fnlwgt</th>\n",
       "      <th>education-num</th>\n",
       "      <th>marital-status</th>\n",
       "      <th>occupation</th>\n",
       "      <th>relationship</th>\n",
       "      <th>race</th>\n",
       "      <th>sex</th>\n",
       "      <th>capital-gain</th>\n",
       "      <th>capital-loss</th>\n",
       "      <th>hours-per-week</th>\n",
       "      <th>native-country</th>\n",
       "    </tr>\n",
       "  </thead>\n",
       "  <tbody>\n",
       "    <tr>\n",
       "      <th>0</th>\n",
       "      <td>&lt;=50K</td>\n",
       "      <td>39</td>\n",
       "      <td>State-gov</td>\n",
       "      <td>77516</td>\n",
       "      <td>13</td>\n",
       "      <td>Never-married</td>\n",
       "      <td>Adm-clerical</td>\n",
       "      <td>Not-in-family</td>\n",
       "      <td>White</td>\n",
       "      <td>Male</td>\n",
       "      <td>2174</td>\n",
       "      <td>0</td>\n",
       "      <td>40</td>\n",
       "      <td>United-States</td>\n",
       "    </tr>\n",
       "    <tr>\n",
       "      <th>1</th>\n",
       "      <td>&lt;=50K</td>\n",
       "      <td>50</td>\n",
       "      <td>Self-emp-not-inc</td>\n",
       "      <td>83311</td>\n",
       "      <td>13</td>\n",
       "      <td>Married-civ-spouse</td>\n",
       "      <td>Exec-managerial</td>\n",
       "      <td>Husband</td>\n",
       "      <td>White</td>\n",
       "      <td>Male</td>\n",
       "      <td>0</td>\n",
       "      <td>0</td>\n",
       "      <td>13</td>\n",
       "      <td>United-States</td>\n",
       "    </tr>\n",
       "    <tr>\n",
       "      <th>2</th>\n",
       "      <td>&lt;=50K</td>\n",
       "      <td>38</td>\n",
       "      <td>Private</td>\n",
       "      <td>215646</td>\n",
       "      <td>9</td>\n",
       "      <td>Divorced</td>\n",
       "      <td>Handlers-cleaners</td>\n",
       "      <td>Not-in-family</td>\n",
       "      <td>White</td>\n",
       "      <td>Male</td>\n",
       "      <td>0</td>\n",
       "      <td>0</td>\n",
       "      <td>40</td>\n",
       "      <td>United-States</td>\n",
       "    </tr>\n",
       "    <tr>\n",
       "      <th>3</th>\n",
       "      <td>&lt;=50K</td>\n",
       "      <td>53</td>\n",
       "      <td>Private</td>\n",
       "      <td>234721</td>\n",
       "      <td>7</td>\n",
       "      <td>Married-civ-spouse</td>\n",
       "      <td>Handlers-cleaners</td>\n",
       "      <td>Husband</td>\n",
       "      <td>Black</td>\n",
       "      <td>Male</td>\n",
       "      <td>0</td>\n",
       "      <td>0</td>\n",
       "      <td>40</td>\n",
       "      <td>United-States</td>\n",
       "    </tr>\n",
       "    <tr>\n",
       "      <th>4</th>\n",
       "      <td>&lt;=50K</td>\n",
       "      <td>28</td>\n",
       "      <td>Private</td>\n",
       "      <td>338409</td>\n",
       "      <td>13</td>\n",
       "      <td>Married-civ-spouse</td>\n",
       "      <td>Prof-specialty</td>\n",
       "      <td>Wife</td>\n",
       "      <td>Black</td>\n",
       "      <td>Female</td>\n",
       "      <td>0</td>\n",
       "      <td>0</td>\n",
       "      <td>40</td>\n",
       "      <td>Cuba</td>\n",
       "    </tr>\n",
       "  </tbody>\n",
       "</table>\n",
       "</div>"
      ],
      "text/plain": [
       "  target  age         workclass  fnlwgt  education-num      marital-status  \\\n",
       "0  <=50K   39         State-gov   77516             13       Never-married   \n",
       "1  <=50K   50  Self-emp-not-inc   83311             13  Married-civ-spouse   \n",
       "2  <=50K   38           Private  215646              9            Divorced   \n",
       "3  <=50K   53           Private  234721              7  Married-civ-spouse   \n",
       "4  <=50K   28           Private  338409             13  Married-civ-spouse   \n",
       "\n",
       "          occupation   relationship   race     sex  capital-gain  \\\n",
       "0       Adm-clerical  Not-in-family  White    Male          2174   \n",
       "1    Exec-managerial        Husband  White    Male             0   \n",
       "2  Handlers-cleaners  Not-in-family  White    Male             0   \n",
       "3  Handlers-cleaners        Husband  Black    Male             0   \n",
       "4     Prof-specialty           Wife  Black  Female             0   \n",
       "\n",
       "   capital-loss  hours-per-week native-country  \n",
       "0             0              40  United-States  \n",
       "1             0              13  United-States  \n",
       "2             0              40  United-States  \n",
       "3             0              40  United-States  \n",
       "4             0              40           Cuba  "
      ]
     },
     "execution_count": 6,
     "metadata": {},
     "output_type": "execute_result"
    }
   ],
   "source": [
    "df.head()"
   ]
  },
  {
   "cell_type": "code",
   "execution_count": 7,
   "metadata": {},
   "outputs": [],
   "source": [
    "# Categorical features to ordinal\n",
    "# Ej:\n",
    "# - sex: Male (1), Female (0)\n",
    "# - target: >50K (1), <=50K (0)\n",
    "\n",
    "from sklearn import preprocessing\n",
    "\n",
    "categorical_columns = df.select_dtypes(include='object').columns\n",
    "\n",
    "encoder = preprocessing.OrdinalEncoder(dtype=int)\n",
    "df[categorical_columns] = encoder.fit_transform(df[categorical_columns].fillna('NaN'))\n",
    "df_valtest[categorical_columns] = encoder.transform(df_valtest[categorical_columns].fillna('NaN'))"
   ]
  },
  {
   "cell_type": "code",
   "execution_count": 9,
   "metadata": {
    "tags": []
   },
   "outputs": [
    {
     "data": {
      "text/plain": [
       "[array(['<=50K', '>50K'], dtype=object),\n",
       " array(['Federal-gov', 'Local-gov', 'NaN', 'Never-worked', 'Private',\n",
       "        'Self-emp-inc', 'Self-emp-not-inc', 'State-gov', 'Without-pay'],\n",
       "       dtype=object),\n",
       " array(['Divorced', 'Married-AF-spouse', 'Married-civ-spouse',\n",
       "        'Married-spouse-absent', 'Never-married', 'Separated', 'Widowed'],\n",
       "       dtype=object),\n",
       " array(['Adm-clerical', 'Armed-Forces', 'Craft-repair', 'Exec-managerial',\n",
       "        'Farming-fishing', 'Handlers-cleaners', 'Machine-op-inspct', 'NaN',\n",
       "        'Other-service', 'Priv-house-serv', 'Prof-specialty',\n",
       "        'Protective-serv', 'Sales', 'Tech-support', 'Transport-moving'],\n",
       "       dtype=object),\n",
       " array(['Husband', 'Not-in-family', 'Other-relative', 'Own-child',\n",
       "        'Unmarried', 'Wife'], dtype=object),\n",
       " array(['Amer-Indian-Eskimo', 'Asian-Pac-Islander', 'Black', 'Other',\n",
       "        'White'], dtype=object),\n",
       " array(['Female', 'Male'], dtype=object),\n",
       " array(['Cambodia', 'Canada', 'China', 'Columbia', 'Cuba',\n",
       "        'Dominican-Republic', 'Ecuador', 'El-Salvador', 'England',\n",
       "        'France', 'Germany', 'Greece', 'Guatemala', 'Haiti',\n",
       "        'Holand-Netherlands', 'Honduras', 'Hong', 'Hungary', 'India',\n",
       "        'Iran', 'Ireland', 'Italy', 'Jamaica', 'Japan', 'Laos', 'Mexico',\n",
       "        'NaN', 'Nicaragua', 'Outlying-US(Guam-USVI-etc)', 'Peru',\n",
       "        'Philippines', 'Poland', 'Portugal', 'Puerto-Rico', 'Scotland',\n",
       "        'South', 'Taiwan', 'Thailand', 'Trinadad&Tobago', 'United-States',\n",
       "        'Vietnam', 'Yugoslavia'], dtype=object)]"
      ]
     },
     "execution_count": 9,
     "metadata": {},
     "output_type": "execute_result"
    }
   ],
   "source": [
    "encoder.categories_"
   ]
  },
  {
   "cell_type": "code",
   "execution_count": 8,
   "metadata": {
    "tags": []
   },
   "outputs": [
    {
     "data": {
      "text/html": [
       "<div>\n",
       "<style scoped>\n",
       "    .dataframe tbody tr th:only-of-type {\n",
       "        vertical-align: middle;\n",
       "    }\n",
       "\n",
       "    .dataframe tbody tr th {\n",
       "        vertical-align: top;\n",
       "    }\n",
       "\n",
       "    .dataframe thead th {\n",
       "        text-align: right;\n",
       "    }\n",
       "</style>\n",
       "<table border=\"1\" class=\"dataframe\">\n",
       "  <thead>\n",
       "    <tr style=\"text-align: right;\">\n",
       "      <th></th>\n",
       "      <th>target</th>\n",
       "      <th>age</th>\n",
       "      <th>workclass</th>\n",
       "      <th>fnlwgt</th>\n",
       "      <th>education-num</th>\n",
       "      <th>marital-status</th>\n",
       "      <th>occupation</th>\n",
       "      <th>relationship</th>\n",
       "      <th>race</th>\n",
       "      <th>sex</th>\n",
       "      <th>capital-gain</th>\n",
       "      <th>capital-loss</th>\n",
       "      <th>hours-per-week</th>\n",
       "      <th>native-country</th>\n",
       "    </tr>\n",
       "  </thead>\n",
       "  <tbody>\n",
       "    <tr>\n",
       "      <th>0</th>\n",
       "      <td>0</td>\n",
       "      <td>39</td>\n",
       "      <td>7</td>\n",
       "      <td>77516</td>\n",
       "      <td>13</td>\n",
       "      <td>4</td>\n",
       "      <td>0</td>\n",
       "      <td>1</td>\n",
       "      <td>4</td>\n",
       "      <td>1</td>\n",
       "      <td>2174</td>\n",
       "      <td>0</td>\n",
       "      <td>40</td>\n",
       "      <td>39</td>\n",
       "    </tr>\n",
       "    <tr>\n",
       "      <th>1</th>\n",
       "      <td>0</td>\n",
       "      <td>50</td>\n",
       "      <td>6</td>\n",
       "      <td>83311</td>\n",
       "      <td>13</td>\n",
       "      <td>2</td>\n",
       "      <td>3</td>\n",
       "      <td>0</td>\n",
       "      <td>4</td>\n",
       "      <td>1</td>\n",
       "      <td>0</td>\n",
       "      <td>0</td>\n",
       "      <td>13</td>\n",
       "      <td>39</td>\n",
       "    </tr>\n",
       "    <tr>\n",
       "      <th>2</th>\n",
       "      <td>0</td>\n",
       "      <td>38</td>\n",
       "      <td>4</td>\n",
       "      <td>215646</td>\n",
       "      <td>9</td>\n",
       "      <td>0</td>\n",
       "      <td>5</td>\n",
       "      <td>1</td>\n",
       "      <td>4</td>\n",
       "      <td>1</td>\n",
       "      <td>0</td>\n",
       "      <td>0</td>\n",
       "      <td>40</td>\n",
       "      <td>39</td>\n",
       "    </tr>\n",
       "    <tr>\n",
       "      <th>3</th>\n",
       "      <td>0</td>\n",
       "      <td>53</td>\n",
       "      <td>4</td>\n",
       "      <td>234721</td>\n",
       "      <td>7</td>\n",
       "      <td>2</td>\n",
       "      <td>5</td>\n",
       "      <td>0</td>\n",
       "      <td>2</td>\n",
       "      <td>1</td>\n",
       "      <td>0</td>\n",
       "      <td>0</td>\n",
       "      <td>40</td>\n",
       "      <td>39</td>\n",
       "    </tr>\n",
       "    <tr>\n",
       "      <th>4</th>\n",
       "      <td>0</td>\n",
       "      <td>28</td>\n",
       "      <td>4</td>\n",
       "      <td>338409</td>\n",
       "      <td>13</td>\n",
       "      <td>2</td>\n",
       "      <td>10</td>\n",
       "      <td>5</td>\n",
       "      <td>2</td>\n",
       "      <td>0</td>\n",
       "      <td>0</td>\n",
       "      <td>0</td>\n",
       "      <td>40</td>\n",
       "      <td>4</td>\n",
       "    </tr>\n",
       "    <tr>\n",
       "      <th>...</th>\n",
       "      <td>...</td>\n",
       "      <td>...</td>\n",
       "      <td>...</td>\n",
       "      <td>...</td>\n",
       "      <td>...</td>\n",
       "      <td>...</td>\n",
       "      <td>...</td>\n",
       "      <td>...</td>\n",
       "      <td>...</td>\n",
       "      <td>...</td>\n",
       "      <td>...</td>\n",
       "      <td>...</td>\n",
       "      <td>...</td>\n",
       "      <td>...</td>\n",
       "    </tr>\n",
       "    <tr>\n",
       "      <th>32556</th>\n",
       "      <td>0</td>\n",
       "      <td>27</td>\n",
       "      <td>4</td>\n",
       "      <td>257302</td>\n",
       "      <td>12</td>\n",
       "      <td>2</td>\n",
       "      <td>13</td>\n",
       "      <td>5</td>\n",
       "      <td>4</td>\n",
       "      <td>0</td>\n",
       "      <td>0</td>\n",
       "      <td>0</td>\n",
       "      <td>38</td>\n",
       "      <td>39</td>\n",
       "    </tr>\n",
       "    <tr>\n",
       "      <th>32557</th>\n",
       "      <td>1</td>\n",
       "      <td>40</td>\n",
       "      <td>4</td>\n",
       "      <td>154374</td>\n",
       "      <td>9</td>\n",
       "      <td>2</td>\n",
       "      <td>6</td>\n",
       "      <td>0</td>\n",
       "      <td>4</td>\n",
       "      <td>1</td>\n",
       "      <td>0</td>\n",
       "      <td>0</td>\n",
       "      <td>40</td>\n",
       "      <td>39</td>\n",
       "    </tr>\n",
       "    <tr>\n",
       "      <th>32558</th>\n",
       "      <td>0</td>\n",
       "      <td>58</td>\n",
       "      <td>4</td>\n",
       "      <td>151910</td>\n",
       "      <td>9</td>\n",
       "      <td>6</td>\n",
       "      <td>0</td>\n",
       "      <td>4</td>\n",
       "      <td>4</td>\n",
       "      <td>0</td>\n",
       "      <td>0</td>\n",
       "      <td>0</td>\n",
       "      <td>40</td>\n",
       "      <td>39</td>\n",
       "    </tr>\n",
       "    <tr>\n",
       "      <th>32559</th>\n",
       "      <td>0</td>\n",
       "      <td>22</td>\n",
       "      <td>4</td>\n",
       "      <td>201490</td>\n",
       "      <td>9</td>\n",
       "      <td>4</td>\n",
       "      <td>0</td>\n",
       "      <td>3</td>\n",
       "      <td>4</td>\n",
       "      <td>1</td>\n",
       "      <td>0</td>\n",
       "      <td>0</td>\n",
       "      <td>20</td>\n",
       "      <td>39</td>\n",
       "    </tr>\n",
       "    <tr>\n",
       "      <th>32560</th>\n",
       "      <td>1</td>\n",
       "      <td>52</td>\n",
       "      <td>5</td>\n",
       "      <td>287927</td>\n",
       "      <td>9</td>\n",
       "      <td>2</td>\n",
       "      <td>3</td>\n",
       "      <td>5</td>\n",
       "      <td>4</td>\n",
       "      <td>0</td>\n",
       "      <td>15024</td>\n",
       "      <td>0</td>\n",
       "      <td>40</td>\n",
       "      <td>39</td>\n",
       "    </tr>\n",
       "  </tbody>\n",
       "</table>\n",
       "<p>32561 rows × 14 columns</p>\n",
       "</div>"
      ],
      "text/plain": [
       "       target  age  workclass  fnlwgt  education-num  marital-status  \\\n",
       "0           0   39          7   77516             13               4   \n",
       "1           0   50          6   83311             13               2   \n",
       "2           0   38          4  215646              9               0   \n",
       "3           0   53          4  234721              7               2   \n",
       "4           0   28          4  338409             13               2   \n",
       "...       ...  ...        ...     ...            ...             ...   \n",
       "32556       0   27          4  257302             12               2   \n",
       "32557       1   40          4  154374              9               2   \n",
       "32558       0   58          4  151910              9               6   \n",
       "32559       0   22          4  201490              9               4   \n",
       "32560       1   52          5  287927              9               2   \n",
       "\n",
       "       occupation  relationship  race  sex  capital-gain  capital-loss  \\\n",
       "0               0             1     4    1          2174             0   \n",
       "1               3             0     4    1             0             0   \n",
       "2               5             1     4    1             0             0   \n",
       "3               5             0     2    1             0             0   \n",
       "4              10             5     2    0             0             0   \n",
       "...           ...           ...   ...  ...           ...           ...   \n",
       "32556          13             5     4    0             0             0   \n",
       "32557           6             0     4    1             0             0   \n",
       "32558           0             4     4    0             0             0   \n",
       "32559           0             3     4    1             0             0   \n",
       "32560           3             5     4    0         15024             0   \n",
       "\n",
       "       hours-per-week  native-country  \n",
       "0                  40              39  \n",
       "1                  13              39  \n",
       "2                  40              39  \n",
       "3                  40              39  \n",
       "4                  40               4  \n",
       "...               ...             ...  \n",
       "32556              38              39  \n",
       "32557              40              39  \n",
       "32558              40              39  \n",
       "32559              20              39  \n",
       "32560              40              39  \n",
       "\n",
       "[32561 rows x 14 columns]"
      ]
     },
     "execution_count": 8,
     "metadata": {},
     "output_type": "execute_result"
    }
   ],
   "source": [
    "df"
   ]
  },
  {
   "cell_type": "markdown",
   "metadata": {
    "tags": []
   },
   "source": [
    "#### Division val -test"
   ]
  },
  {
   "cell_type": "code",
   "execution_count": 16,
   "metadata": {},
   "outputs": [],
   "source": [
    "from sklearn.model_selection import train_test_split\n",
    "\n",
    "df_val, df_test = train_test_split(\n",
    "    df_valtest, test_size=0.9, random_state=42, \n",
    "    shuffle=True, stratify=df_valtest['target']\n",
    ")"
   ]
  },
  {
   "cell_type": "code",
   "execution_count": 17,
   "metadata": {},
   "outputs": [
    {
     "data": {
      "text/plain": [
       "((32561, 14), (16281, 14), (1628, 14), (14653, 14))"
      ]
     },
     "execution_count": 17,
     "metadata": {},
     "output_type": "execute_result"
    }
   ],
   "source": [
    "df.shape, df_valtest.shape, df_val.shape, df_test.shape"
   ]
  },
  {
   "cell_type": "code",
   "execution_count": 18,
   "metadata": {},
   "outputs": [
    {
     "data": {
      "text/plain": [
       "Text(0.5, 0, 'Sex (0: Female, 1: Male)')"
      ]
     },
     "execution_count": 18,
     "metadata": {},
     "output_type": "execute_result"
    },
    {
     "data": {
      "image/png": "[encoded data removed]",
      "text/plain": [
       "<Figure size 640x480 with 1 Axes>"
      ]
     },
     "metadata": {},
     "output_type": "display_data"
    }
   ],
   "source": [
    "df['sex'].value_counts(sort=False).plot(kind='bar', title='Total count by sex', rot=0)\n",
    "plt.xlabel('Sex (0: Female, 1: Male)')"
   ]
  },
  {
   "cell_type": "code",
   "execution_count": 19,
   "metadata": {},
   "outputs": [
    {
     "data": {
      "text/plain": [
       "Text(0.5, 0, 'target (0: <=50K, 1: >50K)')"
      ]
     },
     "execution_count": 19,
     "metadata": {},
     "output_type": "execute_result"
    },
    {
     "data": {
      "image/png": "[encoded data removed]",
      "text/plain": [
       "<Figure size 640x480 with 1 Axes>"
      ]
     },
     "metadata": {},
     "output_type": "display_data"
    }
   ],
   "source": [
    "df['target'].value_counts(sort=False).plot(kind='bar', title='Target distribution', rot=0)\n",
    "plt.xlabel('target (0: <=50K, 1: >50K)')"
   ]
  },
  {
   "cell_type": "code",
   "execution_count": 20,
   "metadata": {},
   "outputs": [
    {
     "data": {
      "text/plain": [
       "Text(0.5, 0, 'Sex (0: Female, 1: Male)')"
      ]
     },
     "execution_count": 20,
     "metadata": {},
     "output_type": "execute_result"
    },
    {
     "data": {
      "image/png": "[encoded data removed]",
      "text/plain": [
       "<Figure size 640x480 with 1 Axes>"
      ]
     },
     "metadata": {},
     "output_type": "display_data"
    }
   ],
   "source": [
    "df[df['target']==1]['sex'].value_counts(sort=False).plot(\n",
    "            kind='bar', title='Earning >$50K by sex', rot=0)\n",
    "plt.xlabel('Sex (0: Female, 1: Male)')"
   ]
  },
  {
   "cell_type": "code",
   "execution_count": 21,
   "metadata": {},
   "outputs": [],
   "source": [
    "os.makedirs('data/adult', exist_ok=True)\n",
    "df.to_csv('data/adult/adult-data-train.csv', index=False, header=False)\n",
    "df_val.to_csv('data/adult/adult-data-val.csv', index=False, header=False)\n",
    "\n",
    "train_s3_uri = S3Uploader.upload('data/adult/adult-data-train.csv', f's3://{bucket}/{prefix}/adult-data')\n",
    "val_s3_uri = S3Uploader.upload('data/adult/adult-data-val.csv', f's3://{bucket}/{prefix}/adult-data')"
   ]
  },
  {
   "cell_type": "markdown",
   "metadata": {},
   "source": [
    "### Pretraining bias"
   ]
  },
  {
   "cell_type": "code",
   "execution_count": 23,
   "metadata": {},
   "outputs": [
    {
     "name": "stderr",
     "output_type": "stream",
     "text": [
      "INFO:sagemaker.image_uris:Defaulting to the only supported framework/algorithm version: 1.0.\n",
      "INFO:sagemaker.image_uris:Ignoring unnecessary instance type: None.\n"
     ]
    }
   ],
   "source": [
    "from sagemaker import clarify\n",
    "\n",
    "clarify_processor = clarify.SageMakerClarifyProcessor(\n",
    "    role=role, \n",
    "    instance_count=1, \n",
    "    instance_type='ml.m5.xlarge', \n",
    "    sagemaker_session=sess\n",
    ")"
   ]
  },
  {
   "cell_type": "code",
   "execution_count": 24,
   "metadata": {},
   "outputs": [],
   "source": [
    "experiment_name = 'adult-income-clarify'\n",
    "\n",
    "try:\n",
    "    experiment = Experiment.create(\n",
    "        experiment_name=experiment_name, \n",
    "        description='Analyzing ML bias in adult income dataset using SageMaker Clarify.')\n",
    "except ClientError as e:\n",
    "    print(f'{experiment_name} experiment already exists! Reusing the existing experiment.')"
   ]
  },
  {
   "cell_type": "code",
   "execution_count": 25,
   "metadata": {},
   "outputs": [],
   "source": [
    "# Creating a new trial for the experiment\n",
    "exp_datetime_1 = strftime('%Y-%m-%d-%H-%M-%S', gmtime())\n",
    "\n",
    "exp_trial_1 = Trial.create(experiment_name=experiment_name, \n",
    "                           trial_name=exp_datetime_1)\n",
    "\n",
    "experiment_config={\n",
    "    'ExperimentName': experiment_name,\n",
    "    'TrialName': exp_trial_1.trial_name,\n",
    "    'TrialComponentDisplayName': 'Pretraining-BiasAnalysis'\n",
    "}"
   ]
  },
  {
   "cell_type": "code",
   "execution_count": 26,
   "metadata": {},
   "outputs": [],
   "source": [
    "pretraining_bias_report_output_path = f's3://{bucket}/{prefix}/{experiment_name}-{exp_trial_1.trial_name}/clarify-pretraining-bias'\n",
    "\n",
    "bias_data_config = clarify.DataConfig(\n",
    "    s3_data_input_path=train_s3_uri,\n",
    "    s3_output_path=pretraining_bias_report_output_path,\n",
    "    label='target',\n",
    "    headers=df.columns.tolist(),\n",
    "    dataset_type='text/csv',\n",
    ")"
   ]
  },
  {
   "cell_type": "code",
   "execution_count": 27,
   "metadata": {},
   "outputs": [],
   "source": [
    "bias_config = clarify.BiasConfig(\n",
    "    label_values_or_threshold=[1],  # study the positive class\n",
    "    facet_name=['sex', 'race'],  # features to analyce\n",
    "    facet_values_or_threshold=[[0], None] # Compute the metrics when sex=0 and race all\n",
    ")"
   ]
  },
  {
   "cell_type": "code",
   "execution_count": 28,
   "metadata": {},
   "outputs": [
    {
     "name": "stderr",
     "output_type": "stream",
     "text": [
      "INFO:sagemaker.clarify:Analysis Config: {'dataset_type': 'text/csv', 'headers': ['target', 'age', 'workclass', 'fnlwgt', 'education-num', 'marital-status', 'occupation', 'relationship', 'race', 'sex', 'capital-gain', 'capital-loss', 'hours-per-week', 'native-country'], 'label': 'target', 'label_values_or_threshold': [1], 'facet': [{'name_or_index': 'sex', 'value_or_threshold': [0]}, {'name_or_index': 'race'}], 'methods': {'report': {'name': 'report', 'title': 'Analysis Report'}, 'pre_training_bias': {'methods': 'all'}}}\n",
      "INFO:sagemaker:Creating processing-job with name adult-clarify-pretraining-bias-2022-12-14-14-41-27\n"
     ]
    },
    {
     "name": "stdout",
     "output_type": "stream",
     "text": [
      "\n",
      "Job Name:  adult-clarify-pretraining-bias-2022-12-14-14-41-27\n",
      "Inputs:  [{'InputName': 'dataset', 'AppManaged': False, 'S3Input': {'S3Uri': 's3://sagemaker-eu-west-1-467432373215/module_4/part_10/adult-data/adult-data-train.csv', 'LocalPath': '/opt/ml/processing/input/data', 'S3DataType': 'S3Prefix', 'S3InputMode': 'File', 'S3DataDistributionType': 'FullyReplicated', 'S3CompressionType': 'None'}}, {'InputName': 'analysis_config', 'AppManaged': False, 'S3Input': {'S3Uri': 's3://sagemaker-eu-west-1-467432373215/module_4/part_10/adult-income-clarify-2022-12-14-14-41-27/clarify-pretraining-bias/analysis_config.json', 'LocalPath': '/opt/ml/processing/input/config', 'S3DataType': 'S3Prefix', 'S3InputMode': 'File', 'S3DataDistributionType': 'FullyReplicated', 'S3CompressionType': 'None'}}]\n",
      "Outputs:  [{'OutputName': 'analysis_result', 'AppManaged': False, 'S3Output': {'S3Uri': 's3://sagemaker-eu-west-1-467432373215/module_4/part_10/adult-income-clarify-2022-12-14-14-41-27/clarify-pretraining-bias', 'LocalPath': '/opt/ml/processing/output', 'S3UploadMode': 'EndOfJob'}}]\n"
     ]
    }
   ],
   "source": [
    "jobname = f'adult-clarify-pretraining-bias-{exp_datetime_1}'\n",
    "\n",
    "clarify_processor.run_pre_training_bias(\n",
    "    data_config=bias_data_config,\n",
    "    data_bias_config=bias_config,\n",
    "    methods='all',\n",
    "    job_name=jobname,\n",
    "    experiment_config=experiment_config,\n",
    "    wait=False,\n",
    "    logs=False\n",
    ")"
   ]
  },
  {
   "cell_type": "markdown",
   "metadata": {},
   "source": [
    "- Vemos los resultados en la interfaz de experimentos de sagemaker studio."
   ]
  },
  {
   "cell_type": "markdown",
   "metadata": {},
   "source": [
    "###  Solución bias: matching"
   ]
  },
  {
   "cell_type": "code",
   "execution_count": 35,
   "metadata": {
    "tags": []
   },
   "outputs": [
    {
     "data": {
      "text/html": [
       "<div>\n",
       "<style scoped>\n",
       "    .dataframe tbody tr th:only-of-type {\n",
       "        vertical-align: middle;\n",
       "    }\n",
       "\n",
       "    .dataframe tbody tr th {\n",
       "        vertical-align: top;\n",
       "    }\n",
       "\n",
       "    .dataframe thead th {\n",
       "        text-align: right;\n",
       "    }\n",
       "</style>\n",
       "<table border=\"1\" class=\"dataframe\">\n",
       "  <thead>\n",
       "    <tr style=\"text-align: right;\">\n",
       "      <th></th>\n",
       "      <th></th>\n",
       "      <th>age</th>\n",
       "      <th>workclass</th>\n",
       "      <th>fnlwgt</th>\n",
       "      <th>education-num</th>\n",
       "      <th>marital-status</th>\n",
       "      <th>occupation</th>\n",
       "      <th>relationship</th>\n",
       "      <th>race</th>\n",
       "      <th>capital-gain</th>\n",
       "      <th>capital-loss</th>\n",
       "      <th>hours-per-week</th>\n",
       "      <th>native-country</th>\n",
       "    </tr>\n",
       "    <tr>\n",
       "      <th>sex</th>\n",
       "      <th>target</th>\n",
       "      <th></th>\n",
       "      <th></th>\n",
       "      <th></th>\n",
       "      <th></th>\n",
       "      <th></th>\n",
       "      <th></th>\n",
       "      <th></th>\n",
       "      <th></th>\n",
       "      <th></th>\n",
       "      <th></th>\n",
       "      <th></th>\n",
       "      <th></th>\n",
       "    </tr>\n",
       "  </thead>\n",
       "  <tbody>\n",
       "    <tr>\n",
       "      <th rowspan=\"2\" valign=\"top\">0</th>\n",
       "      <th>0</th>\n",
       "      <td>9592</td>\n",
       "      <td>9592</td>\n",
       "      <td>9592</td>\n",
       "      <td>9592</td>\n",
       "      <td>9592</td>\n",
       "      <td>9592</td>\n",
       "      <td>9592</td>\n",
       "      <td>9592</td>\n",
       "      <td>9592</td>\n",
       "      <td>9592</td>\n",
       "      <td>9592</td>\n",
       "      <td>9592</td>\n",
       "    </tr>\n",
       "    <tr>\n",
       "      <th>1</th>\n",
       "      <td>1179</td>\n",
       "      <td>1179</td>\n",
       "      <td>1179</td>\n",
       "      <td>1179</td>\n",
       "      <td>1179</td>\n",
       "      <td>1179</td>\n",
       "      <td>1179</td>\n",
       "      <td>1179</td>\n",
       "      <td>1179</td>\n",
       "      <td>1179</td>\n",
       "      <td>1179</td>\n",
       "      <td>1179</td>\n",
       "    </tr>\n",
       "    <tr>\n",
       "      <th rowspan=\"2\" valign=\"top\">1</th>\n",
       "      <th>0</th>\n",
       "      <td>15128</td>\n",
       "      <td>15128</td>\n",
       "      <td>15128</td>\n",
       "      <td>15128</td>\n",
       "      <td>15128</td>\n",
       "      <td>15128</td>\n",
       "      <td>15128</td>\n",
       "      <td>15128</td>\n",
       "      <td>15128</td>\n",
       "      <td>15128</td>\n",
       "      <td>15128</td>\n",
       "      <td>15128</td>\n",
       "    </tr>\n",
       "    <tr>\n",
       "      <th>1</th>\n",
       "      <td>6662</td>\n",
       "      <td>6662</td>\n",
       "      <td>6662</td>\n",
       "      <td>6662</td>\n",
       "      <td>6662</td>\n",
       "      <td>6662</td>\n",
       "      <td>6662</td>\n",
       "      <td>6662</td>\n",
       "      <td>6662</td>\n",
       "      <td>6662</td>\n",
       "      <td>6662</td>\n",
       "      <td>6662</td>\n",
       "    </tr>\n",
       "  </tbody>\n",
       "</table>\n",
       "</div>"
      ],
      "text/plain": [
       "              age  workclass  fnlwgt  education-num  marital-status  \\\n",
       "sex target                                                            \n",
       "0   0        9592       9592    9592           9592            9592   \n",
       "    1        1179       1179    1179           1179            1179   \n",
       "1   0       15128      15128   15128          15128           15128   \n",
       "    1        6662       6662    6662           6662            6662   \n",
       "\n",
       "            occupation  relationship   race  capital-gain  capital-loss  \\\n",
       "sex target                                                                \n",
       "0   0             9592          9592   9592          9592          9592   \n",
       "    1             1179          1179   1179          1179          1179   \n",
       "1   0            15128         15128  15128         15128         15128   \n",
       "    1             6662          6662   6662          6662          6662   \n",
       "\n",
       "            hours-per-week  native-country  \n",
       "sex target                                  \n",
       "0   0                 9592            9592  \n",
       "    1                 1179            1179  \n",
       "1   0                15128           15128  \n",
       "    1                 6662            6662  "
      ]
     },
     "execution_count": 35,
     "metadata": {},
     "output_type": "execute_result"
    }
   ],
   "source": [
    "df.groupby(\n",
    "    ['sex', 'target'], \n",
    "    group_keys=False).count()"
   ]
  },
  {
   "cell_type": "code",
   "execution_count": 37,
   "metadata": {},
   "outputs": [],
   "source": [
    "max_female_sample=df.groupby(\n",
    "    ['sex', 'target'], \n",
    "    group_keys=False).count().loc[(0, 1)]['age']"
   ]
  },
  {
   "cell_type": "code",
   "execution_count": 38,
   "metadata": {},
   "outputs": [],
   "source": [
    "df_sampled = df.groupby(['sex', 'target'], \n",
    "                        group_keys=False).apply(lambda x: x.sample(max_female_sample))"
   ]
  },
  {
   "cell_type": "code",
   "execution_count": 42,
   "metadata": {},
   "outputs": [
    {
     "data": {
      "text/plain": [
       "(4716, 14)"
      ]
     },
     "execution_count": 42,
     "metadata": {},
     "output_type": "execute_result"
    }
   ],
   "source": [
    "df_sampled.shape"
   ]
  },
  {
   "cell_type": "code",
   "execution_count": 43,
   "metadata": {},
   "outputs": [
    {
     "data": {
      "text/plain": [
       "<matplotlib.axes._subplots.AxesSubplot at 0x7f1762725150>"
      ]
     },
     "execution_count": 43,
     "metadata": {},
     "output_type": "execute_result"
    },
    {
     "data": {
      "image/png": "[encoded data removed]",
      "text/plain": [
       "<Figure size 640x480 with 1 Axes>"
      ]
     },
     "metadata": {},
     "output_type": "display_data"
    }
   ],
   "source": [
    "df_sampled['sex'].value_counts().sort_values().plot(kind='bar', \n",
    "                                                    title='Total count by sex', \n",
    "                                                    rot=0)"
   ]
  },
  {
   "cell_type": "code",
   "execution_count": 44,
   "metadata": {},
   "outputs": [
    {
     "data": {
      "text/plain": [
       "<matplotlib.axes._subplots.AxesSubplot at 0x7f1760c9b190>"
      ]
     },
     "execution_count": 44,
     "metadata": {},
     "output_type": "execute_result"
    },
    {
     "data": {
      "image/png": "[encoded data removed]",
      "text/plain": [
       "<Figure size 640x480 with 1 Axes>"
      ]
     },
     "metadata": {},
     "output_type": "display_data"
    }
   ],
   "source": [
    "df_sampled['sex'].where(df_sampled['target'] == 1).value_counts().sort_values().plot(\n",
    "    kind='bar', title='Earning >$50K by sex', rot=0)"
   ]
  },
  {
   "cell_type": "code",
   "execution_count": 47,
   "metadata": {},
   "outputs": [],
   "source": [
    "df_sampled.to_csv('data/adult/adult-data-train-sampled.csv', index=False, header=False)\n",
    "train_sampled_s3_uri = S3Uploader.upload('data/adult/adult-data-train-sampled.csv', \n",
    "                                      f's3://{bucket}/{prefix}/adult-data')"
   ]
  },
  {
   "cell_type": "markdown",
   "metadata": {},
   "source": [
    "### Rerun pre-training bias\n"
   ]
  },
  {
   "cell_type": "code",
   "execution_count": 48,
   "metadata": {},
   "outputs": [
    {
     "name": "stderr",
     "output_type": "stream",
     "text": [
      "INFO:sagemaker.clarify:Analysis Config: {'dataset_type': 'text/csv', 'headers': ['target', 'age', 'workclass', 'fnlwgt', 'education-num', 'marital-status', 'occupation', 'relationship', 'race', 'sex', 'capital-gain', 'capital-loss', 'hours-per-week', 'native-country'], 'label': 'target', 'label_values_or_threshold': [1], 'facet': [{'name_or_index': 'sex', 'value_or_threshold': [0]}, {'name_or_index': 'race'}], 'methods': {'report': {'name': 'report', 'title': 'Analysis Report'}, 'pre_training_bias': {'methods': 'all'}}}\n",
      "INFO:sagemaker:Creating processing-job with name adult-sampled-clarify-pretraining-bias-2022-12-14-15-00-23\n"
     ]
    },
    {
     "name": "stdout",
     "output_type": "stream",
     "text": [
      "\n",
      "Job Name:  adult-sampled-clarify-pretraining-bias-2022-12-14-15-00-23\n",
      "Inputs:  [{'InputName': 'dataset', 'AppManaged': False, 'S3Input': {'S3Uri': 's3://sagemaker-eu-west-1-467432373215/module_4/part_10/adult-data/adult-data-train-sampled.csv', 'LocalPath': '/opt/ml/processing/input/data', 'S3DataType': 'S3Prefix', 'S3InputMode': 'File', 'S3DataDistributionType': 'FullyReplicated', 'S3CompressionType': 'None'}}, {'InputName': 'analysis_config', 'AppManaged': False, 'S3Input': {'S3Uri': 's3://sagemaker-eu-west-1-467432373215/module_4/part_10/adult-income-clarify-2022-12-14-15-00-23/clarify-pretraining-bias/analysis_config.json', 'LocalPath': '/opt/ml/processing/input/config', 'S3DataType': 'S3Prefix', 'S3InputMode': 'File', 'S3DataDistributionType': 'FullyReplicated', 'S3CompressionType': 'None'}}]\n",
      "Outputs:  [{'OutputName': 'analysis_result', 'AppManaged': False, 'S3Output': {'S3Uri': 's3://sagemaker-eu-west-1-467432373215/module_4/part_10/adult-income-clarify-2022-12-14-15-00-23/clarify-pretraining-bias', 'LocalPath': '/opt/ml/processing/output', 'S3UploadMode': 'EndOfJob'}}]\n"
     ]
    }
   ],
   "source": [
    "exp_datetime_2 = strftime('%Y-%m-%d-%H-%M-%S', gmtime())\n",
    "\n",
    "# Creating a new trial as we are working on a new dataset\n",
    "exp_trial_2 = Trial.create(\n",
    "    experiment_name=experiment_name, \n",
    "    trial_name=exp_datetime_2\n",
    ")\n",
    "\n",
    "experiment_config={\n",
    "    'ExperimentName': experiment_name,\n",
    "    'TrialName': exp_trial_2.trial_name,\n",
    "    'TrialComponentDisplayName': 'Pretraining-BiasAnalysis'\n",
    "}\n",
    "\n",
    "pretraining_bias_report_output_path = f's3://{bucket}/{prefix}/{experiment_name}-{exp_trial_2.trial_name}/clarify-pretraining-bias'\n",
    "\n",
    "bias_data_config = clarify.DataConfig(\n",
    "    s3_data_input_path=train_sampled_s3_uri,\n",
    "    s3_output_path=pretraining_bias_report_output_path,\n",
    "    label='target',\n",
    "    headers=df_sampled.columns.tolist(),\n",
    "    dataset_type='text/csv'\n",
    ")\n",
    "\n",
    "bias_config = clarify.BiasConfig(\n",
    "    label_values_or_threshold=[1], \n",
    "    facet_name=['sex', 'race'], \n",
    "    facet_values_or_threshold=[[0], None]\n",
    ")\n",
    "\n",
    "jobname = f'adult-sampled-clarify-pretraining-bias-{exp_datetime_2}'\n",
    "\n",
    "clarify_processor.run_pre_training_bias(\n",
    "    data_config=bias_data_config,\n",
    "    data_bias_config=bias_config,\n",
    "    methods='all',\n",
    "    job_name=jobname,\n",
    "    experiment_config=experiment_config,\n",
    "    wait=False,\n",
    "    logs=False\n",
    ")"
   ]
  },
  {
   "cell_type": "markdown",
   "metadata": {},
   "source": [
    "## Training a ML model using XGBoost"
   ]
  },
  {
   "cell_type": "code",
   "execution_count": null,
   "metadata": {
    "scrolled": true
   },
   "outputs": [
    {
     "name": "stderr",
     "output_type": "stream",
     "text": [
      "INFO:sagemaker.image_uris:Ignoring unnecessary instance type: None.\n",
      "INFO:sagemaker.image_uris:Defaulting to the only supported framework/algorithm version: latest.\n",
      "INFO:sagemaker.image_uris:Ignoring unnecessary instance type: None.\n",
      "INFO:sagemaker:Creating training-job with name: adult-xgb-2022-12-14-15-00-28\n"
     ]
    },
    {
     "name": "stdout",
     "output_type": "stream",
     "text": [
      "2022-12-14 15:00:28 Starting - Starting the training job...\n",
      "2022-12-14 15:00:51 Starting - Preparing the instances for trainingProfilerReport-1671030028: InProgress\n",
      "....."
     ]
    }
   ],
   "source": [
    "exp_datetime_3 = strftime('%Y-%m-%d-%H-%M-%S', gmtime())\n",
    "jobname = f'adult-xgb-{exp_datetime_3}'\n",
    "\n",
    "experiment_config={\n",
    "    'ExperimentName': experiment_name,\n",
    "    'TrialName': exp_trial_2.trial_name,\n",
    "    'TrialComponentDisplayName': 'Training'\n",
    "}\n",
    "\n",
    "image = image_uris.retrieve(region=region, framework='xgboost', version='1.3-1')\n",
    "\n",
    "train_s3_output = f's3://{bucket}/{prefix}/{experiment_name}-{exp_trial_2.trial_name}/training'\n",
    "\n",
    "xgb = sagemaker.estimator.Estimator(\n",
    "    image,\n",
    "    role,\n",
    "    instance_type='ml.m5.xlarge',\n",
    "    instance_count=1,\n",
    "    output_path=train_s3_output,\n",
    "    enable_sagemaker_metrics=True,\n",
    "    sagemaker_session=sess\n",
    ")\n",
    "xgb.set_hyperparameters(\n",
    "    objective='binary:logistic',\n",
    "    eval_metric='error',\n",
    "    num_round=50\n",
    ")\n",
    "\n",
    "train_input = sagemaker.inputs.TrainingInput(s3_data=train_sampled_s3_uri,  content_type='csv')\n",
    "val_input = sagemaker.inputs.TrainingInput(s3_data=val_s3_uri, content_type='csv')\n",
    "data_channels={'train': train_input, 'validation': val_input}\n",
    "\n",
    "xgb.fit(\n",
    "    inputs=data_channels, \n",
    "    job_name=jobname, \n",
    "    experiment_config=experiment_config, \n",
    "    wait=True\n",
    ")"
   ]
  },
  {
   "cell_type": "code",
   "execution_count": 50,
   "metadata": {},
   "outputs": [
    {
     "name": "stderr",
     "output_type": "stream",
     "text": [
      "INFO:sagemaker:Creating model with name: adult-xgb-model-2022-12-14-15-00-28\n"
     ]
    },
    {
     "data": {
      "text/plain": [
       "'adult-xgb-model-2022-12-14-15-00-28'"
      ]
     },
     "execution_count": 50,
     "metadata": {},
     "output_type": "execute_result"
    }
   ],
   "source": [
    "model_name = f'adult-xgb-model-{exp_datetime_3}'\n",
    "model = xgb.create_model(name=model_name)\n",
    "\n",
    "container_def = model.prepare_container_def()\n",
    "sess.create_model(model_name, role, container_def)"
   ]
  },
  {
   "cell_type": "markdown",
   "metadata": {},
   "source": [
    "## Post-training bias"
   ]
  },
  {
   "cell_type": "code",
   "execution_count": 51,
   "metadata": {},
   "outputs": [],
   "source": [
    "experiment_config={\n",
    "    'ExperimentName': experiment_name,\n",
    "    'TrialName': exp_trial_2.trial_name,\n",
    "    'TrialComponentDisplayName': 'Posttraining-BiasAnalysis'\n",
    "}\n",
    "\n",
    "posttraining_bias_report_output_path = f's3://{bucket}/{prefix}/{experiment_name}-{exp_trial_2.trial_name}/clarify-posttraining-bias'\n",
    "\n",
    "bias_data_config = clarify.DataConfig(\n",
    "    s3_data_input_path=train_sampled_s3_uri,\n",
    "    s3_output_path=posttraining_bias_report_output_path,\n",
    "    label='target',\n",
    "    headers=df_sampled.columns.tolist(),\n",
    "    dataset_type='text/csv'\n",
    ")\n",
    "\n",
    "bias_config = clarify.BiasConfig(\n",
    "    label_values_or_threshold=[1], \n",
    "    facet_name=['sex', 'race'], \n",
    "    facet_values_or_threshold=[[0], None]\n",
    ")"
   ]
  },
  {
   "cell_type": "code",
   "execution_count": 52,
   "metadata": {},
   "outputs": [],
   "source": [
    "model_config = clarify.ModelConfig(\n",
    "    model_name=model_name,\n",
    "    instance_type='ml.m5.xlarge',\n",
    "    instance_count=1,\n",
    "    accept_type='text/csv',\n",
    "    content_type='text/csv')\n",
    "\n",
    "predictions_config = clarify.ModelPredictedLabelConfig(probability_threshold=0.5)"
   ]
  },
  {
   "cell_type": "code",
   "execution_count": 53,
   "metadata": {},
   "outputs": [
    {
     "name": "stderr",
     "output_type": "stream",
     "text": [
      "INFO:sagemaker.clarify:Analysis Config: {'dataset_type': 'text/csv', 'headers': ['target', 'age', 'workclass', 'fnlwgt', 'education-num', 'marital-status', 'occupation', 'relationship', 'race', 'sex', 'capital-gain', 'capital-loss', 'hours-per-week', 'native-country'], 'label': 'target', 'label_values_or_threshold': [1], 'facet': [{'name_or_index': 'sex', 'value_or_threshold': [0]}, {'name_or_index': 'race'}], 'methods': {'report': {'name': 'report', 'title': 'Analysis Report'}, 'post_training_bias': {'methods': 'all'}}, 'predictor': {'model_name': 'adult-xgb-model-2022-12-14-15-00-28', 'instance_type': 'ml.m5.xlarge', 'initial_instance_count': 1, 'accept_type': 'text/csv', 'content_type': 'text/csv'}, 'probability_threshold': 0.5}\n",
      "INFO:sagemaker:Creating processing-job with name adult-sampled-clarify-posttraining-bias-2022-12-14-19-55-05\n"
     ]
    },
    {
     "name": "stdout",
     "output_type": "stream",
     "text": [
      "\n",
      "Job Name:  adult-sampled-clarify-posttraining-bias-2022-12-14-19-55-05\n",
      "Inputs:  [{'InputName': 'dataset', 'AppManaged': False, 'S3Input': {'S3Uri': 's3://sagemaker-eu-west-1-467432373215/module_4/part_10/adult-data/adult-data-train-sampled.csv', 'LocalPath': '/opt/ml/processing/input/data', 'S3DataType': 'S3Prefix', 'S3InputMode': 'File', 'S3DataDistributionType': 'FullyReplicated', 'S3CompressionType': 'None'}}, {'InputName': 'analysis_config', 'AppManaged': False, 'S3Input': {'S3Uri': 's3://sagemaker-eu-west-1-467432373215/module_4/part_10/adult-income-clarify-2022-12-14-15-00-23/clarify-posttraining-bias/analysis_config.json', 'LocalPath': '/opt/ml/processing/input/config', 'S3DataType': 'S3Prefix', 'S3InputMode': 'File', 'S3DataDistributionType': 'FullyReplicated', 'S3CompressionType': 'None'}}]\n",
      "Outputs:  [{'OutputName': 'analysis_result', 'AppManaged': False, 'S3Output': {'S3Uri': 's3://sagemaker-eu-west-1-467432373215/module_4/part_10/adult-income-clarify-2022-12-14-15-00-23/clarify-posttraining-bias', 'LocalPath': '/opt/ml/processing/output', 'S3UploadMode': 'EndOfJob'}}]\n"
     ]
    }
   ],
   "source": [
    "exp_datetime_4 = strftime('%Y-%m-%d-%H-%M-%S', gmtime())\n",
    "jobname = f'adult-sampled-clarify-posttraining-bias-{exp_datetime_4}'\n",
    "\n",
    "clarify_processor.run_post_training_bias(\n",
    "    data_config=bias_data_config,\n",
    "    data_bias_config=bias_config,\n",
    "    model_config=model_config,\n",
    "    model_predicted_label_config=predictions_config,\n",
    "    methods='all',    \n",
    "    job_name=jobname,\n",
    "    experiment_config=experiment_config,\n",
    "    wait=False,\n",
    "    logs=False\n",
    ")"
   ]
  },
  {
   "cell_type": "markdown",
   "metadata": {},
   "source": [
    "## Explicabilidad del modelo con valores SHAP"
   ]
  },
  {
   "cell_type": "code",
   "execution_count": 54,
   "metadata": {},
   "outputs": [],
   "source": [
    "experiment_config={\n",
    "    'ExperimentName': experiment_name,\n",
    "    'TrialName': exp_trial_2.trial_name,\n",
    "    'TrialComponentDisplayName': 'Posttraining-SHAP'\n",
    "}\n",
    "\n",
    "explainability_output_path = f's3://{bucket}/{prefix}/{experiment_name}-{exp_trial_2.trial_name}/clarify-explainability'\n",
    "\n",
    "explainability_data_config = clarify.DataConfig(\n",
    "    s3_data_input_path=train_sampled_s3_uri,\n",
    "    s3_output_path=explainability_output_path,\n",
    "    label='target',\n",
    "    headers=df_sampled.columns.tolist(),\n",
    "    dataset_type='text/csv'\n",
    ")\n",
    "\n",
    "model_config = clarify.ModelConfig(\n",
    "    model_name=model_name,\n",
    "    instance_type='ml.m5.xlarge',\n",
    "    instance_count=1,\n",
    "    accept_type='text/csv',\n",
    "    content_type='text/csv'\n",
    ")\n",
    "\n",
    "baseline = df_sampled.query('target == 1').mode().iloc[0, 1:].astype(int).tolist()\n",
    "shap_config = clarify.SHAPConfig(\n",
    "    baseline=[baseline],\n",
    "    num_samples=15,\n",
    "    agg_method='mean_abs'\n",
    ")"
   ]
  },
  {
   "cell_type": "code",
   "execution_count": 55,
   "metadata": {},
   "outputs": [
    {
     "name": "stderr",
     "output_type": "stream",
     "text": [
      "INFO:sagemaker.clarify:Analysis Config: {'dataset_type': 'text/csv', 'headers': ['target', 'age', 'workclass', 'fnlwgt', 'education-num', 'marital-status', 'occupation', 'relationship', 'race', 'sex', 'capital-gain', 'capital-loss', 'hours-per-week', 'native-country'], 'label': 'target', 'predictor': {'model_name': 'adult-xgb-model-2022-12-14-15-00-28', 'instance_type': 'ml.m5.xlarge', 'initial_instance_count': 1, 'accept_type': 'text/csv', 'content_type': 'text/csv'}, 'methods': {'report': {'name': 'report', 'title': 'Analysis Report'}, 'shap': {'use_logit': False, 'save_local_shap_values': True, 'baseline': [[39, 4, 101345, 13, 2, 10, 0, 4, 0, 0, 0, 40, 39]], 'num_samples': 15, 'agg_method': 'mean_abs'}}}\n",
      "INFO:sagemaker:Creating processing-job with name adult-sampled-clarify-posttraining-shap-2022-12-14-19-55-43\n"
     ]
    },
    {
     "name": "stdout",
     "output_type": "stream",
     "text": [
      "\n",
      "Job Name:  adult-sampled-clarify-posttraining-shap-2022-12-14-19-55-43\n",
      "Inputs:  [{'InputName': 'dataset', 'AppManaged': False, 'S3Input': {'S3Uri': 's3://sagemaker-eu-west-1-467432373215/module_4/part_10/adult-data/adult-data-train-sampled.csv', 'LocalPath': '/opt/ml/processing/input/data', 'S3DataType': 'S3Prefix', 'S3InputMode': 'File', 'S3DataDistributionType': 'FullyReplicated', 'S3CompressionType': 'None'}}, {'InputName': 'analysis_config', 'AppManaged': False, 'S3Input': {'S3Uri': 's3://sagemaker-eu-west-1-467432373215/module_4/part_10/adult-income-clarify-2022-12-14-15-00-23/clarify-explainability/analysis_config.json', 'LocalPath': '/opt/ml/processing/input/config', 'S3DataType': 'S3Prefix', 'S3InputMode': 'File', 'S3DataDistributionType': 'FullyReplicated', 'S3CompressionType': 'None'}}]\n",
      "Outputs:  [{'OutputName': 'analysis_result', 'AppManaged': False, 'S3Output': {'S3Uri': 's3://sagemaker-eu-west-1-467432373215/module_4/part_10/adult-income-clarify-2022-12-14-15-00-23/clarify-explainability', 'LocalPath': '/opt/ml/processing/output', 'S3UploadMode': 'EndOfJob'}}]\n",
      "..............................\u001b[34m2022-12-14 20:00:34,415 logging.conf not found when configuring logging, using default logging configuration.\u001b[0m\n",
      "\u001b[34m2022-12-14 20:00:34,415 Starting SageMaker Clarify Processing job\u001b[0m\n",
      "\u001b[34m2022-12-14 20:00:34,416 Analysis config path: /opt/ml/processing/input/config/analysis_config.json\u001b[0m\n",
      "\u001b[34m2022-12-14 20:00:34,416 Analysis result path: /opt/ml/processing/output\u001b[0m\n",
      "\u001b[34m2022-12-14 20:00:34,416 This host is algo-1.\u001b[0m\n",
      "\u001b[34m2022-12-14 20:00:34,416 This host is the leader.\u001b[0m\n",
      "\u001b[34m2022-12-14 20:00:34,416 Number of hosts in the cluster is 1.\u001b[0m\n",
      "\u001b[34m2022-12-14 20:00:34,791 Running Python / Pandas based analyzer.\u001b[0m\n",
      "\u001b[34m2022-12-14 20:00:34,791 Dataset type: text/csv uri: /opt/ml/processing/input/data\u001b[0m\n",
      "\u001b[34m2022-12-14 20:00:34,797 Loading dataset...\u001b[0m\n",
      "\u001b[34m/usr/local/lib/python3.9/site-packages/analyzer/data_loading/csv_data_loader.py:315: FutureWarning: The frame.append method is deprecated and will be removed from pandas in a future version. Use pandas.concat instead.\n",
      "  df = df.append(df_tmp, ignore_index=True)\u001b[0m\n",
      "\u001b[34m2022-12-14 20:00:34,809 Loaded dataset. Dataset info:\u001b[0m\n",
      "\u001b[34m<class 'pandas.core.frame.DataFrame'>\u001b[0m\n",
      "\u001b[34mRangeIndex: 4716 entries, 0 to 4715\u001b[0m\n",
      "\u001b[34mData columns (total 13 columns):\n",
      " #   Column          Non-Null Count  Dtype\u001b[0m\n",
      "\u001b[34m---  ------          --------------  -----\n",
      " 0   age             4716 non-null   int64\n",
      " 1   workclass       4716 non-null   int64\n",
      " 2   fnlwgt          4716 non-null   int64\n",
      " 3   education-num   4716 non-null   int64\n",
      " 4   marital-status  4716 non-null   int64\n",
      " 5   occupation      4716 non-null   int64\n",
      " 6   relationship    4716 non-null   int64\n",
      " 7   race            4716 non-null   int64\n",
      " 8   sex             4716 non-null   int64\n",
      " 9   capital-gain    4716 non-null   int64\n",
      " 10  capital-loss    4716 non-null   int64\n",
      " 11  hours-per-week  4716 non-null   int64\n",
      " 12  native-country  4716 non-null   int64\u001b[0m\n",
      "\u001b[34mdtypes: int64(13)\u001b[0m\n",
      "\u001b[34mmemory usage: 479.1 KB\u001b[0m\n",
      "\u001b[34m2022-12-14 20:00:34,867 Spinning up shadow endpoint\u001b[0m\n",
      "\u001b[34m2022-12-14 20:00:34,867 Creating endpoint-config with name sm-clarify-config-1671048034-16d1\u001b[0m\n",
      "\u001b[34m2022-12-14 20:00:35,067 Creating endpoint: 'sm-clarify-adult-xgb-model-2022-12-14-15-00-28-1671048035-ab91'\u001b[0m\n",
      "\u001b[34m2022-12-14 20:00:35,471 Using endpoint name: sm-clarify-adult-xgb-model-2022-12-14-15-00-28-1671048035-ab91\u001b[0m\n",
      "\u001b[34m2022-12-14 20:00:35,471 Waiting for endpoint ...\u001b[0m\n",
      "\u001b[34m2022-12-14 20:00:35,471 Checking endpoint status:\u001b[0m\n",
      "\u001b[34mLegend:\u001b[0m\n",
      "\u001b[34m(OutOfService: x, Creating: -, Updating: -, InService: !, RollingBack: <, Deleting: o, Failed: *)\u001b[0m\n",
      "\u001b[34m2022-12-14 20:02:35,782 Endpoint is in service after 120 seconds\u001b[0m\n",
      "\u001b[34m2022-12-14 20:02:35,783 Endpoint ready.\u001b[0m\n",
      "\u001b[34m2022-12-14 20:02:35,785 SHAP n_samples 15\u001b[0m\n",
      "\u001b[34m2022-12-14 20:02:35,884 =====================================================\u001b[0m\n",
      "\u001b[34m2022-12-14 20:02:35,884 Shap analyzer: explaining 4716 rows, 13 columns...\u001b[0m\n",
      "\u001b[34m2022-12-14 20:02:35,884 =====================================================\n",
      "  0% (0 of 4716) |                       | Elapsed Time: 0:00:00 ETA:  --:--:--\u001b[0m\n",
      "\u001b[34m 79% (3768 of 4716) |###############     | Elapsed Time: 0:00:30 ETA:   0:00:07\u001b[0m\n",
      "\u001b[34m100% (4716 of 4716) |####################| Elapsed Time: 0:00:37 Time:  0:00:37\u001b[0m\n",
      "\u001b[34m2022-12-14 20:03:13,301 getting explanations took 37.42 seconds.\u001b[0m\n",
      "\u001b[34m2022-12-14 20:03:13,302 ===================================================\u001b[0m\n",
      "\u001b[34m2022-12-14 20:03:13,302 Falling back to generic labels: label0, label1, ...\u001b[0m\n",
      "\u001b[34m2022-12-14 20:03:13,629 converting explanations to tabular took 0.33 seconds.\u001b[0m\n",
      "\u001b[34m2022-12-14 20:03:13,629 ===================================================\u001b[0m\n",
      "\u001b[34m2022-12-14 20:03:13,631 Wrote baseline used to compute explanations to: /opt/ml/processing/output/explanations_shap/baseline.csv\u001b[0m\n",
      "\u001b[34m2022-12-14 20:03:13,731 Wrote 4716 local explanations to: /opt/ml/processing/output/explanations_shap/out.csv\u001b[0m\n",
      "\u001b[34m2022-12-14 20:03:13,731 writing local explanations took 0.10 seconds.\u001b[0m\n",
      "\u001b[34m2022-12-14 20:03:13,732 ===================================================\u001b[0m\n",
      "\u001b[34m/usr/local/lib/python3.9/site-packages/numpy/core/fromnumeric.py:3430: FutureWarning: In a future version, DataFrame.mean(axis=None) will return a scalar mean over the entire DataFrame. To retain the old behavior, use 'frame.mean(axis=0)' or just 'frame.mean()'\n",
      "  return mean(axis=axis, dtype=dtype, out=out, **kwargs)\u001b[0m\n",
      "\u001b[34m2022-12-14 20:03:13,734 aggregating local explanations took 0.00 seconds.\u001b[0m\n",
      "\u001b[34m2022-12-14 20:03:13,734 ===================================================\u001b[0m\n",
      "\u001b[34m2022-12-14 20:03:13,734 Shap analysis finished.\u001b[0m\n",
      "\u001b[34m2022-12-14 20:03:13,735 Calculated global analysis with predictor\u001b[0m\n",
      "\u001b[34m2022-12-14 20:03:13,735 Stop using endpoint: sm-clarify-adult-xgb-model-2022-12-14-15-00-28-1671048035-ab91\u001b[0m\n",
      "\u001b[34m2022-12-14 20:03:13,735 Deleting endpoint configuration with name: sm-clarify-config-1671048034-16d1\u001b[0m\n",
      "\u001b[34m2022-12-14 20:03:13,868 Deleting endpoint with name: sm-clarify-adult-xgb-model-2022-12-14-15-00-28-1671048035-ab91\u001b[0m\n",
      "\u001b[34m2022-12-14 20:03:13,945 Model endpoint delivered 124.31456 requests per second and a total of 4718 requests over 38 seconds\u001b[0m\n",
      "\u001b[34m2022-12-14 20:03:13,945 Calculated global analysis without predictor\u001b[0m\n",
      "\u001b[34m2022-12-14 20:03:14,292 Stop using endpoint: None\u001b[0m\n",
      "\u001b[34m2022-12-14 20:03:27,938 ['jupyter', 'nbconvert', \"-TagRemovePreprocessor.remove_input_tags='remove_input'\", '--to', 'html', '--output', '/opt/ml/processing/output/report.html', '/opt/ml/processing/output/report.ipynb', '--template', 'sagemaker-xai']\u001b[0m\n",
      "\u001b[34m[NbConvertApp] Converting notebook /opt/ml/processing/output/report.ipynb to html\u001b[0m\n",
      "\u001b[34m[NbConvertApp] Writing 694086 bytes to /opt/ml/processing/output/report.html\u001b[0m\n",
      "\u001b[34m2022-12-14 20:03:28,965 ['wkhtmltopdf', '-q', '--enable-local-file-access', '/opt/ml/processing/output/report.html', '/opt/ml/processing/output/report.pdf']\u001b[0m\n",
      "\u001b[34m2022-12-14 20:03:29,659 Collected analyses: \u001b[0m\n",
      "\u001b[34m{\n",
      "    \"version\": \"1.0\",\n",
      "    \"explanations\": {\n",
      "        \"kernel_shap\": {\n",
      "            \"label0\": {\n",
      "                \"global_shap_values\": {\n",
      "                    \"age\": 0.0743718574314,\n",
      "                    \"workclass\": 0.040227213497492476,\n",
      "                    \"fnlwgt\": 0.04583643163133882,\n",
      "                    \"education-num\": 0.11965670392378806,\n",
      "                    \"marital-status\": 0.08874013860813702,\n",
      "                    \"occupation\": 0.05379380614345661,\n",
      "                    \"relationship\": 0.04739141610387215,\n",
      "                    \"race\": 0.03342068718002867,\n",
      "                    \"sex\": 0.03594369160226071,\n",
      "                    \"capital-gain\": 0.04663664507602396,\n",
      "                    \"capital-loss\": 0.03649766726315206,\n",
      "                    \"hours-per-week\": 0.047563691525859604,\n",
      "                    \"native-country\": 0.07016893831054939\n",
      "                },\n",
      "                \"expected_value\": 0.8977939486503601\n",
      "            }\n",
      "        }\n",
      "    }\u001b[0m\n",
      "\u001b[34m}\u001b[0m\n",
      "\u001b[34m2022-12-14 20:03:29,660 exit_message: Completed: SageMaker XAI Analyzer ran successfully\u001b[0m\n",
      "\u001b[34m--!\u001b[0m\n",
      "\n"
     ]
    }
   ],
   "source": [
    "exp_datetime_5 = strftime('%Y-%m-%d-%H-%M-%S', gmtime())\n",
    "jobname = f'adult-sampled-clarify-posttraining-shap-{exp_datetime_5}'\n",
    "\n",
    "clarify_processor.run_explainability(\n",
    "    data_config=explainability_data_config,\n",
    "    model_config=model_config,\n",
    "    explainability_config=shap_config,\n",
    "    job_name=jobname,\n",
    "    experiment_config=experiment_config\n",
    ")"
   ]
  },
  {
   "cell_type": "code",
   "execution_count": 56,
   "metadata": {},
   "outputs": [
    {
     "name": "stdout",
     "output_type": "stream",
     "text": [
      "Example number: 500\n",
      "with model prediction: <=50K\n",
      "\n",
      "Feature values: \n",
      "       target  age  workclass  fnlwgt  education-num  marital-status  \\\n",
      "17552       0   23          4  209034              9               2   \n",
      "\n",
      "       occupation  relationship  race  sex  capital-gain  capital-loss  \\\n",
      "17552           6             5     4    0          3942             0   \n",
      "\n",
      "       hours-per-week  native-country  \n",
      "17552              40              39  \n"
     ]
    },
    {
     "data": {
      "text/plain": [
       "<matplotlib.axes._subplots.AxesSubplot at 0x7f17592bdc50>"
      ]
     },
     "execution_count": 56,
     "metadata": {},
     "output_type": "execute_result"
    },
    {
     "data": {
      "image/png": "[encoded data removed]",
      "text/plain": [
       "<Figure size 640x480 with 1 Axes>"
      ]
     },
     "metadata": {},
     "output_type": "display_data"
    }
   ],
   "source": [
    "S3Downloader.download(f'{explainability_output_path}/explanations_shap/out.csv', \n",
    "                      './',\n",
    "                      sagemaker_session=sess)\n",
    "local_explanations_out = pd.read_csv('out.csv')\n",
    "feature_names = [str.replace(c, '_label0', '') \n",
    "                 for c in local_explanations_out.columns.to_series()]\n",
    "local_explanations_out.columns = feature_names\n",
    "\n",
    "selected_example = 500\n",
    "sample_prediction='>50K' if sum(local_explanations_out.iloc[selected_example]) > 0 else '<=50K'\n",
    "print(f'Example number: {selected_example}')\n",
    "print(f'with model prediction: {sample_prediction}')\n",
    "print()\n",
    "print(f'Feature values: \\n{df_sampled.iloc[selected_example].to_frame().T}')\n",
    "\n",
    "local_explanations_out.iloc[selected_example].plot(\n",
    "    kind='barh', \n",
    "    title=f'Local explanation for the {selected_example}th example.', \n",
    "    rot=0)"
   ]
  },
  {
   "cell_type": "markdown",
   "metadata": {},
   "source": [
    "### Clean Up"
   ]
  },
  {
   "cell_type": "code",
   "execution_count": 59,
   "metadata": {
    "collapsed": true,
    "jupyter": {
     "outputs_hidden": true
    },
    "tags": []
   },
   "outputs": [
    {
     "name": "stderr",
     "output_type": "stream",
     "text": [
      "INFO:sagemaker:Deleting model with name: adult-xgb-model-2022-12-14-15-00-28\n"
     ]
    },
    {
     "ename": "ClientError",
     "evalue": "An error occurred (ValidationException) when calling the DeleteModel operation: Could not find model \"arn:aws:sagemaker:eu-west-1:467432373215:model/adult-xgb-model-2022-12-14-15-00-28\".",
     "output_type": "error",
     "traceback": [
      "\u001b[0;31m---------------------------------------------------------------------------\u001b[0m",
      "\u001b[0;31mClientError\u001b[0m                               Traceback (most recent call last)",
      "\u001b[0;32m<ipython-input-59-2d02931c3126>\u001b[0m in \u001b[0;36m<module>\u001b[0;34m\u001b[0m\n\u001b[1;32m      1\u001b[0m \u001b[0;31m## Eliminamos el modelo\u001b[0m\u001b[0;34m\u001b[0m\u001b[0;34m\u001b[0m\u001b[0;34m\u001b[0m\u001b[0m\n\u001b[0;32m----> 2\u001b[0;31m \u001b[0msess\u001b[0m\u001b[0;34m.\u001b[0m\u001b[0mdelete_model\u001b[0m\u001b[0;34m(\u001b[0m\u001b[0mmodel_name\u001b[0m\u001b[0;34m)\u001b[0m\u001b[0;34m\u001b[0m\u001b[0;34m\u001b[0m\u001b[0m\n\u001b[0m",
      "\u001b[0;32m/opt/conda/lib/python3.7/site-packages/sagemaker/session.py\u001b[0m in \u001b[0;36mdelete_model\u001b[0;34m(self, model_name)\u001b[0m\n\u001b[1;32m   3388\u001b[0m         \"\"\"\n\u001b[1;32m   3389\u001b[0m         \u001b[0mLOGGER\u001b[0m\u001b[0;34m.\u001b[0m\u001b[0minfo\u001b[0m\u001b[0;34m(\u001b[0m\u001b[0;34m\"Deleting model with name: %s\"\u001b[0m\u001b[0;34m,\u001b[0m \u001b[0mmodel_name\u001b[0m\u001b[0;34m)\u001b[0m\u001b[0;34m\u001b[0m\u001b[0;34m\u001b[0m\u001b[0m\n\u001b[0;32m-> 3390\u001b[0;31m         \u001b[0mself\u001b[0m\u001b[0;34m.\u001b[0m\u001b[0msagemaker_client\u001b[0m\u001b[0;34m.\u001b[0m\u001b[0mdelete_model\u001b[0m\u001b[0;34m(\u001b[0m\u001b[0mModelName\u001b[0m\u001b[0;34m=\u001b[0m\u001b[0mmodel_name\u001b[0m\u001b[0;34m)\u001b[0m\u001b[0;34m\u001b[0m\u001b[0;34m\u001b[0m\u001b[0m\n\u001b[0m\u001b[1;32m   3391\u001b[0m \u001b[0;34m\u001b[0m\u001b[0m\n\u001b[1;32m   3392\u001b[0m     \u001b[0;32mdef\u001b[0m \u001b[0mlist_tags\u001b[0m\u001b[0;34m(\u001b[0m\u001b[0mself\u001b[0m\u001b[0;34m,\u001b[0m \u001b[0mresource_arn\u001b[0m\u001b[0;34m,\u001b[0m \u001b[0mmax_results\u001b[0m\u001b[0;34m=\u001b[0m\u001b[0;36m50\u001b[0m\u001b[0;34m)\u001b[0m\u001b[0;34m:\u001b[0m\u001b[0;34m\u001b[0m\u001b[0;34m\u001b[0m\u001b[0m\n",
      "\u001b[0;32m/opt/conda/lib/python3.7/site-packages/botocore/client.py\u001b[0m in \u001b[0;36m_api_call\u001b[0;34m(self, *args, **kwargs)\u001b[0m\n\u001b[1;32m    528\u001b[0m                 )\n\u001b[1;32m    529\u001b[0m             \u001b[0;31m# The \"self\" in this scope is referring to the BaseClient.\u001b[0m\u001b[0;34m\u001b[0m\u001b[0;34m\u001b[0m\u001b[0;34m\u001b[0m\u001b[0m\n\u001b[0;32m--> 530\u001b[0;31m             \u001b[0;32mreturn\u001b[0m \u001b[0mself\u001b[0m\u001b[0;34m.\u001b[0m\u001b[0m_make_api_call\u001b[0m\u001b[0;34m(\u001b[0m\u001b[0moperation_name\u001b[0m\u001b[0;34m,\u001b[0m \u001b[0mkwargs\u001b[0m\u001b[0;34m)\u001b[0m\u001b[0;34m\u001b[0m\u001b[0;34m\u001b[0m\u001b[0m\n\u001b[0m\u001b[1;32m    531\u001b[0m \u001b[0;34m\u001b[0m\u001b[0m\n\u001b[1;32m    532\u001b[0m         \u001b[0m_api_call\u001b[0m\u001b[0;34m.\u001b[0m\u001b[0m__name__\u001b[0m \u001b[0;34m=\u001b[0m \u001b[0mstr\u001b[0m\u001b[0;34m(\u001b[0m\u001b[0mpy_operation_name\u001b[0m\u001b[0;34m)\u001b[0m\u001b[0;34m\u001b[0m\u001b[0;34m\u001b[0m\u001b[0m\n",
      "\u001b[0;32m/opt/conda/lib/python3.7/site-packages/botocore/client.py\u001b[0m in \u001b[0;36m_make_api_call\u001b[0;34m(self, operation_name, api_params)\u001b[0m\n\u001b[1;32m    958\u001b[0m             \u001b[0merror_code\u001b[0m \u001b[0;34m=\u001b[0m \u001b[0mparsed_response\u001b[0m\u001b[0;34m.\u001b[0m\u001b[0mget\u001b[0m\u001b[0;34m(\u001b[0m\u001b[0;34m\"Error\"\u001b[0m\u001b[0;34m,\u001b[0m \u001b[0;34m{\u001b[0m\u001b[0;34m}\u001b[0m\u001b[0;34m)\u001b[0m\u001b[0;34m.\u001b[0m\u001b[0mget\u001b[0m\u001b[0;34m(\u001b[0m\u001b[0;34m\"Code\"\u001b[0m\u001b[0;34m)\u001b[0m\u001b[0;34m\u001b[0m\u001b[0;34m\u001b[0m\u001b[0m\n\u001b[1;32m    959\u001b[0m             \u001b[0merror_class\u001b[0m \u001b[0;34m=\u001b[0m \u001b[0mself\u001b[0m\u001b[0;34m.\u001b[0m\u001b[0mexceptions\u001b[0m\u001b[0;34m.\u001b[0m\u001b[0mfrom_code\u001b[0m\u001b[0;34m(\u001b[0m\u001b[0merror_code\u001b[0m\u001b[0;34m)\u001b[0m\u001b[0;34m\u001b[0m\u001b[0;34m\u001b[0m\u001b[0m\n\u001b[0;32m--> 960\u001b[0;31m             \u001b[0;32mraise\u001b[0m \u001b[0merror_class\u001b[0m\u001b[0;34m(\u001b[0m\u001b[0mparsed_response\u001b[0m\u001b[0;34m,\u001b[0m \u001b[0moperation_name\u001b[0m\u001b[0;34m)\u001b[0m\u001b[0;34m\u001b[0m\u001b[0;34m\u001b[0m\u001b[0m\n\u001b[0m\u001b[1;32m    961\u001b[0m         \u001b[0;32melse\u001b[0m\u001b[0;34m:\u001b[0m\u001b[0;34m\u001b[0m\u001b[0;34m\u001b[0m\u001b[0m\n\u001b[1;32m    962\u001b[0m             \u001b[0;32mreturn\u001b[0m \u001b[0mparsed_response\u001b[0m\u001b[0;34m\u001b[0m\u001b[0;34m\u001b[0m\u001b[0m\n",
      "\u001b[0;31mClientError\u001b[0m: An error occurred (ValidationException) when calling the DeleteModel operation: Could not find model \"arn:aws:sagemaker:eu-west-1:467432373215:model/adult-xgb-model-2022-12-14-15-00-28\"."
     ]
    }
   ],
   "source": [
    "## Eliminamos el modelo\n",
    "sess.delete_model(model_name)"
   ]
  }
 ],
 "metadata": {
  "instance_type": "ml.t3.medium",
  "kernelspec": {
   "display_name": "Python 3 (ipykernel)",
   "language": "python",
   "name": "python3"
  },
  "language_info": {
   "codemirror_mode": {
    "name": "ipython",
    "version": 3
   },
   "file_extension": ".py",
   "mimetype": "text/x-python",
   "name": "python",
   "nbconvert_exporter": "python",
   "pygments_lexer": "ipython3",
   "version": "3.10.14"
  }
 },
 "nbformat": 4,
 "nbformat_minor": 4
}
