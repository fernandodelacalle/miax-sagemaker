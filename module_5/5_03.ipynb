{
 "cells": [
  {
   "cell_type": "code",
   "execution_count": 2,
   "id": "7f3f2ac5-57a0-4741-8792-b2cfee01502b",
   "metadata": {
    "tags": []
   },
   "outputs": [],
   "source": [
    "import numpy as np\n",
    "import pandas as pd\n",
    "\n",
    "import sagemaker\n",
    "\n",
    "role = sagemaker.get_execution_role()\n",
    "sess = sagemaker.Session()\n",
    "region = sess.boto_region_name\n",
    "bucket = sess.default_bucket()\n",
    "prefix = 'module_5/part_3'"
   ]
  },
  {
   "cell_type": "markdown",
   "id": "db6a13f8-098b-43f2-b03c-2360efd516f7",
   "metadata": {
    "jp-MarkdownHeadingCollapsed": true,
    "tags": []
   },
   "source": [
    "- Usaremos el estimador que entrenamos anterioremente en el notebook [module_4/4_05.ipynb](../module_4/4_05.ipynb).\n",
    "- Podemos usar el método de clase attach de *Estimator con el training_job_name usado anteriormete para no tener que realizar el entrenamiento otra vez."
   ]
  },
  {
   "cell_type": "code",
   "execution_count": 4,
   "id": "be792158-2c19-4da2-ade0-bba939bfb4b7",
   "metadata": {
    "tags": []
   },
   "outputs": [
    {
     "name": "stdout",
     "output_type": "stream",
     "text": [
      "\n",
      "2022-12-13 21:52:19 Starting - Preparing the instances for training\n",
      "2022-12-13 21:52:19 Downloading - Downloading input data\n",
      "2022-12-13 21:52:19 Training - Training image download completed. Training in progress.\n",
      "2022-12-13 21:52:19 Uploading - Uploading generated training model\n",
      "2022-12-13 21:52:19 Completed - Training job completed\n"
     ]
    }
   ],
   "source": [
    "estimator = sagemaker.estimator.Estimator.attach(training_job_name='dbpedia-blazingtext', )"
   ]
  },
  {
   "cell_type": "code",
   "execution_count": 6,
   "id": "b424591e-22f8-448b-a1c6-ab80fc62920f",
   "metadata": {},
   "outputs": [
    {
     "name": "stdout",
     "output_type": "stream",
     "text": [
      "------!"
     ]
    }
   ],
   "source": [
    "text_classifier = estimator.deploy(\n",
    "    initial_instance_count=1,\n",
    "    instance_type=\"ml.m4.xlarge\", \n",
    "    serializer=sagemaker.serializers.JSONSerializer()\n",
    ")"
   ]
  },
  {
   "cell_type": "markdown",
   "id": "a780f633-4734-4a55-a868-bb3a669306bb",
   "metadata": {},
   "source": [
    "- Tenemos que realizar el mismo procesamiento que en proceso de entrenamiento."
   ]
  },
  {
   "cell_type": "code",
   "execution_count": 7,
   "id": "60570965-41f1-4f5f-b7d6-c54803624267",
   "metadata": {
    "tags": []
   },
   "outputs": [
    {
     "name": "stderr",
     "output_type": "stream",
     "text": [
      "[nltk_data] Downloading package punkt to /root/nltk_data...\n",
      "[nltk_data]   Package punkt is already up-to-date!\n"
     ]
    },
    {
     "data": {
      "text/plain": [
       "True"
      ]
     },
     "execution_count": 7,
     "metadata": {},
     "output_type": "execute_result"
    }
   ],
   "source": [
    "import nltk\n",
    "nltk.download('punkt')"
   ]
  },
  {
   "cell_type": "code",
   "execution_count": 20,
   "id": "f568bb69-9d31-4bc6-8af1-4a5fe2bb2826",
   "metadata": {
    "tags": []
   },
   "outputs": [
    {
     "data": {
      "text/plain": [
       "['Convair was an american aircraft manufacturing company which later expanded into rockets and spacecraft .',\n",
       " 'Berwick secondary college is situated in the outer melbourne metropolitan suburb of berwick .']"
      ]
     },
     "execution_count": 20,
     "metadata": {},
     "output_type": "execute_result"
    }
   ],
   "source": [
    "sentences = [\n",
    "    \"Convair was an american aircraft manufacturing company which later expanded into rockets and spacecraft.\",\n",
    "    \"Berwick secondary college is situated in the outer melbourne metropolitan suburb of berwick .\",\n",
    "]\n",
    "\n",
    "# using the same nltk tokenizer that we used during data preparation for training\n",
    "tokenized_sentences = [\" \".join(nltk.word_tokenize(sent)) for sent in sentences]\n",
    "tokenized_sentences"
   ]
  },
  {
   "cell_type": "markdown",
   "id": "4212bfb3-ab41-4141-a33c-8cfdc70b840b",
   "metadata": {},
   "source": [
    "- BlazingText admite application/json como content-type para la inferencia. \n",
    "- El contenido tiene que incluir la lista de frases con la clave *instances*."
   ]
  },
  {
   "cell_type": "code",
   "execution_count": 18,
   "id": "fc78385e-0b09-4450-b059-29ccb91dd604",
   "metadata": {
    "tags": []
   },
   "outputs": [
    {
     "data": {
      "text/plain": [
       "b'[{\"label\": [\"__label__Artist\"], \"prob\": [0.7752249240875244]}]'"
      ]
     },
     "execution_count": 18,
     "metadata": {},
     "output_type": "execute_result"
    }
   ],
   "source": [
    "payload = {\"instances\": tokenized_sentences}\n",
    "response = text_classifier.predict(payload)\n",
    "response"
   ]
  },
  {
   "cell_type": "code",
   "execution_count": 19,
   "id": "07cb1a86-060a-42e4-af08-7691ffad3c68",
   "metadata": {
    "tags": []
   },
   "outputs": [
    {
     "name": "stdout",
     "output_type": "stream",
     "text": [
      "[\n",
      "  {\n",
      "    \"label\": [\n",
      "      \"__label__Artist\"\n",
      "    ],\n",
      "    \"prob\": [\n",
      "      0.7752249240875244\n",
      "    ]\n",
      "  }\n",
      "]\n"
     ]
    }
   ],
   "source": [
    "import json\n",
    "predictions = json.loads(response)\n",
    "print(json.dumps(predictions, indent=2))"
   ]
  },
  {
   "cell_type": "markdown",
   "id": "41481dca-cb63-4dca-976b-03ea51b46bc7",
   "metadata": {},
   "source": [
    "- Por defecto solo nos da  la clase con mayor probabilidad, pero podemos modificarlo."
   ]
  },
  {
   "cell_type": "code",
   "execution_count": 16,
   "id": "f6ba64f9-8f00-4fc2-bbb9-fb01c5b1bc17",
   "metadata": {
    "tags": []
   },
   "outputs": [
    {
     "name": "stdout",
     "output_type": "stream",
     "text": [
      "[\n",
      "  {\n",
      "    \"label\": [\n",
      "      \"__label__Company\",\n",
      "      \"__label__MeanOfTransportation\"\n",
      "    ],\n",
      "    \"prob\": [\n",
      "      0.996828556060791,\n",
      "      0.003055884735658765\n",
      "    ]\n",
      "  },\n",
      "  {\n",
      "    \"label\": [\n",
      "      \"__label__EducationalInstitution\",\n",
      "      \"__label__Company\"\n",
      "    ],\n",
      "    \"prob\": [\n",
      "      0.9986417889595032,\n",
      "      0.000642663799226284\n",
      "    ]\n",
      "  }\n",
      "]\n"
     ]
    }
   ],
   "source": [
    "payload = {\"instances\": tokenized_sentences, \"configuration\": {\"k\": 2}}\n",
    "\n",
    "response = text_classifier.predict(payload)\n",
    "\n",
    "predictions = json.loads(response)\n",
    "print(json.dumps(predictions, indent=2))"
   ]
  },
  {
   "cell_type": "code",
   "execution_count": 21,
   "id": "2b7e48b9-c11b-4814-aac4-ae308b833fe6",
   "metadata": {
    "tags": []
   },
   "outputs": [],
   "source": [
    "text_classifier.delete_endpoint()"
   ]
  }
 ],
 "metadata": {
  "instance_type": "ml.t3.medium",
  "kernelspec": {
   "display_name": "Python 3 (Data Science)",
   "language": "python",
   "name": "python3__SAGEMAKER_INTERNAL__arn:aws:sagemaker:eu-west-1:470317259841:image/datascience-1.0"
  },
  "language_info": {
   "codemirror_mode": {
    "name": "ipython",
    "version": 3
   },
   "file_extension": ".py",
   "mimetype": "text/x-python",
   "name": "python",
   "nbconvert_exporter": "python",
   "pygments_lexer": "ipython3",
   "version": "3.7.10"
  }
 },
 "nbformat": 4,
 "nbformat_minor": 5
}
