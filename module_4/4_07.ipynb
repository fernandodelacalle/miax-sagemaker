{
 "cells": [
  {
   "cell_type": "markdown",
   "id": "00820832-36f1-4d33-9422-c3f6ca5f9af2",
   "metadata": {
    "tags": []
   },
   "source": [
    "# Ejercicio: Optimización de parámetros.\n",
    "- Utilizando el modelo y los datos de validación de ejercicio [Ejercicio: Clasificación con XGBoost](../module_4/4_03.ipynb), optimiza el parámetro max_depth cd xgboost. Utiliza para ello HyperparameterTuner.\n",
    "- Para el parámetro max_depth usa sagemaker.parameter.CategoricalParameter([2, 3, 4, 5, 6, 7, 8]) por ejmplo.\n",
    "- Usa \"validation:auc\" como métrica del HyperparameterTuner.\n",
    "- Visualiza el resultado.\n"
   ]
  },
  {
   "cell_type": "code",
   "execution_count": null,
   "id": "10c55413-dacd-4b8c-9a87-ebe933d74f48",
   "metadata": {},
   "outputs": [],
   "source": []
  }
 ],
 "metadata": {
  "forced_instance_type": "ml.t3.medium",
  "forced_lcc_arn": "",
  "instance_type": "ml.t3.medium",
  "kernelspec": {
   "display_name": "Python 3 (ipykernel)",
   "language": "python",
   "name": "python3"
  },
  "language_info": {
   "codemirror_mode": {
    "name": "ipython",
    "version": 3
   },
   "file_extension": ".py",
   "mimetype": "text/x-python",
   "name": "python",
   "nbconvert_exporter": "python",
   "pygments_lexer": "ipython3",
   "version": "3.10.14"
  }
 },
 "nbformat": 4,
 "nbformat_minor": 5
}
