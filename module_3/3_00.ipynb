{
 "cells": [
  {
   "cell_type": "markdown",
   "id": "d44fa991-08fb-4310-ab6f-5dc40425eeb8",
   "metadata": {
    "tags": []
   },
   "source": [
    "# Etiquetado con AWS SageMaker Ground Truth.\n",
    "### Preparación de los datos"
   ]
  },
  {
   "cell_type": "code",
   "execution_count": null,
   "id": "27e64b7e-60a2-4ba0-9056-cd9c9931e7e5",
   "metadata": {
    "tags": []
   },
   "outputs": [],
   "source": [
    "import pandas as pd"
   ]
  },
  {
   "cell_type": "code",
   "execution_count": null,
   "id": "57798007-ee85-4119-9c03-e40665b24935",
   "metadata": {
    "tags": []
   },
   "outputs": [],
   "source": [
    "import sagemaker\n",
    "\n",
    "role = sagemaker.get_execution_role()\n",
    "sess = sagemaker.Session()\n",
    "region = sess.boto_region_name\n",
    "\n",
    "bucket = sess.default_bucket()\n",
    "prefix = 'module_3/part_0'\n",
    "\n",
    "print(role)\n",
    "print(sess)\n",
    "print(region)\n",
    "print(bucket)\n",
    "print(prefix)"
   ]
  },
  {
   "cell_type": "code",
   "execution_count": null,
   "id": "d7ba8b59-5fc2-4c4f-80a9-f47d25effa17",
   "metadata": {
    "tags": []
   },
   "outputs": [],
   "source": [
    "df = pd.read_csv('div_announcement.csv', header=None)\n",
    "df"
   ]
  },
  {
   "cell_type": "code",
   "execution_count": null,
   "id": "daeeaa16-9a72-41e3-90d8-78db5481d011",
   "metadata": {
    "tags": []
   },
   "outputs": [],
   "source": [
    "df.iloc[1, 0]"
   ]
  },
  {
   "cell_type": "code",
   "execution_count": null,
   "id": "746554ff-b4c0-4203-862d-730ae4780578",
   "metadata": {
    "tags": []
   },
   "outputs": [],
   "source": [
    "df = df.replace(r'\\n',' ', regex=True) "
   ]
  },
  {
   "cell_type": "code",
   "execution_count": null,
   "id": "da03dfa5-64d1-4165-845c-e14822a4c84b",
   "metadata": {
    "tags": []
   },
   "outputs": [],
   "source": [
    "df.to_csv('div_announcement_proc.csv', header=False, index=False)"
   ]
  },
  {
   "cell_type": "code",
   "execution_count": null,
   "id": "28bb00ec-20ae-490d-8a96-26ef4d2eb087",
   "metadata": {
    "tags": []
   },
   "outputs": [],
   "source": [
    "sess.upload_data(path='div_announcement_proc.csv', bucket=bucket, key_prefix=prefix)"
   ]
  },
  {
   "cell_type": "markdown",
   "id": "5d16b63d-6c93-4c57-b24d-e84d60458f2c",
   "metadata": {},
   "source": [
    "### Creación de la tarea de etiquetado."
   ]
  },
  {
   "cell_type": "markdown",
   "id": "112edb68-39b5-4b8f-8983-f66acd784f79",
   "metadata": {},
   "source": [
    "<center>\n",
    "<img src=\"./imgs/1.png\"  alt=\"drawing\" width=\"1200\"/>\n",
    "</center>\n",
    "\n",
    "<center>\n",
    "<img src=\"./imgs/2.png\"  alt=\"drawing\" width=\"1200\"/>\n",
    "</center>\n",
    "\n",
    "<center>\n",
    "<img src=\"./imgs/3.png\"  alt=\"drawing\" width=\"1200\"/>\n",
    "</center>\n",
    "\n",
    "<center>\n",
    "<img src=\"./imgs/4.png\"  alt=\"drawing\" width=\"1200\"/>\n",
    "</center>\n",
    "\n",
    "<center>\n",
    "<img src=\"./imgs/5.png\"  alt=\"drawing\" width=\"1200\"/>\n",
    "</center>"
   ]
  }
 ],
 "metadata": {
  "forced_instance_type": "ml.t3.medium",
  "forced_lcc_arn": "",
  "instance_type": "ml.t3.medium",
  "kernelspec": {
   "display_name": "Python 3 (Data Science)",
   "language": "python",
   "name": "python3__SAGEMAKER_INTERNAL__arn:aws:sagemaker:eu-west-1:470317259841:image/datascience-1.0"
  },
  "language_info": {
   "codemirror_mode": {
    "name": "ipython",
    "version": 3
   },
   "file_extension": ".py",
   "mimetype": "text/x-python",
   "name": "python",
   "nbconvert_exporter": "python",
   "pygments_lexer": "ipython3",
   "version": "3.7.10"
  }
 },
 "nbformat": 4,
 "nbformat_minor": 5
}
