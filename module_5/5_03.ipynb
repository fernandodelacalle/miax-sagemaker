{
 "cells": [
  {
   "cell_type": "markdown",
   "id": "a3358ec4-d4c6-45b6-a315-f87569e1430c",
   "metadata": {},
   "source": [
    "# Modelo NLP: Endpoint en Tiempo Real."
   ]
  },
  {
   "cell_type": "code",
   "execution_count": null,
   "id": "7f3f2ac5-57a0-4741-8792-b2cfee01502b",
   "metadata": {
    "tags": []
   },
   "outputs": [],
   "source": [
    "import numpy as np\n",
    "import pandas as pd\n",
    "\n",
    "import sagemaker\n",
    "\n",
    "role = sagemaker.get_execution_role()\n",
    "sess = sagemaker.Session()\n",
    "region = sess.boto_region_name\n",
    "bucket = sess.default_bucket()\n",
    "prefix = 'module_5/part_3'"
   ]
  },
  {
   "cell_type": "markdown",
   "id": "db6a13f8-098b-43f2-b03c-2360efd516f7",
   "metadata": {
    "jp-MarkdownHeadingCollapsed": true,
    "tags": []
   },
   "source": [
    "- Usaremos el estimador que entrenamos anterioremente en el notebook [module_4/4_05.ipynb](../module_4/4_05.ipynb).\n",
    "- Podemos usar el método de clase attach de *Estimator* con el *training_job_name* usado anteriormete para no tener que realizar el entrenamiento otra vez."
   ]
  },
  {
   "cell_type": "code",
   "execution_count": null,
   "id": "be792158-2c19-4da2-ade0-bba939bfb4b7",
   "metadata": {
    "tags": []
   },
   "outputs": [],
   "source": [
    "estimator = sagemaker.estimator.Estimator.attach(training_job_name='dbpedia-blazingtext', )"
   ]
  },
  {
   "cell_type": "markdown",
   "id": "abaddd5b-d3da-42bc-bd23-14ad65614213",
   "metadata": {},
   "source": [
    "- Desplegamos nuestro modelo"
   ]
  },
  {
   "cell_type": "code",
   "execution_count": null,
   "id": "b424591e-22f8-448b-a1c6-ab80fc62920f",
   "metadata": {},
   "outputs": [],
   "source": [
    "text_classifier = estimator.deploy(\n",
    "    initial_instance_count=1,\n",
    "    instance_type=\"ml.m4.xlarge\", \n",
    "    serializer=sagemaker.serializers.JSONSerializer()\n",
    ")"
   ]
  },
  {
   "cell_type": "markdown",
   "id": "a780f633-4734-4a55-a868-bb3a669306bb",
   "metadata": {},
   "source": [
    "- Tenemos que realizar el mismo procesamiento que en proceso de entrenamiento."
   ]
  },
  {
   "cell_type": "code",
   "execution_count": null,
   "id": "60570965-41f1-4f5f-b7d6-c54803624267",
   "metadata": {
    "tags": []
   },
   "outputs": [],
   "source": [
    "import nltk\n",
    "nltk.download('punkt')"
   ]
  },
  {
   "cell_type": "code",
   "execution_count": null,
   "id": "f568bb69-9d31-4bc6-8af1-4a5fe2bb2826",
   "metadata": {
    "tags": []
   },
   "outputs": [],
   "source": [
    "sentences = [\n",
    "    \"Convair was an american aircraft manufacturing company which later expanded into rockets and spacecraft.\",\n",
    "    \"Berwick secondary college is situated in the outer melbourne metropolitan suburb of berwick .\",\n",
    "]\n",
    "\n",
    "# using the same nltk tokenizer that we used during data preparation for training\n",
    "tokenized_sentences = [\" \".join(nltk.word_tokenize(sent)) for sent in sentences]\n",
    "tokenized_sentences"
   ]
  },
  {
   "cell_type": "markdown",
   "id": "4212bfb3-ab41-4141-a33c-8cfdc70b840b",
   "metadata": {},
   "source": [
    "- BlazingText admite application/json como content-type para la inferencia. \n",
    "- El contenido tiene que incluir la lista de frases con la clave *instances*."
   ]
  },
  {
   "cell_type": "code",
   "execution_count": null,
   "id": "fc78385e-0b09-4450-b059-29ccb91dd604",
   "metadata": {
    "tags": []
   },
   "outputs": [],
   "source": [
    "payload = {\"instances\": tokenized_sentences}\n",
    "response = text_classifier.predict(payload)\n",
    "response"
   ]
  },
  {
   "cell_type": "code",
   "execution_count": null,
   "id": "07cb1a86-060a-42e4-af08-7691ffad3c68",
   "metadata": {
    "tags": []
   },
   "outputs": [],
   "source": [
    "import json\n",
    "predictions = json.loads(response)\n",
    "print(json.dumps(predictions, indent=2))"
   ]
  },
  {
   "cell_type": "markdown",
   "id": "41481dca-cb63-4dca-976b-03ea51b46bc7",
   "metadata": {},
   "source": [
    "- Por defecto solo nos da  la clase con mayor probabilidad, pero podemos modificarlo."
   ]
  },
  {
   "cell_type": "code",
   "execution_count": null,
   "id": "f6ba64f9-8f00-4fc2-bbb9-fb01c5b1bc17",
   "metadata": {
    "tags": []
   },
   "outputs": [],
   "source": [
    "payload = {\"instances\": tokenized_sentences, \"configuration\": {\"k\": 2}}\n",
    "\n",
    "response = text_classifier.predict(payload)\n",
    "\n",
    "predictions = json.loads(response)\n",
    "print(json.dumps(predictions, indent=2))"
   ]
  },
  {
   "cell_type": "code",
   "execution_count": null,
   "id": "2b7e48b9-c11b-4814-aac4-ae308b833fe6",
   "metadata": {
    "tags": []
   },
   "outputs": [],
   "source": [
    "text_classifier.delete_endpoint()"
   ]
  }
 ],
 "metadata": {
  "instance_type": "ml.t3.medium",
  "kernelspec": {
   "display_name": "Python 3 (Data Science)",
   "language": "python",
   "name": "python3__SAGEMAKER_INTERNAL__arn:aws:sagemaker:eu-west-1:470317259841:image/datascience-1.0"
  },
  "language_info": {
   "codemirror_mode": {
    "name": "ipython",
    "version": 3
   },
   "file_extension": ".py",
   "mimetype": "text/x-python",
   "name": "python",
   "nbconvert_exporter": "python",
   "pygments_lexer": "ipython3",
   "version": "3.7.10"
  }
 },
 "nbformat": 4,
 "nbformat_minor": 5
}
