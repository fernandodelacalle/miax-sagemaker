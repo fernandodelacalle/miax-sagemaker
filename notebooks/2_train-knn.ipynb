{
 "cells": [
  {
   "cell_type": "code",
   "execution_count": 4,
   "metadata": {},
   "outputs": [],
   "source": [
    "import sagemaker\n",
    "from sagemaker.session import TrainingInput\n",
    "from sagemaker.debugger import Rule\n",
    "from sagemaker.debugger import rule_configs\n"
   ]
  },
  {
   "cell_type": "code",
   "execution_count": 5,
   "metadata": {},
   "outputs": [
    {
     "name": "stdout",
     "output_type": "stream",
     "text": [
      "AWS Region: eu-west-3\n",
      "RoleArn: arn:aws:iam::260598086981:role/service-role/AmazonSageMaker-ExecutionRole-20210916T222927\n"
     ]
    }
   ],
   "source": [
    "region = sagemaker.Session().boto_region_name\n",
    "print(\"AWS Region: {}\".format(region))\n",
    "\n",
    "role = sagemaker.get_execution_role()\n",
    "print(\"RoleArn: {}\".format(role))\n",
    "\n",
    "sm_sess = sagemaker.session.Session()"
   ]
  },
  {
   "cell_type": "code",
   "execution_count": 6,
   "metadata": {},
   "outputs": [
    {
     "data": {
      "text/plain": [
       "'sagemaker-eu-west-3-260598086981'"
      ]
     },
     "execution_count": 6,
     "metadata": {},
     "output_type": "execute_result"
    }
   ],
   "source": [
    "bucket = sagemaker.Session().default_bucket()\n",
    "bucket"
   ]
  },
  {
   "cell_type": "code",
   "execution_count": 13,
   "metadata": {},
   "outputs": [],
   "source": [
    "prefix = \"demo-sagemaker-boston\""
   ]
  },
  {
   "cell_type": "code",
   "execution_count": 14,
   "metadata": {},
   "outputs": [
    {
     "data": {
      "text/plain": [
       "'s3://sagemaker-eu-west-3-260598086981/demo-sagemaker-boston/knn_model'"
      ]
     },
     "execution_count": 14,
     "metadata": {},
     "output_type": "execute_result"
    }
   ],
   "source": [
    "s3_output_location='s3://{}/{}/{}'.format(bucket, prefix, 'knn_model')\n",
    "s3_output_location"
   ]
  },
  {
   "cell_type": "markdown",
   "metadata": {},
   "source": [
    "## Entrenamiento del modelo k-nn\n",
    "- https://docs.aws.amazon.com/es_es/sagemaker/latest/dg/k-nearest-neighbors.html"
   ]
  },
  {
   "cell_type": "code",
   "execution_count": 16,
   "metadata": {},
   "outputs": [
    {
     "name": "stdout",
     "output_type": "stream",
     "text": [
      "749696950732.dkr.ecr.eu-west-3.amazonaws.com/knn:1\n"
     ]
    }
   ],
   "source": [
    "container=sagemaker.image_uris.retrieve(\"knn\", region)\n",
    "print(container)"
   ]
  },
  {
   "cell_type": "markdown",
   "metadata": {},
   "source": [
    "---"
   ]
  },
  {
   "cell_type": "markdown",
   "metadata": {},
   "source": [
    "### Formato de entrada\n",
    "- https://docs.aws.amazon.com/es_es/sagemaker/latest/dg/kNN-in-formats.html"
   ]
  },
  {
   "cell_type": "code",
   "execution_count": 30,
   "metadata": {},
   "outputs": [],
   "source": [
    "train_input = TrainingInput(\n",
    "    f\"s3://{bucket}/{prefix}/data/train.csv\", \n",
    "    content_type=\"text/csv\",\n",
    ")\n",
    "validation_input = TrainingInput(\n",
    "    f\"s3://{bucket}/{prefix}/data/validation.csv\",\n",
    "    content_type=\"text/csv\",\n",
    ")"
   ]
  },
  {
   "cell_type": "code",
   "execution_count": 31,
   "metadata": {},
   "outputs": [],
   "source": [
    "knn = sagemaker.estimator.Estimator(\n",
    "    image_uri=container,\n",
    "    role=role,\n",
    "    instance_count=1,\n",
    "    instance_type='ml.m5.xlarge',\n",
    "    output_path=s3_output_location,\n",
    "    sagemaker_session=sm_sess,\n",
    ")"
   ]
  },
  {
   "cell_type": "markdown",
   "metadata": {},
   "source": [
    "Hyperparametros: https://docs.aws.amazon.com/es_es/sagemaker/latest/dg/kNN_hyperparameters.html"
   ]
  },
  {
   "cell_type": "code",
   "execution_count": 33,
   "metadata": {},
   "outputs": [],
   "source": [
    "knn.set_hyperparameters(\n",
    "    feature_dim= 13,\n",
    "    k = 3, \n",
    "    sample_size = 303, \n",
    "    predictor_type = 'regressor'\n",
    ")"
   ]
  },
  {
   "cell_type": "markdown",
   "metadata": {},
   "source": [
    "___"
   ]
  },
  {
   "cell_type": "code",
   "execution_count": 34,
   "metadata": {},
   "outputs": [
    {
     "name": "stdout",
     "output_type": "stream",
     "text": [
      "2021-10-21 16:26:24 Starting - Starting the training job...\n",
      "2021-10-21 16:26:34 Starting - Launching requested ML instancesProfilerReport-1634833584: InProgress\n",
      "...\n",
      "2021-10-21 16:27:22 Starting - Preparing the instances for training.........\n",
      "2021-10-21 16:28:42 Downloading - Downloading input data\n",
      "2021-10-21 16:28:42 Training - Downloading the training image............\n",
      "2021-10-21 16:30:50 Training - Training image download completed. Training in progress..\u001b[34mDocker entrypoint called with argument(s): train\u001b[0m\n",
      "\u001b[34mRunning default environment configuration script\u001b[0m\n",
      "\u001b[34m[10/21/2021 16:30:50 INFO 140690016610112] Reading default configuration from /opt/amazon/lib/python3.7/site-packages/algorithm/resources/default-conf.json: {'_kvstore': 'dist_async', '_log_level': 'info', '_num_gpus': 'auto', '_num_kv_servers': '1', '_tuning_objective_metric': '', '_faiss_index_nprobe': '5', 'epochs': '1', 'feature_dim': 'auto', 'faiss_index_ivf_nlists': 'auto', 'index_metric': 'L2', 'index_type': 'faiss.Flat', 'mini_batch_size': '5000', '_enable_profiler': 'false'}\u001b[0m\n",
      "\u001b[34m[10/21/2021 16:30:50 INFO 140690016610112] Merging with provided configuration from /opt/ml/input/config/hyperparameters.json: {'feature_dim': '13', 'predictor_type': 'regressor', 'sample_size': '303', 'k': '3'}\u001b[0m\n",
      "\u001b[34m[10/21/2021 16:30:50 INFO 140690016610112] Final configuration: {'_kvstore': 'dist_async', '_log_level': 'info', '_num_gpus': 'auto', '_num_kv_servers': '1', '_tuning_objective_metric': '', '_faiss_index_nprobe': '5', 'epochs': '1', 'feature_dim': '13', 'faiss_index_ivf_nlists': 'auto', 'index_metric': 'L2', 'index_type': 'faiss.Flat', 'mini_batch_size': '5000', '_enable_profiler': 'false', 'predictor_type': 'regressor', 'sample_size': '303', 'k': '3'}\u001b[0m\n",
      "\u001b[34m[10/21/2021 16:30:55 WARNING 140690016610112] Loggers have already been setup.\u001b[0m\n",
      "\u001b[34m[10/21/2021 16:30:55 INFO 140690016610112] Final configuration: {'_kvstore': 'dist_async', '_log_level': 'info', '_num_gpus': 'auto', '_num_kv_servers': '1', '_tuning_objective_metric': '', '_faiss_index_nprobe': '5', 'epochs': '1', 'feature_dim': '13', 'faiss_index_ivf_nlists': 'auto', 'index_metric': 'L2', 'index_type': 'faiss.Flat', 'mini_batch_size': '5000', '_enable_profiler': 'false', 'predictor_type': 'regressor', 'sample_size': '303', 'k': '3'}\u001b[0m\n",
      "\u001b[34m[10/21/2021 16:30:55 WARNING 140690016610112] Loggers have already been setup.\u001b[0m\n",
      "\u001b[34m[10/21/2021 16:30:55 INFO 140690016610112] Launching parameter server for role scheduler\u001b[0m\n",
      "\u001b[34m[10/21/2021 16:30:55 INFO 140690016610112] {'ENVROOT': '/opt/amazon', 'PROTOCOL_BUFFERS_PYTHON_IMPLEMENTATION': 'cpp', 'HOSTNAME': 'ip-10-0-175-139.eu-west-3.compute.internal', 'TRAINING_JOB_NAME': 'knn-2021-10-21-16-26-24-454', 'NVIDIA_REQUIRE_CUDA': 'cuda>=9.0', 'TRAINING_JOB_ARN': 'arn:aws:sagemaker:eu-west-3:260598086981:training-job/knn-2021-10-21-16-26-24-454', 'AWS_CONTAINER_CREDENTIALS_RELATIVE_URI': '/v2/credentials/ae634baf-89bc-4283-b47c-3fe6034f578d', 'CANONICAL_ENVROOT': '/opt/amazon', 'PYTHONUNBUFFERED': 'TRUE', 'NVIDIA_VISIBLE_DEVICES': 'void', 'LD_LIBRARY_PATH': '/opt/amazon/lib/python3.7/site-packages/cv2/../../../../lib:/usr/local/nvidia/lib64:/opt/amazon/lib', 'NVIDIA_DRIVER_CAPABILITIES': 'compute,utility', 'AWS_EXECUTION_ENV': 'AWS_ECS_EC2', 'PATH': '/opt/amazon/bin:/usr/local/nvidia/bin:/usr/local/sbin:/usr/local/bin:/usr/sbin:/usr/bin:/sbin:/bin:/opt/amazon/bin:/opt/amazon/bin', 'PWD': '/', 'LANG': 'en_US.utf8', 'AWS_REGION': 'eu-west-3', 'SAGEMAKER_METRICS_DIRECTORY': '/opt/ml/output/metrics/sagemaker', 'HOME': '/root', 'SHLVL': '1', 'PROTOCOL_BUFFERS_PYTHON_IMPLEMENTATION_VERSION': '2', 'OMP_NUM_THREADS': '2', 'ECS_CONTAINER_METADATA_URI': 'http://169.254.170.2/v3/2eca02ad-ced7-4ae3-8a8e-5b3623fefc89', 'DMLC_INTERFACE': 'eth0', 'ECS_CONTAINER_METADATA_URI_V4': 'http://169.254.170.2/v4/2eca02ad-ced7-4ae3-8a8e-5b3623fefc89', 'SAGEMAKER_HTTP_PORT': '8080', 'SAGEMAKER_DATA_PATH': '/opt/ml'}\u001b[0m\n",
      "\u001b[34m[10/21/2021 16:30:55 INFO 140690016610112] envs={'ENVROOT': '/opt/amazon', 'PROTOCOL_BUFFERS_PYTHON_IMPLEMENTATION': 'cpp', 'HOSTNAME': 'ip-10-0-175-139.eu-west-3.compute.internal', 'TRAINING_JOB_NAME': 'knn-2021-10-21-16-26-24-454', 'NVIDIA_REQUIRE_CUDA': 'cuda>=9.0', 'TRAINING_JOB_ARN': 'arn:aws:sagemaker:eu-west-3:260598086981:training-job/knn-2021-10-21-16-26-24-454', 'AWS_CONTAINER_CREDENTIALS_RELATIVE_URI': '/v2/credentials/ae634baf-89bc-4283-b47c-3fe6034f578d', 'CANONICAL_ENVROOT': '/opt/amazon', 'PYTHONUNBUFFERED': 'TRUE', 'NVIDIA_VISIBLE_DEVICES': 'void', 'LD_LIBRARY_PATH': '/opt/amazon/lib/python3.7/site-packages/cv2/../../../../lib:/usr/local/nvidia/lib64:/opt/amazon/lib', 'NVIDIA_DRIVER_CAPABILITIES': 'compute,utility', 'AWS_EXECUTION_ENV': 'AWS_ECS_EC2', 'PATH': '/opt/amazon/bin:/usr/local/nvidia/bin:/usr/local/sbin:/usr/local/bin:/usr/sbin:/usr/bin:/sbin:/bin:/opt/amazon/bin:/opt/amazon/bin', 'PWD': '/', 'LANG': 'en_US.utf8', 'AWS_REGION': 'eu-west-3', 'SAGEMAKER_METRICS_DIRECTORY': '/opt/ml/output/metrics/sagemaker', 'HOME': '/root', 'SHLVL': '1', 'PROTOCOL_BUFFERS_PYTHON_IMPLEMENTATION_VERSION': '2', 'OMP_NUM_THREADS': '2', 'ECS_CONTAINER_METADATA_URI': 'http://169.254.170.2/v3/2eca02ad-ced7-4ae3-8a8e-5b3623fefc89', 'DMLC_INTERFACE': 'eth0', 'ECS_CONTAINER_METADATA_URI_V4': 'http://169.254.170.2/v4/2eca02ad-ced7-4ae3-8a8e-5b3623fefc89', 'SAGEMAKER_HTTP_PORT': '8080', 'SAGEMAKER_DATA_PATH': '/opt/ml', 'DMLC_ROLE': 'scheduler', 'DMLC_PS_ROOT_URI': '10.0.175.139', 'DMLC_PS_ROOT_PORT': '9000', 'DMLC_NUM_SERVER': '1', 'DMLC_NUM_WORKER': '1'}\u001b[0m\n",
      "\u001b[34m[10/21/2021 16:30:55 INFO 140690016610112] Launching parameter server for role server\u001b[0m\n",
      "\u001b[34m[10/21/2021 16:30:55 INFO 140690016610112] {'ENVROOT': '/opt/amazon', 'PROTOCOL_BUFFERS_PYTHON_IMPLEMENTATION': 'cpp', 'HOSTNAME': 'ip-10-0-175-139.eu-west-3.compute.internal', 'TRAINING_JOB_NAME': 'knn-2021-10-21-16-26-24-454', 'NVIDIA_REQUIRE_CUDA': 'cuda>=9.0', 'TRAINING_JOB_ARN': 'arn:aws:sagemaker:eu-west-3:260598086981:training-job/knn-2021-10-21-16-26-24-454', 'AWS_CONTAINER_CREDENTIALS_RELATIVE_URI': '/v2/credentials/ae634baf-89bc-4283-b47c-3fe6034f578d', 'CANONICAL_ENVROOT': '/opt/amazon', 'PYTHONUNBUFFERED': 'TRUE', 'NVIDIA_VISIBLE_DEVICES': 'void', 'LD_LIBRARY_PATH': '/opt/amazon/lib/python3.7/site-packages/cv2/../../../../lib:/usr/local/nvidia/lib64:/opt/amazon/lib', 'NVIDIA_DRIVER_CAPABILITIES': 'compute,utility', 'AWS_EXECUTION_ENV': 'AWS_ECS_EC2', 'PATH': '/opt/amazon/bin:/usr/local/nvidia/bin:/usr/local/sbin:/usr/local/bin:/usr/sbin:/usr/bin:/sbin:/bin:/opt/amazon/bin:/opt/amazon/bin', 'PWD': '/', 'LANG': 'en_US.utf8', 'AWS_REGION': 'eu-west-3', 'SAGEMAKER_METRICS_DIRECTORY': '/opt/ml/output/metrics/sagemaker', 'HOME': '/root', 'SHLVL': '1', 'PROTOCOL_BUFFERS_PYTHON_IMPLEMENTATION_VERSION': '2', 'OMP_NUM_THREADS': '2', 'ECS_CONTAINER_METADATA_URI': 'http://169.254.170.2/v3/2eca02ad-ced7-4ae3-8a8e-5b3623fefc89', 'DMLC_INTERFACE': 'eth0', 'ECS_CONTAINER_METADATA_URI_V4': 'http://169.254.170.2/v4/2eca02ad-ced7-4ae3-8a8e-5b3623fefc89', 'SAGEMAKER_HTTP_PORT': '8080', 'SAGEMAKER_DATA_PATH': '/opt/ml'}\u001b[0m\n",
      "\u001b[34m[10/21/2021 16:30:55 INFO 140690016610112] envs={'ENVROOT': '/opt/amazon', 'PROTOCOL_BUFFERS_PYTHON_IMPLEMENTATION': 'cpp', 'HOSTNAME': 'ip-10-0-175-139.eu-west-3.compute.internal', 'TRAINING_JOB_NAME': 'knn-2021-10-21-16-26-24-454', 'NVIDIA_REQUIRE_CUDA': 'cuda>=9.0', 'TRAINING_JOB_ARN': 'arn:aws:sagemaker:eu-west-3:260598086981:training-job/knn-2021-10-21-16-26-24-454', 'AWS_CONTAINER_CREDENTIALS_RELATIVE_URI': '/v2/credentials/ae634baf-89bc-4283-b47c-3fe6034f578d', 'CANONICAL_ENVROOT': '/opt/amazon', 'PYTHONUNBUFFERED': 'TRUE', 'NVIDIA_VISIBLE_DEVICES': 'void', 'LD_LIBRARY_PATH': '/opt/amazon/lib/python3.7/site-packages/cv2/../../../../lib:/usr/local/nvidia/lib64:/opt/amazon/lib', 'NVIDIA_DRIVER_CAPABILITIES': 'compute,utility', 'AWS_EXECUTION_ENV': 'AWS_ECS_EC2', 'PATH': '/opt/amazon/bin:/usr/local/nvidia/bin:/usr/local/sbin:/usr/local/bin:/usr/sbin:/usr/bin:/sbin:/bin:/opt/amazon/bin:/opt/amazon/bin', 'PWD': '/', 'LANG': 'en_US.utf8', 'AWS_REGION': 'eu-west-3', 'SAGEMAKER_METRICS_DIRECTORY': '/opt/ml/output/metrics/sagemaker', 'HOME': '/root', 'SHLVL': '1', 'PROTOCOL_BUFFERS_PYTHON_IMPLEMENTATION_VERSION': '2', 'OMP_NUM_THREADS': '2', 'ECS_CONTAINER_METADATA_URI': 'http://169.254.170.2/v3/2eca02ad-ced7-4ae3-8a8e-5b3623fefc89', 'DMLC_INTERFACE': 'eth0', 'ECS_CONTAINER_METADATA_URI_V4': 'http://169.254.170.2/v4/2eca02ad-ced7-4ae3-8a8e-5b3623fefc89', 'SAGEMAKER_HTTP_PORT': '8080', 'SAGEMAKER_DATA_PATH': '/opt/ml', 'DMLC_ROLE': 'server', 'DMLC_PS_ROOT_URI': '10.0.175.139', 'DMLC_PS_ROOT_PORT': '9000', 'DMLC_NUM_SERVER': '1', 'DMLC_NUM_WORKER': '1'}\u001b[0m\n",
      "\u001b[34m[10/21/2021 16:30:55 INFO 140690016610112] Environment: {'ENVROOT': '/opt/amazon', 'PROTOCOL_BUFFERS_PYTHON_IMPLEMENTATION': 'cpp', 'HOSTNAME': 'ip-10-0-175-139.eu-west-3.compute.internal', 'TRAINING_JOB_NAME': 'knn-2021-10-21-16-26-24-454', 'NVIDIA_REQUIRE_CUDA': 'cuda>=9.0', 'TRAINING_JOB_ARN': 'arn:aws:sagemaker:eu-west-3:260598086981:training-job/knn-2021-10-21-16-26-24-454', 'AWS_CONTAINER_CREDENTIALS_RELATIVE_URI': '/v2/credentials/ae634baf-89bc-4283-b47c-3fe6034f578d', 'CANONICAL_ENVROOT': '/opt/amazon', 'PYTHONUNBUFFERED': 'TRUE', 'NVIDIA_VISIBLE_DEVICES': 'void', 'LD_LIBRARY_PATH': '/opt/amazon/lib/python3.7/site-packages/cv2/../../../../lib:/usr/local/nvidia/lib64:/opt/amazon/lib', 'NVIDIA_DRIVER_CAPABILITIES': 'compute,utility', 'AWS_EXECUTION_ENV': 'AWS_ECS_EC2', 'PATH': '/opt/amazon/bin:/usr/local/nvidia/bin:/usr/local/sbin:/usr/local/bin:/usr/sbin:/usr/bin:/sbin:/bin:/opt/amazon/bin:/opt/amazon/bin', 'PWD': '/', 'LANG': 'en_US.utf8', 'AWS_REGION': 'eu-west-3', 'SAGEMAKER_METRICS_DIRECTORY': '/opt/ml/output/metrics/sagemaker', 'HOME': '/root', 'SHLVL': '1', 'PROTOCOL_BUFFERS_PYTHON_IMPLEMENTATION_VERSION': '2', 'OMP_NUM_THREADS': '2', 'ECS_CONTAINER_METADATA_URI': 'http://169.254.170.2/v3/2eca02ad-ced7-4ae3-8a8e-5b3623fefc89', 'DMLC_INTERFACE': 'eth0', 'ECS_CONTAINER_METADATA_URI_V4': 'http://169.254.170.2/v4/2eca02ad-ced7-4ae3-8a8e-5b3623fefc89', 'SAGEMAKER_HTTP_PORT': '8080', 'SAGEMAKER_DATA_PATH': '/opt/ml', 'DMLC_ROLE': 'worker', 'DMLC_PS_ROOT_URI': '10.0.175.139', 'DMLC_PS_ROOT_PORT': '9000', 'DMLC_NUM_SERVER': '1', 'DMLC_NUM_WORKER': '1'}\u001b[0m\n",
      "\u001b[34mProcess 48 is a shell:scheduler.\u001b[0m\n",
      "\u001b[34mProcess 57 is a shell:server.\u001b[0m\n",
      "\u001b[34mProcess 1 is a worker.\u001b[0m\n",
      "\u001b[34m[10/21/2021 16:30:55 INFO 140690016610112] Using default worker.\u001b[0m\n",
      "\u001b[34m[10/21/2021 16:30:56 INFO 140690016610112] Checkpoint loading and saving are disabled.\u001b[0m\n",
      "\u001b[34m[10/21/2021 16:30:56 INFO 140690016610112] nvidia-smi: took 0.033 seconds to run.\u001b[0m\n",
      "\u001b[34m[10/21/2021 16:30:56 INFO 140690016610112] nvidia-smi identified 0 GPUs.\u001b[0m\n",
      "\u001b[34m[10/21/2021 16:30:56 INFO 140690016610112] Create Store: dist_async\u001b[0m\n",
      "\u001b[34m[16:30:56] ../src/base.cc:47: Please install cuda driver for GPU use.  No cuda driver detected.\u001b[0m\n",
      "\u001b[34m[16:30:57] ../src/base.cc:47: Please install cuda driver for GPU use.  No cuda driver detected.\u001b[0m\n",
      "\u001b[34m[16:30:57] ../src/base.cc:47: Please install cuda driver for GPU use.  No cuda driver detected.\u001b[0m\n",
      "\u001b[34m[10/21/2021 16:30:57 ERROR 140690016610112] nvidia-smi: failed to run (127): b'/bin/sh: nvidia-smi: command not found'/\u001b[0m\n",
      "\u001b[34m[10/21/2021 16:30:57 WARNING 140690016610112] Could not determine free memory in MB for GPU device with ID (0).\u001b[0m\n",
      "\u001b[34m[10/21/2021 16:30:57 INFO 140690016610112] Using per-worker sample size = 303 (Available virtual memory = 14492540928 bytes, GPU free memory = 0 bytes, number of workers = 1). If an out-of-memory error occurs, choose a larger instance type, use dimension reduction, decrease sample_size, and/or decrease mini_batch_size.\u001b[0m\n",
      "\u001b[34m[10/21/2021 16:30:57 INFO 140690016610112] Starting cluster...\u001b[0m\n",
      "\u001b[34m[10/21/2021 16:30:57 INFO 140688122193664] concurrency model: async\u001b[0m\n",
      "\u001b[34m[10/21/2021 16:30:57 INFO 140690016610112] ...Cluster started\u001b[0m\n",
      "\u001b[34m[10/21/2021 16:30:57 INFO 140688122193664] masquerade (NAT) address: None\u001b[0m\n",
      "\u001b[34m[10/21/2021 16:30:57 INFO 140690016610112] Verifying connection to 0 peer cluster(s)...\u001b[0m\n",
      "\u001b[34m[10/21/2021 16:30:57 INFO 140688122193664] passive ports: None\u001b[0m\n",
      "\u001b[34m[10/21/2021 16:30:57 INFO 140690016610112] ...Verified connection to 0 peer cluster(s)\u001b[0m\n",
      "\u001b[34m#metrics {\"StartTime\": 1634833857.2877874, \"EndTime\": 1634833857.287827, \"Dimensions\": {\"Algorithm\": \"AWS/KNN\", \"Host\": \"algo-1\", \"Operation\": \"training\", \"Meta\": \"init_train_data_iter\"}, \"Metrics\": {\"Total Records Seen\": {\"sum\": 0.0, \"count\": 1, \"min\": 0, \"max\": 0}, \"Total Batches Seen\": {\"sum\": 0.0, \"count\": 1, \"min\": 0, \"max\": 0}, \"Max Records Seen Between Resets\": {\"sum\": 0.0, \"count\": 1, \"min\": 0, \"max\": 0}, \"Max Batches Seen Between Resets\": {\"sum\": 0.0, \"count\": 1, \"min\": 0, \"max\": 0}, \"Reset Count\": {\"sum\": 0.0, \"count\": 1, \"min\": 0, \"max\": 0}, \"Number of Records Since Last Reset\": {\"sum\": 0.0, \"count\": 1, \"min\": 0, \"max\": 0}, \"Number of Batches Since Last Reset\": {\"sum\": 0.0, \"count\": 1, \"min\": 0, \"max\": 0}}}\u001b[0m\n",
      "\u001b[34m[10/21/2021 16:30:57 INFO 140688122193664] >>> starting FTP server on 0.0.0.0:8999, pid=1 <<<\n",
      "\u001b[0m\n",
      "\u001b[34m[10/21/2021 16:30:57 INFO 140690016610112] #progress_metric: host=algo-1, completed 100.0 % of epochs\u001b[0m\n",
      "\u001b[34m#metrics {\"StartTime\": 1634833857.2882473, \"EndTime\": 1634833857.4814296, \"Dimensions\": {\"Algorithm\": \"AWS/KNN\", \"Host\": \"algo-1\", \"Operation\": \"training\", \"epoch\": 0, \"Meta\": \"training_data_iter\"}, \"Metrics\": {\"Total Records Seen\": {\"sum\": 303.0, \"count\": 1, \"min\": 303, \"max\": 303}, \"Total Batches Seen\": {\"sum\": 1.0, \"count\": 1, \"min\": 1, \"max\": 1}, \"Max Records Seen Between Resets\": {\"sum\": 303.0, \"count\": 1, \"min\": 303, \"max\": 303}, \"Max Batches Seen Between Resets\": {\"sum\": 1.0, \"count\": 1, \"min\": 1, \"max\": 1}, \"Reset Count\": {\"sum\": 1.0, \"count\": 1, \"min\": 1, \"max\": 1}, \"Number of Records Since Last Reset\": {\"sum\": 303.0, \"count\": 1, \"min\": 303, \"max\": 303}, \"Number of Batches Since Last Reset\": {\"sum\": 1.0, \"count\": 1, \"min\": 1, \"max\": 1}}}\n",
      "\u001b[0m\n",
      "\u001b[34m[10/21/2021 16:30:57 INFO 140690016610112] #throughput_metric: host=algo-1, train throughput=1567.4129722129721 records/second\u001b[0m\n",
      "\u001b[34m[10/21/2021 16:30:57 INFO 140690016610112] Getting reservoir sample from algo-1...\u001b[0m\n",
      "\u001b[34m[10/21/2021 16:30:57 INFO 140688122193664] 10.0.175.139:38492-[] FTP session opened (connect)\u001b[0m\n",
      "\u001b[34m[10/21/2021 16:30:57 INFO 140688122193664] 10.0.175.139:38492-[anonymous] USER 'anonymous' logged in.\u001b[0m\n",
      "\u001b[34m[10/21/2021 16:30:57 INFO 140688122193664] 10.0.175.139:38492-[anonymous] RETR /opt/rs completed=1 bytes=19528 seconds=0.0\u001b[0m\n",
      "\u001b[34m[10/21/2021 16:30:57 INFO 140688122193664] 10.0.175.139:38492-[anonymous] FTP session closed (disconnect).\u001b[0m\n",
      "\u001b[34m[10/21/2021 16:30:57 INFO 140690016610112] ...Got reservoir sample from algo-1: data=(303, 13), labels=(303,), NaNs=0\u001b[0m\n",
      "\u001b[34m[10/21/2021 16:30:57 INFO 140690016610112] Training index...\u001b[0m\n",
      "\u001b[34m[10/21/2021 16:30:57 INFO 140690016610112] ...Finished training index in 0 second(s)\u001b[0m\n",
      "\u001b[34m[10/21/2021 16:30:57 INFO 140690016610112] Adding data to index...\u001b[0m\n",
      "\u001b[34m[10/21/2021 16:30:57 INFO 140690016610112] ...Finished adding data to index in 0 second(s)\u001b[0m\n",
      "\u001b[34m#metrics {\"StartTime\": 1634833856.4481554, \"EndTime\": 1634833857.5072384, \"Dimensions\": {\"Algorithm\": \"AWS/KNN\", \"Host\": \"algo-1\", \"Operation\": \"training\"}, \"Metrics\": {\"initialize.time\": {\"sum\": 839.2014503479004, \"count\": 1, \"min\": 839.2014503479004, \"max\": 839.2014503479004}, \"epochs\": {\"sum\": 1.0, \"count\": 1, \"min\": 1, \"max\": 1}, \"update.time\": {\"sum\": 192.87419319152832, \"count\": 1, \"min\": 192.87419319152832, \"max\": 192.87419319152832}, \"finalize.time\": {\"sum\": 19.4091796875, \"count\": 1, \"min\": 19.4091796875, \"max\": 19.4091796875}, \"model.serialize.time\": {\"sum\": 6.058692932128906, \"count\": 1, \"min\": 6.058692932128906, \"max\": 6.058692932128906}}}\n",
      "\u001b[0m\n",
      "\u001b[34m[10/21/2021 16:30:57 INFO 140690016610112] Test data is not provided.\u001b[0m\n",
      "\u001b[34m[10/21/2021 16:30:57 INFO 140688122193664] >>> shutting down FTP server, 0 socket(s), pid=1 <<<\u001b[0m\n",
      "\u001b[34m#metrics {\"StartTime\": 1634833857.507309, \"EndTime\": 1634833857.5871432, \"Dimensions\": {\"Algorithm\": \"AWS/KNN\", \"Host\": \"algo-1\", \"Operation\": \"training\"}, \"Metrics\": {\"setuptime\": {\"sum\": 15.505075454711914, \"count\": 1, \"min\": 15.505075454711914, \"max\": 15.505075454711914}, \"totaltime\": {\"sum\": 1664.341926574707, \"count\": 1, \"min\": 1664.341926574707, \"max\": 1664.341926574707}}}\n",
      "\u001b[0m\n",
      "\n",
      "2021-10-21 16:31:23 Uploading - Uploading generated training model\n",
      "2021-10-21 16:31:23 Completed - Training job completed\n",
      "Training seconds: 160\n",
      "Billable seconds: 160\n"
     ]
    }
   ],
   "source": [
    "knn.fit({\"train\": train_input, \"validation\": validation_input}, wait=True)"
   ]
  },
  {
   "cell_type": "code",
   "execution_count": 35,
   "metadata": {},
   "outputs": [
    {
     "data": {
      "text/plain": [
       "'s3://sagemaker-eu-west-3-260598086981/demo-sagemaker-boston/knn_model'"
      ]
     },
     "execution_count": 35,
     "metadata": {},
     "output_type": "execute_result"
    }
   ],
   "source": [
    "knn.output_path"
   ]
  },
  {
   "cell_type": "code",
   "execution_count": 36,
   "metadata": {},
   "outputs": [
    {
     "data": {
      "text/plain": [
       "'knn-2021-10-21-16-26-24-454'"
      ]
     },
     "execution_count": 36,
     "metadata": {},
     "output_type": "execute_result"
    }
   ],
   "source": [
    "knn.latest_training_job.name"
   ]
  },
  {
   "cell_type": "code",
   "execution_count": 39,
   "metadata": {
    "collapsed": true,
    "jupyter": {
     "outputs_hidden": true
    }
   },
   "outputs": [
    {
     "name": "stdout",
     "output_type": "stream",
     "text": [
      "2021-10-21 16:31:23     322358 demo-sagemaker-boston/knn_model/knn-2021-10-21-16-26-24-454/rule-output/ProfilerReport-1634833584/profiler-output/profiler-report.html\n",
      "2021-10-21 16:31:23     168700 demo-sagemaker-boston/knn_model/knn-2021-10-21-16-26-24-454/rule-output/ProfilerReport-1634833584/profiler-output/profiler-report.ipynb\n",
      "2021-10-21 16:31:19        191 demo-sagemaker-boston/knn_model/knn-2021-10-21-16-26-24-454/rule-output/ProfilerReport-1634833584/profiler-output/profiler-reports/BatchSize.json\n",
      "2021-10-21 16:31:19        199 demo-sagemaker-boston/knn_model/knn-2021-10-21-16-26-24-454/rule-output/ProfilerReport-1634833584/profiler-output/profiler-reports/CPUBottleneck.json\n",
      "2021-10-21 16:31:19        126 demo-sagemaker-boston/knn_model/knn-2021-10-21-16-26-24-454/rule-output/ProfilerReport-1634833584/profiler-output/profiler-reports/Dataloader.json\n",
      "2021-10-21 16:31:19        127 demo-sagemaker-boston/knn_model/knn-2021-10-21-16-26-24-454/rule-output/ProfilerReport-1634833584/profiler-output/profiler-reports/GPUMemoryIncrease.json\n",
      "2021-10-21 16:31:19        198 demo-sagemaker-boston/knn_model/knn-2021-10-21-16-26-24-454/rule-output/ProfilerReport-1634833584/profiler-output/profiler-reports/IOBottleneck.json\n",
      "2021-10-21 16:31:19        119 demo-sagemaker-boston/knn_model/knn-2021-10-21-16-26-24-454/rule-output/ProfilerReport-1634833584/profiler-output/profiler-reports/LoadBalancing.json\n",
      "2021-10-21 16:31:19        151 demo-sagemaker-boston/knn_model/knn-2021-10-21-16-26-24-454/rule-output/ProfilerReport-1634833584/profiler-output/profiler-reports/LowGPUUtilization.json\n",
      "2021-10-21 16:31:19        179 demo-sagemaker-boston/knn_model/knn-2021-10-21-16-26-24-454/rule-output/ProfilerReport-1634833584/profiler-output/profiler-reports/MaxInitializationTime.json\n",
      "2021-10-21 16:31:19        133 demo-sagemaker-boston/knn_model/knn-2021-10-21-16-26-24-454/rule-output/ProfilerReport-1634833584/profiler-output/profiler-reports/OverallFrameworkMetrics.json\n",
      "2021-10-21 16:31:19        468 demo-sagemaker-boston/knn_model/knn-2021-10-21-16-26-24-454/rule-output/ProfilerReport-1634833584/profiler-output/profiler-reports/OverallSystemUsage.json\n",
      "2021-10-21 16:31:19        156 demo-sagemaker-boston/knn_model/knn-2021-10-21-16-26-24-454/rule-output/ProfilerReport-1634833584/profiler-output/profiler-reports/StepOutlier.json\n"
     ]
    }
   ],
   "source": [
    "rule_output_path = knn.output_path + \"/\" + knn.latest_training_job.name + \"/rule-output\"\n",
    "! aws s3 ls {rule_output_path} --recursive"
   ]
  },
  {
   "cell_type": "code",
   "execution_count": 40,
   "metadata": {},
   "outputs": [
    {
     "data": {
      "text/plain": [
       "'s3://sagemaker-eu-west-3-260598086981/demo-sagemaker-boston/knn_model/knn-2021-10-21-16-26-24-454/output/model.tar.gz'"
      ]
     },
     "execution_count": 40,
     "metadata": {},
     "output_type": "execute_result"
    }
   ],
   "source": [
    "knn.model_data"
   ]
  },
  {
   "cell_type": "markdown",
   "metadata": {},
   "source": [
    "___\n",
    "# Deploy"
   ]
  },
  {
   "cell_type": "code",
   "execution_count": 66,
   "metadata": {},
   "outputs": [],
   "source": [
    "from sagemaker.predictor import csv_serializer, json_deserializer"
   ]
  },
  {
   "cell_type": "code",
   "execution_count": 48,
   "metadata": {
    "collapsed": true,
    "jupyter": {
     "outputs_hidden": true
    }
   },
   "outputs": [
    {
     "name": "stderr",
     "output_type": "stream",
     "text": [
      "content_type is a no-op in sagemaker>=2.\n",
      "See: https://sagemaker.readthedocs.io/en/stable/v2.html for details.\n"
     ]
    },
    {
     "ename": "TypeError",
     "evalue": "__init__() got an unexpected keyword argument 'content_type'",
     "output_type": "error",
     "traceback": [
      "\u001b[0;31m---------------------------------------------------------------------------\u001b[0m",
      "\u001b[0;31mTypeError\u001b[0m                                 Traceback (most recent call last)",
      "\u001b[0;32m<ipython-input-48-f06b14c9e559>\u001b[0m in \u001b[0;36m<module>\u001b[0;34m\u001b[0m\n\u001b[1;32m      4\u001b[0m     \u001b[0minitial_instance_count\u001b[0m\u001b[0;34m=\u001b[0m\u001b[0;36m1\u001b[0m\u001b[0;34m,\u001b[0m\u001b[0;34m\u001b[0m\u001b[0;34m\u001b[0m\u001b[0m\n\u001b[1;32m      5\u001b[0m     \u001b[0minstance_type\u001b[0m\u001b[0;34m=\u001b[0m\u001b[0;34m'ml.t2.medium'\u001b[0m\u001b[0;34m,\u001b[0m\u001b[0;34m\u001b[0m\u001b[0;34m\u001b[0m\u001b[0m\n\u001b[0;32m----> 6\u001b[0;31m     \u001b[0mcontent_type\u001b[0m \u001b[0;34m=\u001b[0m \u001b[0;34m'text/csv'\u001b[0m\u001b[0;34m\u001b[0m\u001b[0;34m\u001b[0m\u001b[0m\n\u001b[0m\u001b[1;32m      7\u001b[0m )\n",
      "\u001b[0;32m/opt/conda/lib/python3.7/site-packages/sagemaker/estimator.py\u001b[0m in \u001b[0;36mdeploy\u001b[0;34m(self, initial_instance_count, instance_type, serializer, deserializer, accelerator_type, endpoint_name, use_compiled_model, wait, model_name, kms_key, data_capture_config, tags, **kwargs)\u001b[0m\n\u001b[1;32m    946\u001b[0m         \u001b[0;32melse\u001b[0m\u001b[0;34m:\u001b[0m\u001b[0;34m\u001b[0m\u001b[0;34m\u001b[0m\u001b[0m\n\u001b[1;32m    947\u001b[0m             \u001b[0mkwargs\u001b[0m\u001b[0;34m[\u001b[0m\u001b[0;34m\"model_kms_key\"\u001b[0m\u001b[0;34m]\u001b[0m \u001b[0;34m=\u001b[0m \u001b[0mself\u001b[0m\u001b[0;34m.\u001b[0m\u001b[0moutput_kms_key\u001b[0m\u001b[0;34m\u001b[0m\u001b[0;34m\u001b[0m\u001b[0m\n\u001b[0;32m--> 948\u001b[0;31m             \u001b[0mmodel\u001b[0m \u001b[0;34m=\u001b[0m \u001b[0mself\u001b[0m\u001b[0;34m.\u001b[0m\u001b[0mcreate_model\u001b[0m\u001b[0;34m(\u001b[0m\u001b[0;34m**\u001b[0m\u001b[0mkwargs\u001b[0m\u001b[0;34m)\u001b[0m\u001b[0;34m\u001b[0m\u001b[0;34m\u001b[0m\u001b[0m\n\u001b[0m\u001b[1;32m    949\u001b[0m \u001b[0;34m\u001b[0m\u001b[0m\n\u001b[1;32m    950\u001b[0m         \u001b[0mmodel\u001b[0m\u001b[0;34m.\u001b[0m\u001b[0mname\u001b[0m \u001b[0;34m=\u001b[0m \u001b[0mmodel_name\u001b[0m\u001b[0;34m\u001b[0m\u001b[0;34m\u001b[0m\u001b[0m\n",
      "\u001b[0;32m/opt/conda/lib/python3.7/site-packages/sagemaker/estimator.py\u001b[0m in \u001b[0;36mcreate_model\u001b[0;34m(self, role, image_uri, predictor_cls, vpc_config_override, **kwargs)\u001b[0m\n\u001b[1;32m   1995\u001b[0m             \u001b[0msagemaker_session\u001b[0m\u001b[0;34m=\u001b[0m\u001b[0mself\u001b[0m\u001b[0;34m.\u001b[0m\u001b[0msagemaker_session\u001b[0m\u001b[0;34m,\u001b[0m\u001b[0;34m\u001b[0m\u001b[0;34m\u001b[0m\u001b[0m\n\u001b[1;32m   1996\u001b[0m             \u001b[0mpredictor_cls\u001b[0m\u001b[0;34m=\u001b[0m\u001b[0mpredictor_cls\u001b[0m\u001b[0;34m,\u001b[0m\u001b[0;34m\u001b[0m\u001b[0;34m\u001b[0m\u001b[0m\n\u001b[0;32m-> 1997\u001b[0;31m             \u001b[0;34m**\u001b[0m\u001b[0mkwargs\u001b[0m\u001b[0;34m,\u001b[0m\u001b[0;34m\u001b[0m\u001b[0;34m\u001b[0m\u001b[0m\n\u001b[0m\u001b[1;32m   1998\u001b[0m         )\n\u001b[1;32m   1999\u001b[0m \u001b[0;34m\u001b[0m\u001b[0m\n",
      "\u001b[0;31mTypeError\u001b[0m: __init__() got an unexpected keyword argument 'content_type'"
     ]
    }
   ],
   "source": [
    "knn_predictor=knn.deploy(\n",
    "    initial_instance_count=1,\n",
    "    instance_type='ml.t2.medium',\n",
    "    #serializer=CSVSerializer()\n",
    ")\n",
    "knn_predictor.serializer = csv_serializer\n",
    "knn_predictor.deserializer = json_deserializer"
   ]
  },
  {
   "cell_type": "markdown",
   "metadata": {},
   "source": [
    "## Test result"
   ]
  },
  {
   "cell_type": "code",
   "execution_count": 81,
   "metadata": {},
   "outputs": [],
   "source": [
    "import pandas as pd\n",
    "import numpy as np"
   ]
  },
  {
   "cell_type": "code",
   "execution_count": 102,
   "metadata": {},
   "outputs": [],
   "source": [
    "data = pd.read_csv(f\"s3://{bucket}/{prefix}/data/validation.csv\", header=None)"
   ]
  },
  {
   "cell_type": "code",
   "execution_count": 105,
   "metadata": {},
   "outputs": [
    {
     "data": {
      "text/html": [
       "<div>\n",
       "<style scoped>\n",
       "    .dataframe tbody tr th:only-of-type {\n",
       "        vertical-align: middle;\n",
       "    }\n",
       "\n",
       "    .dataframe tbody tr th {\n",
       "        vertical-align: top;\n",
       "    }\n",
       "\n",
       "    .dataframe thead th {\n",
       "        text-align: right;\n",
       "    }\n",
       "</style>\n",
       "<table border=\"1\" class=\"dataframe\">\n",
       "  <thead>\n",
       "    <tr style=\"text-align: right;\">\n",
       "      <th></th>\n",
       "      <th>0</th>\n",
       "      <th>1</th>\n",
       "      <th>2</th>\n",
       "      <th>3</th>\n",
       "      <th>4</th>\n",
       "      <th>5</th>\n",
       "      <th>6</th>\n",
       "      <th>7</th>\n",
       "      <th>8</th>\n",
       "      <th>9</th>\n",
       "      <th>10</th>\n",
       "      <th>11</th>\n",
       "      <th>12</th>\n",
       "      <th>13</th>\n",
       "    </tr>\n",
       "  </thead>\n",
       "  <tbody>\n",
       "    <tr>\n",
       "      <th>0</th>\n",
       "      <td>8.8</td>\n",
       "      <td>20.08490</td>\n",
       "      <td>0.0</td>\n",
       "      <td>18.10</td>\n",
       "      <td>0.0</td>\n",
       "      <td>0.700</td>\n",
       "      <td>4.368</td>\n",
       "      <td>91.2</td>\n",
       "      <td>1.4395</td>\n",
       "      <td>24.0</td>\n",
       "      <td>666.0</td>\n",
       "      <td>20.2</td>\n",
       "      <td>285.83</td>\n",
       "      <td>30.63</td>\n",
       "    </tr>\n",
       "    <tr>\n",
       "      <th>1</th>\n",
       "      <td>20.8</td>\n",
       "      <td>12.04820</td>\n",
       "      <td>0.0</td>\n",
       "      <td>18.10</td>\n",
       "      <td>0.0</td>\n",
       "      <td>0.614</td>\n",
       "      <td>5.648</td>\n",
       "      <td>87.6</td>\n",
       "      <td>1.9512</td>\n",
       "      <td>24.0</td>\n",
       "      <td>666.0</td>\n",
       "      <td>20.2</td>\n",
       "      <td>291.55</td>\n",
       "      <td>14.10</td>\n",
       "    </tr>\n",
       "    <tr>\n",
       "      <th>2</th>\n",
       "      <td>17.4</td>\n",
       "      <td>0.13554</td>\n",
       "      <td>12.5</td>\n",
       "      <td>6.07</td>\n",
       "      <td>0.0</td>\n",
       "      <td>0.409</td>\n",
       "      <td>5.594</td>\n",
       "      <td>36.8</td>\n",
       "      <td>6.4980</td>\n",
       "      <td>4.0</td>\n",
       "      <td>345.0</td>\n",
       "      <td>18.9</td>\n",
       "      <td>396.90</td>\n",
       "      <td>13.09</td>\n",
       "    </tr>\n",
       "    <tr>\n",
       "      <th>3</th>\n",
       "      <td>11.9</td>\n",
       "      <td>0.04741</td>\n",
       "      <td>0.0</td>\n",
       "      <td>11.93</td>\n",
       "      <td>0.0</td>\n",
       "      <td>0.573</td>\n",
       "      <td>6.030</td>\n",
       "      <td>80.8</td>\n",
       "      <td>2.5050</td>\n",
       "      <td>1.0</td>\n",
       "      <td>273.0</td>\n",
       "      <td>21.0</td>\n",
       "      <td>396.90</td>\n",
       "      <td>7.88</td>\n",
       "    </tr>\n",
       "    <tr>\n",
       "      <th>4</th>\n",
       "      <td>29.8</td>\n",
       "      <td>0.12579</td>\n",
       "      <td>45.0</td>\n",
       "      <td>3.44</td>\n",
       "      <td>0.0</td>\n",
       "      <td>0.437</td>\n",
       "      <td>6.556</td>\n",
       "      <td>29.1</td>\n",
       "      <td>4.5667</td>\n",
       "      <td>5.0</td>\n",
       "      <td>398.0</td>\n",
       "      <td>15.2</td>\n",
       "      <td>382.84</td>\n",
       "      <td>4.56</td>\n",
       "    </tr>\n",
       "  </tbody>\n",
       "</table>\n",
       "</div>"
      ],
      "text/plain": [
       "     0         1     2      3    4      5      6     7       8     9      10  \\\n",
       "0   8.8  20.08490   0.0  18.10  0.0  0.700  4.368  91.2  1.4395  24.0  666.0   \n",
       "1  20.8  12.04820   0.0  18.10  0.0  0.614  5.648  87.6  1.9512  24.0  666.0   \n",
       "2  17.4   0.13554  12.5   6.07  0.0  0.409  5.594  36.8  6.4980   4.0  345.0   \n",
       "3  11.9   0.04741   0.0  11.93  0.0  0.573  6.030  80.8  2.5050   1.0  273.0   \n",
       "4  29.8   0.12579  45.0   3.44  0.0  0.437  6.556  29.1  4.5667   5.0  398.0   \n",
       "\n",
       "     11      12     13  \n",
       "0  20.2  285.83  30.63  \n",
       "1  20.2  291.55  14.10  \n",
       "2  18.9  396.90  13.09  \n",
       "3  21.0  396.90   7.88  \n",
       "4  15.2  382.84   4.56  "
      ]
     },
     "execution_count": 105,
     "metadata": {},
     "output_type": "execute_result"
    }
   ],
   "source": [
    "data.head()"
   ]
  },
  {
   "cell_type": "code",
   "execution_count": 103,
   "metadata": {},
   "outputs": [],
   "source": [
    "y = data.iloc[:, 0].values\n",
    "x = data.iloc[:, 1:].values"
   ]
  },
  {
   "cell_type": "code",
   "execution_count": 104,
   "metadata": {},
   "outputs": [
    {
     "name": "stdout",
     "output_type": "stream",
     "text": [
      "(101,) (101, 13)\n"
     ]
    }
   ],
   "source": [
    "print(y.shape, x.shape)"
   ]
  },
  {
   "cell_type": "code",
   "execution_count": 107,
   "metadata": {},
   "outputs": [
    {
     "name": "stderr",
     "output_type": "stream",
     "text": [
      "The csv_serializer has been renamed in sagemaker>=2.\n",
      "See: https://sagemaker.readthedocs.io/en/stable/v2.html for details.\n",
      "The json_deserializer has been renamed in sagemaker>=2.\n",
      "See: https://sagemaker.readthedocs.io/en/stable/v2.html for details.\n"
     ]
    }
   ],
   "source": [
    "result = knn_predictor.predict(x)"
   ]
  },
  {
   "cell_type": "code",
   "execution_count": 108,
   "metadata": {},
   "outputs": [],
   "source": [
    "# Convert JSON predictions to an array\n",
    "preds_array = np.array([result['predictions'][i]['predicted_label'] for i in range(len(result['predictions']))])"
   ]
  },
  {
   "cell_type": "code",
   "execution_count": 119,
   "metadata": {},
   "outputs": [
    {
     "data": {
      "text/plain": [
       "35.27848193687974"
      ]
     },
     "execution_count": 119,
     "metadata": {},
     "output_type": "execute_result"
    }
   ],
   "source": [
    "np.power(y - preds_array, 2).mean()"
   ]
  },
  {
   "cell_type": "markdown",
   "metadata": {},
   "source": [
    "### Delete deployed model"
   ]
  },
  {
   "cell_type": "code",
   "execution_count": null,
   "metadata": {},
   "outputs": [],
   "source": [
    "boto3.client(\"sagemaker\").delete_endpoint(EndpointName=predictor.endpoint_name)"
   ]
  }
 ],
 "metadata": {
  "instance_type": "ml.t3.medium",
  "kernelspec": {
   "display_name": "Python 3 (Data Science)",
   "language": "python",
   "name": "python3__SAGEMAKER_INTERNAL__arn:aws:sagemaker:eu-west-3:615547856133:image/datascience-1.0"
  },
  "language_info": {
   "codemirror_mode": {
    "name": "ipython",
    "version": 3
   },
   "file_extension": ".py",
   "mimetype": "text/x-python",
   "name": "python",
   "nbconvert_exporter": "python",
   "pygments_lexer": "ipython3",
   "version": "3.7.10"
  }
 },
 "nbformat": 4,
 "nbformat_minor": 4
}
