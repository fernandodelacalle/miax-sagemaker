{
 "cells": [
  {
   "cell_type": "markdown",
   "id": "e36de2eb-467a-4413-b226-d3be4ca043b5",
   "metadata": {
    "tags": []
   },
   "source": [
    "# Ejercicio: Clasificación con XGBoost"
   ]
  },
  {
   "cell_type": "markdown",
   "id": "9beedcac-a1db-4879-9adc-e6f5b214d477",
   "metadata": {
    "tags": []
   },
   "source": [
    "- Usando los datos del ejercico [Ejercicio: Clasificación de Quiebras](../module_2/2_05.ipynb). Entrena un modelo xgboost.\n",
    "- Genera un conjunto de test con el 20% de las muestras. Puedes tener tambien un conjuto de validación que usaremos más adelante.\n",
    "- La documentación de este algorítmo esta disponible en:\n",
    "    - https://docs.aws.amazon.com/es_es/sagemaker/latest/dg/xgboost.html\n",
    "    - https://docs.aws.amazon.com/es_es/sagemaker/latest/dg/xgboost.html#xgboost-modes Ver sección: Utilizar XGBoost como algoritmo integrado\n",
    "- Puedes usar el parámetro \"eval_metric\": \"auc\" para evaluar el modelo usando el area bajo la curva ROC. Más info en: https://github.com/dmlc/xgboost/blob/master/doc/parameter.rst#learning-task-parameters \n",
    "- Tienes un ejemplo en https://sagemaker-examples.readthedocs.io/en/latest/hyperparameter_tuning/xgboost_random_log/hpo_xgboost_random_log.html"
   ]
  },
  {
   "cell_type": "code",
   "execution_count": null,
   "id": "291e1a9b-9c15-4077-9049-bff8918ab73a",
   "metadata": {},
   "outputs": [],
   "source": []
  }
 ],
 "metadata": {
  "instance_type": "ml.t3.medium",
  "kernelspec": {
   "display_name": "Python 3 (Data Science)",
   "language": "python",
   "name": "python3__SAGEMAKER_INTERNAL__arn:aws:sagemaker:eu-west-1:470317259841:image/datascience-1.0"
  },
  "language_info": {
   "codemirror_mode": {
    "name": "ipython",
    "version": 3
   },
   "file_extension": ".py",
   "mimetype": "text/x-python",
   "name": "python",
   "nbconvert_exporter": "python",
   "pygments_lexer": "ipython3",
   "version": "3.7.10"
  }
 },
 "nbformat": 4,
 "nbformat_minor": 5
}
