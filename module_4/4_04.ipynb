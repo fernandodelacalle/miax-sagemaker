{
 "cells": [
  {
   "cell_type": "markdown",
   "id": "9532a1d5-e96d-4cca-bbf4-9305478c03db",
   "metadata": {},
   "source": [
    "# Modelo NLP: Preparación de datos."
   ]
  },
  {
   "cell_type": "markdown",
   "id": "0282d380-43df-4241-b9e3-023d1553d923",
   "metadata": {},
   "source": [
    "- Usaremos la base de datos DBPedia Ontology Dataset  ( Zhang et al. https://arxiv.org/pdf/1509.01626.pdf ) \n",
    "- 12 clases, con 560,000 ejemplos de entrenamiento y  70,000 de test.\n",
    "- El texto contiene el título y el resumen de cada artículo de la Wikipedia.\n",
    "- El algorítmo que vamos a usar, BlazingText, espera un único fichero de texto plano donode cada linea contenga la etiqueta “_*label_*” precedida por y la frase.\n",
    "- Este notebook realiza todo el procesado para obtener los ficheros para realizar el entrenamiento."
   ]
  },
  {
   "cell_type": "code",
   "execution_count": 3,
   "id": "0218b6fc-4d5e-44d1-b38f-431609af27f3",
   "metadata": {
    "tags": []
   },
   "outputs": [
    {
     "name": "stdout",
     "output_type": "stream",
     "text": [
      "tar: dbpedia_csv/test.csv: Cannot change ownership to uid 1000, gid 1000: Operation not permitted\n",
      "tar: dbpedia_csv/classes.txt: Cannot change ownership to uid 1000, gid 1000: Operation not permitted\n",
      "tar: dbpedia_csv/train.csv: Cannot change ownership to uid 1000, gid 1000: Operation not permitted\n",
      "tar: dbpedia_csv/readme.txt: Cannot change ownership to uid 1000, gid 1000: Operation not permitted\n",
      "tar: dbpedia_csv: Cannot change ownership to uid 1000, gid 1000: Operation not permitted\n",
      "tar: Exiting with failure status due to previous errors\n"
     ]
    }
   ],
   "source": [
    "!wget -q https://github.com/le-scientifique/torchDatasets/raw/master/dbpedia_csv.tar.gz\n",
    "!tar -xzf dbpedia_csv.tar.gz"
   ]
  },
  {
   "cell_type": "code",
   "execution_count": 4,
   "id": "d804bc13-97fc-4380-805b-aa11b51b4116",
   "metadata": {
    "tags": []
   },
   "outputs": [
    {
     "name": "stdout",
     "output_type": "stream",
     "text": [
      "1,\"E. D. Abbott Ltd\",\" Abbott of Farnham E D Abbott Limited was a British coachbuilding business based in Farnham Surrey trading under that name from 1929. A major part of their output was under sub-contract to motor vehicle manufacturers. Their business closed in 1972.\"\n",
      "1,\"Schwan-Stabilo\",\" Schwan-STABILO is a German maker of pens for writing colouring and cosmetics as well as markers and highlighters for office use. It is the world's largest manufacturer of highlighter pens Stabilo Boss.\"\n",
      "1,\"Q-workshop\",\" Q-workshop is a Polish company located in Poznań that specializes in designand production of polyhedral dice and dice accessories for use in various games (role-playing gamesboard games and tabletop wargames). They also run an online retail store and maintainan active forum community.Q-workshop was established in 2001 by Patryk Strzelewicz – a student from Poznań. Initiallythe company sold its products via online auction services but in 2005 a website and online store wereestablished.\"\n"
     ]
    }
   ],
   "source": [
    "!head dbpedia_csv/train.csv -n 3"
   ]
  },
  {
   "cell_type": "code",
   "execution_count": 5,
   "id": "ff7feac7-4161-4d9f-b904-c055984d40bf",
   "metadata": {
    "tags": []
   },
   "outputs": [
    {
     "name": "stdout",
     "output_type": "stream",
     "text": [
      "1,\"Automatic Electric\",\" Automatic Electric Company (AE) was the largest of the manufacturing units of the Automatic Electric Group. It was a telephone equipment supplier for independent telephone companies in North America and also had a world-wide presence. With its line of automatic telephone exchanges it was also a long-term supplier of switching equipment to the Bell System starting in 1919.\"\n",
      "1,\"Tokyo Marui\",\" Tokyo Marui Co. Ltd (株式会社東京マルイ Kabushiki-gaisha Tōkyō Marui) is an airsoft gun manufacturer located in Adachi Tokyo Japan. They are best known for creating the AEG(Automatic electric gun). Its main market is Japan but third-party retailers sell in Hong Kong (PRC) Taiwan (ROC) South Korea East Asia and worldwide. Such is the popularity of its guns that the company has its own center for airsoft sport called Tokyo Marui BB Sports Field.\"\n"
     ]
    }
   ],
   "source": [
    "!grep -i \"automatic electric\"  dbpedia_csv/train.csv "
   ]
  },
  {
   "cell_type": "code",
   "execution_count": 6,
   "id": "11ce85cd-9caa-405b-8f23-4ead4c47fdc9",
   "metadata": {
    "scrolled": true,
    "tags": []
   },
   "outputs": [
    {
     "name": "stdout",
     "output_type": "stream",
     "text": [
      "Company\n",
      "EducationalInstitution\n",
      "Artist\n",
      "Athlete\n",
      "OfficeHolder\n",
      "MeanOfTransportation\n",
      "Building\n",
      "NaturalPlace\n",
      "Village\n",
      "Animal\n",
      "Plant\n",
      "Album\n",
      "Film\n",
      "WrittenWork\n"
     ]
    }
   ],
   "source": [
    "!cat dbpedia_csv/classes.txt"
   ]
  },
  {
   "cell_type": "code",
   "execution_count": 7,
   "id": "a0d4b29a-7677-499f-9063-11781088bcd6",
   "metadata": {
    "tags": []
   },
   "outputs": [
    {
     "name": "stdout",
     "output_type": "stream",
     "text": [
      "{'1': 'Company', '2': 'EducationalInstitution', '3': 'Artist', '4': 'Athlete', '5': 'OfficeHolder', '6': 'MeanOfTransportation', '7': 'Building', '8': 'NaturalPlace', '9': 'Village', '10': 'Animal', '11': 'Plant', '12': 'Album', '13': 'Film', '14': 'WrittenWork'}\n"
     ]
    }
   ],
   "source": [
    "d_label = {}\n",
    "with open('dbpedia_csv/classes.txt') as f:\n",
    "    for i, label in enumerate(f.readlines()):\n",
    "        d_label[str(i + 1)] = label.strip()\n",
    "print(d_label)"
   ]
  },
  {
   "cell_type": "code",
   "execution_count": 8,
   "id": "2a013ef3-01a9-4367-bda1-6a6a7b712a29",
   "metadata": {
    "tags": []
   },
   "outputs": [
    {
     "name": "stderr",
     "output_type": "stream",
     "text": [
      "[nltk_data] Downloading package punkt to /root/nltk_data...\n",
      "[nltk_data]   Package punkt is already up-to-date!\n"
     ]
    },
    {
     "data": {
      "text/plain": [
       "True"
      ]
     },
     "execution_count": 8,
     "metadata": {},
     "output_type": "execute_result"
    }
   ],
   "source": [
    "import nltk\n",
    "\n",
    "nltk.download('punkt')"
   ]
  },
  {
   "cell_type": "code",
   "execution_count": 9,
   "id": "ed54db24-efdf-49fc-9ea8-36befda9a4a0",
   "metadata": {
    "tags": []
   },
   "outputs": [],
   "source": [
    "def transform_text(row):\n",
    "    cur_row = []\n",
    "    label = f'__label__{d_label[row[0]]}'  # Prefix the index-ed label with __label__\n",
    "    cur_row.append(label)\n",
    "    cur_row.extend(nltk.word_tokenize(row[1].lower()))\n",
    "    cur_row.extend(nltk.word_tokenize(row[2].lower()))\n",
    "    return cur_row"
   ]
  },
  {
   "cell_type": "code",
   "execution_count": 10,
   "id": "2032f87c-edfb-418e-87ec-b218f98cedf9",
   "metadata": {
    "tags": []
   },
   "outputs": [],
   "source": [
    "from random import shuffle\n",
    "import multiprocessing\n",
    "from multiprocessing import Pool\n",
    "import csv\n",
    "\n",
    "def preprocess(input_file, output_file, keep=1):\n",
    "    all_rows = []\n",
    "    with open(input_file, 'r') as csvinfile:\n",
    "        csv_reader = csv.reader(csvinfile, delimiter=',')\n",
    "        for row in csv_reader:\n",
    "            all_rows.append(row)\n",
    "    shuffle(all_rows)\n",
    "    all_rows = all_rows[: int(keep * len(all_rows))]\n",
    "    pool = Pool(processes=multiprocessing.cpu_count())\n",
    "    transformed_rows = pool.map(transform_text, all_rows)\n",
    "    pool.close()\n",
    "    pool.join()\n",
    "\n",
    "    with open(output_file, 'w') as csvoutfile:\n",
    "        csv_writer = csv.writer(csvoutfile, delimiter=' ', lineterminator='\\n')\n",
    "        csv_writer.writerows(transformed_rows)"
   ]
  },
  {
   "cell_type": "code",
   "execution_count": 11,
   "id": "fa08b1cc-396e-4d2c-9bc0-164803eed0f9",
   "metadata": {
    "tags": []
   },
   "outputs": [
    {
     "name": "stdout",
     "output_type": "stream",
     "text": [
      "CPU times: user 8.39 s, sys: 1.19 s, total: 9.58 s\n",
      "Wall time: 1min 23s\n"
     ]
    }
   ],
   "source": [
    "%%time\n",
    "preprocess('dbpedia_csv/train.csv', 'dbpedia_csv/dbpedia.train', keep=0.2)\n",
    "preprocess('dbpedia_csv/test.csv', 'dbpedia_csv/dbpedia.validation')"
   ]
  },
  {
   "cell_type": "code",
   "execution_count": 12,
   "id": "f30f4e91-ddfa-425c-8004-7bd028d190b1",
   "metadata": {
    "tags": []
   },
   "outputs": [
    {
     "name": "stdout",
     "output_type": "stream",
     "text": [
      "__label__OfficeHolder william foushee william foushee sr. ( october 26 1749 – august 21 1824 ) was an american physician politician and socialite . after serving with distinction as a surgeon in the american revolution he entered into local virginia politics notably serving as the first mayor of richmond . he went on to become a political social and commercial leader in richmond for the next half century of his life .\n",
      "__label__Plant packera cana packera cana is a species of flowering plant in the aster family known by the common name woolly groundsel . it is native to western and central north america where it can be found in a wide array of habitat types at all elevations from grassland to the alpine climates of mountain peaks . it is a perennial herb producing one erect stem from a rosette of basal leaves and a rhizome system . it generally grows up to 40 centimeters in maximum height .\n",
      "__label__Animal hasora hasora the awls are a genus of skipper butterflies .\n",
      "__label__Album live at the cactus cafe ( loudon wainwright iii album ) live at the cactus cafe is a live album by american singer-songwriter loudon wainwright iii released on january 28 2013 on all access . recorded on may 11 1990 the performance was initially broadcast live on kut-fm.at the time of album 's performance seven of its tracks had yet to be released .\n",
      "__label__NaturalPlace seconed canyon cone seconed canyon cone also called canyon creek cone is a cinder cone in the boundary ranges of the coast mountains in northwestern british columbia canada . it is a volcanic feature of the iskut-unuk river cones which is part of the northern cordilleran volcanic province and formed in the past 10000 years of the holocene epoch .\n"
     ]
    }
   ],
   "source": [
    "!head -n 5 dbpedia_csv/dbpedia.train"
   ]
  }
 ],
 "metadata": {
  "instance_type": "ml.t3.medium",
  "kernelspec": {
   "display_name": "Python 3 (Data Science)",
   "language": "python",
   "name": "python3__SAGEMAKER_INTERNAL__arn:aws:sagemaker:eu-west-1:470317259841:image/datascience-1.0"
  },
  "language_info": {
   "codemirror_mode": {
    "name": "ipython",
    "version": 3
   },
   "file_extension": ".py",
   "mimetype": "text/x-python",
   "name": "python",
   "nbconvert_exporter": "python",
   "pygments_lexer": "ipython3",
   "version": "3.7.10"
  }
 },
 "nbformat": 4,
 "nbformat_minor": 5
}
