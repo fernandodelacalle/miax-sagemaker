{
 "cells": [
  {
   "cell_type": "markdown",
   "id": "1e612d34-f0c8-4854-b77c-1d3d9575ccdf",
   "metadata": {},
   "source": [
    "# Ejercicio: Clasificación de Quiebras."
   ]
  },
  {
   "cell_type": "code",
   "execution_count": null,
   "id": "5c7f656d-dc0a-4125-aa40-0f4cc09a7bd8",
   "metadata": {
    "tags": []
   },
   "outputs": [],
   "source": [
    "import pandas as pd"
   ]
  },
  {
   "cell_type": "markdown",
   "id": "0c267d43-24c8-4cec-97e9-58c2da531591",
   "metadata": {},
   "source": [
    "- Para este ejercicio usaremos la siguiente base de datos: https://www.kaggle.com/datasets/fedesoriano/company-bankruptcy-prediction?resource=download"
   ]
  },
  {
   "cell_type": "code",
   "execution_count": null,
   "id": "dbf0ed87-13bc-4371-a887-4e505ae0f963",
   "metadata": {
    "tags": []
   },
   "outputs": [],
   "source": [
    "df = pd.read_csv('data/data.csv')\n",
    "df"
   ]
  },
  {
   "cell_type": "markdown",
   "id": "21f364c5-1164-46e6-8fbb-1d7fe613158a",
   "metadata": {},
   "source": [
    "Realiza los siguientes apartados:\n",
    "- Explora la base de datos: ¿esta baalanceada?, ¿las features estan correladas? ....\n",
    "- Divide la base de datos en test y train usando la función train_test_split de sklearn, dejando un 20% de las muestras para test. Esta division tiene que ser la misma para los siguietes ejercicios que realizaremos durante la clase.\n",
    "- Normaliza los datos usando StandardScaler\n",
    "- Entrena un modelo GradientBoostingClassifier de sklearn: https://scikit-learn.org/stable/modules/generated/sklearn.ensemble.GradientBoostingClassifier.html\n",
    "- Valida el resultado en el conjunto de test en terminos de acc, matriz de confusion, ROC, etc. ¿que observas?\n",
    "- Rebalance las muestras de entrenamiento usando la técnica SMOTE, para ello usa el siguiente código y repite las partes anteriores. Necesitas instalar con ```pip install imblearn```y reiniciar el kernel. Puedes encontrar más información del método en: https://imbalanced-learn.org/stable/over_sampling.html#smote-adasyn\n",
    "```python\n",
    "from imblearn.over_sampling import SMOTE\n",
    "\n",
    "oversample = SMOTE()\n",
    "x_train, y_train = oversample.fit_resample(x_train, y_train)\n",
    "```\n"
   ]
  }
 ],
 "metadata": {
  "instance_type": "ml.t3.medium",
  "kernelspec": {
   "display_name": "Python 3 (Data Science)",
   "language": "python",
   "name": "python3__SAGEMAKER_INTERNAL__arn:aws:sagemaker:eu-west-1:470317259841:image/datascience-1.0"
  },
  "language_info": {
   "codemirror_mode": {
    "name": "ipython",
    "version": 3
   },
   "file_extension": ".py",
   "mimetype": "text/x-python",
   "name": "python",
   "nbconvert_exporter": "python",
   "pygments_lexer": "ipython3",
   "version": "3.7.10"
  }
 },
 "nbformat": 4,
 "nbformat_minor": 5
}
