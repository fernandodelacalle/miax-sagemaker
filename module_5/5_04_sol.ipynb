{
 "cells": [
  {
   "cell_type": "markdown",
   "id": "d24fa81e-3d2a-41f5-9472-1f7e3aaa71ba",
   "metadata": {},
   "source": [
    "# Ejercicio: Batch Transform.\n",
    "- Usando los datos de test del ejercicio [Ejercicio: Clasificación con XGBoost](../module_4/4_03.ipynb).\n",
    "- Crea una Batch Transform para obtener las predicciones finales.\n",
    "- Para obtener el modelo que entrenamos puedes usar el siguiente código.\n",
    "```python\n",
    "estimator = sagemaker.estimator.Estimator.attach(training_job_name='xgboost-quiebras')\n",
    "```\n",
    "- Calcula la curva ROC y AUC sobre estas predicciones."
   ]
  },
  {
   "cell_type": "code",
   "execution_count": 13,
   "id": "f1175cdf-2518-4810-9b71-79f2bd538586",
   "metadata": {
    "tags": []
   },
   "outputs": [],
   "source": [
    "import numpy as np\n",
    "import pandas as pd\n",
    "import os\n",
    "\n",
    "\n",
    "import sagemaker\n",
    "\n",
    "role = sagemaker.get_execution_role()\n",
    "sess = sagemaker.Session()\n",
    "region = sess.boto_region_name\n",
    "bucket = sess.default_bucket()\n",
    "prefix = 'module_5/part_4'"
   ]
  },
  {
   "cell_type": "code",
   "execution_count": 4,
   "id": "2e7d71ca-6a71-4876-a6cf-e70e1b3e16ab",
   "metadata": {
    "tags": []
   },
   "outputs": [
    {
     "name": "stdout",
     "output_type": "stream",
     "text": [
      "\n",
      "2022-12-14 10:05:47 Starting - Preparing the instances for training\n",
      "2022-12-14 10:05:47 Downloading - Downloading input data\n",
      "2022-12-14 10:05:47 Training - Training image download completed. Training in progress.\n",
      "2022-12-14 10:05:47 Uploading - Uploading generated training model\n",
      "2022-12-14 10:05:47 Completed - Training job completed\n"
     ]
    }
   ],
   "source": [
    "estimator = sagemaker.estimator.Estimator.attach(training_job_name='xgboost-quiebras')"
   ]
  },
  {
   "cell_type": "code",
   "execution_count": 22,
   "id": "88d4a4b9-d60d-47dd-aad1-510d20c4d2e7",
   "metadata": {
    "tags": []
   },
   "outputs": [],
   "source": [
    "# Generamos el csv de test sin la etiqueta\n",
    "df_test = pd.read_csv('../module_4/validation.csv', header=None)\n",
    "df_test.iloc[:, 1:].to_csv('quiebras_test_no_label.csv', index=False, header=False)"
   ]
  },
  {
   "cell_type": "code",
   "execution_count": 11,
   "id": "fabc7cef-b297-48ba-9e64-3e74069b6bbc",
   "metadata": {
    "tags": []
   },
   "outputs": [
    {
     "data": {
      "text/plain": [
       "'s3://sagemaker-eu-west-1-467432373215/module_5/part_4/data/quiebras_test_no_label.csv'"
      ]
     },
     "execution_count": 11,
     "metadata": {},
     "output_type": "execute_result"
    }
   ],
   "source": [
    "# Subimos a s3\n",
    "test_data_s3 = sess.upload_data(path='quiebras_test_no_label.csv', bucket=bucket, key_prefix=f'{prefix}/data')\n",
    "test_data_s3"
   ]
  },
  {
   "cell_type": "code",
   "execution_count": 12,
   "id": "83673155-0239-4b78-92f6-643e7e452dba",
   "metadata": {
    "collapsed": true,
    "jupyter": {
     "outputs_hidden": true
    },
    "tags": []
   },
   "outputs": [
    {
     "name": "stdout",
     "output_type": "stream",
     "text": [
      "..............................\n",
      "\u001b[34m[2022-12-14:10:22:55:INFO] No GPUs detected (normal if no gpus installed)\u001b[0m\n",
      "\u001b[34m[2022-12-14:10:22:55:INFO] No GPUs detected (normal if no gpus installed)\u001b[0m\n",
      "\u001b[34m[2022-12-14:10:22:55:INFO] nginx config: \u001b[0m\n",
      "\u001b[34mworker_processes auto;\u001b[0m\n",
      "\u001b[34mdaemon off;\u001b[0m\n",
      "\u001b[34mpid /tmp/nginx.pid;\u001b[0m\n",
      "\u001b[34merror_log  /dev/stderr;\u001b[0m\n",
      "\u001b[34mworker_rlimit_nofile 4096;\u001b[0m\n",
      "\u001b[34mevents {\n",
      "  worker_connections 2048;\u001b[0m\n",
      "\u001b[34m}\u001b[0m\n",
      "\u001b[34mhttp {\n",
      "  include /etc/nginx/mime.types;\n",
      "  default_type application/octet-stream;\n",
      "  access_log /dev/stdout combined;\n",
      "  upstream gunicorn {\n",
      "    server unix:/tmp/gunicorn.sock;\n",
      "  }\n",
      "  server {\n",
      "    listen 8080 deferred;\n",
      "    client_max_body_size 0;\n",
      "    keepalive_timeout 3;\n",
      "    location ~ ^/(ping|invocations|execution-parameters) {\n",
      "      proxy_set_header X-Forwarded-For $proxy_add_x_forwarded_for;\n",
      "      proxy_set_header Host $http_host;\n",
      "      proxy_redirect off;\n",
      "      proxy_read_timeout 60s;\n",
      "      proxy_pass http://gunicorn;\n",
      "    }\n",
      "    location / {\n",
      "      return 404 \"{}\";\n",
      "    }\n",
      "  }\u001b[0m\n",
      "\u001b[34m}\u001b[0m\n",
      "\u001b[34m[2022-12-14 10:22:55 +0000] [19] [INFO] Starting gunicorn 19.10.0\u001b[0m\n",
      "\u001b[34m[2022-12-14 10:22:55 +0000] [19] [INFO] Listening at: unix:/tmp/gunicorn.sock (19)\u001b[0m\n",
      "\u001b[34m[2022-12-14 10:22:55 +0000] [19] [INFO] Using worker: gevent\u001b[0m\n",
      "\u001b[34m/miniconda3/lib/python3.8/os.py:1023: RuntimeWarning: line buffering (buffering=1) isn't supported in binary mode, the default buffer size will be used\n",
      "  return io.open(fd, *args, **kwargs)\u001b[0m\n",
      "\u001b[34m[2022-12-14 10:22:55 +0000] [25] [INFO] Booting worker with pid: 25\u001b[0m\n",
      "\u001b[34m[2022-12-14 10:22:55 +0000] [26] [INFO] Booting worker with pid: 26\u001b[0m\n",
      "\u001b[34m[2022-12-14 10:22:55 +0000] [27] [INFO] Booting worker with pid: 27\u001b[0m\n",
      "\u001b[34m[2022-12-14 10:22:55 +0000] [28] [INFO] Booting worker with pid: 28\u001b[0m\n",
      "\u001b[34m[2022-12-14:10:22:56:INFO] No GPUs detected (normal if no gpus installed)\u001b[0m\n",
      "\u001b[34m[2022-12-14:10:22:56:INFO] Loading the model from /opt/ml/model/xgboost-model\u001b[0m\n",
      "\u001b[34m[2022-12-14:10:22:56:INFO] Model objective : binary:logistic\u001b[0m\n",
      "\u001b[34m[2022-12-14:10:22:56:INFO] No GPUs detected (normal if no gpus installed)\u001b[0m\n",
      "\u001b[34m[2022-12-14:10:22:56:INFO] Loading the model from /opt/ml/model/xgboost-model\u001b[0m\n",
      "\u001b[34m[2022-12-14:10:22:56:INFO] Model objective : binary:logistic\u001b[0m\n",
      "\u001b[34m[2022-12-14:10:22:56:INFO] No GPUs detected (normal if no gpus installed)\u001b[0m\n",
      "\u001b[34m[2022-12-14:10:22:56:INFO] Loading the model from /opt/ml/model/xgboost-model\u001b[0m\n",
      "\u001b[35m[2022-12-14:10:22:55:INFO] No GPUs detected (normal if no gpus installed)\u001b[0m\n",
      "\u001b[35m[2022-12-14:10:22:55:INFO] No GPUs detected (normal if no gpus installed)\u001b[0m\n",
      "\u001b[35m[2022-12-14:10:22:55:INFO] nginx config: \u001b[0m\n",
      "\u001b[35mworker_processes auto;\u001b[0m\n",
      "\u001b[35mdaemon off;\u001b[0m\n",
      "\u001b[35mpid /tmp/nginx.pid;\u001b[0m\n",
      "\u001b[35merror_log  /dev/stderr;\u001b[0m\n",
      "\u001b[35mworker_rlimit_nofile 4096;\u001b[0m\n",
      "\u001b[35mevents {\n",
      "  worker_connections 2048;\u001b[0m\n",
      "\u001b[35m}\u001b[0m\n",
      "\u001b[35mhttp {\n",
      "  include /etc/nginx/mime.types;\n",
      "  default_type application/octet-stream;\n",
      "  access_log /dev/stdout combined;\n",
      "  upstream gunicorn {\n",
      "    server unix:/tmp/gunicorn.sock;\n",
      "  }\n",
      "  server {\n",
      "    listen 8080 deferred;\n",
      "    client_max_body_size 0;\n",
      "    keepalive_timeout 3;\n",
      "    location ~ ^/(ping|invocations|execution-parameters) {\n",
      "      proxy_set_header X-Forwarded-For $proxy_add_x_forwarded_for;\n",
      "      proxy_set_header Host $http_host;\n",
      "      proxy_redirect off;\n",
      "      proxy_read_timeout 60s;\n",
      "      proxy_pass http://gunicorn;\n",
      "    }\n",
      "    location / {\n",
      "      return 404 \"{}\";\n",
      "    }\n",
      "  }\u001b[0m\n",
      "\u001b[35m}\u001b[0m\n",
      "\u001b[35m[2022-12-14 10:22:55 +0000] [19] [INFO] Starting gunicorn 19.10.0\u001b[0m\n",
      "\u001b[35m[2022-12-14 10:22:55 +0000] [19] [INFO] Listening at: unix:/tmp/gunicorn.sock (19)\u001b[0m\n",
      "\u001b[35m[2022-12-14 10:22:55 +0000] [19] [INFO] Using worker: gevent\u001b[0m\n",
      "\u001b[35m/miniconda3/lib/python3.8/os.py:1023: RuntimeWarning: line buffering (buffering=1) isn't supported in binary mode, the default buffer size will be used\n",
      "  return io.open(fd, *args, **kwargs)\u001b[0m\n",
      "\u001b[35m[2022-12-14 10:22:55 +0000] [25] [INFO] Booting worker with pid: 25\u001b[0m\n",
      "\u001b[35m[2022-12-14 10:22:55 +0000] [26] [INFO] Booting worker with pid: 26\u001b[0m\n",
      "\u001b[35m[2022-12-14 10:22:55 +0000] [27] [INFO] Booting worker with pid: 27\u001b[0m\n",
      "\u001b[35m[2022-12-14 10:22:55 +0000] [28] [INFO] Booting worker with pid: 28\u001b[0m\n",
      "\u001b[35m[2022-12-14:10:22:56:INFO] No GPUs detected (normal if no gpus installed)\u001b[0m\n",
      "\u001b[35m[2022-12-14:10:22:56:INFO] Loading the model from /opt/ml/model/xgboost-model\u001b[0m\n",
      "\u001b[35m[2022-12-14:10:22:56:INFO] Model objective : binary:logistic\u001b[0m\n",
      "\u001b[35m[2022-12-14:10:22:56:INFO] No GPUs detected (normal if no gpus installed)\u001b[0m\n",
      "\u001b[35m[2022-12-14:10:22:56:INFO] Loading the model from /opt/ml/model/xgboost-model\u001b[0m\n",
      "\u001b[35m[2022-12-14:10:22:56:INFO] Model objective : binary:logistic\u001b[0m\n",
      "\u001b[35m[2022-12-14:10:22:56:INFO] No GPUs detected (normal if no gpus installed)\u001b[0m\n",
      "\u001b[35m[2022-12-14:10:22:56:INFO] Loading the model from /opt/ml/model/xgboost-model\u001b[0m\n",
      "\u001b[34m[2022-12-14:10:22:56:INFO] Model objective : binary:logistic\u001b[0m\n",
      "\u001b[34m[2022-12-14:10:22:56:INFO] No GPUs detected (normal if no gpus installed)\u001b[0m\n",
      "\u001b[34m[2022-12-14:10:22:56:INFO] Loading the model from /opt/ml/model/xgboost-model\u001b[0m\n",
      "\u001b[34m[2022-12-14:10:22:56:INFO] Model objective : binary:logistic\u001b[0m\n",
      "\u001b[35m[2022-12-14:10:22:56:INFO] Model objective : binary:logistic\u001b[0m\n",
      "\u001b[35m[2022-12-14:10:22:56:INFO] No GPUs detected (normal if no gpus installed)\u001b[0m\n",
      "\u001b[35m[2022-12-14:10:22:56:INFO] Loading the model from /opt/ml/model/xgboost-model\u001b[0m\n",
      "\u001b[35m[2022-12-14:10:22:56:INFO] Model objective : binary:logistic\u001b[0m\n",
      "\u001b[34m[2022-12-14:10:23:01:INFO] No GPUs detected (normal if no gpus installed)\u001b[0m\n",
      "\u001b[34m169.254.255.130 - - [14/Dec/2022:10:23:01 +0000] \"GET /ping HTTP/1.1\" 200 0 \"-\" \"Go-http-client/1.1\"\u001b[0m\n",
      "\u001b[34m[2022-12-14:10:23:01:INFO] No GPUs detected (normal if no gpus installed)\u001b[0m\n",
      "\u001b[34m169.254.255.130 - - [14/Dec/2022:10:23:01 +0000] \"GET /execution-parameters HTTP/1.1\" 200 84 \"-\" \"Go-http-client/1.1\"\u001b[0m\n",
      "\u001b[34m[2022-12-14:10:23:01:INFO] Determined delimiter of CSV input is ','\u001b[0m\n",
      "\u001b[34m/miniconda3/lib/python3.8/site-packages/xgboost/core.py:105: UserWarning: ntree_limit is deprecated, use `iteration_range` or model slicing instead.\n",
      "  warnings.warn(\u001b[0m\n",
      "\u001b[34m169.254.255.130 - - [14/Dec/2022:10:23:01 +0000] \"POST /invocations HTTP/1.1\" 200 2158 \"-\" \"Go-http-client/1.1\"\u001b[0m\n",
      "\u001b[34m[2022-12-14:10:23:01:INFO] No GPUs detected (normal if no gpus installed)\u001b[0m\n",
      "\u001b[34m[2022-12-14:10:23:01:INFO] Determined delimiter of CSV input is ','\u001b[0m\n",
      "\u001b[34m/miniconda3/lib/python3.8/site-packages/xgboost/core.py:105: UserWarning: ntree_limit is deprecated, use `iteration_range` or model slicing instead.\n",
      "  warnings.warn(\u001b[0m\n",
      "\u001b[34m169.254.255.130 - - [14/Dec/2022:10:23:01 +0000] \"POST /invocations HTTP/1.1\" 200 26994 \"-\" \"Go-http-client/1.1\"\u001b[0m\n",
      "\u001b[35m[2022-12-14:10:23:01:INFO] No GPUs detected (normal if no gpus installed)\u001b[0m\n",
      "\u001b[35m169.254.255.130 - - [14/Dec/2022:10:23:01 +0000] \"GET /ping HTTP/1.1\" 200 0 \"-\" \"Go-http-client/1.1\"\u001b[0m\n",
      "\u001b[35m[2022-12-14:10:23:01:INFO] No GPUs detected (normal if no gpus installed)\u001b[0m\n",
      "\u001b[35m169.254.255.130 - - [14/Dec/2022:10:23:01 +0000] \"GET /execution-parameters HTTP/1.1\" 200 84 \"-\" \"Go-http-client/1.1\"\u001b[0m\n",
      "\u001b[35m[2022-12-14:10:23:01:INFO] Determined delimiter of CSV input is ','\u001b[0m\n",
      "\u001b[35m/miniconda3/lib/python3.8/site-packages/xgboost/core.py:105: UserWarning: ntree_limit is deprecated, use `iteration_range` or model slicing instead.\n",
      "  warnings.warn(\u001b[0m\n",
      "\u001b[35m169.254.255.130 - - [14/Dec/2022:10:23:01 +0000] \"POST /invocations HTTP/1.1\" 200 2158 \"-\" \"Go-http-client/1.1\"\u001b[0m\n",
      "\u001b[35m[2022-12-14:10:23:01:INFO] No GPUs detected (normal if no gpus installed)\u001b[0m\n",
      "\u001b[35m[2022-12-14:10:23:01:INFO] Determined delimiter of CSV input is ','\u001b[0m\n",
      "\u001b[35m/miniconda3/lib/python3.8/site-packages/xgboost/core.py:105: UserWarning: ntree_limit is deprecated, use `iteration_range` or model slicing instead.\n",
      "  warnings.warn(\u001b[0m\n",
      "\u001b[35m169.254.255.130 - - [14/Dec/2022:10:23:01 +0000] \"POST /invocations HTTP/1.1\" 200 26994 \"-\" \"Go-http-client/1.1\"\u001b[0m\n",
      "\u001b[32m2022-12-14T10:23:01.614:[sagemaker logs]: MaxConcurrentTransforms=4, MaxPayloadInMB=2, BatchStrategy=MULTI_RECORD\u001b[0m\n"
     ]
    }
   ],
   "source": [
    "# Batch Transform Job\n",
    "jobname = f'xgboost-quiebras-bt'\n",
    "\n",
    "s3_output_location = f's3://{bucket}/{prefix}/{jobname}'\n",
    "\n",
    "transformer = estimator.transformer(instance_count=1, \n",
    "                                    instance_type='ml.c5.xlarge',\n",
    "                                    max_payload = 2, # MB\n",
    "                                    accept = 'application/jsonlines',\n",
    "                                    output_path = s3_output_location,\n",
    "                                    assemble_with = 'Line')\n",
    "\n",
    "transformer.transform(test_data_s3, \n",
    "                      content_type='text/csv', \n",
    "                      split_type='Line', \n",
    "                      job_name=jobname)"
   ]
  },
  {
   "cell_type": "code",
   "execution_count": 15,
   "id": "b30b58ff-34de-4456-b47b-30b18dfc093b",
   "metadata": {
    "tags": []
   },
   "outputs": [
    {
     "data": {
      "text/plain": [
       "'s3://sagemaker-eu-west-1-467432373215/module_5/part_4/xgboost-quiebras-bt'"
      ]
     },
     "execution_count": 15,
     "metadata": {},
     "output_type": "execute_result"
    }
   ],
   "source": [
    "output = transformer.output_path\n",
    "output"
   ]
  },
  {
   "cell_type": "code",
   "execution_count": 16,
   "id": "6e3d5558-7fc7-4895-9690-28bb2ce48b24",
   "metadata": {
    "tags": []
   },
   "outputs": [],
   "source": [
    "output_prefix = 'data/test_output_xgboost_quiebras'\n",
    "os.makedirs(output_prefix)"
   ]
  },
  {
   "cell_type": "code",
   "execution_count": 18,
   "id": "56b246a1-7c35-472c-b231-1721ed265ad7",
   "metadata": {
    "tags": []
   },
   "outputs": [],
   "source": [
    "sess.download_data(path=output_prefix, bucket=bucket, key_prefix=f\"{prefix}/{jobname}\")"
   ]
  },
  {
   "cell_type": "code",
   "execution_count": 19,
   "id": "40492dee-cf43-4eb7-98c7-ac2d4b5b035e",
   "metadata": {
    "tags": []
   },
   "outputs": [
    {
     "data": {
      "text/html": [
       "<div>\n",
       "<style scoped>\n",
       "    .dataframe tbody tr th:only-of-type {\n",
       "        vertical-align: middle;\n",
       "    }\n",
       "\n",
       "    .dataframe tbody tr th {\n",
       "        vertical-align: top;\n",
       "    }\n",
       "\n",
       "    .dataframe thead th {\n",
       "        text-align: right;\n",
       "    }\n",
       "</style>\n",
       "<table border=\"1\" class=\"dataframe\">\n",
       "  <thead>\n",
       "    <tr style=\"text-align: right;\">\n",
       "      <th></th>\n",
       "      <th>0</th>\n",
       "    </tr>\n",
       "  </thead>\n",
       "  <tbody>\n",
       "    <tr>\n",
       "      <th>0</th>\n",
       "      <td>0.000921</td>\n",
       "    </tr>\n",
       "    <tr>\n",
       "      <th>1</th>\n",
       "      <td>0.008566</td>\n",
       "    </tr>\n",
       "    <tr>\n",
       "      <th>2</th>\n",
       "      <td>0.032983</td>\n",
       "    </tr>\n",
       "    <tr>\n",
       "      <th>3</th>\n",
       "      <td>0.000735</td>\n",
       "    </tr>\n",
       "    <tr>\n",
       "      <th>4</th>\n",
       "      <td>0.010489</td>\n",
       "    </tr>\n",
       "    <tr>\n",
       "      <th>...</th>\n",
       "      <td>...</td>\n",
       "    </tr>\n",
       "    <tr>\n",
       "      <th>1359</th>\n",
       "      <td>0.017338</td>\n",
       "    </tr>\n",
       "    <tr>\n",
       "      <th>1360</th>\n",
       "      <td>0.095856</td>\n",
       "    </tr>\n",
       "    <tr>\n",
       "      <th>1361</th>\n",
       "      <td>0.006841</td>\n",
       "    </tr>\n",
       "    <tr>\n",
       "      <th>1362</th>\n",
       "      <td>0.001092</td>\n",
       "    </tr>\n",
       "    <tr>\n",
       "      <th>1363</th>\n",
       "      <td>0.001604</td>\n",
       "    </tr>\n",
       "  </tbody>\n",
       "</table>\n",
       "<p>1364 rows × 1 columns</p>\n",
       "</div>"
      ],
      "text/plain": [
       "             0\n",
       "0     0.000921\n",
       "1     0.008566\n",
       "2     0.032983\n",
       "3     0.000735\n",
       "4     0.010489\n",
       "...        ...\n",
       "1359  0.017338\n",
       "1360  0.095856\n",
       "1361  0.006841\n",
       "1362  0.001092\n",
       "1363  0.001604\n",
       "\n",
       "[1364 rows x 1 columns]"
      ]
     },
     "execution_count": 19,
     "metadata": {},
     "output_type": "execute_result"
    }
   ],
   "source": [
    "y_pred_prob = pd.read_csv(f'{output_prefix}/quiebras_test_no_label.csv.out', header=None)\n",
    "y_pred_prob"
   ]
  },
  {
   "cell_type": "markdown",
   "id": "6045b251-614d-425f-a511-0da9949b4c88",
   "metadata": {
    "tags": []
   },
   "source": [
    "- Obtengamos algunas métricas del conjunto de test."
   ]
  },
  {
   "cell_type": "code",
   "execution_count": 21,
   "id": "2983330f-0fdb-4c25-89a6-1e0c39dc3f2d",
   "metadata": {
    "tags": []
   },
   "outputs": [
    {
     "data": {
      "text/html": [
       "<div>\n",
       "<style scoped>\n",
       "    .dataframe tbody tr th:only-of-type {\n",
       "        vertical-align: middle;\n",
       "    }\n",
       "\n",
       "    .dataframe tbody tr th {\n",
       "        vertical-align: top;\n",
       "    }\n",
       "\n",
       "    .dataframe thead th {\n",
       "        text-align: right;\n",
       "    }\n",
       "</style>\n",
       "<table border=\"1\" class=\"dataframe\">\n",
       "  <thead>\n",
       "    <tr style=\"text-align: right;\">\n",
       "      <th></th>\n",
       "      <th>0</th>\n",
       "      <th>1</th>\n",
       "      <th>2</th>\n",
       "      <th>3</th>\n",
       "      <th>4</th>\n",
       "      <th>5</th>\n",
       "      <th>6</th>\n",
       "      <th>7</th>\n",
       "      <th>8</th>\n",
       "      <th>9</th>\n",
       "      <th>...</th>\n",
       "      <th>86</th>\n",
       "      <th>87</th>\n",
       "      <th>88</th>\n",
       "      <th>89</th>\n",
       "      <th>90</th>\n",
       "      <th>91</th>\n",
       "      <th>92</th>\n",
       "      <th>93</th>\n",
       "      <th>94</th>\n",
       "      <th>95</th>\n",
       "    </tr>\n",
       "  </thead>\n",
       "  <tbody>\n",
       "    <tr>\n",
       "      <th>0</th>\n",
       "      <td>0</td>\n",
       "      <td>0.477843</td>\n",
       "      <td>0.543066</td>\n",
       "      <td>0.530971</td>\n",
       "      <td>0.601551</td>\n",
       "      <td>0.601385</td>\n",
       "      <td>0.998982</td>\n",
       "      <td>0.797425</td>\n",
       "      <td>0.809347</td>\n",
       "      <td>0.303560</td>\n",
       "      <td>...</td>\n",
       "      <td>0.802411</td>\n",
       "      <td>0.002498</td>\n",
       "      <td>0.624508</td>\n",
       "      <td>0.601549</td>\n",
       "      <td>0.840452</td>\n",
       "      <td>0.277248</td>\n",
       "      <td>0.026933</td>\n",
       "      <td>0.565754</td>\n",
       "      <td>1</td>\n",
       "      <td>0.047947</td>\n",
       "    </tr>\n",
       "    <tr>\n",
       "      <th>1</th>\n",
       "      <td>0</td>\n",
       "      <td>0.471750</td>\n",
       "      <td>0.537178</td>\n",
       "      <td>0.526099</td>\n",
       "      <td>0.597198</td>\n",
       "      <td>0.597198</td>\n",
       "      <td>0.998968</td>\n",
       "      <td>0.797385</td>\n",
       "      <td>0.809313</td>\n",
       "      <td>0.303517</td>\n",
       "      <td>...</td>\n",
       "      <td>0.798262</td>\n",
       "      <td>0.003474</td>\n",
       "      <td>0.623589</td>\n",
       "      <td>0.597193</td>\n",
       "      <td>0.840230</td>\n",
       "      <td>0.279860</td>\n",
       "      <td>0.028270</td>\n",
       "      <td>0.568097</td>\n",
       "      <td>1</td>\n",
       "      <td>0.028924</td>\n",
       "    </tr>\n",
       "    <tr>\n",
       "      <th>2</th>\n",
       "      <td>0</td>\n",
       "      <td>0.455906</td>\n",
       "      <td>0.503216</td>\n",
       "      <td>0.513357</td>\n",
       "      <td>0.606588</td>\n",
       "      <td>0.606740</td>\n",
       "      <td>0.998894</td>\n",
       "      <td>0.797101</td>\n",
       "      <td>0.809085</td>\n",
       "      <td>0.303177</td>\n",
       "      <td>...</td>\n",
       "      <td>0.778362</td>\n",
       "      <td>0.016904</td>\n",
       "      <td>0.623824</td>\n",
       "      <td>0.606590</td>\n",
       "      <td>0.838494</td>\n",
       "      <td>0.280741</td>\n",
       "      <td>0.026606</td>\n",
       "      <td>0.564091</td>\n",
       "      <td>1</td>\n",
       "      <td>0.026206</td>\n",
       "    </tr>\n",
       "    <tr>\n",
       "      <th>3</th>\n",
       "      <td>0</td>\n",
       "      <td>0.491103</td>\n",
       "      <td>0.542575</td>\n",
       "      <td>0.543445</td>\n",
       "      <td>0.602668</td>\n",
       "      <td>0.602668</td>\n",
       "      <td>0.999013</td>\n",
       "      <td>0.797431</td>\n",
       "      <td>0.809345</td>\n",
       "      <td>0.303505</td>\n",
       "      <td>...</td>\n",
       "      <td>0.801665</td>\n",
       "      <td>0.001678</td>\n",
       "      <td>0.625368</td>\n",
       "      <td>0.602668</td>\n",
       "      <td>0.840514</td>\n",
       "      <td>0.279999</td>\n",
       "      <td>0.026869</td>\n",
       "      <td>0.565504</td>\n",
       "      <td>1</td>\n",
       "      <td>0.028434</td>\n",
       "    </tr>\n",
       "    <tr>\n",
       "      <th>4</th>\n",
       "      <td>0</td>\n",
       "      <td>0.506849</td>\n",
       "      <td>0.550316</td>\n",
       "      <td>0.554901</td>\n",
       "      <td>0.602538</td>\n",
       "      <td>0.602409</td>\n",
       "      <td>0.999019</td>\n",
       "      <td>0.797417</td>\n",
       "      <td>0.809328</td>\n",
       "      <td>0.303467</td>\n",
       "      <td>...</td>\n",
       "      <td>0.803628</td>\n",
       "      <td>0.001889</td>\n",
       "      <td>0.623598</td>\n",
       "      <td>0.602538</td>\n",
       "      <td>0.840614</td>\n",
       "      <td>0.278829</td>\n",
       "      <td>0.027218</td>\n",
       "      <td>0.566608</td>\n",
       "      <td>1</td>\n",
       "      <td>0.033571</td>\n",
       "    </tr>\n",
       "    <tr>\n",
       "      <th>...</th>\n",
       "      <td>...</td>\n",
       "      <td>...</td>\n",
       "      <td>...</td>\n",
       "      <td>...</td>\n",
       "      <td>...</td>\n",
       "      <td>...</td>\n",
       "      <td>...</td>\n",
       "      <td>...</td>\n",
       "      <td>...</td>\n",
       "      <td>...</td>\n",
       "      <td>...</td>\n",
       "      <td>...</td>\n",
       "      <td>...</td>\n",
       "      <td>...</td>\n",
       "      <td>...</td>\n",
       "      <td>...</td>\n",
       "      <td>...</td>\n",
       "      <td>...</td>\n",
       "      <td>...</td>\n",
       "      <td>...</td>\n",
       "      <td>...</td>\n",
       "    </tr>\n",
       "    <tr>\n",
       "      <th>1359</th>\n",
       "      <td>0</td>\n",
       "      <td>0.463365</td>\n",
       "      <td>0.507795</td>\n",
       "      <td>0.511323</td>\n",
       "      <td>0.598034</td>\n",
       "      <td>0.597926</td>\n",
       "      <td>0.998951</td>\n",
       "      <td>0.797310</td>\n",
       "      <td>0.809249</td>\n",
       "      <td>0.303422</td>\n",
       "      <td>...</td>\n",
       "      <td>0.781552</td>\n",
       "      <td>0.005406</td>\n",
       "      <td>0.623985</td>\n",
       "      <td>0.598034</td>\n",
       "      <td>0.838827</td>\n",
       "      <td>0.280212</td>\n",
       "      <td>0.026662</td>\n",
       "      <td>0.564454</td>\n",
       "      <td>1</td>\n",
       "      <td>0.027735</td>\n",
       "    </tr>\n",
       "    <tr>\n",
       "      <th>1360</th>\n",
       "      <td>0</td>\n",
       "      <td>0.456296</td>\n",
       "      <td>0.484409</td>\n",
       "      <td>0.509235</td>\n",
       "      <td>0.589335</td>\n",
       "      <td>0.589350</td>\n",
       "      <td>0.998849</td>\n",
       "      <td>0.797192</td>\n",
       "      <td>0.809171</td>\n",
       "      <td>0.303430</td>\n",
       "      <td>...</td>\n",
       "      <td>0.759559</td>\n",
       "      <td>0.002202</td>\n",
       "      <td>0.625492</td>\n",
       "      <td>0.589333</td>\n",
       "      <td>0.830554</td>\n",
       "      <td>0.305636</td>\n",
       "      <td>0.026587</td>\n",
       "      <td>0.563948</td>\n",
       "      <td>1</td>\n",
       "      <td>0.013359</td>\n",
       "    </tr>\n",
       "    <tr>\n",
       "      <th>1361</th>\n",
       "      <td>0</td>\n",
       "      <td>0.528202</td>\n",
       "      <td>0.561873</td>\n",
       "      <td>0.577065</td>\n",
       "      <td>0.604008</td>\n",
       "      <td>0.603980</td>\n",
       "      <td>0.999074</td>\n",
       "      <td>0.797506</td>\n",
       "      <td>0.809436</td>\n",
       "      <td>0.303508</td>\n",
       "      <td>...</td>\n",
       "      <td>0.809818</td>\n",
       "      <td>0.141677</td>\n",
       "      <td>0.622990</td>\n",
       "      <td>0.604008</td>\n",
       "      <td>0.841437</td>\n",
       "      <td>0.282580</td>\n",
       "      <td>0.026923</td>\n",
       "      <td>0.565717</td>\n",
       "      <td>1</td>\n",
       "      <td>0.022487</td>\n",
       "    </tr>\n",
       "    <tr>\n",
       "      <th>1362</th>\n",
       "      <td>0</td>\n",
       "      <td>0.541949</td>\n",
       "      <td>0.604394</td>\n",
       "      <td>0.594839</td>\n",
       "      <td>0.609104</td>\n",
       "      <td>0.609104</td>\n",
       "      <td>0.999037</td>\n",
       "      <td>0.797470</td>\n",
       "      <td>0.809384</td>\n",
       "      <td>0.303523</td>\n",
       "      <td>...</td>\n",
       "      <td>0.836730</td>\n",
       "      <td>0.001419</td>\n",
       "      <td>0.623837</td>\n",
       "      <td>0.609104</td>\n",
       "      <td>0.843416</td>\n",
       "      <td>0.279996</td>\n",
       "      <td>0.026800</td>\n",
       "      <td>0.565202</td>\n",
       "      <td>1</td>\n",
       "      <td>0.028447</td>\n",
       "    </tr>\n",
       "    <tr>\n",
       "      <th>1363</th>\n",
       "      <td>0</td>\n",
       "      <td>0.543801</td>\n",
       "      <td>0.584769</td>\n",
       "      <td>0.597569</td>\n",
       "      <td>0.648827</td>\n",
       "      <td>0.648827</td>\n",
       "      <td>0.999138</td>\n",
       "      <td>0.797587</td>\n",
       "      <td>0.809522</td>\n",
       "      <td>0.303514</td>\n",
       "      <td>...</td>\n",
       "      <td>0.824756</td>\n",
       "      <td>0.000312</td>\n",
       "      <td>0.623793</td>\n",
       "      <td>0.648826</td>\n",
       "      <td>0.842329</td>\n",
       "      <td>0.279517</td>\n",
       "      <td>0.026890</td>\n",
       "      <td>0.565588</td>\n",
       "      <td>1</td>\n",
       "      <td>0.030251</td>\n",
       "    </tr>\n",
       "  </tbody>\n",
       "</table>\n",
       "<p>1364 rows × 96 columns</p>\n",
       "</div>"
      ],
      "text/plain": [
       "      0         1         2         3         4         5         6   \\\n",
       "0      0  0.477843  0.543066  0.530971  0.601551  0.601385  0.998982   \n",
       "1      0  0.471750  0.537178  0.526099  0.597198  0.597198  0.998968   \n",
       "2      0  0.455906  0.503216  0.513357  0.606588  0.606740  0.998894   \n",
       "3      0  0.491103  0.542575  0.543445  0.602668  0.602668  0.999013   \n",
       "4      0  0.506849  0.550316  0.554901  0.602538  0.602409  0.999019   \n",
       "...   ..       ...       ...       ...       ...       ...       ...   \n",
       "1359   0  0.463365  0.507795  0.511323  0.598034  0.597926  0.998951   \n",
       "1360   0  0.456296  0.484409  0.509235  0.589335  0.589350  0.998849   \n",
       "1361   0  0.528202  0.561873  0.577065  0.604008  0.603980  0.999074   \n",
       "1362   0  0.541949  0.604394  0.594839  0.609104  0.609104  0.999037   \n",
       "1363   0  0.543801  0.584769  0.597569  0.648827  0.648827  0.999138   \n",
       "\n",
       "            7         8         9   ...        86        87        88  \\\n",
       "0     0.797425  0.809347  0.303560  ...  0.802411  0.002498  0.624508   \n",
       "1     0.797385  0.809313  0.303517  ...  0.798262  0.003474  0.623589   \n",
       "2     0.797101  0.809085  0.303177  ...  0.778362  0.016904  0.623824   \n",
       "3     0.797431  0.809345  0.303505  ...  0.801665  0.001678  0.625368   \n",
       "4     0.797417  0.809328  0.303467  ...  0.803628  0.001889  0.623598   \n",
       "...        ...       ...       ...  ...       ...       ...       ...   \n",
       "1359  0.797310  0.809249  0.303422  ...  0.781552  0.005406  0.623985   \n",
       "1360  0.797192  0.809171  0.303430  ...  0.759559  0.002202  0.625492   \n",
       "1361  0.797506  0.809436  0.303508  ...  0.809818  0.141677  0.622990   \n",
       "1362  0.797470  0.809384  0.303523  ...  0.836730  0.001419  0.623837   \n",
       "1363  0.797587  0.809522  0.303514  ...  0.824756  0.000312  0.623793   \n",
       "\n",
       "            89        90        91        92        93  94        95  \n",
       "0     0.601549  0.840452  0.277248  0.026933  0.565754   1  0.047947  \n",
       "1     0.597193  0.840230  0.279860  0.028270  0.568097   1  0.028924  \n",
       "2     0.606590  0.838494  0.280741  0.026606  0.564091   1  0.026206  \n",
       "3     0.602668  0.840514  0.279999  0.026869  0.565504   1  0.028434  \n",
       "4     0.602538  0.840614  0.278829  0.027218  0.566608   1  0.033571  \n",
       "...        ...       ...       ...       ...       ...  ..       ...  \n",
       "1359  0.598034  0.838827  0.280212  0.026662  0.564454   1  0.027735  \n",
       "1360  0.589333  0.830554  0.305636  0.026587  0.563948   1  0.013359  \n",
       "1361  0.604008  0.841437  0.282580  0.026923  0.565717   1  0.022487  \n",
       "1362  0.609104  0.843416  0.279996  0.026800  0.565202   1  0.028447  \n",
       "1363  0.648826  0.842329  0.279517  0.026890  0.565588   1  0.030251  \n",
       "\n",
       "[1364 rows x 96 columns]"
      ]
     },
     "execution_count": 21,
     "metadata": {},
     "output_type": "execute_result"
    }
   ],
   "source": [
    "x_test"
   ]
  },
  {
   "cell_type": "code",
   "execution_count": 20,
   "id": "fc73f1a5-d854-4461-b99a-ffd79ee7ae84",
   "metadata": {
    "tags": []
   },
   "outputs": [],
   "source": [
    "y_pred_prob = y_pred_prob.iloc[:, 0].to_numpy()"
   ]
  },
  {
   "cell_type": "code",
   "execution_count": 24,
   "id": "731022f8-b0c9-4819-a90a-50152c88efaa",
   "metadata": {
    "tags": []
   },
   "outputs": [
    {
     "data": {
      "text/plain": [
       "0       0\n",
       "1       0\n",
       "2       0\n",
       "3       0\n",
       "4       0\n",
       "       ..\n",
       "1359    0\n",
       "1360    0\n",
       "1361    0\n",
       "1362    0\n",
       "1363    0\n",
       "Name: 0, Length: 1364, dtype: int64"
      ]
     },
     "execution_count": 24,
     "metadata": {},
     "output_type": "execute_result"
    }
   ],
   "source": []
  },
  {
   "cell_type": "code",
   "execution_count": 25,
   "id": "2f70cb3f-de88-4152-8e23-927ce8040f34",
   "metadata": {
    "tags": []
   },
   "outputs": [],
   "source": [
    "y_test = df_test.iloc[:, 0].to_numpy()"
   ]
  },
  {
   "cell_type": "code",
   "execution_count": 26,
   "id": "c31adb05-94e5-4ba5-a510-109adccacc67",
   "metadata": {
    "tags": []
   },
   "outputs": [],
   "source": [
    "y_pred  = np.where(y_pred_prob > 0.5, 1, 0)"
   ]
  },
  {
   "cell_type": "code",
   "execution_count": 27,
   "id": "a80b55c4-a6d6-4214-81ef-c5d9bd1237ed",
   "metadata": {
    "tags": []
   },
   "outputs": [
    {
     "name": "stdout",
     "output_type": "stream",
     "text": [
      "(1364,) (1364,) (1364,)\n"
     ]
    }
   ],
   "source": [
    "print(y_test.shape, y_pred.shape, y_pred_prob.shape)"
   ]
  },
  {
   "cell_type": "code",
   "execution_count": 28,
   "id": "494bb737-8c57-450b-b0f2-5a31d649360f",
   "metadata": {
    "tags": []
   },
   "outputs": [],
   "source": [
    "from sklearn.metrics import classification_report, confusion_matrix, accuracy_score\n",
    "from sklearn.metrics import roc_curve, auc\n",
    "import matplotlib.pyplot as plt"
   ]
  },
  {
   "cell_type": "code",
   "execution_count": 29,
   "id": "f431217d-95c8-49d3-aeb4-969b1ff81e38",
   "metadata": {
    "tags": []
   },
   "outputs": [
    {
     "name": "stdout",
     "output_type": "stream",
     "text": [
      "              precision    recall  f1-score   support\n",
      "\n",
      "           0       0.97      0.99      0.98      1314\n",
      "           1       0.57      0.26      0.36        50\n",
      "\n",
      "    accuracy                           0.97      1364\n",
      "   macro avg       0.77      0.63      0.67      1364\n",
      "weighted avg       0.96      0.97      0.96      1364\n",
      "\n"
     ]
    }
   ],
   "source": [
    "print(classification_report(y_test,y_pred))"
   ]
  },
  {
   "cell_type": "code",
   "execution_count": 30,
   "id": "cdb8676f-4ebd-4812-ab44-7559e1e33a30",
   "metadata": {
    "tags": []
   },
   "outputs": [
    {
     "data": {
      "image/png": "[encoded data removed]",
      "text/plain": [
       "<Figure size 640x480 with 1 Axes>"
      ]
     },
     "metadata": {},
     "output_type": "display_data"
    }
   ],
   "source": [
    "test_fpr, test_tpr, te_thresholds = roc_curve(y_test, y_pred_prob)\n",
    "auc_value = auc(test_fpr, test_tpr)\n",
    "\n",
    "plt.grid()\n",
    "plt.plot(test_fpr, test_tpr, label=f\" AUC TEST = {auc_value}\")\n",
    "plt.plot([0,1],[0,1],'g--')\n",
    "plt.legend()\n",
    "plt.xlabel(\"False Positive Rate\")\n",
    "plt.ylabel(\"True Positive Rate\")\n",
    "plt.title(\"AUC(ROC curve)\")\n",
    "plt.grid(color='black', linestyle='-', linewidth=0.5)\n",
    "plt.show()\n"
   ]
  }
 ],
 "metadata": {
  "instance_type": "ml.t3.medium",
  "kernelspec": {
   "display_name": "Python 3 (Data Science)",
   "language": "python",
   "name": "python3__SAGEMAKER_INTERNAL__arn:aws:sagemaker:eu-west-1:470317259841:image/datascience-1.0"
  },
  "language_info": {
   "codemirror_mode": {
    "name": "ipython",
    "version": 3
   },
   "file_extension": ".py",
   "mimetype": "text/x-python",
   "name": "python",
   "nbconvert_exporter": "python",
   "pygments_lexer": "ipython3",
   "version": "3.7.10"
  }
 },
 "nbformat": 4,
 "nbformat_minor": 5
}
