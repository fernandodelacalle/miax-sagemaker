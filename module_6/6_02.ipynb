{
 "cells": [
  {
   "cell_type": "markdown",
   "id": "4ba5c10d-08f6-4978-8046-179593e84f24",
   "metadata": {
    "tags": []
   },
   "source": [
    "# Ejercicio: Clasificación con Sagemaker Autopilot."
   ]
  },
  {
   "cell_type": "markdown",
   "id": "3bf9b843-b673-4da6-b747-65b03f273194",
   "metadata": {},
   "source": [
    "- Utiliza los la base de datos de clasificación de quiebras para entrenar un modelo con Sagemaker Autopilot.\n",
    "- Usa los datos sin balancear."
   ]
  },
  {
   "cell_type": "code",
   "execution_count": null,
   "id": "49eb1cc5-61f5-4ced-9d48-5497b604f699",
   "metadata": {},
   "outputs": [],
   "source": []
  },
  {
   "cell_type": "code",
   "execution_count": null,
   "id": "15fc09fa-ce5a-46f4-a553-fcd8a0ceedb3",
   "metadata": {},
   "outputs": [],
   "source": []
  },
  {
   "cell_type": "code",
   "execution_count": null,
   "id": "254e039d-7bbf-4525-82a0-f19ae2520a00",
   "metadata": {},
   "outputs": [],
   "source": []
  },
  {
   "cell_type": "code",
   "execution_count": null,
   "id": "1facc95f-1a84-4151-9c9b-1cf7887100ed",
   "metadata": {},
   "outputs": [],
   "source": []
  },
  {
   "cell_type": "code",
   "execution_count": null,
   "id": "5000be75-c331-44bf-b27d-403476c06cb1",
   "metadata": {},
   "outputs": [],
   "source": []
  }
 ],
 "metadata": {
  "instance_type": "ml.t3.medium",
  "kernelspec": {
   "display_name": "Python 3 (Data Science)",
   "language": "python",
   "name": "python3__SAGEMAKER_INTERNAL__arn:aws:sagemaker:eu-west-1:470317259841:image/datascience-1.0"
  },
  "language_info": {
   "codemirror_mode": {
    "name": "ipython",
    "version": 3
   },
   "file_extension": ".py",
   "mimetype": "text/x-python",
   "name": "python",
   "nbconvert_exporter": "python",
   "pygments_lexer": "ipython3",
   "version": "3.7.10"
  }
 },
 "nbformat": 4,
 "nbformat_minor": 5
}
