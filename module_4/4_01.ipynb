{
 "cells": [
  {
   "cell_type": "markdown",
   "id": "7ae871ef-4a89-4ce4-b0b2-94292cc7de99",
   "metadata": {},
   "source": [
    "# Regresión Lineal con Sagemaker"
   ]
  },
  {
   "cell_type": "code",
   "execution_count": null,
   "id": "2c1bb186-862d-4b95-a245-7f46b6f3f33b",
   "metadata": {
    "tags": []
   },
   "outputs": [],
   "source": [
    "import pandas as pd\n",
    "import sklearn"
   ]
  },
  {
   "cell_type": "code",
   "execution_count": null,
   "id": "ad7a5822-e85a-4cd9-a1e9-3f9063e4296c",
   "metadata": {
    "tags": []
   },
   "outputs": [],
   "source": [
    "import sagemaker\n",
    "import json\n",
    "import boto3\n",
    "\n",
    "role = sagemaker.get_execution_role()\n",
    "sess = sagemaker.Session()\n",
    "region = sess.boto_region_name\n",
    "\n",
    "bucket = sess.default_bucket()\n",
    "prefix = 'module_4/part_1'\n",
    "\n",
    "print(role)\n",
    "print(sess)\n",
    "print(region)\n",
    "print(bucket)\n",
    "print(prefix)"
   ]
  },
  {
   "cell_type": "markdown",
   "id": "b65c138e-df96-4a66-a2aa-6dbe01b3035d",
   "metadata": {
    "tags": []
   },
   "source": [
    "#### Preparación de los datos\n",
    "\n",
    "- https://docs.aws.amazon.com/sagemaker/latest/dg/cdf-training.html\n",
    "- *Many Amazon SageMaker algorithms support training with data in CSV format. To use data in CSV format for training, in the input data channel specification, specify text/csv as the ContentType. Amazon SageMaker requires that a CSV file does not have a header record and that the target variable is in the first column.*\n"
   ]
  },
  {
   "cell_type": "code",
   "execution_count": null,
   "id": "67b3ad06-7743-4c78-91da-fd213936745d",
   "metadata": {
    "tags": []
   },
   "outputs": [],
   "source": [
    "from sklearn import datasets\n",
    "boston = datasets.load_boston()\n",
    "\n",
    "x = pd.DataFrame(data=boston['data'], columns=boston['feature_names'])\n",
    "y = pd.Series(boston['target'], name = 'MEDV')"
   ]
  },
  {
   "cell_type": "code",
   "execution_count": null,
   "id": "f7f2f353-a2e3-47e5-baa0-f5663598a34b",
   "metadata": {
    "tags": []
   },
   "outputs": [],
   "source": [
    "from sklearn.model_selection import train_test_split\n",
    "\n",
    "x_train, x_test, y_train, y_test = train_test_split(x, y, test_size=0.2, random_state=1)\n",
    "x_train, x_val, y_train, y_val = train_test_split(x_train, y_train, test_size=0.25, random_state=1)"
   ]
  },
  {
   "cell_type": "code",
   "execution_count": null,
   "id": "07b241d0-3b99-4855-95f9-bc04a97c46ca",
   "metadata": {
    "tags": []
   },
   "outputs": [],
   "source": [
    "print(x_train.shape, x_test.shape, x_val.shape)\n",
    "print(y_train.shape, y_test.shape, y_val.shape)"
   ]
  },
  {
   "cell_type": "code",
   "execution_count": null,
   "id": "2b00f9d9-6eb8-4c71-8b52-92bafcef3ee4",
   "metadata": {
    "tags": []
   },
   "outputs": [],
   "source": [
    "train = pd.concat([y_train, x_train], axis=1)\n",
    "validation = pd.concat([y_val, x_val], axis=1)\n",
    "test = pd.concat([y_test, x_test], axis=1)"
   ]
  },
  {
   "cell_type": "code",
   "execution_count": null,
   "id": "fcd1e676-20aa-4dd1-8e71-c9e8fc75b296",
   "metadata": {
    "tags": []
   },
   "outputs": [],
   "source": [
    "train.to_csv('train.csv', index=False, header=False)\n",
    "validation.to_csv('validation.csv', index=False, header=False)"
   ]
  },
  {
   "cell_type": "code",
   "execution_count": null,
   "id": "6d3f7cf7-dd18-418e-9368-364c6223c05e",
   "metadata": {
    "tags": []
   },
   "outputs": [],
   "source": [
    "sess.upload_data(path='train.csv', bucket=bucket, key_prefix=f'{prefix}/data')"
   ]
  },
  {
   "cell_type": "code",
   "execution_count": null,
   "id": "f8b87ebd-c8cb-4655-b1c7-bda64604f849",
   "metadata": {
    "tags": []
   },
   "outputs": [],
   "source": [
    "sess.upload_data(path='validation.csv', bucket=bucket, key_prefix=f'{prefix}/data')"
   ]
  },
  {
   "cell_type": "markdown",
   "id": "85859ec4-8531-4e9c-bdd1-25968db194a0",
   "metadata": {},
   "source": [
    "#### Entrenamiento del modelo linear learner\n",
    "- https://docs.aws.amazon.com/sagemaker/latest/dg/linear-learner.html"
   ]
  },
  {
   "cell_type": "code",
   "execution_count": null,
   "id": "d8c252aa-7058-4e3b-b4c5-5d9ed2017cf5",
   "metadata": {},
   "outputs": [],
   "source": [
    "image = sagemaker.image_uris.retrieve(region=region, framework=\"linear-learner\")\n",
    "print(image)"
   ]
  },
  {
   "cell_type": "code",
   "execution_count": null,
   "id": "3cfd783e-5ff2-4950-9aa6-2d63665caee9",
   "metadata": {
    "tags": []
   },
   "outputs": [],
   "source": [
    "s3_train_data = f's3://{bucket}/{prefix}/data/train.csv'\n",
    "s3_validation_data = f's3://{bucket}/{prefix}/data/validation.csv'\n",
    "\n",
    "print(s3_train_data)\n",
    "print(s3_validation_data)\n"
   ]
  },
  {
   "cell_type": "code",
   "execution_count": null,
   "id": "d259ba8c-42b5-45d2-8488-15857d8c2d1d",
   "metadata": {
    "tags": []
   },
   "outputs": [],
   "source": [
    "train_input = sagemaker.TrainingInput(\n",
    "    s3_train_data, \n",
    "    content_type=\"text/csv\",\n",
    ")\n",
    "validation_input = sagemaker.TrainingInput(\n",
    "    s3_validation_data,\n",
    "    content_type=\"text/csv\",\n",
    ")\n",
    "\n",
    "data_channels = {\n",
    "    'train': train_input, \n",
    "    'validation': validation_input\n",
    "}"
   ]
  },
  {
   "cell_type": "code",
   "execution_count": null,
   "id": "3adc6fb4-0645-4dbc-8009-4f810c085ad6",
   "metadata": {
    "tags": []
   },
   "outputs": [],
   "source": [
    "s3_output_location = f's3://{bucket}/{prefix}/output'\n",
    "\n",
    "linear = sagemaker.estimator.Estimator(\n",
    "    image_uri=image,\n",
    "    role=role,\n",
    "    instance_count=1,\n",
    "    instance_type=\"ml.c4.xlarge\",\n",
    "    output_path=s3_output_location,\n",
    "    sagemaker_session=sess,\n",
    ")"
   ]
  },
  {
   "cell_type": "markdown",
   "id": "c4365c28-db9e-41b9-b70c-4b1a27262e5c",
   "metadata": {},
   "source": [
    "#### Seleccionamos los hyperparámetros\n",
    "- https://docs.aws.amazon.com/sagemaker/latest/dg/ll_hyperparameters.html"
   ]
  },
  {
   "cell_type": "code",
   "execution_count": null,
   "id": "0f7ba050-8b56-4797-96ec-5e554e3ba462",
   "metadata": {
    "tags": []
   },
   "outputs": [],
   "source": [
    "linear.set_hyperparameters(predictor_type=\"regressor\", mini_batch_size=50)"
   ]
  },
  {
   "cell_type": "code",
   "execution_count": null,
   "id": "826c31cf-3d39-43dc-b044-7a6aaded9365",
   "metadata": {
    "tags": []
   },
   "outputs": [],
   "source": [
    "linear.fit(\n",
    "    inputs=data_channels,\n",
    "    logs=True\n",
    ")"
   ]
  }
 ],
 "metadata": {
  "forced_instance_type": "ml.t3.medium",
  "forced_lcc_arn": "",
  "instance_type": "ml.t3.medium",
  "kernelspec": {
   "display_name": "Python 3.10.8 64-bit",
   "language": "python",
   "name": "python3"
  },
  "language_info": {
   "codemirror_mode": {
    "name": "ipython",
    "version": 3
   },
   "file_extension": ".py",
   "mimetype": "text/x-python",
   "name": "python",
   "nbconvert_exporter": "python",
   "pygments_lexer": "ipython3",
   "version": "3.10.8"
  },
  "vscode": {
   "interpreter": {
    "hash": "b0fa6594d8f4cbf19f97940f81e996739fb7646882a419484c72d19e05852a7e"
   }
  }
 },
 "nbformat": 4,
 "nbformat_minor": 5
}
