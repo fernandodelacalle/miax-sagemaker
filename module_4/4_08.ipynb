{
 "cells": [
  {
   "cell_type": "markdown",
   "id": "c7fbcb12-8562-4b01-ae2f-7494c4df67c4",
   "metadata": {},
   "source": [
    "# Sagemaker con Tensorflow: Fashion MNIST."
   ]
  },
  {
   "cell_type": "markdown",
   "id": "29328c07-d487-4947-8993-1ce0d9d5121f",
   "metadata": {
    "tags": []
   },
   "source": [
    "<center>\n",
    "<img src=\"./imgs/tensor.png\"  alt=\"drawing\" width=\"1300\"/>\n",
    "</center>"
   ]
  },
  {
   "cell_type": "code",
   "execution_count": 1,
   "id": "ce1787d6-7ff4-47c7-bddb-896fdc734cdf",
   "metadata": {
    "tags": []
   },
   "outputs": [
    {
     "name": "stdout",
     "output_type": "stream",
     "text": [
      "Note: you may need to restart the kernel to use updated packages.\n"
     ]
    }
   ],
   "source": [
    "pip install -q sagemaker-experiments"
   ]
  },
  {
   "cell_type": "code",
   "execution_count": 2,
   "id": "4a80d498-83c8-47a9-9344-1bcfcf855c55",
   "metadata": {
    "tags": []
   },
   "outputs": [
    {
     "name": "stdout",
     "output_type": "stream",
     "text": [
      "sagemaker.config INFO - Not applying SDK defaults from location: /etc/xdg/sagemaker/config.yaml\n",
      "sagemaker.config INFO - Not applying SDK defaults from location: /home/sagemaker-user/.config/sagemaker/config.yaml\n",
      "arn:aws:iam::467432373215:role/service-role/AmazonSageMaker-ExecutionRole-20240524T142131\n",
      "<sagemaker.session.Session object at 0x7fd6d423bd00>\n",
      "eu-west-1\n",
      "sagemaker-eu-west-1-467432373215\n",
      "module_4/part_7\n"
     ]
    }
   ],
   "source": [
    "import sagemaker\n",
    "\n",
    "role = sagemaker.get_execution_role()\n",
    "sess = sagemaker.Session()\n",
    "region = sess.boto_region_name\n",
    "\n",
    "bucket = sess.default_bucket()\n",
    "prefix = 'module_4/part_7'\n",
    "\n",
    "print(role)\n",
    "print(sess)\n",
    "print(region)\n",
    "print(bucket)\n",
    "print(prefix)"
   ]
  },
  {
   "cell_type": "code",
   "execution_count": 3,
   "id": "5be82b90-581b-4ee9-bca2-39fcb73169cc",
   "metadata": {
    "tags": []
   },
   "outputs": [],
   "source": [
    "from sagemaker.tensorflow import TensorFlow"
   ]
  },
  {
   "cell_type": "code",
   "execution_count": 5,
   "id": "971455e2-0f16-47ca-9ae8-ff091720e199",
   "metadata": {
    "tags": []
   },
   "outputs": [],
   "source": [
    "from smexperiments.experiment import Experiment\n",
    "from smexperiments.trial import Trial\n",
    "from botocore.exceptions import ClientError\n",
    "from time import gmtime, strftime\n",
    "import time\n",
    "\n",
    "experiment_name = 'fashion-mnist-tensorflow-new'\n",
    "\n",
    "try:\n",
    "    experiment = Experiment.create(\n",
    "        experiment_name=experiment_name, \n",
    "        description='Training a fashion mnist model')\n",
    "except ClientError as e:\n",
    "    print(f'{experiment_name} experiment already exists! Reusing the existing experiment.')\n"
   ]
  },
  {
   "cell_type": "code",
   "execution_count": 6,
   "id": "363a59e9-3b66-41a0-a49a-c83a6cfc63ae",
   "metadata": {
    "tags": []
   },
   "outputs": [],
   "source": [
    "hyperparameters = {\n",
    "    \"epochs\": 20, \n",
    "    \"batch-size\": 64\n",
    "}\n",
    "\n",
    "estimator = TensorFlow(\n",
    "    entry_point=\"fashion_mnist_tensoflow.py\",\n",
    "    source_dir=\"tf_code\",\n",
    "    enable_sagemaker_metrics=True,\n",
    "    hyperparameters=hyperparameters,\n",
    "    role=role,\n",
    "    input_mode='File',\n",
    "    framework_version=\"2.1\",\n",
    "    py_version=\"py3\",\n",
    "    instance_count=1,\n",
    "    instance_type=\"ml.m5.xlarge\",\n",
    "    model_dir=False\n",
    ")"
   ]
  },
  {
   "cell_type": "code",
   "execution_count": 7,
   "id": "c4823ad4-9904-48ce-81d1-f83d8c73c45c",
   "metadata": {
    "tags": []
   },
   "outputs": [],
   "source": [
    "# Creating a new trial for the experiment\n",
    "exp_datetime = strftime('%Y-%m-%d-%H-%M-%S', gmtime())\n",
    "jobname = f'fashion-tf-{exp_datetime}'\n",
    "\n",
    "exp_trial = Trial.create(experiment_name=experiment_name, \n",
    "                         trial_name=jobname)\n",
    "\n",
    "experiment_config={'ExperimentName': experiment_name,\n",
    "                   'TrialName': exp_trial.trial_name,\n",
    "                   'TrialComponentDisplayName': 'Training'}"
   ]
  },
  {
   "cell_type": "code",
   "execution_count": null,
   "id": "6907f554-23fc-44e6-ac21-72d564cd2360",
   "metadata": {
    "tags": []
   },
   "outputs": [],
   "source": [
    "estimator.fit(job_name=jobname,\n",
    "              experiment_config=experiment_config,\n",
    "              logs=True)"
   ]
  },
  {
   "cell_type": "markdown",
   "id": "c4f07dff-8ce9-4bbb-bbb4-aa13aefa6252",
   "metadata": {},
   "source": [
    "###  Descargando y usando el modelo localmente"
   ]
  },
  {
   "cell_type": "code",
   "execution_count": 26,
   "id": "41ad0e3b-5952-45e6-9af1-fc1f752e8fd8",
   "metadata": {},
   "outputs": [
    {
     "data": {
      "text/plain": [
       "'s3://sagemaker-eu-west-1-467432373215/fashion-mnist-tensorflow-2-2022-12-12-21-24-55-580/output/model.tar.gz'"
      ]
     },
     "execution_count": 26,
     "metadata": {},
     "output_type": "execute_result"
    }
   ],
   "source": [
    "estimator.model_data"
   ]
  },
  {
   "cell_type": "code",
   "execution_count": 9,
   "id": "d23c086e-7c54-4f32-bdce-1db8953ec1b6",
   "metadata": {},
   "outputs": [
    {
     "name": "stdout",
     "output_type": "stream",
     "text": [
      "download: s3://sagemaker-eu-west-1-467432373215/fashion-mnist-tensorflow-2022-12-12-20-14-55-373/output/model.tar.gz to fashion_mnist/model.tar.gz\n",
      "tar: fashion_mnist/model: Cannot open: No such file or directory\n",
      "tar: Error is not recoverable: exiting now\n"
     ]
    }
   ],
   "source": [
    "!mkdir ./fashion_mnist -p\n",
    "!aws s3 cp {estimator.model_data} ./fashion_mnist/model.tar.gz\n",
    "!tar -xzf fashion_mnist/model.tar.gz -C ./fashion_mnist/"
   ]
  },
  {
   "cell_type": "code",
   "execution_count": 19,
   "id": "31021a14-1edf-469b-8558-3aac69f427b8",
   "metadata": {
    "tags": []
   },
   "outputs": [
    {
     "name": "stdout",
     "output_type": "stream",
     "text": [
      "WARNING:tensorflow:SavedModel saved prior to TF 2.5 detected when loading Keras model. Please ensure that you are saving the model with model.save() or tf.keras.models.save_model(), *NOT* tf.saved_model.save(). To confirm, there should be a file named \"keras_metadata.pb\" in the SavedModel directory.\n"
     ]
    }
   ],
   "source": [
    "import tensorflow as tf\n",
    "my_model=tf.keras.models.load_model('./fashion_mnist/00000000')"
   ]
  },
  {
   "cell_type": "code",
   "execution_count": 20,
   "id": "255a3276-3ac6-40b5-8fd4-3940abfc247d",
   "metadata": {
    "tags": []
   },
   "outputs": [
    {
     "name": "stdout",
     "output_type": "stream",
     "text": [
      "Model: \"sequential\"\n",
      "_________________________________________________________________\n",
      " Layer (type)                Output Shape              Param #   \n",
      "=================================================================\n",
      " flatten (Flatten)           (None, 784)               0         \n",
      "                                                                 \n",
      " dense (Dense)               (None, 512)               401920    \n",
      "                                                                 \n",
      " dense_1 (Dense)             (None, 512)               262656    \n",
      "                                                                 \n",
      " dense_2 (Dense)             (None, 10)                5130      \n",
      "                                                                 \n",
      "=================================================================\n",
      "Total params: 669,706\n",
      "Trainable params: 669,706\n",
      "Non-trainable params: 0\n",
      "_________________________________________________________________\n"
     ]
    }
   ],
   "source": [
    "my_model.summary()"
   ]
  },
  {
   "cell_type": "markdown",
   "id": "b6e0529c-76cf-49ab-8ecf-5e191930c923",
   "metadata": {
    "tags": []
   },
   "source": [
    "## Optimización de parámetros / arquitectura"
   ]
  },
  {
   "cell_type": "markdown",
   "id": "b84525e7-bd24-486e-b2f0-493fa2a4cab0",
   "metadata": {},
   "source": [
    "- Usaremos el  script de entrenamiento fashion_mnist_tensoflow_opt.py\n",
    "- Podemos probarlo con:\n",
    "```bash\n",
    "python fashion_mnist_tensoflow_opt.py --model_dir ./test_tf --output_dir ./test_tf --epochs 10 --layers 5\n",
    "```\n",
    "- Donde tenemos un parámetro layers que nos permite cambiar la aquitectura del modelo."
   ]
  },
  {
   "cell_type": "code",
   "execution_count": 47,
   "id": "f0caaa14-1a0b-49f7-b077-7799c1a5a999",
   "metadata": {
    "tags": []
   },
   "outputs": [],
   "source": [
    "jobname = 'fashion-mnist-tensorflow-opt-7'"
   ]
  },
  {
   "cell_type": "code",
   "execution_count": 48,
   "id": "253892eb-18fa-4043-8b30-a6cdfa5961a2",
   "metadata": {
    "tags": []
   },
   "outputs": [],
   "source": [
    "hyperparameters = {\n",
    "    \"epochs\": 20, \n",
    "    \"batch-size\": 64\n",
    "}\n",
    "\n",
    "estimator = TensorFlow(\n",
    "    entry_point=\"fashion_mnist_tensoflow_opt.py\",\n",
    "    source_dir=\"tf_code\",\n",
    "    enable_sagemaker_metrics=True,\n",
    "    hyperparameters=hyperparameters,\n",
    "    role=role,\n",
    "    input_mode='File',\n",
    "    framework_version=\"2.1\",\n",
    "    py_version=\"py3\",\n",
    "    instance_count=1,\n",
    "    instance_type=\"ml.m5.xlarge\",\n",
    "    model_dir=False\n",
    ")"
   ]
  },
  {
   "cell_type": "code",
   "execution_count": 49,
   "id": "565bc959-40ff-4f63-835c-8e1d3c418bb4",
   "metadata": {
    "tags": []
   },
   "outputs": [],
   "source": [
    "# https://sagemaker.readthedocs.io/en/stable/api/training/parameter.html#sagemaker.parameter.ParameterRange\n",
    "hyperparameter_ranges = {\n",
    "    \"layers\": sagemaker.parameter.CategoricalParameter([1, 2, 3, 4, 5]),\n",
    "    \"hidden\": sagemaker.parameter.CategoricalParameter([128, 512, 1024])\n",
    "}"
   ]
  },
  {
   "cell_type": "code",
   "execution_count": 50,
   "id": "63c606a6-2511-451c-8a4a-c2c69d3f816e",
   "metadata": {
    "tags": []
   },
   "outputs": [],
   "source": [
    "# https://sagemaker.readthedocs.io/en/stable/api/training/tuner.html\n",
    "\n",
    "# sample - loss: 0.4801 - accuracy: 0.8300 - val_loss: 0.4152 - val_accuracy: 0.8527\n",
    "metric_definitions = [\n",
    "    {\n",
    "        \"Name\": \"train:loss\",\n",
    "        \"Regex\": \".*loss: ([0-9\\\\.]+) - accuracy: [0-9\\\\.]+.*\"\n",
    "    },\n",
    "    {\n",
    "        \"Name\": \"train:accuracy\",\n",
    "        \"Regex\": \".*loss: [0-9\\\\.]+ - accuracy: ([0-9\\\\.]+).*\"\n",
    "    },\n",
    "    {\n",
    "        \"Name\": \"validation:accuracy\",\n",
    "        \"Regex\": \".*sample - loss: [0-9\\\\.]+ - accuracy: [0-9\\\\.]+ - val_loss: [0-9\\\\.]+ - val_accuracy: ([0-9\\\\.]+).*\",\n",
    "    },\n",
    "    {\n",
    "        \"Name\": \"validation:loss\",\n",
    "        \"Regex\": \".*sample - loss: [0-9\\\\.]+ - accuracy: [0-9\\\\.]+ - val_loss: ([0-9\\\\.]+) - val_accuracy: [0-9\\\\.]+.*\",\n",
    "    },\n",
    "    {\n",
    "        \"Name\": \"sec/sample\",\n",
    "        \"Regex\": \".* - \\d+s (\\d+)[mu]s/sample - loss: [0-9\\\\.]+ - accuracy: [0-9\\\\.]+ - val_loss: [0-9\\\\.]+ - val_accuracy: [0-9\\\\.]+\",\n",
    "    },\n",
    "    \n",
    "    # test loss, test accuracy: [0.3486855386197567, 0.8909]\n",
    "    {\n",
    "        \"Name\": \"test:loss\",\n",
    "        \"Regex\": \".*final test loss: ([0-9\\\\.]+) - test accuracy: [0-9\\\\.]+.*\"     \n",
    "    },\n",
    "    {\n",
    "        \"Name\": \"test:accuracy\",\n",
    "        \"Regex\": \".*final test loss: [0-9\\\\.]+ - test accuracy: ([0-9\\\\.]+).*\"\n",
    "    },\n",
    "]\n",
    "\n",
    "tuner = sagemaker.tuner.HyperparameterTuner(\n",
    "    estimator,\n",
    "    \"test:accuracy\",\n",
    "    hyperparameter_ranges,\n",
    "    metric_definitions=metric_definitions,\n",
    "    objective_type='Maximize',\n",
    "    max_jobs=15,\n",
    "    max_parallel_jobs=10,\n",
    "    strategy=\"Grid\",\n",
    ")"
   ]
  },
  {
   "cell_type": "code",
   "execution_count": 51,
   "id": "c3ea6472-8751-4dc6-b177-57f1e20599b0",
   "metadata": {
    "tags": []
   },
   "outputs": [
    {
     "name": "stdout",
     "output_type": "stream",
     "text": [
      "...............................................................................................................................................................................!\n"
     ]
    }
   ],
   "source": [
    "tuner.fit(    \n",
    "    job_name=jobname,\n",
    ")"
   ]
  },
  {
   "cell_type": "markdown",
   "id": "1a78e4ea-e28b-4add-a608-026a8ae2427c",
   "metadata": {
    "tags": []
   },
   "source": [
    "- Podemos ver los resultados con HyperparameterTuningJobAnalytics.\n",
    "- También podemos verlo en la pantalla de experimentos."
   ]
  },
  {
   "cell_type": "code",
   "execution_count": 52,
   "id": "d7a0af18-04f8-46b2-bec4-acc46718f945",
   "metadata": {
    "tags": []
   },
   "outputs": [
    {
     "data": {
      "text/html": [
       "<div>\n",
       "<style scoped>\n",
       "    .dataframe tbody tr th:only-of-type {\n",
       "        vertical-align: middle;\n",
       "    }\n",
       "\n",
       "    .dataframe tbody tr th {\n",
       "        vertical-align: top;\n",
       "    }\n",
       "\n",
       "    .dataframe thead th {\n",
       "        text-align: right;\n",
       "    }\n",
       "</style>\n",
       "<table border=\"1\" class=\"dataframe\">\n",
       "  <thead>\n",
       "    <tr style=\"text-align: right;\">\n",
       "      <th></th>\n",
       "      <th>hidden</th>\n",
       "      <th>layers</th>\n",
       "      <th>TrainingJobName</th>\n",
       "      <th>TrainingJobStatus</th>\n",
       "      <th>FinalObjectiveValue</th>\n",
       "      <th>TrainingStartTime</th>\n",
       "      <th>TrainingEndTime</th>\n",
       "      <th>TrainingElapsedTimeSeconds</th>\n",
       "    </tr>\n",
       "  </thead>\n",
       "  <tbody>\n",
       "    <tr>\n",
       "      <th>0</th>\n",
       "      <td>\"1024\"</td>\n",
       "      <td>\"5\"</td>\n",
       "      <td>fashion-mnist-tensorflow-opt-7-015-2938fbee</td>\n",
       "      <td>Completed</td>\n",
       "      <td>0.8910</td>\n",
       "      <td>2022-12-13 17:35:52+00:00</td>\n",
       "      <td>2022-12-13 17:46:11+00:00</td>\n",
       "      <td>619.0</td>\n",
       "    </tr>\n",
       "    <tr>\n",
       "      <th>1</th>\n",
       "      <td>\"1024\"</td>\n",
       "      <td>\"4\"</td>\n",
       "      <td>fashion-mnist-tensorflow-opt-7-014-c10c9506</td>\n",
       "      <td>Completed</td>\n",
       "      <td>0.8921</td>\n",
       "      <td>2022-12-13 17:35:39+00:00</td>\n",
       "      <td>2022-12-13 17:44:14+00:00</td>\n",
       "      <td>515.0</td>\n",
       "    </tr>\n",
       "    <tr>\n",
       "      <th>2</th>\n",
       "      <td>\"1024\"</td>\n",
       "      <td>\"3\"</td>\n",
       "      <td>fashion-mnist-tensorflow-opt-7-013-3decfe8c</td>\n",
       "      <td>Completed</td>\n",
       "      <td>0.8919</td>\n",
       "      <td>2022-12-13 17:35:29+00:00</td>\n",
       "      <td>2022-12-13 17:42:27+00:00</td>\n",
       "      <td>418.0</td>\n",
       "    </tr>\n",
       "    <tr>\n",
       "      <th>3</th>\n",
       "      <td>\"1024\"</td>\n",
       "      <td>\"2\"</td>\n",
       "      <td>fashion-mnist-tensorflow-opt-7-012-33c1e17d</td>\n",
       "      <td>Completed</td>\n",
       "      <td>0.8909</td>\n",
       "      <td>2022-12-13 17:35:17+00:00</td>\n",
       "      <td>2022-12-13 17:39:40+00:00</td>\n",
       "      <td>263.0</td>\n",
       "    </tr>\n",
       "    <tr>\n",
       "      <th>4</th>\n",
       "      <td>\"1024\"</td>\n",
       "      <td>\"1\"</td>\n",
       "      <td>fashion-mnist-tensorflow-opt-7-011-5ce889e0</td>\n",
       "      <td>Completed</td>\n",
       "      <td>0.8933</td>\n",
       "      <td>2022-12-13 17:34:57+00:00</td>\n",
       "      <td>2022-12-13 17:37:39+00:00</td>\n",
       "      <td>162.0</td>\n",
       "    </tr>\n",
       "    <tr>\n",
       "      <th>5</th>\n",
       "      <td>\"512\"</td>\n",
       "      <td>\"5\"</td>\n",
       "      <td>fashion-mnist-tensorflow-opt-7-010-06f069e1</td>\n",
       "      <td>Completed</td>\n",
       "      <td>0.8900</td>\n",
       "      <td>2022-12-13 17:33:15+00:00</td>\n",
       "      <td>2022-12-13 17:37:48+00:00</td>\n",
       "      <td>273.0</td>\n",
       "    </tr>\n",
       "    <tr>\n",
       "      <th>6</th>\n",
       "      <td>\"512\"</td>\n",
       "      <td>\"4\"</td>\n",
       "      <td>fashion-mnist-tensorflow-opt-7-009-acb19e87</td>\n",
       "      <td>Completed</td>\n",
       "      <td>0.8898</td>\n",
       "      <td>2022-12-13 17:33:25+00:00</td>\n",
       "      <td>2022-12-13 17:37:53+00:00</td>\n",
       "      <td>268.0</td>\n",
       "    </tr>\n",
       "    <tr>\n",
       "      <th>7</th>\n",
       "      <td>\"512\"</td>\n",
       "      <td>\"3\"</td>\n",
       "      <td>fashion-mnist-tensorflow-opt-7-008-d09eab86</td>\n",
       "      <td>Completed</td>\n",
       "      <td>0.8915</td>\n",
       "      <td>2022-12-13 17:33:29+00:00</td>\n",
       "      <td>2022-12-13 17:36:51+00:00</td>\n",
       "      <td>202.0</td>\n",
       "    </tr>\n",
       "    <tr>\n",
       "      <th>8</th>\n",
       "      <td>\"512\"</td>\n",
       "      <td>\"2\"</td>\n",
       "      <td>fashion-mnist-tensorflow-opt-7-007-44592a21</td>\n",
       "      <td>Completed</td>\n",
       "      <td>0.8912</td>\n",
       "      <td>2022-12-13 17:33:34+00:00</td>\n",
       "      <td>2022-12-13 17:36:01+00:00</td>\n",
       "      <td>147.0</td>\n",
       "    </tr>\n",
       "    <tr>\n",
       "      <th>9</th>\n",
       "      <td>\"512\"</td>\n",
       "      <td>\"1\"</td>\n",
       "      <td>fashion-mnist-tensorflow-opt-7-006-627dc406</td>\n",
       "      <td>Completed</td>\n",
       "      <td>0.8849</td>\n",
       "      <td>2022-12-13 17:33:19+00:00</td>\n",
       "      <td>2022-12-13 17:36:17+00:00</td>\n",
       "      <td>178.0</td>\n",
       "    </tr>\n",
       "    <tr>\n",
       "      <th>10</th>\n",
       "      <td>\"128\"</td>\n",
       "      <td>\"5\"</td>\n",
       "      <td>fashion-mnist-tensorflow-opt-7-005-8089ec79</td>\n",
       "      <td>Completed</td>\n",
       "      <td>0.8767</td>\n",
       "      <td>2022-12-13 17:33:16+00:00</td>\n",
       "      <td>2022-12-13 17:35:43+00:00</td>\n",
       "      <td>147.0</td>\n",
       "    </tr>\n",
       "    <tr>\n",
       "      <th>11</th>\n",
       "      <td>\"128\"</td>\n",
       "      <td>\"4\"</td>\n",
       "      <td>fashion-mnist-tensorflow-opt-7-004-4834ba6e</td>\n",
       "      <td>Completed</td>\n",
       "      <td>0.8910</td>\n",
       "      <td>2022-12-13 17:33:11+00:00</td>\n",
       "      <td>2022-12-13 17:35:29+00:00</td>\n",
       "      <td>138.0</td>\n",
       "    </tr>\n",
       "    <tr>\n",
       "      <th>12</th>\n",
       "      <td>\"128\"</td>\n",
       "      <td>\"3\"</td>\n",
       "      <td>fashion-mnist-tensorflow-opt-7-003-907643a5</td>\n",
       "      <td>Completed</td>\n",
       "      <td>0.8920</td>\n",
       "      <td>2022-12-13 17:33:06+00:00</td>\n",
       "      <td>2022-12-13 17:35:18+00:00</td>\n",
       "      <td>132.0</td>\n",
       "    </tr>\n",
       "    <tr>\n",
       "      <th>13</th>\n",
       "      <td>\"128\"</td>\n",
       "      <td>\"2\"</td>\n",
       "      <td>fashion-mnist-tensorflow-opt-7-002-4a3dfb71</td>\n",
       "      <td>Completed</td>\n",
       "      <td>0.8939</td>\n",
       "      <td>2022-12-13 17:33:01+00:00</td>\n",
       "      <td>2022-12-13 17:35:08+00:00</td>\n",
       "      <td>127.0</td>\n",
       "    </tr>\n",
       "    <tr>\n",
       "      <th>14</th>\n",
       "      <td>\"128\"</td>\n",
       "      <td>\"1\"</td>\n",
       "      <td>fashion-mnist-tensorflow-opt-7-001-a10875c2</td>\n",
       "      <td>Completed</td>\n",
       "      <td>0.8887</td>\n",
       "      <td>2022-12-13 17:32:59+00:00</td>\n",
       "      <td>2022-12-13 17:34:46+00:00</td>\n",
       "      <td>107.0</td>\n",
       "    </tr>\n",
       "  </tbody>\n",
       "</table>\n",
       "</div>"
      ],
      "text/plain": [
       "    hidden layers                              TrainingJobName  \\\n",
       "0   \"1024\"    \"5\"  fashion-mnist-tensorflow-opt-7-015-2938fbee   \n",
       "1   \"1024\"    \"4\"  fashion-mnist-tensorflow-opt-7-014-c10c9506   \n",
       "2   \"1024\"    \"3\"  fashion-mnist-tensorflow-opt-7-013-3decfe8c   \n",
       "3   \"1024\"    \"2\"  fashion-mnist-tensorflow-opt-7-012-33c1e17d   \n",
       "4   \"1024\"    \"1\"  fashion-mnist-tensorflow-opt-7-011-5ce889e0   \n",
       "5    \"512\"    \"5\"  fashion-mnist-tensorflow-opt-7-010-06f069e1   \n",
       "6    \"512\"    \"4\"  fashion-mnist-tensorflow-opt-7-009-acb19e87   \n",
       "7    \"512\"    \"3\"  fashion-mnist-tensorflow-opt-7-008-d09eab86   \n",
       "8    \"512\"    \"2\"  fashion-mnist-tensorflow-opt-7-007-44592a21   \n",
       "9    \"512\"    \"1\"  fashion-mnist-tensorflow-opt-7-006-627dc406   \n",
       "10   \"128\"    \"5\"  fashion-mnist-tensorflow-opt-7-005-8089ec79   \n",
       "11   \"128\"    \"4\"  fashion-mnist-tensorflow-opt-7-004-4834ba6e   \n",
       "12   \"128\"    \"3\"  fashion-mnist-tensorflow-opt-7-003-907643a5   \n",
       "13   \"128\"    \"2\"  fashion-mnist-tensorflow-opt-7-002-4a3dfb71   \n",
       "14   \"128\"    \"1\"  fashion-mnist-tensorflow-opt-7-001-a10875c2   \n",
       "\n",
       "   TrainingJobStatus  FinalObjectiveValue         TrainingStartTime  \\\n",
       "0          Completed               0.8910 2022-12-13 17:35:52+00:00   \n",
       "1          Completed               0.8921 2022-12-13 17:35:39+00:00   \n",
       "2          Completed               0.8919 2022-12-13 17:35:29+00:00   \n",
       "3          Completed               0.8909 2022-12-13 17:35:17+00:00   \n",
       "4          Completed               0.8933 2022-12-13 17:34:57+00:00   \n",
       "5          Completed               0.8900 2022-12-13 17:33:15+00:00   \n",
       "6          Completed               0.8898 2022-12-13 17:33:25+00:00   \n",
       "7          Completed               0.8915 2022-12-13 17:33:29+00:00   \n",
       "8          Completed               0.8912 2022-12-13 17:33:34+00:00   \n",
       "9          Completed               0.8849 2022-12-13 17:33:19+00:00   \n",
       "10         Completed               0.8767 2022-12-13 17:33:16+00:00   \n",
       "11         Completed               0.8910 2022-12-13 17:33:11+00:00   \n",
       "12         Completed               0.8920 2022-12-13 17:33:06+00:00   \n",
       "13         Completed               0.8939 2022-12-13 17:33:01+00:00   \n",
       "14         Completed               0.8887 2022-12-13 17:32:59+00:00   \n",
       "\n",
       "             TrainingEndTime  TrainingElapsedTimeSeconds  \n",
       "0  2022-12-13 17:46:11+00:00                       619.0  \n",
       "1  2022-12-13 17:44:14+00:00                       515.0  \n",
       "2  2022-12-13 17:42:27+00:00                       418.0  \n",
       "3  2022-12-13 17:39:40+00:00                       263.0  \n",
       "4  2022-12-13 17:37:39+00:00                       162.0  \n",
       "5  2022-12-13 17:37:48+00:00                       273.0  \n",
       "6  2022-12-13 17:37:53+00:00                       268.0  \n",
       "7  2022-12-13 17:36:51+00:00                       202.0  \n",
       "8  2022-12-13 17:36:01+00:00                       147.0  \n",
       "9  2022-12-13 17:36:17+00:00                       178.0  \n",
       "10 2022-12-13 17:35:43+00:00                       147.0  \n",
       "11 2022-12-13 17:35:29+00:00                       138.0  \n",
       "12 2022-12-13 17:35:18+00:00                       132.0  \n",
       "13 2022-12-13 17:35:08+00:00                       127.0  \n",
       "14 2022-12-13 17:34:46+00:00                       107.0  "
      ]
     },
     "execution_count": 52,
     "metadata": {},
     "output_type": "execute_result"
    }
   ],
   "source": [
    "df= sagemaker.HyperparameterTuningJobAnalytics(\n",
    "    tuner.latest_tuning_job.job_name\n",
    ").dataframe()\n",
    "df"
   ]
  },
  {
   "cell_type": "code",
   "execution_count": 55,
   "id": "3abdfd33-807b-4dd6-9e56-6bd30853774a",
   "metadata": {
    "tags": []
   },
   "outputs": [
    {
     "data": {
      "text/html": [
       "<div>\n",
       "<style scoped>\n",
       "    .dataframe tbody tr th:only-of-type {\n",
       "        vertical-align: middle;\n",
       "    }\n",
       "\n",
       "    .dataframe tbody tr th {\n",
       "        vertical-align: top;\n",
       "    }\n",
       "\n",
       "    .dataframe thead th {\n",
       "        text-align: right;\n",
       "    }\n",
       "</style>\n",
       "<table border=\"1\" class=\"dataframe\">\n",
       "  <thead>\n",
       "    <tr style=\"text-align: right;\">\n",
       "      <th></th>\n",
       "      <th>hidden</th>\n",
       "      <th>layers</th>\n",
       "      <th>TrainingJobName</th>\n",
       "      <th>TrainingJobStatus</th>\n",
       "      <th>FinalObjectiveValue</th>\n",
       "      <th>TrainingStartTime</th>\n",
       "      <th>TrainingEndTime</th>\n",
       "      <th>TrainingElapsedTimeSeconds</th>\n",
       "    </tr>\n",
       "  </thead>\n",
       "  <tbody>\n",
       "    <tr>\n",
       "      <th>13</th>\n",
       "      <td>\"128\"</td>\n",
       "      <td>\"2\"</td>\n",
       "      <td>fashion-mnist-tensorflow-opt-7-002-4a3dfb71</td>\n",
       "      <td>Completed</td>\n",
       "      <td>0.8939</td>\n",
       "      <td>2022-12-13 17:33:01+00:00</td>\n",
       "      <td>2022-12-13 17:35:08+00:00</td>\n",
       "      <td>127.0</td>\n",
       "    </tr>\n",
       "    <tr>\n",
       "      <th>4</th>\n",
       "      <td>\"1024\"</td>\n",
       "      <td>\"1\"</td>\n",
       "      <td>fashion-mnist-tensorflow-opt-7-011-5ce889e0</td>\n",
       "      <td>Completed</td>\n",
       "      <td>0.8933</td>\n",
       "      <td>2022-12-13 17:34:57+00:00</td>\n",
       "      <td>2022-12-13 17:37:39+00:00</td>\n",
       "      <td>162.0</td>\n",
       "    </tr>\n",
       "    <tr>\n",
       "      <th>1</th>\n",
       "      <td>\"1024\"</td>\n",
       "      <td>\"4\"</td>\n",
       "      <td>fashion-mnist-tensorflow-opt-7-014-c10c9506</td>\n",
       "      <td>Completed</td>\n",
       "      <td>0.8921</td>\n",
       "      <td>2022-12-13 17:35:39+00:00</td>\n",
       "      <td>2022-12-13 17:44:14+00:00</td>\n",
       "      <td>515.0</td>\n",
       "    </tr>\n",
       "    <tr>\n",
       "      <th>12</th>\n",
       "      <td>\"128\"</td>\n",
       "      <td>\"3\"</td>\n",
       "      <td>fashion-mnist-tensorflow-opt-7-003-907643a5</td>\n",
       "      <td>Completed</td>\n",
       "      <td>0.8920</td>\n",
       "      <td>2022-12-13 17:33:06+00:00</td>\n",
       "      <td>2022-12-13 17:35:18+00:00</td>\n",
       "      <td>132.0</td>\n",
       "    </tr>\n",
       "    <tr>\n",
       "      <th>2</th>\n",
       "      <td>\"1024\"</td>\n",
       "      <td>\"3\"</td>\n",
       "      <td>fashion-mnist-tensorflow-opt-7-013-3decfe8c</td>\n",
       "      <td>Completed</td>\n",
       "      <td>0.8919</td>\n",
       "      <td>2022-12-13 17:35:29+00:00</td>\n",
       "      <td>2022-12-13 17:42:27+00:00</td>\n",
       "      <td>418.0</td>\n",
       "    </tr>\n",
       "    <tr>\n",
       "      <th>7</th>\n",
       "      <td>\"512\"</td>\n",
       "      <td>\"3\"</td>\n",
       "      <td>fashion-mnist-tensorflow-opt-7-008-d09eab86</td>\n",
       "      <td>Completed</td>\n",
       "      <td>0.8915</td>\n",
       "      <td>2022-12-13 17:33:29+00:00</td>\n",
       "      <td>2022-12-13 17:36:51+00:00</td>\n",
       "      <td>202.0</td>\n",
       "    </tr>\n",
       "    <tr>\n",
       "      <th>8</th>\n",
       "      <td>\"512\"</td>\n",
       "      <td>\"2\"</td>\n",
       "      <td>fashion-mnist-tensorflow-opt-7-007-44592a21</td>\n",
       "      <td>Completed</td>\n",
       "      <td>0.8912</td>\n",
       "      <td>2022-12-13 17:33:34+00:00</td>\n",
       "      <td>2022-12-13 17:36:01+00:00</td>\n",
       "      <td>147.0</td>\n",
       "    </tr>\n",
       "    <tr>\n",
       "      <th>0</th>\n",
       "      <td>\"1024\"</td>\n",
       "      <td>\"5\"</td>\n",
       "      <td>fashion-mnist-tensorflow-opt-7-015-2938fbee</td>\n",
       "      <td>Completed</td>\n",
       "      <td>0.8910</td>\n",
       "      <td>2022-12-13 17:35:52+00:00</td>\n",
       "      <td>2022-12-13 17:46:11+00:00</td>\n",
       "      <td>619.0</td>\n",
       "    </tr>\n",
       "    <tr>\n",
       "      <th>11</th>\n",
       "      <td>\"128\"</td>\n",
       "      <td>\"4\"</td>\n",
       "      <td>fashion-mnist-tensorflow-opt-7-004-4834ba6e</td>\n",
       "      <td>Completed</td>\n",
       "      <td>0.8910</td>\n",
       "      <td>2022-12-13 17:33:11+00:00</td>\n",
       "      <td>2022-12-13 17:35:29+00:00</td>\n",
       "      <td>138.0</td>\n",
       "    </tr>\n",
       "    <tr>\n",
       "      <th>3</th>\n",
       "      <td>\"1024\"</td>\n",
       "      <td>\"2\"</td>\n",
       "      <td>fashion-mnist-tensorflow-opt-7-012-33c1e17d</td>\n",
       "      <td>Completed</td>\n",
       "      <td>0.8909</td>\n",
       "      <td>2022-12-13 17:35:17+00:00</td>\n",
       "      <td>2022-12-13 17:39:40+00:00</td>\n",
       "      <td>263.0</td>\n",
       "    </tr>\n",
       "    <tr>\n",
       "      <th>5</th>\n",
       "      <td>\"512\"</td>\n",
       "      <td>\"5\"</td>\n",
       "      <td>fashion-mnist-tensorflow-opt-7-010-06f069e1</td>\n",
       "      <td>Completed</td>\n",
       "      <td>0.8900</td>\n",
       "      <td>2022-12-13 17:33:15+00:00</td>\n",
       "      <td>2022-12-13 17:37:48+00:00</td>\n",
       "      <td>273.0</td>\n",
       "    </tr>\n",
       "    <tr>\n",
       "      <th>6</th>\n",
       "      <td>\"512\"</td>\n",
       "      <td>\"4\"</td>\n",
       "      <td>fashion-mnist-tensorflow-opt-7-009-acb19e87</td>\n",
       "      <td>Completed</td>\n",
       "      <td>0.8898</td>\n",
       "      <td>2022-12-13 17:33:25+00:00</td>\n",
       "      <td>2022-12-13 17:37:53+00:00</td>\n",
       "      <td>268.0</td>\n",
       "    </tr>\n",
       "    <tr>\n",
       "      <th>14</th>\n",
       "      <td>\"128\"</td>\n",
       "      <td>\"1\"</td>\n",
       "      <td>fashion-mnist-tensorflow-opt-7-001-a10875c2</td>\n",
       "      <td>Completed</td>\n",
       "      <td>0.8887</td>\n",
       "      <td>2022-12-13 17:32:59+00:00</td>\n",
       "      <td>2022-12-13 17:34:46+00:00</td>\n",
       "      <td>107.0</td>\n",
       "    </tr>\n",
       "    <tr>\n",
       "      <th>9</th>\n",
       "      <td>\"512\"</td>\n",
       "      <td>\"1\"</td>\n",
       "      <td>fashion-mnist-tensorflow-opt-7-006-627dc406</td>\n",
       "      <td>Completed</td>\n",
       "      <td>0.8849</td>\n",
       "      <td>2022-12-13 17:33:19+00:00</td>\n",
       "      <td>2022-12-13 17:36:17+00:00</td>\n",
       "      <td>178.0</td>\n",
       "    </tr>\n",
       "    <tr>\n",
       "      <th>10</th>\n",
       "      <td>\"128\"</td>\n",
       "      <td>\"5\"</td>\n",
       "      <td>fashion-mnist-tensorflow-opt-7-005-8089ec79</td>\n",
       "      <td>Completed</td>\n",
       "      <td>0.8767</td>\n",
       "      <td>2022-12-13 17:33:16+00:00</td>\n",
       "      <td>2022-12-13 17:35:43+00:00</td>\n",
       "      <td>147.0</td>\n",
       "    </tr>\n",
       "  </tbody>\n",
       "</table>\n",
       "</div>"
      ],
      "text/plain": [
       "    hidden layers                              TrainingJobName  \\\n",
       "13   \"128\"    \"2\"  fashion-mnist-tensorflow-opt-7-002-4a3dfb71   \n",
       "4   \"1024\"    \"1\"  fashion-mnist-tensorflow-opt-7-011-5ce889e0   \n",
       "1   \"1024\"    \"4\"  fashion-mnist-tensorflow-opt-7-014-c10c9506   \n",
       "12   \"128\"    \"3\"  fashion-mnist-tensorflow-opt-7-003-907643a5   \n",
       "2   \"1024\"    \"3\"  fashion-mnist-tensorflow-opt-7-013-3decfe8c   \n",
       "7    \"512\"    \"3\"  fashion-mnist-tensorflow-opt-7-008-d09eab86   \n",
       "8    \"512\"    \"2\"  fashion-mnist-tensorflow-opt-7-007-44592a21   \n",
       "0   \"1024\"    \"5\"  fashion-mnist-tensorflow-opt-7-015-2938fbee   \n",
       "11   \"128\"    \"4\"  fashion-mnist-tensorflow-opt-7-004-4834ba6e   \n",
       "3   \"1024\"    \"2\"  fashion-mnist-tensorflow-opt-7-012-33c1e17d   \n",
       "5    \"512\"    \"5\"  fashion-mnist-tensorflow-opt-7-010-06f069e1   \n",
       "6    \"512\"    \"4\"  fashion-mnist-tensorflow-opt-7-009-acb19e87   \n",
       "14   \"128\"    \"1\"  fashion-mnist-tensorflow-opt-7-001-a10875c2   \n",
       "9    \"512\"    \"1\"  fashion-mnist-tensorflow-opt-7-006-627dc406   \n",
       "10   \"128\"    \"5\"  fashion-mnist-tensorflow-opt-7-005-8089ec79   \n",
       "\n",
       "   TrainingJobStatus  FinalObjectiveValue         TrainingStartTime  \\\n",
       "13         Completed               0.8939 2022-12-13 17:33:01+00:00   \n",
       "4          Completed               0.8933 2022-12-13 17:34:57+00:00   \n",
       "1          Completed               0.8921 2022-12-13 17:35:39+00:00   \n",
       "12         Completed               0.8920 2022-12-13 17:33:06+00:00   \n",
       "2          Completed               0.8919 2022-12-13 17:35:29+00:00   \n",
       "7          Completed               0.8915 2022-12-13 17:33:29+00:00   \n",
       "8          Completed               0.8912 2022-12-13 17:33:34+00:00   \n",
       "0          Completed               0.8910 2022-12-13 17:35:52+00:00   \n",
       "11         Completed               0.8910 2022-12-13 17:33:11+00:00   \n",
       "3          Completed               0.8909 2022-12-13 17:35:17+00:00   \n",
       "5          Completed               0.8900 2022-12-13 17:33:15+00:00   \n",
       "6          Completed               0.8898 2022-12-13 17:33:25+00:00   \n",
       "14         Completed               0.8887 2022-12-13 17:32:59+00:00   \n",
       "9          Completed               0.8849 2022-12-13 17:33:19+00:00   \n",
       "10         Completed               0.8767 2022-12-13 17:33:16+00:00   \n",
       "\n",
       "             TrainingEndTime  TrainingElapsedTimeSeconds  \n",
       "13 2022-12-13 17:35:08+00:00                       127.0  \n",
       "4  2022-12-13 17:37:39+00:00                       162.0  \n",
       "1  2022-12-13 17:44:14+00:00                       515.0  \n",
       "12 2022-12-13 17:35:18+00:00                       132.0  \n",
       "2  2022-12-13 17:42:27+00:00                       418.0  \n",
       "7  2022-12-13 17:36:51+00:00                       202.0  \n",
       "8  2022-12-13 17:36:01+00:00                       147.0  \n",
       "0  2022-12-13 17:46:11+00:00                       619.0  \n",
       "11 2022-12-13 17:35:29+00:00                       138.0  \n",
       "3  2022-12-13 17:39:40+00:00                       263.0  \n",
       "5  2022-12-13 17:37:48+00:00                       273.0  \n",
       "6  2022-12-13 17:37:53+00:00                       268.0  \n",
       "14 2022-12-13 17:34:46+00:00                       107.0  \n",
       "9  2022-12-13 17:36:17+00:00                       178.0  \n",
       "10 2022-12-13 17:35:43+00:00                       147.0  "
      ]
     },
     "execution_count": 55,
     "metadata": {},
     "output_type": "execute_result"
    }
   ],
   "source": [
    "df.sort_values(by='FinalObjectiveValue', ascending=False)"
   ]
  },
  {
   "cell_type": "code",
   "execution_count": 54,
   "id": "4bbdb215-ef99-4a8d-b72d-7ddc1d7689d3",
   "metadata": {
    "tags": []
   },
   "outputs": [
    {
     "name": "stderr",
     "output_type": "stream",
     "text": [
      "/usr/local/lib/python3.6/site-packages/pandas/plotting/_matplotlib/core.py:1192: UserWarning: FixedFormatter should only be used together with FixedLocator\n",
      "  ax.set_xticklabels(xticklabels)\n"
     ]
    },
    {
     "data": {
      "text/plain": [
       "<AxesSubplot:xlabel='layers'>"
      ]
     },
     "execution_count": 54,
     "metadata": {},
     "output_type": "execute_result"
    },
    {
     "data": {
      "image/png": "[encoded data removed]",
      "text/plain": [
       "<Figure size 432x288 with 1 Axes>"
      ]
     },
     "metadata": {
      "needs_background": "light"
     },
     "output_type": "display_data"
    }
   ],
   "source": [
    "df.loc[\n",
    "    :, ['FinalObjectiveValue', 'layers']\n",
    "].set_index('layers').sort_index().plot()"
   ]
  },
  {
   "cell_type": "code",
   "execution_count": null,
   "id": "c6c07345-c7c1-4ccf-88ce-c91c8fe8c5c8",
   "metadata": {},
   "outputs": [],
   "source": []
  }
 ],
 "metadata": {
  "forced_instance_type": "ml.t3.medium",
  "forced_lcc_arn": "",
  "instance_type": "ml.t3.medium",
  "kernelspec": {
   "display_name": "Python 3 (ipykernel)",
   "language": "python",
   "name": "python3"
  },
  "language_info": {
   "codemirror_mode": {
    "name": "ipython",
    "version": 3
   },
   "file_extension": ".py",
   "mimetype": "text/x-python",
   "name": "python",
   "nbconvert_exporter": "python",
   "pygments_lexer": "ipython3",
   "version": "3.10.14"
  },
  "vscode": {
   "interpreter": {
    "hash": "b0fa6594d8f4cbf19f97940f81e996739fb7646882a419484c72d19e05852a7e"
   }
  }
 },
 "nbformat": 4,
 "nbformat_minor": 5
}
