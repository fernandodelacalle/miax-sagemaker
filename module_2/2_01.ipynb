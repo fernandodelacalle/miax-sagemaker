{
 "cells": [
  {
   "cell_type": "markdown",
   "id": "3e807d97-ba34-4da0-b77d-ec3f4e8fd81c",
   "metadata": {},
   "source": [
    "# Regresión lineal con Sklearn "
   ]
  },
  {
   "cell_type": "code",
   "execution_count": null,
   "id": "49e9b355-2fd2-408b-b4f0-99251e077dd1",
   "metadata": {
    "tags": []
   },
   "outputs": [],
   "source": [
    "# we need to install libs that are not included int the datascience kernel\n",
    "pip install matplotlib seaborn"
   ]
  },
  {
   "cell_type": "code",
   "execution_count": null,
   "id": "9d8b95e8-60e0-48ad-aada-c1f448374b2a",
   "metadata": {},
   "outputs": [],
   "source": [
    "import os\n",
    "import datetime\n",
    "\n",
    "import pandas as pd\n",
    "import numpy as np\n",
    "import matplotlib.pyplot as plt\n",
    "\n",
    "import sklearn\n",
    "\n",
    "%matplotlib inline"
   ]
  },
  {
   "cell_type": "code",
   "execution_count": null,
   "id": "31c443e1-c50d-476f-93b2-943dbbee5685",
   "metadata": {
    "tags": []
   },
   "outputs": [],
   "source": [
    "data = sklearn.datasets.load_boston()\n",
    "raw_dataset = pd.DataFrame(data['data'], columns=data['feature_names'])\n",
    "raw_dataset.loc[:, 'MEDV'] = data['target']\n",
    "dataset = raw_dataset.copy()"
   ]
  },
  {
   "cell_type": "code",
   "execution_count": null,
   "id": "5bbefdce-6cc7-43bd-bc9a-8ddc6b328a30",
   "metadata": {},
   "outputs": [],
   "source": [
    "dataset.tail()"
   ]
  },
  {
   "cell_type": "code",
   "execution_count": null,
   "id": "61aad971-ca06-42c9-9d40-025e4b411d36",
   "metadata": {},
   "outputs": [],
   "source": [
    "dataset.shape"
   ]
  },
  {
   "cell_type": "markdown",
   "id": "12e15a58-2278-4420-b0e8-e3dec70ffbcf",
   "metadata": {},
   "source": [
    "### Dataset description\n",
    "\n",
    "Number of Instances: 506 \n",
    "\n",
    "Number of Attributes: 13 numeric/categorical predictive. Median Value (attribute 14) is usually the target.\n",
    "\n",
    "Attribute Information:\n",
    "\n",
    "|Feature|Description|\n",
    "|---|---| \n",
    "|CRIM |     per capita crime rate by town| \n",
    "|          ZN  |      proportion of residential land zoned for lots over 25,000 sq.ft.| \n",
    "|          INDUS |    proportion of non-retail business acres per town| \n",
    "|          CHAS  |    Charles River dummy variable (= 1 if tract bounds river; 0 otherwise)| \n",
    "|           NOX  |     nitric oxides concentration (parts per 10 million)| \n",
    "|           RM  |      average number of rooms per dwelling| \n",
    "|           AGE  |     proportion of owner-occupied units built prior to 1940| \n",
    "|           DIS  |     weighted distances to five Boston employment centres| \n",
    "|           RAD |      index of accessibility to radial highways| \n",
    "|          TAX  |     full-value property-tax rate per 10000 USD | \n",
    "|          PTRATIO|   pupil-teacher ratio by town| \n",
    "|           B    |     1000(Bk - 0.63)^2 where Bk is the proportion of black people by town| \n",
    "|           LSTAT |    % lower status of the population| \n",
    "|           MEDV  |    Median value of owner-occupied homes in $1000's| \n",
    "\n",
    "\n"
   ]
  },
  {
   "cell_type": "markdown",
   "id": "91a235bb-bb3c-4e83-90d5-18f3b53dee66",
   "metadata": {},
   "source": [
    "## División train y test"
   ]
  },
  {
   "cell_type": "code",
   "execution_count": null,
   "id": "088d8d71-b297-4fe5-b678-494367140c2b",
   "metadata": {},
   "outputs": [],
   "source": [
    "train_dataset = dataset.sample(frac=0.8, random_state=0)\n",
    "test_dataset = dataset.drop(train_dataset.index)"
   ]
  },
  {
   "cell_type": "code",
   "execution_count": null,
   "id": "8be29bda-69a4-47c5-99f2-7aee3d7c9672",
   "metadata": {},
   "outputs": [],
   "source": [
    "train_dataset.shape"
   ]
  },
  {
   "cell_type": "code",
   "execution_count": null,
   "id": "92cdb0b9-037d-4513-9fe0-0b3fc6cc65b5",
   "metadata": {},
   "outputs": [],
   "source": [
    "test_dataset.shape"
   ]
  },
  {
   "cell_type": "markdown",
   "id": "b479854b-8ce9-41c7-bd39-d163ad1c692f",
   "metadata": {},
   "source": [
    "# Data exploration"
   ]
  },
  {
   "cell_type": "code",
   "execution_count": null,
   "id": "e39f46ef-058d-41a3-86c1-9aaf6235a99d",
   "metadata": {},
   "outputs": [],
   "source": [
    "import seaborn as sns"
   ]
  },
  {
   "cell_type": "code",
   "execution_count": null,
   "id": "1bab0ed1-5d2f-4e4d-8a4a-586e80736ed0",
   "metadata": {
    "tags": []
   },
   "outputs": [],
   "source": [
    "train_dataset.describe().transpose()"
   ]
  },
  {
   "cell_type": "code",
   "execution_count": null,
   "id": "0ad06553-f112-4e64-b02b-f7a15457118c",
   "metadata": {
    "tags": []
   },
   "outputs": [],
   "source": [
    "fig, ax = plt.subplots(figsize=(12,10))\n",
    "sns.heatmap(train_dataset.corr(), annot=True, ax=ax) "
   ]
  },
  {
   "cell_type": "markdown",
   "id": "ca37747c-b297-4e85-8a96-f53819093727",
   "metadata": {},
   "source": [
    "# Data preprocessing"
   ]
  },
  {
   "cell_type": "markdown",
   "id": "0bf56374-6952-406d-8014-5d2e467517bd",
   "metadata": {},
   "source": [
    "- Separar la etiqueta o valor a predecir de las features."
   ]
  },
  {
   "cell_type": "code",
   "execution_count": null,
   "id": "c28816fd-ea2b-4bde-b16e-37f410943e92",
   "metadata": {},
   "outputs": [],
   "source": [
    "x_train = train_dataset.copy()\n",
    "x_test = test_dataset.copy()\n",
    "\n",
    "y_train = x_train.pop('MEDV')\n",
    "y_test = x_test.pop('MEDV')"
   ]
  },
  {
   "cell_type": "code",
   "execution_count": null,
   "id": "a604e31b-7f0f-4c4f-8a00-8de6e65b147a",
   "metadata": {
    "tags": []
   },
   "outputs": [],
   "source": [
    "print(x_train.shape, y_train.shape)\n",
    "print(x_test.shape, y_test.shape)"
   ]
  },
  {
   "cell_type": "markdown",
   "id": "b5cc64f4-c452-4453-b42b-17f07ea66ab1",
   "metadata": {},
   "source": [
    "Normalization"
   ]
  },
  {
   "cell_type": "code",
   "execution_count": null,
   "id": "aace9152-4da1-489a-9a12-0f204a51d2a3",
   "metadata": {},
   "outputs": [],
   "source": [
    "x_train.describe().transpose()[['mean', 'std']]"
   ]
  },
  {
   "cell_type": "markdown",
   "id": "b11b9bf5-f180-4fba-b09b-551337fbad0f",
   "metadata": {},
   "source": [
    "- Es una buena práctica normalizar las features para que esten todas en el mismo rango."
   ]
  },
  {
   "cell_type": "code",
   "execution_count": null,
   "id": "e8a7a8a2-cc28-45c5-a519-a3e7f88dde5a",
   "metadata": {},
   "outputs": [],
   "source": [
    "train_mean = x_train.mean()\n",
    "train_std = x_train.std()\n",
    "\n",
    "x_train = (x_train - train_mean) / train_std\n",
    "x_test = (x_test - train_mean) / train_std"
   ]
  },
  {
   "cell_type": "code",
   "execution_count": null,
   "id": "73b99563-5230-46fd-ab14-05240edb241a",
   "metadata": {},
   "outputs": [],
   "source": [
    "x_train.describe().transpose()[['mean', 'std']]"
   ]
  },
  {
   "cell_type": "markdown",
   "id": "8904b354-89fd-40bc-9672-cda99fa5f8bd",
   "metadata": {},
   "source": [
    "# Linear Regression Model"
   ]
  },
  {
   "cell_type": "code",
   "execution_count": null,
   "id": "53dbb3c0-0caa-4160-93a0-4f6a423c51c6",
   "metadata": {},
   "outputs": [],
   "source": [
    "# Create linear regression object\n",
    "regr = sklearn.linear_model.LinearRegression()\n",
    "\n",
    "# Train the model using the training sets\n",
    "regr.fit(x_train, y_train)\n",
    "\n",
    "# Make predictions using the training and testing sets\n",
    "y_pred_train = regr.predict(x_train)\n",
    "y_pred_test = regr.predict(x_test)"
   ]
  },
  {
   "cell_type": "code",
   "execution_count": null,
   "id": "0e299283-cf10-4343-977d-06d355b2ce88",
   "metadata": {
    "tags": []
   },
   "outputs": [],
   "source": [
    "# The coefficients\n",
    "coeff = pd.Series(regr.coef_, index=x_train.columns)\n",
    "coeff"
   ]
  },
  {
   "cell_type": "code",
   "execution_count": null,
   "id": "4f30b1b5-fc59-471e-9031-e01a9172125c",
   "metadata": {
    "tags": []
   },
   "outputs": [],
   "source": [
    "coeff.plot.bar()"
   ]
  },
  {
   "cell_type": "code",
   "execution_count": null,
   "id": "eec6ed9a-b304-41e0-b7d6-a967cd7f54bb",
   "metadata": {
    "tags": []
   },
   "outputs": [],
   "source": [
    "mse_train =  sklearn.metrics.mean_squared_error(y_pred_train, y_train)\n",
    "print(f\"Mean squared error train: {mse_train}\")\n",
    "mse_test =  sklearn.metrics.mean_squared_error(y_pred_test, y_test)\n",
    "print(f\"Mean squared error test: {mse_test}\")"
   ]
  },
  {
   "cell_type": "code",
   "execution_count": null,
   "id": "63fd5cb6-267a-4b2b-95fd-6d190919dbcd",
   "metadata": {},
   "outputs": [],
   "source": [
    "fig, ax = plt.subplots(figsize=(6, 6))\n",
    "# Plot outputs\n",
    "ax.scatter(y_pred_train, y_train, color=\"black\")\n",
    "ax.set_xlim([0, 60])\n",
    "ax.set_ylim([0, 60])"
   ]
  }
 ],
 "metadata": {
  "instance_type": "ml.t3.medium",
  "kernelspec": {
   "display_name": "Python 3 (Data Science)",
   "language": "python",
   "name": "python3__SAGEMAKER_INTERNAL__arn:aws:sagemaker:eu-west-1:470317259841:image/datascience-1.0"
  },
  "language_info": {
   "codemirror_mode": {
    "name": "ipython",
    "version": 3
   },
   "file_extension": ".py",
   "mimetype": "text/x-python",
   "name": "python",
   "nbconvert_exporter": "python",
   "pygments_lexer": "ipython3",
   "version": "3.7.10"
  }
 },
 "nbformat": 4,
 "nbformat_minor": 5
}
