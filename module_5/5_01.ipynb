{
 "cells": [
  {
   "cell_type": "markdown",
   "id": "78453ba3-c9ba-47a9-9135-fa713f3d5702",
   "metadata": {},
   "source": [
    "# Despliege de modelos."
   ]
  },
  {
   "cell_type": "code",
   "execution_count": null,
   "id": "27473611-483b-44fe-b0f1-b9d19d3758d1",
   "metadata": {
    "tags": []
   },
   "outputs": [],
   "source": [
    "import numpy as np\n",
    "import pandas as pd\n",
    "import os\n",
    "\n",
    "import sagemaker\n",
    "\n",
    "role = sagemaker.get_execution_role()\n",
    "sess = sagemaker.Session()\n",
    "region = sess.boto_region_name\n",
    "bucket = sess.default_bucket()\n",
    "prefix = 'module_5/part_1'"
   ]
  },
  {
   "cell_type": "markdown",
   "id": "744bda97-f5a3-436b-80b2-87487cbabcbc",
   "metadata": {
    "tags": []
   },
   "source": [
    "### Preparación de los datos\n",
    "\n",
    "- Usaremos la base de datos de bajas de clientes usada anteriormente."
   ]
  },
  {
   "cell_type": "code",
   "execution_count": null,
   "id": "30916e92-04e5-4734-a053-cc9844fc634b",
   "metadata": {
    "tags": []
   },
   "outputs": [],
   "source": [
    "source_file = 's3://sagemaker-sample-files/datasets/tabular/synthetic/churn.txt'\n",
    "local_prefix = 'data/churn_data'\n",
    "os.makedirs(local_prefix, exist_ok=True)\n",
    "sagemaker.s3.S3Downloader.download(source_file, local_prefix)"
   ]
  },
  {
   "cell_type": "code",
   "execution_count": null,
   "id": "34d0405c-4c8f-4b21-8f75-3265b2a9049f",
   "metadata": {
    "tags": []
   },
   "outputs": [],
   "source": [
    "df = pd.read_csv(f'./{local_prefix}/churn.txt')\n",
    "df['CustomerID'] = df.index\n",
    "df"
   ]
  },
  {
   "cell_type": "code",
   "execution_count": null,
   "id": "ffa8ff0e-9849-4fee-bde3-8212b34f5131",
   "metadata": {
    "tags": []
   },
   "outputs": [],
   "source": [
    "df.columns"
   ]
  },
  {
   "cell_type": "code",
   "execution_count": null,
   "id": "e25f36ba-b5d5-46a5-8323-9e17a31899e8",
   "metadata": {
    "tags": []
   },
   "outputs": [],
   "source": [
    "df[[\"Int'l Plan\", \"VMail Plan\"]] = df[[\"Int'l Plan\", \"VMail Plan\"]].replace(to_replace=['yes', 'no'], value=[1, 0])"
   ]
  },
  {
   "cell_type": "code",
   "execution_count": null,
   "id": "cbdb9e41-9f4f-4e0a-8716-1a5b43fee790",
   "metadata": {
    "tags": []
   },
   "outputs": [],
   "source": [
    "df['Churn?'] = df['Churn?'].replace(to_replace=['True.', 'False.'], value=[1, 0])"
   ]
  },
  {
   "cell_type": "code",
   "execution_count": null,
   "id": "db4e8409-9609-4ac4-931c-13fabad34185",
   "metadata": {
    "tags": []
   },
   "outputs": [],
   "source": [
    "columns=[\n",
    "    'Churn?', 'Account Length', \"Int'l Plan\",\n",
    "    'VMail Plan', 'VMail Message', 'Day Mins', 'Day Calls', 'Day Charge',\n",
    "    'Eve Mins', 'Eve Calls', 'Eve Charge', 'Night Mins', 'Night Calls',\n",
    "    'Night Charge', 'Intl Mins', 'Intl Calls', 'Intl Charge',\n",
    "    'CustServ Calls'\n",
    "]\n",
    "df.index = df['CustomerID']\n",
    "df_processed = df[columns]"
   ]
  },
  {
   "cell_type": "code",
   "execution_count": null,
   "id": "8dee085a-e3c6-432d-9631-1c2dd273e23e",
   "metadata": {
    "tags": []
   },
   "outputs": [],
   "source": [
    "df_processed.head()"
   ]
  },
  {
   "cell_type": "code",
   "execution_count": null,
   "id": "8fa46c66-0308-4e56-b96b-85cfffd88afd",
   "metadata": {
    "tags": []
   },
   "outputs": [],
   "source": [
    "from sklearn.model_selection import train_test_split"
   ]
  },
  {
   "cell_type": "code",
   "execution_count": null,
   "id": "053d8bd0-e3ae-4c5f-b5ef-11a699d0a4aa",
   "metadata": {
    "tags": []
   },
   "outputs": [],
   "source": [
    "df_train, df_test = train_test_split(\n",
    "    df_processed, \n",
    "    test_size=0.1,\n",
    "    random_state=42, \n",
    "    shuffle=True,\n",
    ")"
   ]
  },
  {
   "cell_type": "code",
   "execution_count": null,
   "id": "19d566f8-60f7-45a2-b04e-3097ebafaaae",
   "metadata": {
    "tags": []
   },
   "outputs": [],
   "source": [
    "df_train"
   ]
  },
  {
   "cell_type": "code",
   "execution_count": null,
   "id": "3f21c1ef-f7dc-479c-9d3d-1c2c2cc865ed",
   "metadata": {
    "tags": []
   },
   "outputs": [],
   "source": [
    "df_train.to_csv('train.csv', index=False, header=False)\n",
    "df_test.to_csv('test.csv', index=False, header=False)"
   ]
  },
  {
   "cell_type": "code",
   "execution_count": null,
   "id": "51e1954d-4313-4742-906e-b3853258f839",
   "metadata": {
    "tags": []
   },
   "outputs": [],
   "source": [
    "sess.upload_data(path='train.csv', bucket=bucket, key_prefix=f'{prefix}/data')"
   ]
  },
  {
   "cell_type": "code",
   "execution_count": null,
   "id": "b188b9e6-4504-49ba-8749-03d4a69e6027",
   "metadata": {
    "tags": []
   },
   "outputs": [],
   "source": [
    "sess.upload_data(path='test.csv', bucket=bucket, key_prefix=f'{prefix}/data')"
   ]
  },
  {
   "cell_type": "markdown",
   "id": "b9e8850c-62d3-4ef5-863b-0a8fcb182eac",
   "metadata": {},
   "source": [
    "### Entrenamiento del modelo de clasificación"
   ]
  },
  {
   "cell_type": "code",
   "execution_count": null,
   "id": "1aa6f61f-464c-4a58-90ce-be06cf7bfe14",
   "metadata": {
    "tags": []
   },
   "outputs": [],
   "source": [
    "image = sagemaker.image_uris.retrieve(region=region, framework='xgboost', version='1.3-1')\n",
    "image"
   ]
  },
  {
   "cell_type": "code",
   "execution_count": null,
   "id": "30d302e6-0c6a-4ae7-8ba2-028e3333f1f3",
   "metadata": {
    "tags": []
   },
   "outputs": [],
   "source": [
    "train_data_s3 = f's3://{bucket}/{prefix}/data/train.csv'\n",
    "val_data_s3 = f's3://{bucket}/{prefix}/data/test.csv'\n",
    "\n",
    "train_input = sagemaker.inputs.TrainingInput(s3_data=train_data_s3, \n",
    "                                             content_type='csv')\n",
    "val_input = sagemaker.inputs.TrainingInput(s3_data=val_data_s3, \n",
    "                                           content_type='csv')\n",
    "\n",
    "data_channels = {\n",
    "    'train': train_input,\n",
    "    'validation': val_input,\n",
    "}\n"
   ]
  },
  {
   "cell_type": "code",
   "execution_count": null,
   "id": "0b84b400-88c3-4fa5-b949-d53e97b00c44",
   "metadata": {
    "tags": []
   },
   "outputs": [],
   "source": [
    "s3_output = f's3://{bucket}/{prefix}/{local_prefix}/training'"
   ]
  },
  {
   "cell_type": "code",
   "execution_count": null,
   "id": "84015ef6-9b0a-47f9-aa81-bcfc706f9a80",
   "metadata": {
    "tags": []
   },
   "outputs": [],
   "source": [
    "estimator = sagemaker.estimator.Estimator(\n",
    "    image,\n",
    "    role,\n",
    "    instance_count=1,\n",
    "    instance_type='ml.m5.xlarge',\n",
    "    output_path=s3_output,\n",
    "    enable_sagemaker_metrics=True,\n",
    "    sagemaker_session=sess\n",
    ")\n",
    "\n",
    "estimator.set_hyperparameters(objective='binary:logistic', num_round=20)"
   ]
  },
  {
   "cell_type": "code",
   "execution_count": null,
   "id": "364c64e5-5acb-4a64-bd60-8e9e8c897a55",
   "metadata": {
    "tags": []
   },
   "outputs": [],
   "source": [
    "jobname = 'xgboost-model-deploy-2'\n",
    "estimator.fit(\n",
    "    inputs=data_channels,\n",
    "    job_name=jobname, \n",
    ")"
   ]
  },
  {
   "cell_type": "markdown",
   "id": "e61730c6-e627-4292-83ed-6787fb142afb",
   "metadata": {},
   "source": [
    "## Inferencia\n",
    "- Después de crear y entrenar los modelos, se pueden obtener predicciones de una de las dos formas siguientes:\n",
    "    - Obtener predicciones para un conjunto de datos completo, con sagemaker Batch Trasform.\n",
    "    - Configurar un punto de enlace persistente para obtener predicciones de sus modelos, serverless o con máquina asociada."
   ]
  },
  {
   "cell_type": "markdown",
   "id": "f101050b-7020-4302-b638-663a41906805",
   "metadata": {
    "tags": []
   },
   "source": [
    "### Batch Transform\n",
    "\n",
    "\n",
    "<center>\n",
    "<img src=\"./imgs/batch trasform.png\"  alt=\"drawing\" width=\"800\"/>\n",
    "</center>\n",
    "\n",
    "- Necesitamos generar un csv solo con los datos de test sin la etiqueta.\n"
   ]
  },
  {
   "cell_type": "code",
   "execution_count": null,
   "id": "1789dd72-b040-4b58-8670-5bd09b9b0d49",
   "metadata": {
    "tags": []
   },
   "outputs": [],
   "source": [
    "df_test.iloc[:, 1:].to_csv('test_no_label.csv', index=False, header=False)"
   ]
  },
  {
   "cell_type": "code",
   "execution_count": null,
   "id": "e17d561e-4e76-4521-ae73-9a405eb4af34",
   "metadata": {
    "tags": []
   },
   "outputs": [],
   "source": [
    "test_data_s3 = sess.upload_data(path='test_no_label.csv', bucket=bucket, key_prefix=f'{prefix}/data')\n",
    "test_data_s3"
   ]
  },
  {
   "cell_type": "code",
   "execution_count": null,
   "id": "6842151f-00a6-45f7-870e-fbb6d4f51154",
   "metadata": {
    "tags": []
   },
   "outputs": [],
   "source": [
    "jobname = f'churn-tf-bt'\n",
    "\n",
    "s3_output_location = f's3://{bucket}/{prefix}/{jobname}'\n",
    "\n",
    "transformer = estimator.transformer(instance_count=1, \n",
    "                                    instance_type='ml.c5.xlarge',\n",
    "                                    max_payload = 2, # MB\n",
    "                                    accept = 'application/jsonlines',\n",
    "                                    output_path = s3_output_location,\n",
    "                                    assemble_with = 'Line')\n",
    "\n",
    "transformer.transform(test_data_s3, \n",
    "                      content_type='text/csv', \n",
    "                      split_type = 'Line', \n",
    "                      job_name = jobname)"
   ]
  },
  {
   "cell_type": "code",
   "execution_count": null,
   "id": "148f4007-45c5-4a94-a831-cc97be8804cc",
   "metadata": {
    "tags": []
   },
   "outputs": [],
   "source": [
    "output = transformer.output_path\n",
    "output"
   ]
  },
  {
   "cell_type": "code",
   "execution_count": null,
   "id": "086fd06b-b3f7-4e3d-8eef-a2d1efe56fbc",
   "metadata": {
    "tags": []
   },
   "outputs": [],
   "source": [
    "output_prefix = 'data/test_output'\n",
    "os.makedirs(output_prefix)"
   ]
  },
  {
   "cell_type": "code",
   "execution_count": null,
   "id": "0eed5a87-4e97-44a4-93f4-bea6009227db",
   "metadata": {
    "tags": []
   },
   "outputs": [],
   "source": [
    "sess.download_data(path=output_prefix, bucket=bucket, key_prefix=f\"{prefix}/{jobname}\")"
   ]
  },
  {
   "cell_type": "code",
   "execution_count": null,
   "id": "fb8280d5-3e7b-4a49-881d-58ea0b0aeab0",
   "metadata": {
    "tags": []
   },
   "outputs": [],
   "source": [
    "y_pred_prob = pd.read_csv('data/test_output/test_no_label.csv.out', header=None)\n",
    "y_pred_prob"
   ]
  },
  {
   "cell_type": "markdown",
   "id": "27e58222-8f81-4505-839a-19a2cc0f8d02",
   "metadata": {
    "tags": []
   },
   "source": [
    "- Obtengamos algunas métricas del conjunto de test."
   ]
  },
  {
   "cell_type": "code",
   "execution_count": null,
   "id": "7a867737-f75a-4e27-8c91-1d019b8d7b37",
   "metadata": {
    "tags": []
   },
   "outputs": [],
   "source": [
    "y_pred_prob = y_pred_prob.iloc[:, 0].to_numpy()"
   ]
  },
  {
   "cell_type": "code",
   "execution_count": null,
   "id": "d7f6fd8a-5f4a-4e9f-a330-4f2ce9398faa",
   "metadata": {
    "tags": []
   },
   "outputs": [],
   "source": [
    "y_test = df_test.loc[:, 'Churn?'].to_numpy()"
   ]
  },
  {
   "cell_type": "code",
   "execution_count": null,
   "id": "58bcc216-b8a7-4838-82c7-c732e31aed96",
   "metadata": {
    "tags": []
   },
   "outputs": [],
   "source": [
    "y_pred  = np.where(y_pred_prob > 0.5, 1, 0)"
   ]
  },
  {
   "cell_type": "code",
   "execution_count": null,
   "id": "59cb1eac-7868-4cab-9fea-7ad00097324c",
   "metadata": {
    "tags": []
   },
   "outputs": [],
   "source": [
    "print(y_test.shape, y_pred.shape, y_pred_prob.shape)"
   ]
  },
  {
   "cell_type": "code",
   "execution_count": null,
   "id": "3fc2759d-7e17-4867-8b30-525d54817241",
   "metadata": {
    "tags": []
   },
   "outputs": [],
   "source": [
    "from sklearn.metrics import classification_report, confusion_matrix, accuracy_score\n",
    "from sklearn.metrics import roc_curve, auc\n",
    "import matplotlib.pyplot as plt"
   ]
  },
  {
   "cell_type": "code",
   "execution_count": null,
   "id": "5e6ee8b7-5fcc-4335-a0e7-f5b2062c6f7f",
   "metadata": {
    "tags": []
   },
   "outputs": [],
   "source": [
    "print(classification_report(y_test,y_pred))"
   ]
  },
  {
   "cell_type": "code",
   "execution_count": null,
   "id": "1a91a127-79cf-49ef-9f59-61b0f388a8e0",
   "metadata": {
    "tags": []
   },
   "outputs": [],
   "source": [
    "test_fpr, test_tpr, te_thresholds = roc_curve(y_test, y_pred_prob)\n",
    "auc_value = auc(test_fpr, test_tpr)\n",
    "\n",
    "plt.grid()\n",
    "plt.plot(test_fpr, test_tpr, label=f\" AUC TEST = {auc_value}\")\n",
    "plt.plot([0,1],[0,1],'g--')\n",
    "plt.legend()\n",
    "plt.xlabel(\"False Positive Rate\")\n",
    "plt.ylabel(\"True Positive Rate\")\n",
    "plt.title(\"AUC(ROC curve)\")\n",
    "plt.grid(color='black', linestyle='-', linewidth=0.5)\n",
    "plt.show()\n"
   ]
  },
  {
   "cell_type": "markdown",
   "id": "888deeb3-c978-4956-9c56-9c1c7041b7b4",
   "metadata": {
    "tags": []
   },
   "source": [
    "### Despliege de endpoints en tiempo real\n",
    "\n",
    "<center>\n",
    "<img src=\"./imgs/endpoint_real.png\"  alt=\"drawing\" width=\"800\"/>\n",
    "</center>\n",
    "\n",
    "### Despliege de un endpoint con máquina asociada"
   ]
  },
  {
   "cell_type": "code",
   "execution_count": null,
   "id": "bce37463-9a48-4425-a63b-90a603cd9658",
   "metadata": {
    "tags": []
   },
   "outputs": [],
   "source": [
    "predictor = estimator.deploy(\n",
    "    endpoint_name = 'churn-xgboost',              \n",
    "    initial_instance_count=1, \n",
    "    instance_type='ml.c5.xlarge',\n",
    "    serializer=sagemaker.serializers.CSVSerializer()\n",
    ")"
   ]
  },
  {
   "cell_type": "code",
   "execution_count": null,
   "id": "4dddec05-5797-4ba2-8597-bbae67fd3a56",
   "metadata": {
    "tags": []
   },
   "outputs": [],
   "source": [
    "data_test = df_test.iloc[-5:, 1:].values\n",
    "data_test"
   ]
  },
  {
   "cell_type": "code",
   "execution_count": null,
   "id": "b5316213-5dcf-4443-81a4-9bd1cc40c945",
   "metadata": {
    "tags": []
   },
   "outputs": [],
   "source": [
    "prediction = predictor.predict(data_test)\n",
    "print(prediction)"
   ]
  },
  {
   "cell_type": "code",
   "execution_count": null,
   "id": "fe098b22-b535-470c-aae1-481cebdee62f",
   "metadata": {
    "tags": []
   },
   "outputs": [],
   "source": [
    "from io import StringIO\n",
    "\n",
    "df=pd.read_csv(StringIO(str(prediction,'utf-8')) , header=None)\n",
    "df"
   ]
  },
  {
   "cell_type": "code",
   "execution_count": null,
   "id": "6917cfe2-6a49-4e1f-960a-58855464c761",
   "metadata": {
    "tags": []
   },
   "outputs": [],
   "source": [
    "df_test.iloc[-5:, 0]"
   ]
  },
  {
   "cell_type": "code",
   "execution_count": null,
   "id": "d6819139-4297-49f8-8183-f5b8118fbb52",
   "metadata": {
    "tags": []
   },
   "outputs": [],
   "source": [
    "predictor.delete_endpoint()"
   ]
  },
  {
   "cell_type": "markdown",
   "id": "8df2cb39-e6ec-4ef4-a320-5ee9879c0526",
   "metadata": {
    "tags": []
   },
   "source": [
    "### Despliege de un endpoint serverless\n",
    "- https://docs.aws.amazon.com/sagemaker/latest/dg/serverless-endpoints-create.html"
   ]
  },
  {
   "cell_type": "code",
   "execution_count": null,
   "id": "76eaf8c6-6385-422c-bc5f-2b18072f0a19",
   "metadata": {
    "tags": []
   },
   "outputs": [],
   "source": [
    "from sagemaker.serverless import ServerlessInferenceConfig"
   ]
  },
  {
   "cell_type": "code",
   "execution_count": null,
   "id": "8a55ef3d-e8bb-4901-80ef-53482fb45eaf",
   "metadata": {
    "tags": []
   },
   "outputs": [],
   "source": [
    "serverless_config = ServerlessInferenceConfig(\n",
    "    memory_size_in_mb=4096,\n",
    "    max_concurrency=3,\n",
    ")"
   ]
  },
  {
   "cell_type": "code",
   "execution_count": null,
   "id": "c48d378f-f112-49d7-b2d6-bb0b73cb4a17",
   "metadata": {
    "tags": []
   },
   "outputs": [],
   "source": [
    "predictor_serverless = estimator.deploy(\n",
    "    endpoint_name='churn-xgboost-severless',\n",
    "    serverless_inference_config=serverless_config\n",
    ")"
   ]
  },
  {
   "cell_type": "code",
   "execution_count": null,
   "id": "a5d1d417-3559-4505-b97e-769894fb07a0",
   "metadata": {},
   "outputs": [],
   "source": [
    "prediction = predictor.predict(data_test)\n",
    "print(prediction)"
   ]
  },
  {
   "cell_type": "code",
   "execution_count": null,
   "id": "a8558dd9-85fe-47b5-aeee-fe5366ee963d",
   "metadata": {},
   "outputs": [],
   "source": [
    "predictor.delete_endpoint()"
   ]
  }
 ],
 "metadata": {
  "instance_type": "ml.t3.medium",
  "kernelspec": {
   "display_name": "Python 3 (Data Science)",
   "language": "python",
   "name": "python3__SAGEMAKER_INTERNAL__arn:aws:sagemaker:eu-west-1:470317259841:image/datascience-1.0"
  },
  "language_info": {
   "codemirror_mode": {
    "name": "ipython",
    "version": 3
   },
   "file_extension": ".py",
   "mimetype": "text/x-python",
   "name": "python",
   "nbconvert_exporter": "python",
   "pygments_lexer": "ipython3",
   "version": "3.7.10"
  }
 },
 "nbformat": 4,
 "nbformat_minor": 5
}
