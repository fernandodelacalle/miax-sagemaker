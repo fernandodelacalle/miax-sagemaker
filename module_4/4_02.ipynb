{
 "cells": [
  {
   "cell_type": "markdown",
   "id": "7ae871ef-4a89-4ce4-b0b2-94292cc7de99",
   "metadata": {},
   "source": [
    "# Creación de Experimentos y Trials.\n",
    "\n",
    "- https://docs.aws.amazon.com/sagemaker/latest/dg/experiments-create.html\n",
    "\n",
    "<center>\n",
    "<img src=\"./imgs/exp.jpg\"  alt=\"drawing\" width=\"600\"/>\n",
    "</center>\n"
   ]
  },
  {
   "cell_type": "code",
   "execution_count": null,
   "id": "2c1bb186-862d-4b95-a245-7f46b6f3f33b",
   "metadata": {
    "tags": []
   },
   "outputs": [],
   "source": [
    "import datetime\n",
    "\n",
    "import pandas as pd\n",
    "import sklearn"
   ]
  },
  {
   "cell_type": "code",
   "execution_count": null,
   "id": "ad7a5822-e85a-4cd9-a1e9-3f9063e4296c",
   "metadata": {
    "tags": []
   },
   "outputs": [],
   "source": [
    "import sagemaker\n",
    "import json\n",
    "import boto3\n",
    "\n",
    "role = sagemaker.get_execution_role()\n",
    "sess = sagemaker.Session()\n",
    "region = sess.boto_region_name\n",
    "\n",
    "bucket = sess.default_bucket()\n",
    "prefix = 'module_4/part_1'\n",
    "\n",
    "print(role)\n",
    "print(sess)\n",
    "print(region)\n",
    "print(bucket)\n",
    "print(prefix)"
   ]
  },
  {
   "cell_type": "code",
   "execution_count": null,
   "id": "c63116b1-5996-42b8-9c71-b8ce1333930d",
   "metadata": {},
   "outputs": [],
   "source": [
    "!pip install sagemaker-experiments"
   ]
  },
  {
   "cell_type": "code",
   "execution_count": null,
   "id": "2f7b9be9-d2c8-48a1-91f6-ad5c8002a5e7",
   "metadata": {},
   "outputs": [],
   "source": [
    "from smexperiments.experiment import Experiment\n",
    "from smexperiments.trial import Trial\n",
    "from botocore.exceptions import ClientError"
   ]
  },
  {
   "cell_type": "markdown",
   "id": "85859ec4-8531-4e9c-bdd1-25968db194a0",
   "metadata": {},
   "source": [
    "#### Entrenamiento del modelo linear learner\n",
    "- https://docs.aws.amazon.com/sagemaker/latest/dg/linear-learner.html"
   ]
  },
  {
   "cell_type": "code",
   "execution_count": null,
   "id": "d8c252aa-7058-4e3b-b4c5-5d9ed2017cf5",
   "metadata": {},
   "outputs": [],
   "source": [
    "image = sagemaker.image_uris.retrieve(region=region, framework=\"linear-learner\")\n",
    "print(image)"
   ]
  },
  {
   "cell_type": "code",
   "execution_count": null,
   "id": "3cfd783e-5ff2-4950-9aa6-2d63665caee9",
   "metadata": {
    "tags": []
   },
   "outputs": [],
   "source": [
    "s3_train_data = f's3://{bucket}/{prefix}/data/train.csv'\n",
    "s3_validation_data = f's3://{bucket}/{prefix}/data/validation.csv'\n",
    "\n",
    "print(s3_train_data)\n",
    "print(s3_validation_data)"
   ]
  },
  {
   "cell_type": "code",
   "execution_count": null,
   "id": "d259ba8c-42b5-45d2-8488-15857d8c2d1d",
   "metadata": {
    "tags": []
   },
   "outputs": [],
   "source": [
    "train_input = sagemaker.TrainingInput(\n",
    "    s3_train_data, \n",
    "    content_type=\"text/csv\",\n",
    ")\n",
    "validation_input = sagemaker.TrainingInput(\n",
    "    s3_validation_data,\n",
    "    content_type=\"text/csv\",\n",
    ")\n",
    "\n",
    "data_channels = {'train': train_input, \n",
    "                 'validation': validation_input}"
   ]
  },
  {
   "cell_type": "code",
   "execution_count": null,
   "id": "a360a16d-c237-4f89-bbfe-5933591af30f",
   "metadata": {
    "tags": []
   },
   "outputs": [],
   "source": [
    "experiment_name = 'module-4-part-2-linear-learner'\n",
    "\n",
    "try:\n",
    "    experiment = Experiment.create(\n",
    "        experiment_name=experiment_name, \n",
    "        description='Training a linear-learner model using boston dataset.'\n",
    "    )\n",
    "except ClientError as e:\n",
    "    print(f'{experiment_name} experiment already exists! Reusing the existing experiment.')"
   ]
  },
  {
   "cell_type": "code",
   "execution_count": null,
   "id": "ec150bf5-132c-4fd6-8130-5167f3a4d0b0",
   "metadata": {
    "tags": []
   },
   "outputs": [],
   "source": [
    "now = datetime.datetime.now().strftime('%Y-%m-%d-%H-%M-%S')\n",
    "jobname = f'{experiment_name}-{now}'\n",
    "jobname"
   ]
  },
  {
   "cell_type": "code",
   "execution_count": null,
   "id": "3adc6fb4-0645-4dbc-8009-4f810c085ad6",
   "metadata": {
    "tags": []
   },
   "outputs": [],
   "source": [
    "s3_output_location = f's3://{bucket}/{prefix}/output'\n",
    "\n",
    "linear = sagemaker.estimator.Estimator(\n",
    "    image_uri=image,\n",
    "    role=role,\n",
    "    instance_count=1,\n",
    "    instance_type=\"ml.c4.xlarge\",\n",
    "    output_path=s3_output_location,\n",
    "    sagemaker_session=sess,\n",
    ")"
   ]
  },
  {
   "cell_type": "markdown",
   "id": "c4365c28-db9e-41b9-b70c-4b1a27262e5c",
   "metadata": {},
   "source": [
    "#### Seleccionamos los hyperparámetros\n",
    "- https://docs.aws.amazon.com/sagemaker/latest/dg/ll_hyperparameters.html"
   ]
  },
  {
   "cell_type": "code",
   "execution_count": null,
   "id": "0f7ba050-8b56-4797-96ec-5e554e3ba462",
   "metadata": {
    "tags": []
   },
   "outputs": [],
   "source": [
    "linear.set_hyperparameters(predictor_type=\"regressor\", mini_batch_size=50)"
   ]
  },
  {
   "cell_type": "code",
   "execution_count": null,
   "id": "5a51e6b8-6098-459b-a6c5-bc271d1c4357",
   "metadata": {
    "tags": []
   },
   "outputs": [],
   "source": [
    "# Creating a new trial for the experiment\n",
    "exp_trial = Trial.create(experiment_name=experiment_name, \n",
    "                         trial_name=jobname)\n",
    "\n",
    "experiment_config={\n",
    "    'ExperimentName': experiment_name,\n",
    "    'TrialName': exp_trial.trial_name,\n",
    "    'TrialComponentDisplayName': 'Training',\n",
    "}"
   ]
  },
  {
   "cell_type": "code",
   "execution_count": null,
   "id": "931dceb5-bb30-4bea-b63c-caa3a8c7417f",
   "metadata": {
    "tags": []
   },
   "outputs": [],
   "source": [
    "linear.fit(inputs=data_channels,\n",
    "              job_name=jobname,\n",
    "              experiment_config=experiment_config,\n",
    "              logs=True)"
   ]
  },
  {
   "cell_type": "code",
   "execution_count": null,
   "id": "4af0e40a-c933-4d1e-a115-fd7cc34fbcbe",
   "metadata": {},
   "outputs": [],
   "source": []
  }
 ],
 "metadata": {
  "forced_instance_type": "ml.t3.medium",
  "forced_lcc_arn": "",
  "instance_type": "ml.t3.medium",
  "kernelspec": {
   "display_name": "Python 3 (ipykernel)",
   "language": "python",
   "name": "python3"
  },
  "language_info": {
   "codemirror_mode": {
    "name": "ipython",
    "version": 3
   },
   "file_extension": ".py",
   "mimetype": "text/x-python",
   "name": "python",
   "nbconvert_exporter": "python",
   "pygments_lexer": "ipython3",
   "version": "3.10.14"
  }
 },
 "nbformat": 4,
 "nbformat_minor": 5
}
